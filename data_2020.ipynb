{
 "cells": [
  {
   "cell_type": "code",
   "metadata": {
    "tags": [],
    "cell_id": "00000-54f69a2a-0fd3-450c-853d-b43714810e3c",
    "deepnote_to_be_reexecuted": false,
    "source_hash": "f1ca8ca5",
    "execution_start": 1631149504074,
    "execution_millis": 63,
    "deepnote_cell_type": "code"
   },
   "source": "import pandas as pd\nimport matplotlib.pyplot as plt\nimport seaborn as sns\n\ndata = pd.read_csv('/work/Geographic Factors/means_ass_crime.csv', \nindex_col = 'location')\ndata.drop(columns = 'Unnamed: 0', inplace=True)\ndata.head()",
   "execution_count": 2,
   "outputs": [
    {
     "output_type": "execute_result",
     "execution_count": 2,
     "data": {
      "application/vnd.deepnote.dataframe.v2+json": {
       "row_count": 5,
       "column_count": 19,
       "columns": [
        {
         "name": "num_resp",
         "dtype": "int64",
         "stats": {
          "unique_count": 4,
          "nan_count": 0,
          "min": "10",
          "max": "24",
          "histogram": [
           {
            "bin_start": 10,
            "bin_end": 11.4,
            "count": 1
           },
           {
            "bin_start": 11.4,
            "bin_end": 12.8,
            "count": 0
           },
           {
            "bin_start": 12.8,
            "bin_end": 14.2,
            "count": 0
           },
           {
            "bin_start": 14.2,
            "bin_end": 15.6,
            "count": 2
           },
           {
            "bin_start": 15.6,
            "bin_end": 17,
            "count": 1
           },
           {
            "bin_start": 17,
            "bin_end": 18.4,
            "count": 0
           },
           {
            "bin_start": 18.4,
            "bin_end": 19.799999999999997,
            "count": 0
           },
           {
            "bin_start": 19.799999999999997,
            "bin_end": 21.2,
            "count": 0
           },
           {
            "bin_start": 21.2,
            "bin_end": 22.6,
            "count": 0
           },
           {
            "bin_start": 22.6,
            "bin_end": 24,
            "count": 1
           }
          ]
         }
        },
        {
         "name": "nbr_relation",
         "dtype": "float64",
         "stats": {
          "unique_count": 4,
          "nan_count": 0,
          "min": "2.0",
          "max": "2.3",
          "histogram": [
           {
            "bin_start": 2,
            "bin_end": 2.03,
            "count": 2
           },
           {
            "bin_start": 2.03,
            "bin_end": 2.06,
            "count": 0
           },
           {
            "bin_start": 2.06,
            "bin_end": 2.09,
            "count": 0
           },
           {
            "bin_start": 2.09,
            "bin_end": 2.12,
            "count": 1
           },
           {
            "bin_start": 2.12,
            "bin_end": 2.15,
            "count": 0
           },
           {
            "bin_start": 2.15,
            "bin_end": 2.1799999999999997,
            "count": 0
           },
           {
            "bin_start": 2.1799999999999997,
            "bin_end": 2.21,
            "count": 1
           },
           {
            "bin_start": 2.21,
            "bin_end": 2.2399999999999998,
            "count": 0
           },
           {
            "bin_start": 2.2399999999999998,
            "bin_end": 2.27,
            "count": 0
           },
           {
            "bin_start": 2.27,
            "bin_end": 2.3,
            "count": 1
           }
          ]
         }
        },
        {
         "name": "food_worry",
         "dtype": "float64",
         "stats": {
          "unique_count": 5,
          "nan_count": 0,
          "min": "1.0",
          "max": "1.6",
          "histogram": [
           {
            "bin_start": 1,
            "bin_end": 1.06,
            "count": 1
           },
           {
            "bin_start": 1.06,
            "bin_end": 1.12,
            "count": 0
           },
           {
            "bin_start": 1.12,
            "bin_end": 1.1800000000000002,
            "count": 0
           },
           {
            "bin_start": 1.1800000000000002,
            "bin_end": 1.24,
            "count": 1
           },
           {
            "bin_start": 1.24,
            "bin_end": 1.3,
            "count": 0
           },
           {
            "bin_start": 1.3,
            "bin_end": 1.36,
            "count": 1
           },
           {
            "bin_start": 1.36,
            "bin_end": 1.4200000000000002,
            "count": 1
           },
           {
            "bin_start": 1.4200000000000002,
            "bin_end": 1.48,
            "count": 0
           },
           {
            "bin_start": 1.48,
            "bin_end": 1.54,
            "count": 0
           },
           {
            "bin_start": 1.54,
            "bin_end": 1.6,
            "count": 1
           }
          ]
         }
        },
        {
         "name": "apprch_bside",
         "dtype": "float64",
         "stats": {
          "unique_count": 5,
          "nan_count": 0,
          "min": "1.6",
          "max": "2.4",
          "histogram": [
           {
            "bin_start": 1.6,
            "bin_end": 1.6800000000000002,
            "count": 1
           },
           {
            "bin_start": 1.6800000000000002,
            "bin_end": 1.76,
            "count": 0
           },
           {
            "bin_start": 1.76,
            "bin_end": 1.84,
            "count": 0
           },
           {
            "bin_start": 1.84,
            "bin_end": 1.92,
            "count": 1
           },
           {
            "bin_start": 1.92,
            "bin_end": 2,
            "count": 0
           },
           {
            "bin_start": 2,
            "bin_end": 2.08,
            "count": 1
           },
           {
            "bin_start": 2.08,
            "bin_end": 2.16,
            "count": 1
           },
           {
            "bin_start": 2.16,
            "bin_end": 2.24,
            "count": 0
           },
           {
            "bin_start": 2.24,
            "bin_end": 2.32,
            "count": 0
           },
           {
            "bin_start": 2.32,
            "bin_end": 2.4,
            "count": 1
           }
          ]
         }
        },
        {
         "name": "hlth_happy",
         "dtype": "float64",
         "stats": {
          "unique_count": 5,
          "nan_count": 0,
          "min": "2.2",
          "max": "3.0",
          "histogram": [
           {
            "bin_start": 2.2,
            "bin_end": 2.2800000000000002,
            "count": 1
           },
           {
            "bin_start": 2.2800000000000002,
            "bin_end": 2.3600000000000003,
            "count": 0
           },
           {
            "bin_start": 2.3600000000000003,
            "bin_end": 2.44,
            "count": 0
           },
           {
            "bin_start": 2.44,
            "bin_end": 2.52,
            "count": 1
           },
           {
            "bin_start": 2.52,
            "bin_end": 2.6,
            "count": 0
           },
           {
            "bin_start": 2.6,
            "bin_end": 2.68,
            "count": 1
           },
           {
            "bin_start": 2.68,
            "bin_end": 2.7600000000000002,
            "count": 1
           },
           {
            "bin_start": 2.7600000000000002,
            "bin_end": 2.84,
            "count": 0
           },
           {
            "bin_start": 2.84,
            "bin_end": 2.92,
            "count": 0
           },
           {
            "bin_start": 2.92,
            "bin_end": 3,
            "count": 1
           }
          ]
         }
        },
        {
         "name": "chat_often",
         "dtype": "float64",
         "stats": {
          "unique_count": 5,
          "nan_count": 0,
          "min": "1.7",
          "max": "2.6",
          "histogram": [
           {
            "bin_start": 1.7,
            "bin_end": 1.79,
            "count": 1
           },
           {
            "bin_start": 1.79,
            "bin_end": 1.88,
            "count": 0
           },
           {
            "bin_start": 1.88,
            "bin_end": 1.97,
            "count": 1
           },
           {
            "bin_start": 1.97,
            "bin_end": 2.06,
            "count": 1
           },
           {
            "bin_start": 2.06,
            "bin_end": 2.15,
            "count": 0
           },
           {
            "bin_start": 2.15,
            "bin_end": 2.24,
            "count": 1
           },
           {
            "bin_start": 2.24,
            "bin_end": 2.33,
            "count": 0
           },
           {
            "bin_start": 2.33,
            "bin_end": 2.42,
            "count": 0
           },
           {
            "bin_start": 2.42,
            "bin_end": 2.51,
            "count": 0
           },
           {
            "bin_start": 2.51,
            "bin_end": 2.6,
            "count": 1
           }
          ]
         }
        },
        {
         "name": "rlns_safe",
         "dtype": "float64",
         "stats": {
          "unique_count": 3,
          "nan_count": 0,
          "min": "3.6",
          "max": "4.2",
          "histogram": [
           {
            "bin_start": 3.6,
            "bin_end": 3.66,
            "count": 1
           },
           {
            "bin_start": 3.66,
            "bin_end": 3.72,
            "count": 0
           },
           {
            "bin_start": 3.72,
            "bin_end": 3.7800000000000002,
            "count": 0
           },
           {
            "bin_start": 3.7800000000000002,
            "bin_end": 3.8400000000000003,
            "count": 0
           },
           {
            "bin_start": 3.8400000000000003,
            "bin_end": 3.9000000000000004,
            "count": 0
           },
           {
            "bin_start": 3.9000000000000004,
            "bin_end": 3.96,
            "count": 0
           },
           {
            "bin_start": 3.96,
            "bin_end": 4.0200000000000005,
            "count": 0
           },
           {
            "bin_start": 4.0200000000000005,
            "bin_end": 4.08,
            "count": 0
           },
           {
            "bin_start": 4.08,
            "bin_end": 4.140000000000001,
            "count": 1
           },
           {
            "bin_start": 4.140000000000001,
            "bin_end": 4.2,
            "count": 3
           }
          ]
         }
        },
        {
         "name": "age",
         "dtype": "float64",
         "stats": {
          "unique_count": 4,
          "nan_count": 0,
          "min": "8.0",
          "max": "8.4",
          "histogram": [
           {
            "bin_start": 8,
            "bin_end": 8.04,
            "count": 1
           },
           {
            "bin_start": 8.04,
            "bin_end": 8.08,
            "count": 0
           },
           {
            "bin_start": 8.08,
            "bin_end": 8.120000000000001,
            "count": 2
           },
           {
            "bin_start": 8.120000000000001,
            "bin_end": 8.16,
            "count": 0
           },
           {
            "bin_start": 8.16,
            "bin_end": 8.2,
            "count": 0
           },
           {
            "bin_start": 8.2,
            "bin_end": 8.24,
            "count": 0
           },
           {
            "bin_start": 8.24,
            "bin_end": 8.280000000000001,
            "count": 0
           },
           {
            "bin_start": 8.280000000000001,
            "bin_end": 8.32,
            "count": 1
           },
           {
            "bin_start": 8.32,
            "bin_end": 8.36,
            "count": 0
           },
           {
            "bin_start": 8.36,
            "bin_end": 8.4,
            "count": 1
           }
          ]
         }
        },
        {
         "name": "bside_dur",
         "dtype": "float64",
         "stats": {
          "unique_count": 3,
          "nan_count": 0,
          "min": "3.3",
          "max": "3.7",
          "histogram": [
           {
            "bin_start": 3.3,
            "bin_end": 3.34,
            "count": 1
           },
           {
            "bin_start": 3.34,
            "bin_end": 3.38,
            "count": 0
           },
           {
            "bin_start": 3.38,
            "bin_end": 3.42,
            "count": 0
           },
           {
            "bin_start": 3.42,
            "bin_end": 3.46,
            "count": 0
           },
           {
            "bin_start": 3.46,
            "bin_end": 3.5,
            "count": 0
           },
           {
            "bin_start": 3.5,
            "bin_end": 3.54,
            "count": 1
           },
           {
            "bin_start": 3.54,
            "bin_end": 3.58,
            "count": 0
           },
           {
            "bin_start": 3.58,
            "bin_end": 3.62,
            "count": 0
           },
           {
            "bin_start": 3.62,
            "bin_end": 3.66,
            "count": 0
           },
           {
            "bin_start": 3.66,
            "bin_end": 3.7,
            "count": 3
           }
          ]
         }
        },
        {
         "name": "household",
         "dtype": "float64",
         "stats": {
          "unique_count": 3,
          "nan_count": 0,
          "min": "0.8",
          "max": "1.0",
          "histogram": [
           {
            "bin_start": 0.8,
            "bin_end": 0.8200000000000001,
            "count": 1
           },
           {
            "bin_start": 0.8200000000000001,
            "bin_end": 0.8400000000000001,
            "count": 0
           },
           {
            "bin_start": 0.8400000000000001,
            "bin_end": 0.86,
            "count": 0
           },
           {
            "bin_start": 0.86,
            "bin_end": 0.88,
            "count": 0
           },
           {
            "bin_start": 0.88,
            "bin_end": 0.9,
            "count": 0
           },
           {
            "bin_start": 0.9,
            "bin_end": 0.92,
            "count": 3
           },
           {
            "bin_start": 0.92,
            "bin_end": 0.9400000000000001,
            "count": 0
           },
           {
            "bin_start": 0.9400000000000001,
            "bin_end": 0.96,
            "count": 0
           },
           {
            "bin_start": 0.96,
            "bin_end": 0.98,
            "count": 0
           },
           {
            "bin_start": 0.98,
            "bin_end": 1,
            "count": 1
           }
          ]
         }
        },
        {
         "name": "walk_aid",
         "dtype": "float64",
         "stats": {
          "unique_count": 2,
          "nan_count": 0,
          "min": "1.7",
          "max": "1.8",
          "histogram": [
           {
            "bin_start": 1.7,
            "bin_end": 1.71,
            "count": 1
           },
           {
            "bin_start": 1.71,
            "bin_end": 1.72,
            "count": 0
           },
           {
            "bin_start": 1.72,
            "bin_end": 1.73,
            "count": 0
           },
           {
            "bin_start": 1.73,
            "bin_end": 1.74,
            "count": 0
           },
           {
            "bin_start": 1.74,
            "bin_end": 1.75,
            "count": 0
           },
           {
            "bin_start": 1.75,
            "bin_end": 1.76,
            "count": 0
           },
           {
            "bin_start": 1.76,
            "bin_end": 1.77,
            "count": 0
           },
           {
            "bin_start": 1.77,
            "bin_end": 1.78,
            "count": 0
           },
           {
            "bin_start": 1.78,
            "bin_end": 1.79,
            "count": 0
           },
           {
            "bin_start": 1.79,
            "bin_end": 1.8,
            "count": 4
           }
          ]
         }
        },
        {
         "name": "imm_status",
         "dtype": "float64",
         "stats": {
          "unique_count": 3,
          "nan_count": 0,
          "min": "0.3",
          "max": "0.6",
          "histogram": [
           {
            "bin_start": 0.3,
            "bin_end": 0.32999999999999996,
            "count": 1
           },
           {
            "bin_start": 0.32999999999999996,
            "bin_end": 0.36,
            "count": 0
           },
           {
            "bin_start": 0.36,
            "bin_end": 0.39,
            "count": 0
           },
           {
            "bin_start": 0.39,
            "bin_end": 0.42,
            "count": 1
           },
           {
            "bin_start": 0.42,
            "bin_end": 0.44999999999999996,
            "count": 0
           },
           {
            "bin_start": 0.44999999999999996,
            "bin_end": 0.48,
            "count": 0
           },
           {
            "bin_start": 0.48,
            "bin_end": 0.51,
            "count": 0
           },
           {
            "bin_start": 0.51,
            "bin_end": 0.54,
            "count": 0
           },
           {
            "bin_start": 0.54,
            "bin_end": 0.5700000000000001,
            "count": 0
           },
           {
            "bin_start": 0.5700000000000001,
            "bin_end": 0.6,
            "count": 3
           }
          ]
         }
        },
        {
         "name": "bside_pre_muni",
         "dtype": "float64",
         "stats": {
          "unique_count": 3,
          "nan_count": 0,
          "min": "0.7",
          "max": "0.9",
          "histogram": [
           {
            "bin_start": 0.7,
            "bin_end": 0.72,
            "count": 2
           },
           {
            "bin_start": 0.72,
            "bin_end": 0.74,
            "count": 0
           },
           {
            "bin_start": 0.74,
            "bin_end": 0.76,
            "count": 0
           },
           {
            "bin_start": 0.76,
            "bin_end": 0.78,
            "count": 0
           },
           {
            "bin_start": 0.78,
            "bin_end": 0.8,
            "count": 0
           },
           {
            "bin_start": 0.8,
            "bin_end": 0.8200000000000001,
            "count": 2
           },
           {
            "bin_start": 0.8200000000000001,
            "bin_end": 0.84,
            "count": 0
           },
           {
            "bin_start": 0.84,
            "bin_end": 0.86,
            "count": 0
           },
           {
            "bin_start": 0.86,
            "bin_end": 0.88,
            "count": 0
           },
           {
            "bin_start": 0.88,
            "bin_end": 0.9,
            "count": 1
           }
          ]
         }
        },
        {
         "name": "Nos. of Suites",
         "dtype": "int64",
         "stats": {
          "unique_count": 5,
          "nan_count": 0,
          "min": "35",
          "max": "79",
          "histogram": [
           {
            "bin_start": 35,
            "bin_end": 39.4,
            "count": 1
           },
           {
            "bin_start": 39.4,
            "bin_end": 43.8,
            "count": 0
           },
           {
            "bin_start": 43.8,
            "bin_end": 48.2,
            "count": 2
           },
           {
            "bin_start": 48.2,
            "bin_end": 52.6,
            "count": 0
           },
           {
            "bin_start": 52.6,
            "bin_end": 57,
            "count": 0
           },
           {
            "bin_start": 57,
            "bin_end": 61.400000000000006,
            "count": 0
           },
           {
            "bin_start": 61.400000000000006,
            "bin_end": 65.80000000000001,
            "count": 0
           },
           {
            "bin_start": 65.80000000000001,
            "bin_end": 70.2,
            "count": 0
           },
           {
            "bin_start": 70.2,
            "bin_end": 74.6,
            "count": 1
           },
           {
            "bin_start": 74.6,
            "bin_end": 79,
            "count": 1
           }
          ]
         }
        },
        {
         "name": "Postal Code",
         "dtype": "object",
         "stats": {
          "unique_count": 4,
          "nan_count": 0,
          "categories": [
           {
            "name": "V5R 5C6",
            "count": 2
           },
           {
            "name": "V6B 5X8",
            "count": 1
           },
           {
            "name": "2 others",
            "count": 2
           }
          ]
         }
        },
        {
         "name": "Build Year",
         "dtype": "float64",
         "stats": {
          "unique_count": 4,
          "nan_count": 0,
          "min": "1977.0",
          "max": "1995.0",
          "histogram": [
           {
            "bin_start": 1977,
            "bin_end": 1978.8,
            "count": 1
           },
           {
            "bin_start": 1978.8,
            "bin_end": 1980.6,
            "count": 0
           },
           {
            "bin_start": 1980.6,
            "bin_end": 1982.4,
            "count": 0
           },
           {
            "bin_start": 1982.4,
            "bin_end": 1984.2,
            "count": 0
           },
           {
            "bin_start": 1984.2,
            "bin_end": 1986,
            "count": 0
           },
           {
            "bin_start": 1986,
            "bin_end": 1987.8,
            "count": 0
           },
           {
            "bin_start": 1987.8,
            "bin_end": 1989.6,
            "count": 0
           },
           {
            "bin_start": 1989.6,
            "bin_end": 1991.4,
            "count": 0
           },
           {
            "bin_start": 1991.4,
            "bin_end": 1993.2,
            "count": 2
           },
           {
            "bin_start": 1993.2,
            "bin_end": 1995,
            "count": 2
           }
          ]
         }
        },
        {
         "name": "Average Rent",
         "dtype": "float64",
         "stats": {
          "unique_count": 5,
          "nan_count": 0,
          "min": "492.39",
          "max": "807.06",
          "histogram": [
           {
            "bin_start": 492.39,
            "bin_end": 523.857,
            "count": 3
           },
           {
            "bin_start": 523.857,
            "bin_end": 555.324,
            "count": 0
           },
           {
            "bin_start": 555.324,
            "bin_end": 586.7909999999999,
            "count": 0
           },
           {
            "bin_start": 586.7909999999999,
            "bin_end": 618.2579999999999,
            "count": 0
           },
           {
            "bin_start": 618.2579999999999,
            "bin_end": 649.7249999999999,
            "count": 1
           },
           {
            "bin_start": 649.7249999999999,
            "bin_end": 681.192,
            "count": 0
           },
           {
            "bin_start": 681.192,
            "bin_end": 712.659,
            "count": 0
           },
           {
            "bin_start": 712.659,
            "bin_end": 744.126,
            "count": 0
           },
           {
            "bin_start": 744.126,
            "bin_end": 775.593,
            "count": 0
           },
           {
            "bin_start": 775.593,
            "bin_end": 807.06,
            "count": 1
           }
          ]
         }
        },
        {
         "name": "neighbourhood",
         "dtype": "object",
         "stats": {
          "unique_count": 2,
          "nan_count": 0,
          "categories": [
           {
            "name": "Renfrew-Collingwood",
            "count": 4
           },
           {
            "name": "Central Business District",
            "count": 1
           }
          ]
         }
        },
        {
         "name": "neigh_crime_rate",
         "dtype": "float64",
         "stats": {
          "unique_count": 2,
          "nan_count": 0,
          "min": "5.8",
          "max": "27.6",
          "histogram": [
           {
            "bin_start": 5.8,
            "bin_end": 7.98,
            "count": 4
           },
           {
            "bin_start": 7.98,
            "bin_end": 10.16,
            "count": 0
           },
           {
            "bin_start": 10.16,
            "bin_end": 12.34,
            "count": 0
           },
           {
            "bin_start": 12.34,
            "bin_end": 14.52,
            "count": 0
           },
           {
            "bin_start": 14.52,
            "bin_end": 16.7,
            "count": 0
           },
           {
            "bin_start": 16.7,
            "bin_end": 18.880000000000003,
            "count": 0
           },
           {
            "bin_start": 18.880000000000003,
            "bin_end": 21.060000000000002,
            "count": 0
           },
           {
            "bin_start": 21.060000000000002,
            "bin_end": 23.240000000000002,
            "count": 0
           },
           {
            "bin_start": 23.240000000000002,
            "bin_end": 25.42,
            "count": 0
           },
           {
            "bin_start": 25.42,
            "bin_end": 27.6,
            "count": 1
           }
          ]
         }
        },
        {
         "name": "_deepnote_index_column",
         "dtype": "object"
        }
       ],
       "rows_top": [
        {
         "num_resp": 24,
         "nbr_relation": 2.1,
         "food_worry": 1.2,
         "apprch_bside": 1.6,
         "hlth_happy": 2.5,
         "chat_often": 1.7,
         "rlns_safe": 4.2,
         "age": 8,
         "bside_dur": 3.7,
         "household": 0.9,
         "walk_aid": 1.8,
         "imm_status": 0.6,
         "bside_pre_muni": 0.8,
         "Nos. of Suites": 72,
         "Postal Code": "V6B 5X8",
         "Build Year": 1993,
         "Average Rent": 623.78,
         "neighbourhood": "Central Business District",
         "neigh_crime_rate": 27.6,
         "_deepnote_index_column": "BRIDGEVIEW PLACE"
        },
        {
         "num_resp": 16,
         "nbr_relation": 2,
         "food_worry": 1.4,
         "apprch_bside": 2.4,
         "hlth_happy": 2.7,
         "chat_often": 2,
         "rlns_safe": 3.6,
         "age": 8.3,
         "bside_dur": 3.3,
         "household": 0.9,
         "walk_aid": 1.7,
         "imm_status": 0.3,
         "bside_pre_muni": 0.9,
         "Nos. of Suites": 79,
         "Postal Code": "V5R 5V6",
         "Build Year": 1977,
         "Average Rent": 494.75,
         "neighbourhood": "Renfrew-Collingwood",
         "neigh_crime_rate": 5.8,
         "_deepnote_index_column": "COLLINGWOOD TOWER"
        },
        {
         "num_resp": 15,
         "nbr_relation": 2.2,
         "food_worry": 1.3,
         "apprch_bside": 1.9,
         "hlth_happy": 2.2,
         "chat_often": 2.2,
         "rlns_safe": 4.2,
         "age": 8.1,
         "bside_dur": 3.7,
         "household": 1,
         "walk_aid": 1.8,
         "imm_status": 0.6,
         "bside_pre_muni": 0.8,
         "Nos. of Suites": 45,
         "Postal Code": "V5R 5C6",
         "Build Year": 1993,
         "Average Rent": 494.49,
         "neighbourhood": "Renfrew-Collingwood",
         "neigh_crime_rate": 5.8,
         "_deepnote_index_column": "LIONS VIEW BLDG I"
        },
        {
         "num_resp": 15,
         "nbr_relation": 2.3,
         "food_worry": 1.6,
         "apprch_bside": 2.1,
         "hlth_happy": 3,
         "chat_often": 1.9,
         "rlns_safe": 4.1,
         "age": 8.1,
         "bside_dur": 3.5,
         "household": 0.9,
         "walk_aid": 1.8,
         "imm_status": 0.6,
         "bside_pre_muni": 0.7,
         "Nos. of Suites": 47,
         "Postal Code": "V5R 5C6",
         "Build Year": 1994,
         "Average Rent": 492.39,
         "neighbourhood": "Renfrew-Collingwood",
         "neigh_crime_rate": 5.8,
         "_deepnote_index_column": "LIONS VIEW BLDG II"
        },
        {
         "num_resp": 10,
         "nbr_relation": 2,
         "food_worry": 1,
         "apprch_bside": 2,
         "hlth_happy": 2.6,
         "chat_often": 2.6,
         "rlns_safe": 4.2,
         "age": 8.4,
         "bside_dur": 3.7,
         "household": 0.8,
         "walk_aid": 1.8,
         "imm_status": 0.4,
         "bside_pre_muni": 0.7,
         "Nos. of Suites": 35,
         "Postal Code": "V5R 4S2",
         "Build Year": 1995,
         "Average Rent": 807.06,
         "neighbourhood": "Renfrew-Collingwood",
         "neigh_crime_rate": 5.8,
         "_deepnote_index_column": "LIONS VIEW BLDG III"
        }
       ],
       "rows_bottom": null
      },
      "text/plain": "                     num_resp  nbr_relation  food_worry  apprch_bside  \\\nlocation                                                                \nBRIDGEVIEW PLACE           24           2.1         1.2           1.6   \nCOLLINGWOOD TOWER          16           2.0         1.4           2.4   \nLIONS VIEW BLDG I          15           2.2         1.3           1.9   \nLIONS VIEW BLDG II         15           2.3         1.6           2.1   \nLIONS VIEW BLDG III        10           2.0         1.0           2.0   \n\n                     hlth_happy  chat_often  rlns_safe  age  bside_dur  \\\nlocation                                                                 \nBRIDGEVIEW PLACE            2.5         1.7        4.2  8.0        3.7   \nCOLLINGWOOD TOWER           2.7         2.0        3.6  8.3        3.3   \nLIONS VIEW BLDG I           2.2         2.2        4.2  8.1        3.7   \nLIONS VIEW BLDG II          3.0         1.9        4.1  8.1        3.5   \nLIONS VIEW BLDG III         2.6         2.6        4.2  8.4        3.7   \n\n                     household  walk_aid  imm_status  bside_pre_muni  \\\nlocation                                                               \nBRIDGEVIEW PLACE           0.9       1.8         0.6             0.8   \nCOLLINGWOOD TOWER          0.9       1.7         0.3             0.9   \nLIONS VIEW BLDG I          1.0       1.8         0.6             0.8   \nLIONS VIEW BLDG II         0.9       1.8         0.6             0.7   \nLIONS VIEW BLDG III        0.8       1.8         0.4             0.7   \n\n                     Nos. of Suites Postal Code  Build Year  Average Rent  \\\nlocation                                                                    \nBRIDGEVIEW PLACE                 72     V6B 5X8      1993.0        623.78   \nCOLLINGWOOD TOWER                79     V5R 5V6      1977.0        494.75   \nLIONS VIEW BLDG I                45     V5R 5C6      1993.0        494.49   \nLIONS VIEW BLDG II               47     V5R 5C6      1994.0        492.39   \nLIONS VIEW BLDG III              35     V5R 4S2      1995.0        807.06   \n\n                                 neighbourhood  neigh_crime_rate  \nlocation                                                          \nBRIDGEVIEW PLACE     Central Business District              27.6  \nCOLLINGWOOD TOWER          Renfrew-Collingwood               5.8  \nLIONS VIEW BLDG I          Renfrew-Collingwood               5.8  \nLIONS VIEW BLDG II         Renfrew-Collingwood               5.8  \nLIONS VIEW BLDG III        Renfrew-Collingwood               5.8  ",
      "text/html": "<div>\n<style scoped>\n    .dataframe tbody tr th:only-of-type {\n        vertical-align: middle;\n    }\n\n    .dataframe tbody tr th {\n        vertical-align: top;\n    }\n\n    .dataframe thead th {\n        text-align: right;\n    }\n</style>\n<table border=\"1\" class=\"dataframe\">\n  <thead>\n    <tr style=\"text-align: right;\">\n      <th></th>\n      <th>num_resp</th>\n      <th>nbr_relation</th>\n      <th>food_worry</th>\n      <th>apprch_bside</th>\n      <th>hlth_happy</th>\n      <th>chat_often</th>\n      <th>rlns_safe</th>\n      <th>age</th>\n      <th>bside_dur</th>\n      <th>household</th>\n      <th>walk_aid</th>\n      <th>imm_status</th>\n      <th>bside_pre_muni</th>\n      <th>Nos. of Suites</th>\n      <th>Postal Code</th>\n      <th>Build Year</th>\n      <th>Average Rent</th>\n      <th>neighbourhood</th>\n      <th>neigh_crime_rate</th>\n    </tr>\n    <tr>\n      <th>location</th>\n      <th></th>\n      <th></th>\n      <th></th>\n      <th></th>\n      <th></th>\n      <th></th>\n      <th></th>\n      <th></th>\n      <th></th>\n      <th></th>\n      <th></th>\n      <th></th>\n      <th></th>\n      <th></th>\n      <th></th>\n      <th></th>\n      <th></th>\n      <th></th>\n      <th></th>\n    </tr>\n  </thead>\n  <tbody>\n    <tr>\n      <th>BRIDGEVIEW PLACE</th>\n      <td>24</td>\n      <td>2.1</td>\n      <td>1.2</td>\n      <td>1.6</td>\n      <td>2.5</td>\n      <td>1.7</td>\n      <td>4.2</td>\n      <td>8.0</td>\n      <td>3.7</td>\n      <td>0.9</td>\n      <td>1.8</td>\n      <td>0.6</td>\n      <td>0.8</td>\n      <td>72</td>\n      <td>V6B 5X8</td>\n      <td>1993.0</td>\n      <td>623.78</td>\n      <td>Central Business District</td>\n      <td>27.6</td>\n    </tr>\n    <tr>\n      <th>COLLINGWOOD TOWER</th>\n      <td>16</td>\n      <td>2.0</td>\n      <td>1.4</td>\n      <td>2.4</td>\n      <td>2.7</td>\n      <td>2.0</td>\n      <td>3.6</td>\n      <td>8.3</td>\n      <td>3.3</td>\n      <td>0.9</td>\n      <td>1.7</td>\n      <td>0.3</td>\n      <td>0.9</td>\n      <td>79</td>\n      <td>V5R 5V6</td>\n      <td>1977.0</td>\n      <td>494.75</td>\n      <td>Renfrew-Collingwood</td>\n      <td>5.8</td>\n    </tr>\n    <tr>\n      <th>LIONS VIEW BLDG I</th>\n      <td>15</td>\n      <td>2.2</td>\n      <td>1.3</td>\n      <td>1.9</td>\n      <td>2.2</td>\n      <td>2.2</td>\n      <td>4.2</td>\n      <td>8.1</td>\n      <td>3.7</td>\n      <td>1.0</td>\n      <td>1.8</td>\n      <td>0.6</td>\n      <td>0.8</td>\n      <td>45</td>\n      <td>V5R 5C6</td>\n      <td>1993.0</td>\n      <td>494.49</td>\n      <td>Renfrew-Collingwood</td>\n      <td>5.8</td>\n    </tr>\n    <tr>\n      <th>LIONS VIEW BLDG II</th>\n      <td>15</td>\n      <td>2.3</td>\n      <td>1.6</td>\n      <td>2.1</td>\n      <td>3.0</td>\n      <td>1.9</td>\n      <td>4.1</td>\n      <td>8.1</td>\n      <td>3.5</td>\n      <td>0.9</td>\n      <td>1.8</td>\n      <td>0.6</td>\n      <td>0.7</td>\n      <td>47</td>\n      <td>V5R 5C6</td>\n      <td>1994.0</td>\n      <td>492.39</td>\n      <td>Renfrew-Collingwood</td>\n      <td>5.8</td>\n    </tr>\n    <tr>\n      <th>LIONS VIEW BLDG III</th>\n      <td>10</td>\n      <td>2.0</td>\n      <td>1.0</td>\n      <td>2.0</td>\n      <td>2.6</td>\n      <td>2.6</td>\n      <td>4.2</td>\n      <td>8.4</td>\n      <td>3.7</td>\n      <td>0.8</td>\n      <td>1.8</td>\n      <td>0.4</td>\n      <td>0.7</td>\n      <td>35</td>\n      <td>V5R 4S2</td>\n      <td>1995.0</td>\n      <td>807.06</td>\n      <td>Renfrew-Collingwood</td>\n      <td>5.8</td>\n    </tr>\n  </tbody>\n</table>\n</div>"
     },
     "metadata": {}
    }
   ]
  },
  {
   "cell_type": "code",
   "source": "data.isnull().sum()",
   "metadata": {
    "tags": [],
    "cell_id": "00001-60faa85a-f8ed-4462-9364-814b0e5bbe0b",
    "deepnote_to_be_reexecuted": false,
    "source_hash": "878de0e4",
    "execution_start": 1631149585457,
    "execution_millis": 9,
    "deepnote_cell_type": "code"
   },
   "outputs": [
    {
     "output_type": "execute_result",
     "execution_count": 5,
     "data": {
      "text/plain": "num_resp            0\nnbr_relation        0\nfood_worry          0\napprch_bside        0\nhlth_happy          0\nchat_often          0\nrlns_safe           0\nage                 0\nbside_dur           0\nhousehold           0\nwalk_aid            0\nimm_status          0\nbside_pre_muni      0\nNos. of Suites      0\nPostal Code         0\nBuild Year          3\nAverage Rent        2\nneighbourhood       0\nneigh_crime_rate    0\ndtype: int64"
     },
     "metadata": {}
    }
   ],
   "execution_count": 5
  },
  {
   "cell_type": "code",
   "source": "data['Build Year'].fillna(data['Build Year'].median())",
   "metadata": {
    "tags": [],
    "cell_id": "00002-3a0ea396-8547-40a9-9d46-fe58d2d6c156",
    "deepnote_to_be_reexecuted": false,
    "source_hash": "33df9d49",
    "execution_start": 1631149651828,
    "execution_millis": 1,
    "deepnote_cell_type": "code"
   },
   "outputs": [
    {
     "output_type": "execute_result",
     "execution_count": 7,
     "data": {
      "text/plain": "location\nBRIDGEVIEW PLACE        1993.0\nCOLLINGWOOD TOWER       1977.0\nLIONS VIEW BLDG I       1993.0\nLIONS VIEW BLDG II      1994.0\nLIONS VIEW BLDG III     1995.0\nMORELAND KENNEDY        1974.0\nARBUTUS COURT           1964.0\nBURRARD MANOR           1967.0\nGLYNN MANOR             2001.0\nMAGNOLO MANOR           1959.0\nWALLACE WILSON          1965.0\nLOYAL ORANGE            1971.0\nMUIR MANOR              1971.0\nEDWARD BYERS            1962.0\nSOROPTIMIST LIONS       1971.0\nKINGS DAUGHTERS         1972.0\nMOUNT PLEASANT          1971.0\nALICE SAUNDERS          1977.0\nLONDONDERRY             1957.0\nHARWOOD MANOR           1960.0\nFLORENCE MANOR          1954.0\nMACLEOD MANOR           1971.0\nWILSON HEIGHTS MANOR    1970.0\nName: Build Year, dtype: float64"
     },
     "metadata": {}
    }
   ],
   "execution_count": 7
  },
  {
   "cell_type": "code",
   "source": "data['Average Rent'].mean()",
   "metadata": {
    "tags": [],
    "cell_id": "00003-2d0a9915-35bc-4177-baee-e5d78507e590",
    "deepnote_to_be_reexecuted": false,
    "source_hash": "c9d8afb8",
    "execution_start": 1631149697945,
    "execution_millis": 6,
    "deepnote_cell_type": "code"
   },
   "outputs": [
    {
     "output_type": "execute_result",
     "execution_count": 8,
     "data": {
      "text/plain": "707.782380952381"
     },
     "metadata": {}
    }
   ],
   "execution_count": 8
  },
  {
   "cell_type": "code",
   "source": "data['Average Rent'].fillna(data['Average Rent'].mean())",
   "metadata": {
    "tags": [],
    "cell_id": "00004-51230f60-d465-4883-a5f5-9628c6214340",
    "deepnote_to_be_reexecuted": false,
    "source_hash": "a06d5856",
    "execution_start": 1631149720758,
    "execution_millis": 4,
    "deepnote_cell_type": "code"
   },
   "outputs": [
    {
     "output_type": "execute_result",
     "execution_count": 9,
     "data": {
      "text/plain": "location\nBRIDGEVIEW PLACE        623.780000\nCOLLINGWOOD TOWER       494.750000\nLIONS VIEW BLDG I       494.490000\nLIONS VIEW BLDG II      492.390000\nLIONS VIEW BLDG III     807.060000\nMORELAND KENNEDY        860.260000\nARBUTUS COURT           886.100000\nBURRARD MANOR           747.690000\nGLYNN MANOR             475.310000\nMAGNOLO MANOR           903.880000\nWALLACE WILSON          651.750000\nLOYAL ORANGE            707.782381\nMUIR MANOR              989.460000\nEDWARD BYERS            707.782381\nSOROPTIMIST LIONS       753.120000\nKINGS DAUGHTERS         614.070000\nMOUNT PLEASANT          601.000000\nALICE SAUNDERS          699.500000\nLONDONDERRY             795.810000\nHARWOOD MANOR           778.920000\nFLORENCE MANOR          835.930000\nMACLEOD MANOR           835.590000\nWILSON HEIGHTS MANOR    522.570000\nName: Average Rent, dtype: float64"
     },
     "metadata": {}
    }
   ],
   "execution_count": 9
  },
  {
   "cell_type": "code",
   "source": "data.head(3)",
   "metadata": {
    "tags": [],
    "cell_id": "00005-0e0c572d-9f62-41f8-914b-957b83b3c21e",
    "deepnote_to_be_reexecuted": false,
    "source_hash": "da627bf6",
    "execution_start": 1631149770101,
    "execution_millis": 96,
    "deepnote_cell_type": "code"
   },
   "outputs": [
    {
     "output_type": "execute_result",
     "execution_count": 10,
     "data": {
      "application/vnd.deepnote.dataframe.v2+json": {
       "row_count": 3,
       "column_count": 19,
       "columns": [
        {
         "name": "num_resp",
         "dtype": "int64",
         "stats": {
          "unique_count": 3,
          "nan_count": 0,
          "min": "15",
          "max": "24",
          "histogram": [
           {
            "bin_start": 15,
            "bin_end": 15.9,
            "count": 1
           },
           {
            "bin_start": 15.9,
            "bin_end": 16.8,
            "count": 1
           },
           {
            "bin_start": 16.8,
            "bin_end": 17.7,
            "count": 0
           },
           {
            "bin_start": 17.7,
            "bin_end": 18.6,
            "count": 0
           },
           {
            "bin_start": 18.6,
            "bin_end": 19.5,
            "count": 0
           },
           {
            "bin_start": 19.5,
            "bin_end": 20.4,
            "count": 0
           },
           {
            "bin_start": 20.4,
            "bin_end": 21.3,
            "count": 0
           },
           {
            "bin_start": 21.3,
            "bin_end": 22.2,
            "count": 0
           },
           {
            "bin_start": 22.2,
            "bin_end": 23.1,
            "count": 0
           },
           {
            "bin_start": 23.1,
            "bin_end": 24,
            "count": 1
           }
          ]
         }
        },
        {
         "name": "nbr_relation",
         "dtype": "float64",
         "stats": {
          "unique_count": 3,
          "nan_count": 0,
          "min": "2.0",
          "max": "2.2",
          "histogram": [
           {
            "bin_start": 2,
            "bin_end": 2.02,
            "count": 1
           },
           {
            "bin_start": 2.02,
            "bin_end": 2.04,
            "count": 0
           },
           {
            "bin_start": 2.04,
            "bin_end": 2.06,
            "count": 0
           },
           {
            "bin_start": 2.06,
            "bin_end": 2.08,
            "count": 0
           },
           {
            "bin_start": 2.08,
            "bin_end": 2.1,
            "count": 0
           },
           {
            "bin_start": 2.1,
            "bin_end": 2.12,
            "count": 1
           },
           {
            "bin_start": 2.12,
            "bin_end": 2.14,
            "count": 0
           },
           {
            "bin_start": 2.14,
            "bin_end": 2.16,
            "count": 0
           },
           {
            "bin_start": 2.16,
            "bin_end": 2.18,
            "count": 0
           },
           {
            "bin_start": 2.18,
            "bin_end": 2.2,
            "count": 1
           }
          ]
         }
        },
        {
         "name": "food_worry",
         "dtype": "float64",
         "stats": {
          "unique_count": 3,
          "nan_count": 0,
          "min": "1.2",
          "max": "1.4",
          "histogram": [
           {
            "bin_start": 1.2,
            "bin_end": 1.22,
            "count": 1
           },
           {
            "bin_start": 1.22,
            "bin_end": 1.24,
            "count": 0
           },
           {
            "bin_start": 1.24,
            "bin_end": 1.26,
            "count": 0
           },
           {
            "bin_start": 1.26,
            "bin_end": 1.28,
            "count": 0
           },
           {
            "bin_start": 1.28,
            "bin_end": 1.2999999999999998,
            "count": 0
           },
           {
            "bin_start": 1.2999999999999998,
            "bin_end": 1.3199999999999998,
            "count": 1
           },
           {
            "bin_start": 1.3199999999999998,
            "bin_end": 1.3399999999999999,
            "count": 0
           },
           {
            "bin_start": 1.3399999999999999,
            "bin_end": 1.3599999999999999,
            "count": 0
           },
           {
            "bin_start": 1.3599999999999999,
            "bin_end": 1.38,
            "count": 0
           },
           {
            "bin_start": 1.38,
            "bin_end": 1.4,
            "count": 1
           }
          ]
         }
        },
        {
         "name": "apprch_bside",
         "dtype": "float64",
         "stats": {
          "unique_count": 3,
          "nan_count": 0,
          "min": "1.6",
          "max": "2.4",
          "histogram": [
           {
            "bin_start": 1.6,
            "bin_end": 1.6800000000000002,
            "count": 1
           },
           {
            "bin_start": 1.6800000000000002,
            "bin_end": 1.76,
            "count": 0
           },
           {
            "bin_start": 1.76,
            "bin_end": 1.84,
            "count": 0
           },
           {
            "bin_start": 1.84,
            "bin_end": 1.92,
            "count": 1
           },
           {
            "bin_start": 1.92,
            "bin_end": 2,
            "count": 0
           },
           {
            "bin_start": 2,
            "bin_end": 2.08,
            "count": 0
           },
           {
            "bin_start": 2.08,
            "bin_end": 2.16,
            "count": 0
           },
           {
            "bin_start": 2.16,
            "bin_end": 2.24,
            "count": 0
           },
           {
            "bin_start": 2.24,
            "bin_end": 2.32,
            "count": 0
           },
           {
            "bin_start": 2.32,
            "bin_end": 2.4,
            "count": 1
           }
          ]
         }
        },
        {
         "name": "hlth_happy",
         "dtype": "float64",
         "stats": {
          "unique_count": 3,
          "nan_count": 0,
          "min": "2.2",
          "max": "2.7",
          "histogram": [
           {
            "bin_start": 2.2,
            "bin_end": 2.25,
            "count": 1
           },
           {
            "bin_start": 2.25,
            "bin_end": 2.3000000000000003,
            "count": 0
           },
           {
            "bin_start": 2.3000000000000003,
            "bin_end": 2.35,
            "count": 0
           },
           {
            "bin_start": 2.35,
            "bin_end": 2.4000000000000004,
            "count": 0
           },
           {
            "bin_start": 2.4000000000000004,
            "bin_end": 2.45,
            "count": 0
           },
           {
            "bin_start": 2.45,
            "bin_end": 2.5,
            "count": 0
           },
           {
            "bin_start": 2.5,
            "bin_end": 2.5500000000000003,
            "count": 1
           },
           {
            "bin_start": 2.5500000000000003,
            "bin_end": 2.6,
            "count": 0
           },
           {
            "bin_start": 2.6,
            "bin_end": 2.6500000000000004,
            "count": 0
           },
           {
            "bin_start": 2.6500000000000004,
            "bin_end": 2.7,
            "count": 1
           }
          ]
         }
        },
        {
         "name": "chat_often",
         "dtype": "float64",
         "stats": {
          "unique_count": 3,
          "nan_count": 0,
          "min": "1.7",
          "max": "2.2",
          "histogram": [
           {
            "bin_start": 1.7,
            "bin_end": 1.75,
            "count": 1
           },
           {
            "bin_start": 1.75,
            "bin_end": 1.8,
            "count": 0
           },
           {
            "bin_start": 1.8,
            "bin_end": 1.85,
            "count": 0
           },
           {
            "bin_start": 1.85,
            "bin_end": 1.9000000000000001,
            "count": 0
           },
           {
            "bin_start": 1.9000000000000001,
            "bin_end": 1.9500000000000002,
            "count": 0
           },
           {
            "bin_start": 1.9500000000000002,
            "bin_end": 2,
            "count": 0
           },
           {
            "bin_start": 2,
            "bin_end": 2.0500000000000003,
            "count": 1
           },
           {
            "bin_start": 2.0500000000000003,
            "bin_end": 2.1,
            "count": 0
           },
           {
            "bin_start": 2.1,
            "bin_end": 2.1500000000000004,
            "count": 0
           },
           {
            "bin_start": 2.1500000000000004,
            "bin_end": 2.2,
            "count": 1
           }
          ]
         }
        },
        {
         "name": "rlns_safe",
         "dtype": "float64",
         "stats": {
          "unique_count": 2,
          "nan_count": 0,
          "min": "3.6",
          "max": "4.2",
          "histogram": [
           {
            "bin_start": 3.6,
            "bin_end": 3.66,
            "count": 1
           },
           {
            "bin_start": 3.66,
            "bin_end": 3.72,
            "count": 0
           },
           {
            "bin_start": 3.72,
            "bin_end": 3.7800000000000002,
            "count": 0
           },
           {
            "bin_start": 3.7800000000000002,
            "bin_end": 3.8400000000000003,
            "count": 0
           },
           {
            "bin_start": 3.8400000000000003,
            "bin_end": 3.9000000000000004,
            "count": 0
           },
           {
            "bin_start": 3.9000000000000004,
            "bin_end": 3.96,
            "count": 0
           },
           {
            "bin_start": 3.96,
            "bin_end": 4.0200000000000005,
            "count": 0
           },
           {
            "bin_start": 4.0200000000000005,
            "bin_end": 4.08,
            "count": 0
           },
           {
            "bin_start": 4.08,
            "bin_end": 4.140000000000001,
            "count": 0
           },
           {
            "bin_start": 4.140000000000001,
            "bin_end": 4.2,
            "count": 2
           }
          ]
         }
        },
        {
         "name": "age",
         "dtype": "float64",
         "stats": {
          "unique_count": 3,
          "nan_count": 0,
          "min": "8.0",
          "max": "8.3",
          "histogram": [
           {
            "bin_start": 8,
            "bin_end": 8.03,
            "count": 1
           },
           {
            "bin_start": 8.03,
            "bin_end": 8.06,
            "count": 0
           },
           {
            "bin_start": 8.06,
            "bin_end": 8.09,
            "count": 0
           },
           {
            "bin_start": 8.09,
            "bin_end": 8.120000000000001,
            "count": 1
           },
           {
            "bin_start": 8.120000000000001,
            "bin_end": 8.15,
            "count": 0
           },
           {
            "bin_start": 8.15,
            "bin_end": 8.18,
            "count": 0
           },
           {
            "bin_start": 8.18,
            "bin_end": 8.21,
            "count": 0
           },
           {
            "bin_start": 8.21,
            "bin_end": 8.24,
            "count": 0
           },
           {
            "bin_start": 8.24,
            "bin_end": 8.270000000000001,
            "count": 0
           },
           {
            "bin_start": 8.270000000000001,
            "bin_end": 8.3,
            "count": 1
           }
          ]
         }
        },
        {
         "name": "bside_dur",
         "dtype": "float64",
         "stats": {
          "unique_count": 2,
          "nan_count": 0,
          "min": "3.3",
          "max": "3.7",
          "histogram": [
           {
            "bin_start": 3.3,
            "bin_end": 3.34,
            "count": 1
           },
           {
            "bin_start": 3.34,
            "bin_end": 3.38,
            "count": 0
           },
           {
            "bin_start": 3.38,
            "bin_end": 3.42,
            "count": 0
           },
           {
            "bin_start": 3.42,
            "bin_end": 3.46,
            "count": 0
           },
           {
            "bin_start": 3.46,
            "bin_end": 3.5,
            "count": 0
           },
           {
            "bin_start": 3.5,
            "bin_end": 3.54,
            "count": 0
           },
           {
            "bin_start": 3.54,
            "bin_end": 3.58,
            "count": 0
           },
           {
            "bin_start": 3.58,
            "bin_end": 3.62,
            "count": 0
           },
           {
            "bin_start": 3.62,
            "bin_end": 3.66,
            "count": 0
           },
           {
            "bin_start": 3.66,
            "bin_end": 3.7,
            "count": 2
           }
          ]
         }
        },
        {
         "name": "household",
         "dtype": "float64",
         "stats": {
          "unique_count": 2,
          "nan_count": 0,
          "min": "0.9",
          "max": "1.0",
          "histogram": [
           {
            "bin_start": 0.9,
            "bin_end": 0.91,
            "count": 2
           },
           {
            "bin_start": 0.91,
            "bin_end": 0.92,
            "count": 0
           },
           {
            "bin_start": 0.92,
            "bin_end": 0.93,
            "count": 0
           },
           {
            "bin_start": 0.93,
            "bin_end": 0.9400000000000001,
            "count": 0
           },
           {
            "bin_start": 0.9400000000000001,
            "bin_end": 0.95,
            "count": 0
           },
           {
            "bin_start": 0.95,
            "bin_end": 0.96,
            "count": 0
           },
           {
            "bin_start": 0.96,
            "bin_end": 0.97,
            "count": 0
           },
           {
            "bin_start": 0.97,
            "bin_end": 0.98,
            "count": 0
           },
           {
            "bin_start": 0.98,
            "bin_end": 0.99,
            "count": 0
           },
           {
            "bin_start": 0.99,
            "bin_end": 1,
            "count": 1
           }
          ]
         }
        },
        {
         "name": "walk_aid",
         "dtype": "float64",
         "stats": {
          "unique_count": 2,
          "nan_count": 0,
          "min": "1.7",
          "max": "1.8",
          "histogram": [
           {
            "bin_start": 1.7,
            "bin_end": 1.71,
            "count": 1
           },
           {
            "bin_start": 1.71,
            "bin_end": 1.72,
            "count": 0
           },
           {
            "bin_start": 1.72,
            "bin_end": 1.73,
            "count": 0
           },
           {
            "bin_start": 1.73,
            "bin_end": 1.74,
            "count": 0
           },
           {
            "bin_start": 1.74,
            "bin_end": 1.75,
            "count": 0
           },
           {
            "bin_start": 1.75,
            "bin_end": 1.76,
            "count": 0
           },
           {
            "bin_start": 1.76,
            "bin_end": 1.77,
            "count": 0
           },
           {
            "bin_start": 1.77,
            "bin_end": 1.78,
            "count": 0
           },
           {
            "bin_start": 1.78,
            "bin_end": 1.79,
            "count": 0
           },
           {
            "bin_start": 1.79,
            "bin_end": 1.8,
            "count": 2
           }
          ]
         }
        },
        {
         "name": "imm_status",
         "dtype": "float64",
         "stats": {
          "unique_count": 2,
          "nan_count": 0,
          "min": "0.3",
          "max": "0.6",
          "histogram": [
           {
            "bin_start": 0.3,
            "bin_end": 0.32999999999999996,
            "count": 1
           },
           {
            "bin_start": 0.32999999999999996,
            "bin_end": 0.36,
            "count": 0
           },
           {
            "bin_start": 0.36,
            "bin_end": 0.39,
            "count": 0
           },
           {
            "bin_start": 0.39,
            "bin_end": 0.42,
            "count": 0
           },
           {
            "bin_start": 0.42,
            "bin_end": 0.44999999999999996,
            "count": 0
           },
           {
            "bin_start": 0.44999999999999996,
            "bin_end": 0.48,
            "count": 0
           },
           {
            "bin_start": 0.48,
            "bin_end": 0.51,
            "count": 0
           },
           {
            "bin_start": 0.51,
            "bin_end": 0.54,
            "count": 0
           },
           {
            "bin_start": 0.54,
            "bin_end": 0.5700000000000001,
            "count": 0
           },
           {
            "bin_start": 0.5700000000000001,
            "bin_end": 0.6,
            "count": 2
           }
          ]
         }
        },
        {
         "name": "bside_pre_muni",
         "dtype": "float64",
         "stats": {
          "unique_count": 2,
          "nan_count": 0,
          "min": "0.8",
          "max": "0.9",
          "histogram": [
           {
            "bin_start": 0.8,
            "bin_end": 0.81,
            "count": 2
           },
           {
            "bin_start": 0.81,
            "bin_end": 0.8200000000000001,
            "count": 0
           },
           {
            "bin_start": 0.8200000000000001,
            "bin_end": 0.8300000000000001,
            "count": 0
           },
           {
            "bin_start": 0.8300000000000001,
            "bin_end": 0.8400000000000001,
            "count": 0
           },
           {
            "bin_start": 0.8400000000000001,
            "bin_end": 0.8500000000000001,
            "count": 0
           },
           {
            "bin_start": 0.8500000000000001,
            "bin_end": 0.86,
            "count": 0
           },
           {
            "bin_start": 0.86,
            "bin_end": 0.87,
            "count": 0
           },
           {
            "bin_start": 0.87,
            "bin_end": 0.88,
            "count": 0
           },
           {
            "bin_start": 0.88,
            "bin_end": 0.89,
            "count": 0
           },
           {
            "bin_start": 0.89,
            "bin_end": 0.9,
            "count": 1
           }
          ]
         }
        },
        {
         "name": "Nos. of Suites",
         "dtype": "int64",
         "stats": {
          "unique_count": 3,
          "nan_count": 0,
          "min": "45",
          "max": "79",
          "histogram": [
           {
            "bin_start": 45,
            "bin_end": 48.4,
            "count": 1
           },
           {
            "bin_start": 48.4,
            "bin_end": 51.8,
            "count": 0
           },
           {
            "bin_start": 51.8,
            "bin_end": 55.2,
            "count": 0
           },
           {
            "bin_start": 55.2,
            "bin_end": 58.6,
            "count": 0
           },
           {
            "bin_start": 58.6,
            "bin_end": 62,
            "count": 0
           },
           {
            "bin_start": 62,
            "bin_end": 65.4,
            "count": 0
           },
           {
            "bin_start": 65.4,
            "bin_end": 68.8,
            "count": 0
           },
           {
            "bin_start": 68.8,
            "bin_end": 72.2,
            "count": 1
           },
           {
            "bin_start": 72.2,
            "bin_end": 75.6,
            "count": 0
           },
           {
            "bin_start": 75.6,
            "bin_end": 79,
            "count": 1
           }
          ]
         }
        },
        {
         "name": "Postal Code",
         "dtype": "object",
         "stats": {
          "unique_count": 3,
          "nan_count": 0,
          "categories": [
           {
            "name": "V6B 5X8",
            "count": 1
           },
           {
            "name": "V5R 5V6",
            "count": 1
           },
           {
            "name": "V5R 5C6",
            "count": 1
           }
          ]
         }
        },
        {
         "name": "Build Year",
         "dtype": "float64",
         "stats": {
          "unique_count": 2,
          "nan_count": 0,
          "min": "1977.0",
          "max": "1993.0",
          "histogram": [
           {
            "bin_start": 1977,
            "bin_end": 1978.6,
            "count": 1
           },
           {
            "bin_start": 1978.6,
            "bin_end": 1980.2,
            "count": 0
           },
           {
            "bin_start": 1980.2,
            "bin_end": 1981.8,
            "count": 0
           },
           {
            "bin_start": 1981.8,
            "bin_end": 1983.4,
            "count": 0
           },
           {
            "bin_start": 1983.4,
            "bin_end": 1985,
            "count": 0
           },
           {
            "bin_start": 1985,
            "bin_end": 1986.6,
            "count": 0
           },
           {
            "bin_start": 1986.6,
            "bin_end": 1988.2,
            "count": 0
           },
           {
            "bin_start": 1988.2,
            "bin_end": 1989.8,
            "count": 0
           },
           {
            "bin_start": 1989.8,
            "bin_end": 1991.4,
            "count": 0
           },
           {
            "bin_start": 1991.4,
            "bin_end": 1993,
            "count": 2
           }
          ]
         }
        },
        {
         "name": "Average Rent",
         "dtype": "float64",
         "stats": {
          "unique_count": 3,
          "nan_count": 0,
          "min": "494.49",
          "max": "623.78",
          "histogram": [
           {
            "bin_start": 494.49,
            "bin_end": 507.419,
            "count": 2
           },
           {
            "bin_start": 507.419,
            "bin_end": 520.348,
            "count": 0
           },
           {
            "bin_start": 520.348,
            "bin_end": 533.277,
            "count": 0
           },
           {
            "bin_start": 533.277,
            "bin_end": 546.206,
            "count": 0
           },
           {
            "bin_start": 546.206,
            "bin_end": 559.135,
            "count": 0
           },
           {
            "bin_start": 559.135,
            "bin_end": 572.064,
            "count": 0
           },
           {
            "bin_start": 572.064,
            "bin_end": 584.9929999999999,
            "count": 0
           },
           {
            "bin_start": 584.9929999999999,
            "bin_end": 597.922,
            "count": 0
           },
           {
            "bin_start": 597.922,
            "bin_end": 610.851,
            "count": 0
           },
           {
            "bin_start": 610.851,
            "bin_end": 623.78,
            "count": 1
           }
          ]
         }
        },
        {
         "name": "neighbourhood",
         "dtype": "object",
         "stats": {
          "unique_count": 2,
          "nan_count": 0,
          "categories": [
           {
            "name": "Renfrew-Collingwood",
            "count": 2
           },
           {
            "name": "Central Business District",
            "count": 1
           }
          ]
         }
        },
        {
         "name": "neigh_crime_rate",
         "dtype": "float64",
         "stats": {
          "unique_count": 2,
          "nan_count": 0,
          "min": "5.8",
          "max": "27.6",
          "histogram": [
           {
            "bin_start": 5.8,
            "bin_end": 7.98,
            "count": 2
           },
           {
            "bin_start": 7.98,
            "bin_end": 10.16,
            "count": 0
           },
           {
            "bin_start": 10.16,
            "bin_end": 12.34,
            "count": 0
           },
           {
            "bin_start": 12.34,
            "bin_end": 14.52,
            "count": 0
           },
           {
            "bin_start": 14.52,
            "bin_end": 16.7,
            "count": 0
           },
           {
            "bin_start": 16.7,
            "bin_end": 18.880000000000003,
            "count": 0
           },
           {
            "bin_start": 18.880000000000003,
            "bin_end": 21.060000000000002,
            "count": 0
           },
           {
            "bin_start": 21.060000000000002,
            "bin_end": 23.240000000000002,
            "count": 0
           },
           {
            "bin_start": 23.240000000000002,
            "bin_end": 25.42,
            "count": 0
           },
           {
            "bin_start": 25.42,
            "bin_end": 27.6,
            "count": 1
           }
          ]
         }
        },
        {
         "name": "_deepnote_index_column",
         "dtype": "object"
        }
       ],
       "rows_top": [
        {
         "num_resp": 24,
         "nbr_relation": 2.1,
         "food_worry": 1.2,
         "apprch_bside": 1.6,
         "hlth_happy": 2.5,
         "chat_often": 1.7,
         "rlns_safe": 4.2,
         "age": 8,
         "bside_dur": 3.7,
         "household": 0.9,
         "walk_aid": 1.8,
         "imm_status": 0.6,
         "bside_pre_muni": 0.8,
         "Nos. of Suites": 72,
         "Postal Code": "V6B 5X8",
         "Build Year": 1993,
         "Average Rent": 623.78,
         "neighbourhood": "Central Business District",
         "neigh_crime_rate": 27.6,
         "_deepnote_index_column": "BRIDGEVIEW PLACE"
        },
        {
         "num_resp": 16,
         "nbr_relation": 2,
         "food_worry": 1.4,
         "apprch_bside": 2.4,
         "hlth_happy": 2.7,
         "chat_often": 2,
         "rlns_safe": 3.6,
         "age": 8.3,
         "bside_dur": 3.3,
         "household": 0.9,
         "walk_aid": 1.7,
         "imm_status": 0.3,
         "bside_pre_muni": 0.9,
         "Nos. of Suites": 79,
         "Postal Code": "V5R 5V6",
         "Build Year": 1977,
         "Average Rent": 494.75,
         "neighbourhood": "Renfrew-Collingwood",
         "neigh_crime_rate": 5.8,
         "_deepnote_index_column": "COLLINGWOOD TOWER"
        },
        {
         "num_resp": 15,
         "nbr_relation": 2.2,
         "food_worry": 1.3,
         "apprch_bside": 1.9,
         "hlth_happy": 2.2,
         "chat_often": 2.2,
         "rlns_safe": 4.2,
         "age": 8.1,
         "bside_dur": 3.7,
         "household": 1,
         "walk_aid": 1.8,
         "imm_status": 0.6,
         "bside_pre_muni": 0.8,
         "Nos. of Suites": 45,
         "Postal Code": "V5R 5C6",
         "Build Year": 1993,
         "Average Rent": 494.49,
         "neighbourhood": "Renfrew-Collingwood",
         "neigh_crime_rate": 5.8,
         "_deepnote_index_column": "LIONS VIEW BLDG I"
        }
       ],
       "rows_bottom": null
      },
      "text/plain": "                   num_resp  nbr_relation  food_worry  apprch_bside  \\\nlocation                                                              \nBRIDGEVIEW PLACE         24           2.1         1.2           1.6   \nCOLLINGWOOD TOWER        16           2.0         1.4           2.4   \nLIONS VIEW BLDG I        15           2.2         1.3           1.9   \n\n                   hlth_happy  chat_often  rlns_safe  age  bside_dur  \\\nlocation                                                               \nBRIDGEVIEW PLACE          2.5         1.7        4.2  8.0        3.7   \nCOLLINGWOOD TOWER         2.7         2.0        3.6  8.3        3.3   \nLIONS VIEW BLDG I         2.2         2.2        4.2  8.1        3.7   \n\n                   household  walk_aid  imm_status  bside_pre_muni  \\\nlocation                                                             \nBRIDGEVIEW PLACE         0.9       1.8         0.6             0.8   \nCOLLINGWOOD TOWER        0.9       1.7         0.3             0.9   \nLIONS VIEW BLDG I        1.0       1.8         0.6             0.8   \n\n                   Nos. of Suites Postal Code  Build Year  Average Rent  \\\nlocation                                                                  \nBRIDGEVIEW PLACE               72     V6B 5X8      1993.0        623.78   \nCOLLINGWOOD TOWER              79     V5R 5V6      1977.0        494.75   \nLIONS VIEW BLDG I              45     V5R 5C6      1993.0        494.49   \n\n                               neighbourhood  neigh_crime_rate  \nlocation                                                        \nBRIDGEVIEW PLACE   Central Business District              27.6  \nCOLLINGWOOD TOWER        Renfrew-Collingwood               5.8  \nLIONS VIEW BLDG I        Renfrew-Collingwood               5.8  ",
      "text/html": "<div>\n<style scoped>\n    .dataframe tbody tr th:only-of-type {\n        vertical-align: middle;\n    }\n\n    .dataframe tbody tr th {\n        vertical-align: top;\n    }\n\n    .dataframe thead th {\n        text-align: right;\n    }\n</style>\n<table border=\"1\" class=\"dataframe\">\n  <thead>\n    <tr style=\"text-align: right;\">\n      <th></th>\n      <th>num_resp</th>\n      <th>nbr_relation</th>\n      <th>food_worry</th>\n      <th>apprch_bside</th>\n      <th>hlth_happy</th>\n      <th>chat_often</th>\n      <th>rlns_safe</th>\n      <th>age</th>\n      <th>bside_dur</th>\n      <th>household</th>\n      <th>walk_aid</th>\n      <th>imm_status</th>\n      <th>bside_pre_muni</th>\n      <th>Nos. of Suites</th>\n      <th>Postal Code</th>\n      <th>Build Year</th>\n      <th>Average Rent</th>\n      <th>neighbourhood</th>\n      <th>neigh_crime_rate</th>\n    </tr>\n    <tr>\n      <th>location</th>\n      <th></th>\n      <th></th>\n      <th></th>\n      <th></th>\n      <th></th>\n      <th></th>\n      <th></th>\n      <th></th>\n      <th></th>\n      <th></th>\n      <th></th>\n      <th></th>\n      <th></th>\n      <th></th>\n      <th></th>\n      <th></th>\n      <th></th>\n      <th></th>\n      <th></th>\n    </tr>\n  </thead>\n  <tbody>\n    <tr>\n      <th>BRIDGEVIEW PLACE</th>\n      <td>24</td>\n      <td>2.1</td>\n      <td>1.2</td>\n      <td>1.6</td>\n      <td>2.5</td>\n      <td>1.7</td>\n      <td>4.2</td>\n      <td>8.0</td>\n      <td>3.7</td>\n      <td>0.9</td>\n      <td>1.8</td>\n      <td>0.6</td>\n      <td>0.8</td>\n      <td>72</td>\n      <td>V6B 5X8</td>\n      <td>1993.0</td>\n      <td>623.78</td>\n      <td>Central Business District</td>\n      <td>27.6</td>\n    </tr>\n    <tr>\n      <th>COLLINGWOOD TOWER</th>\n      <td>16</td>\n      <td>2.0</td>\n      <td>1.4</td>\n      <td>2.4</td>\n      <td>2.7</td>\n      <td>2.0</td>\n      <td>3.6</td>\n      <td>8.3</td>\n      <td>3.3</td>\n      <td>0.9</td>\n      <td>1.7</td>\n      <td>0.3</td>\n      <td>0.9</td>\n      <td>79</td>\n      <td>V5R 5V6</td>\n      <td>1977.0</td>\n      <td>494.75</td>\n      <td>Renfrew-Collingwood</td>\n      <td>5.8</td>\n    </tr>\n    <tr>\n      <th>LIONS VIEW BLDG I</th>\n      <td>15</td>\n      <td>2.2</td>\n      <td>1.3</td>\n      <td>1.9</td>\n      <td>2.2</td>\n      <td>2.2</td>\n      <td>4.2</td>\n      <td>8.1</td>\n      <td>3.7</td>\n      <td>1.0</td>\n      <td>1.8</td>\n      <td>0.6</td>\n      <td>0.8</td>\n      <td>45</td>\n      <td>V5R 5C6</td>\n      <td>1993.0</td>\n      <td>494.49</td>\n      <td>Renfrew-Collingwood</td>\n      <td>5.8</td>\n    </tr>\n  </tbody>\n</table>\n</div>"
     },
     "metadata": {}
    }
   ],
   "execution_count": 10
  },
  {
   "cell_type": "code",
   "source": "",
   "metadata": {
    "tags": [],
    "cell_id": "00006-c242cc79-2506-4e82-831c-99a8d3963dc5",
    "deepnote_cell_type": "code"
   },
   "outputs": [],
   "execution_count": null
  },
  {
   "cell_type": "markdown",
   "source": "<a style='text-decoration:none;line-height:16px;display:flex;color:#5B5B62;padding:10px;justify-content:end;' href='https://deepnote.com?utm_source=created-in-deepnote-cell&projectId=ec36858b-3dda-48ee-b585-815a2bd46f62' target=\"_blank\">\n<img alt='Created in deepnote.com' style='display:inline;max-height:16px;margin:0px;margin-right:7.5px;' src='data:image/svg+xml;base64,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' > </img>\nCreated in <span style='font-weight:600;margin-left:4px;'>Deepnote</span></a>",
   "metadata": {
    "tags": [],
    "created_in_deepnote_cell": true,
    "deepnote_cell_type": "markdown"
   }
  }
 ],
 "nbformat": 4,
 "nbformat_minor": 2,
 "metadata": {
  "orig_nbformat": 2,
  "deepnote": {
   "is_reactive": false
  },
  "deepnote_notebook_id": "3ac857d0-994a-4e07-a284-f93a514e8797",
  "deepnote_execution_queue": []
 }
}