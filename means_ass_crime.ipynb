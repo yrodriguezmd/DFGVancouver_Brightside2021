{
 "cells": [
  {
   "cell_type": "code",
   "metadata": {
    "tags": [],
    "cell_id": "00000-0a801273-0fc5-45d3-aff8-07dd8d5dae88",
    "deepnote_to_be_reexecuted": false,
    "source_hash": "371d4bb4",
    "execution_start": 1631147722402,
    "execution_millis": 59,
    "deepnote_cell_type": "code"
   },
   "source": "import pandas as pd\n\ndata = pd.read_csv('/work/means_ass')\ndata.drop('Unnamed: 0', axis=1, inplace=True)\ndata.head(3)",
   "execution_count": 4,
   "outputs": [
    {
     "output_type": "execute_result",
     "execution_count": 4,
     "data": {
      "application/vnd.deepnote.dataframe.v2+json": {
       "row_count": 3,
       "column_count": 18,
       "columns": [
        {
         "name": "location",
         "dtype": "object",
         "stats": {
          "unique_count": 3,
          "nan_count": 0,
          "categories": [
           {
            "name": "BRIDGEVIEW PLACE",
            "count": 1
           },
           {
            "name": "COLLINGWOOD TOWER",
            "count": 1
           },
           {
            "name": "LIONS VIEW BLDG I",
            "count": 1
           }
          ]
         }
        },
        {
         "name": "num_resp",
         "dtype": "int64",
         "stats": {
          "unique_count": 3,
          "nan_count": 0,
          "min": "15",
          "max": "24",
          "histogram": [
           {
            "bin_start": 15,
            "bin_end": 15.9,
            "count": 1
           },
           {
            "bin_start": 15.9,
            "bin_end": 16.8,
            "count": 1
           },
           {
            "bin_start": 16.8,
            "bin_end": 17.7,
            "count": 0
           },
           {
            "bin_start": 17.7,
            "bin_end": 18.6,
            "count": 0
           },
           {
            "bin_start": 18.6,
            "bin_end": 19.5,
            "count": 0
           },
           {
            "bin_start": 19.5,
            "bin_end": 20.4,
            "count": 0
           },
           {
            "bin_start": 20.4,
            "bin_end": 21.3,
            "count": 0
           },
           {
            "bin_start": 21.3,
            "bin_end": 22.2,
            "count": 0
           },
           {
            "bin_start": 22.2,
            "bin_end": 23.1,
            "count": 0
           },
           {
            "bin_start": 23.1,
            "bin_end": 24,
            "count": 1
           }
          ]
         }
        },
        {
         "name": "nbr_relation",
         "dtype": "float64",
         "stats": {
          "unique_count": 3,
          "nan_count": 0,
          "min": "2.0",
          "max": "2.2",
          "histogram": [
           {
            "bin_start": 2,
            "bin_end": 2.02,
            "count": 1
           },
           {
            "bin_start": 2.02,
            "bin_end": 2.04,
            "count": 0
           },
           {
            "bin_start": 2.04,
            "bin_end": 2.06,
            "count": 0
           },
           {
            "bin_start": 2.06,
            "bin_end": 2.08,
            "count": 0
           },
           {
            "bin_start": 2.08,
            "bin_end": 2.1,
            "count": 0
           },
           {
            "bin_start": 2.1,
            "bin_end": 2.12,
            "count": 1
           },
           {
            "bin_start": 2.12,
            "bin_end": 2.14,
            "count": 0
           },
           {
            "bin_start": 2.14,
            "bin_end": 2.16,
            "count": 0
           },
           {
            "bin_start": 2.16,
            "bin_end": 2.18,
            "count": 0
           },
           {
            "bin_start": 2.18,
            "bin_end": 2.2,
            "count": 1
           }
          ]
         }
        },
        {
         "name": "food_worry",
         "dtype": "float64",
         "stats": {
          "unique_count": 3,
          "nan_count": 0,
          "min": "1.2",
          "max": "1.4",
          "histogram": [
           {
            "bin_start": 1.2,
            "bin_end": 1.22,
            "count": 1
           },
           {
            "bin_start": 1.22,
            "bin_end": 1.24,
            "count": 0
           },
           {
            "bin_start": 1.24,
            "bin_end": 1.26,
            "count": 0
           },
           {
            "bin_start": 1.26,
            "bin_end": 1.28,
            "count": 0
           },
           {
            "bin_start": 1.28,
            "bin_end": 1.2999999999999998,
            "count": 0
           },
           {
            "bin_start": 1.2999999999999998,
            "bin_end": 1.3199999999999998,
            "count": 1
           },
           {
            "bin_start": 1.3199999999999998,
            "bin_end": 1.3399999999999999,
            "count": 0
           },
           {
            "bin_start": 1.3399999999999999,
            "bin_end": 1.3599999999999999,
            "count": 0
           },
           {
            "bin_start": 1.3599999999999999,
            "bin_end": 1.38,
            "count": 0
           },
           {
            "bin_start": 1.38,
            "bin_end": 1.4,
            "count": 1
           }
          ]
         }
        },
        {
         "name": "apprch_bside",
         "dtype": "float64",
         "stats": {
          "unique_count": 3,
          "nan_count": 0,
          "min": "1.6",
          "max": "2.4",
          "histogram": [
           {
            "bin_start": 1.6,
            "bin_end": 1.6800000000000002,
            "count": 1
           },
           {
            "bin_start": 1.6800000000000002,
            "bin_end": 1.76,
            "count": 0
           },
           {
            "bin_start": 1.76,
            "bin_end": 1.84,
            "count": 0
           },
           {
            "bin_start": 1.84,
            "bin_end": 1.92,
            "count": 1
           },
           {
            "bin_start": 1.92,
            "bin_end": 2,
            "count": 0
           },
           {
            "bin_start": 2,
            "bin_end": 2.08,
            "count": 0
           },
           {
            "bin_start": 2.08,
            "bin_end": 2.16,
            "count": 0
           },
           {
            "bin_start": 2.16,
            "bin_end": 2.24,
            "count": 0
           },
           {
            "bin_start": 2.24,
            "bin_end": 2.32,
            "count": 0
           },
           {
            "bin_start": 2.32,
            "bin_end": 2.4,
            "count": 1
           }
          ]
         }
        },
        {
         "name": "hlth_happy",
         "dtype": "float64",
         "stats": {
          "unique_count": 3,
          "nan_count": 0,
          "min": "2.2",
          "max": "2.7",
          "histogram": [
           {
            "bin_start": 2.2,
            "bin_end": 2.25,
            "count": 1
           },
           {
            "bin_start": 2.25,
            "bin_end": 2.3000000000000003,
            "count": 0
           },
           {
            "bin_start": 2.3000000000000003,
            "bin_end": 2.35,
            "count": 0
           },
           {
            "bin_start": 2.35,
            "bin_end": 2.4000000000000004,
            "count": 0
           },
           {
            "bin_start": 2.4000000000000004,
            "bin_end": 2.45,
            "count": 0
           },
           {
            "bin_start": 2.45,
            "bin_end": 2.5,
            "count": 0
           },
           {
            "bin_start": 2.5,
            "bin_end": 2.5500000000000003,
            "count": 1
           },
           {
            "bin_start": 2.5500000000000003,
            "bin_end": 2.6,
            "count": 0
           },
           {
            "bin_start": 2.6,
            "bin_end": 2.6500000000000004,
            "count": 0
           },
           {
            "bin_start": 2.6500000000000004,
            "bin_end": 2.7,
            "count": 1
           }
          ]
         }
        },
        {
         "name": "chat_often",
         "dtype": "float64",
         "stats": {
          "unique_count": 3,
          "nan_count": 0,
          "min": "1.7",
          "max": "2.2",
          "histogram": [
           {
            "bin_start": 1.7,
            "bin_end": 1.75,
            "count": 1
           },
           {
            "bin_start": 1.75,
            "bin_end": 1.8,
            "count": 0
           },
           {
            "bin_start": 1.8,
            "bin_end": 1.85,
            "count": 0
           },
           {
            "bin_start": 1.85,
            "bin_end": 1.9000000000000001,
            "count": 0
           },
           {
            "bin_start": 1.9000000000000001,
            "bin_end": 1.9500000000000002,
            "count": 0
           },
           {
            "bin_start": 1.9500000000000002,
            "bin_end": 2,
            "count": 0
           },
           {
            "bin_start": 2,
            "bin_end": 2.0500000000000003,
            "count": 1
           },
           {
            "bin_start": 2.0500000000000003,
            "bin_end": 2.1,
            "count": 0
           },
           {
            "bin_start": 2.1,
            "bin_end": 2.1500000000000004,
            "count": 0
           },
           {
            "bin_start": 2.1500000000000004,
            "bin_end": 2.2,
            "count": 1
           }
          ]
         }
        },
        {
         "name": "rlns_safe",
         "dtype": "float64",
         "stats": {
          "unique_count": 2,
          "nan_count": 0,
          "min": "3.6",
          "max": "4.2",
          "histogram": [
           {
            "bin_start": 3.6,
            "bin_end": 3.66,
            "count": 1
           },
           {
            "bin_start": 3.66,
            "bin_end": 3.72,
            "count": 0
           },
           {
            "bin_start": 3.72,
            "bin_end": 3.7800000000000002,
            "count": 0
           },
           {
            "bin_start": 3.7800000000000002,
            "bin_end": 3.8400000000000003,
            "count": 0
           },
           {
            "bin_start": 3.8400000000000003,
            "bin_end": 3.9000000000000004,
            "count": 0
           },
           {
            "bin_start": 3.9000000000000004,
            "bin_end": 3.96,
            "count": 0
           },
           {
            "bin_start": 3.96,
            "bin_end": 4.0200000000000005,
            "count": 0
           },
           {
            "bin_start": 4.0200000000000005,
            "bin_end": 4.08,
            "count": 0
           },
           {
            "bin_start": 4.08,
            "bin_end": 4.140000000000001,
            "count": 0
           },
           {
            "bin_start": 4.140000000000001,
            "bin_end": 4.2,
            "count": 2
           }
          ]
         }
        },
        {
         "name": "age",
         "dtype": "float64",
         "stats": {
          "unique_count": 3,
          "nan_count": 0,
          "min": "8.0",
          "max": "8.3",
          "histogram": [
           {
            "bin_start": 8,
            "bin_end": 8.03,
            "count": 1
           },
           {
            "bin_start": 8.03,
            "bin_end": 8.06,
            "count": 0
           },
           {
            "bin_start": 8.06,
            "bin_end": 8.09,
            "count": 0
           },
           {
            "bin_start": 8.09,
            "bin_end": 8.120000000000001,
            "count": 1
           },
           {
            "bin_start": 8.120000000000001,
            "bin_end": 8.15,
            "count": 0
           },
           {
            "bin_start": 8.15,
            "bin_end": 8.18,
            "count": 0
           },
           {
            "bin_start": 8.18,
            "bin_end": 8.21,
            "count": 0
           },
           {
            "bin_start": 8.21,
            "bin_end": 8.24,
            "count": 0
           },
           {
            "bin_start": 8.24,
            "bin_end": 8.270000000000001,
            "count": 0
           },
           {
            "bin_start": 8.270000000000001,
            "bin_end": 8.3,
            "count": 1
           }
          ]
         }
        },
        {
         "name": "bside_dur",
         "dtype": "float64",
         "stats": {
          "unique_count": 2,
          "nan_count": 0,
          "min": "3.3",
          "max": "3.7",
          "histogram": [
           {
            "bin_start": 3.3,
            "bin_end": 3.34,
            "count": 1
           },
           {
            "bin_start": 3.34,
            "bin_end": 3.38,
            "count": 0
           },
           {
            "bin_start": 3.38,
            "bin_end": 3.42,
            "count": 0
           },
           {
            "bin_start": 3.42,
            "bin_end": 3.46,
            "count": 0
           },
           {
            "bin_start": 3.46,
            "bin_end": 3.5,
            "count": 0
           },
           {
            "bin_start": 3.5,
            "bin_end": 3.54,
            "count": 0
           },
           {
            "bin_start": 3.54,
            "bin_end": 3.58,
            "count": 0
           },
           {
            "bin_start": 3.58,
            "bin_end": 3.62,
            "count": 0
           },
           {
            "bin_start": 3.62,
            "bin_end": 3.66,
            "count": 0
           },
           {
            "bin_start": 3.66,
            "bin_end": 3.7,
            "count": 2
           }
          ]
         }
        },
        {
         "name": "household",
         "dtype": "float64",
         "stats": {
          "unique_count": 2,
          "nan_count": 0,
          "min": "0.9",
          "max": "1.0",
          "histogram": [
           {
            "bin_start": 0.9,
            "bin_end": 0.91,
            "count": 2
           },
           {
            "bin_start": 0.91,
            "bin_end": 0.92,
            "count": 0
           },
           {
            "bin_start": 0.92,
            "bin_end": 0.93,
            "count": 0
           },
           {
            "bin_start": 0.93,
            "bin_end": 0.9400000000000001,
            "count": 0
           },
           {
            "bin_start": 0.9400000000000001,
            "bin_end": 0.95,
            "count": 0
           },
           {
            "bin_start": 0.95,
            "bin_end": 0.96,
            "count": 0
           },
           {
            "bin_start": 0.96,
            "bin_end": 0.97,
            "count": 0
           },
           {
            "bin_start": 0.97,
            "bin_end": 0.98,
            "count": 0
           },
           {
            "bin_start": 0.98,
            "bin_end": 0.99,
            "count": 0
           },
           {
            "bin_start": 0.99,
            "bin_end": 1,
            "count": 1
           }
          ]
         }
        },
        {
         "name": "walk_aid",
         "dtype": "float64",
         "stats": {
          "unique_count": 2,
          "nan_count": 0,
          "min": "1.7",
          "max": "1.8",
          "histogram": [
           {
            "bin_start": 1.7,
            "bin_end": 1.71,
            "count": 1
           },
           {
            "bin_start": 1.71,
            "bin_end": 1.72,
            "count": 0
           },
           {
            "bin_start": 1.72,
            "bin_end": 1.73,
            "count": 0
           },
           {
            "bin_start": 1.73,
            "bin_end": 1.74,
            "count": 0
           },
           {
            "bin_start": 1.74,
            "bin_end": 1.75,
            "count": 0
           },
           {
            "bin_start": 1.75,
            "bin_end": 1.76,
            "count": 0
           },
           {
            "bin_start": 1.76,
            "bin_end": 1.77,
            "count": 0
           },
           {
            "bin_start": 1.77,
            "bin_end": 1.78,
            "count": 0
           },
           {
            "bin_start": 1.78,
            "bin_end": 1.79,
            "count": 0
           },
           {
            "bin_start": 1.79,
            "bin_end": 1.8,
            "count": 2
           }
          ]
         }
        },
        {
         "name": "imm_status",
         "dtype": "float64",
         "stats": {
          "unique_count": 2,
          "nan_count": 0,
          "min": "0.3",
          "max": "0.6",
          "histogram": [
           {
            "bin_start": 0.3,
            "bin_end": 0.32999999999999996,
            "count": 1
           },
           {
            "bin_start": 0.32999999999999996,
            "bin_end": 0.36,
            "count": 0
           },
           {
            "bin_start": 0.36,
            "bin_end": 0.39,
            "count": 0
           },
           {
            "bin_start": 0.39,
            "bin_end": 0.42,
            "count": 0
           },
           {
            "bin_start": 0.42,
            "bin_end": 0.44999999999999996,
            "count": 0
           },
           {
            "bin_start": 0.44999999999999996,
            "bin_end": 0.48,
            "count": 0
           },
           {
            "bin_start": 0.48,
            "bin_end": 0.51,
            "count": 0
           },
           {
            "bin_start": 0.51,
            "bin_end": 0.54,
            "count": 0
           },
           {
            "bin_start": 0.54,
            "bin_end": 0.5700000000000001,
            "count": 0
           },
           {
            "bin_start": 0.5700000000000001,
            "bin_end": 0.6,
            "count": 2
           }
          ]
         }
        },
        {
         "name": "bside_pre_muni",
         "dtype": "float64",
         "stats": {
          "unique_count": 2,
          "nan_count": 0,
          "min": "0.8",
          "max": "0.9",
          "histogram": [
           {
            "bin_start": 0.8,
            "bin_end": 0.81,
            "count": 2
           },
           {
            "bin_start": 0.81,
            "bin_end": 0.8200000000000001,
            "count": 0
           },
           {
            "bin_start": 0.8200000000000001,
            "bin_end": 0.8300000000000001,
            "count": 0
           },
           {
            "bin_start": 0.8300000000000001,
            "bin_end": 0.8400000000000001,
            "count": 0
           },
           {
            "bin_start": 0.8400000000000001,
            "bin_end": 0.8500000000000001,
            "count": 0
           },
           {
            "bin_start": 0.8500000000000001,
            "bin_end": 0.86,
            "count": 0
           },
           {
            "bin_start": 0.86,
            "bin_end": 0.87,
            "count": 0
           },
           {
            "bin_start": 0.87,
            "bin_end": 0.88,
            "count": 0
           },
           {
            "bin_start": 0.88,
            "bin_end": 0.89,
            "count": 0
           },
           {
            "bin_start": 0.89,
            "bin_end": 0.9,
            "count": 1
           }
          ]
         }
        },
        {
         "name": "Nos. of Suites",
         "dtype": "int64",
         "stats": {
          "unique_count": 3,
          "nan_count": 0,
          "min": "45",
          "max": "79",
          "histogram": [
           {
            "bin_start": 45,
            "bin_end": 48.4,
            "count": 1
           },
           {
            "bin_start": 48.4,
            "bin_end": 51.8,
            "count": 0
           },
           {
            "bin_start": 51.8,
            "bin_end": 55.2,
            "count": 0
           },
           {
            "bin_start": 55.2,
            "bin_end": 58.6,
            "count": 0
           },
           {
            "bin_start": 58.6,
            "bin_end": 62,
            "count": 0
           },
           {
            "bin_start": 62,
            "bin_end": 65.4,
            "count": 0
           },
           {
            "bin_start": 65.4,
            "bin_end": 68.8,
            "count": 0
           },
           {
            "bin_start": 68.8,
            "bin_end": 72.2,
            "count": 1
           },
           {
            "bin_start": 72.2,
            "bin_end": 75.6,
            "count": 0
           },
           {
            "bin_start": 75.6,
            "bin_end": 79,
            "count": 1
           }
          ]
         }
        },
        {
         "name": "Postal Code",
         "dtype": "object",
         "stats": {
          "unique_count": 3,
          "nan_count": 0,
          "categories": [
           {
            "name": "V6B 5X8",
            "count": 1
           },
           {
            "name": "V5R 5V6",
            "count": 1
           },
           {
            "name": "V5R 5C6",
            "count": 1
           }
          ]
         }
        },
        {
         "name": "Build Year",
         "dtype": "float64",
         "stats": {
          "unique_count": 2,
          "nan_count": 0,
          "min": "1977.0",
          "max": "1993.0",
          "histogram": [
           {
            "bin_start": 1977,
            "bin_end": 1978.6,
            "count": 1
           },
           {
            "bin_start": 1978.6,
            "bin_end": 1980.2,
            "count": 0
           },
           {
            "bin_start": 1980.2,
            "bin_end": 1981.8,
            "count": 0
           },
           {
            "bin_start": 1981.8,
            "bin_end": 1983.4,
            "count": 0
           },
           {
            "bin_start": 1983.4,
            "bin_end": 1985,
            "count": 0
           },
           {
            "bin_start": 1985,
            "bin_end": 1986.6,
            "count": 0
           },
           {
            "bin_start": 1986.6,
            "bin_end": 1988.2,
            "count": 0
           },
           {
            "bin_start": 1988.2,
            "bin_end": 1989.8,
            "count": 0
           },
           {
            "bin_start": 1989.8,
            "bin_end": 1991.4,
            "count": 0
           },
           {
            "bin_start": 1991.4,
            "bin_end": 1993,
            "count": 2
           }
          ]
         }
        },
        {
         "name": "Average Rent",
         "dtype": "float64",
         "stats": {
          "unique_count": 3,
          "nan_count": 0,
          "min": "494.49",
          "max": "623.78",
          "histogram": [
           {
            "bin_start": 494.49,
            "bin_end": 507.419,
            "count": 2
           },
           {
            "bin_start": 507.419,
            "bin_end": 520.348,
            "count": 0
           },
           {
            "bin_start": 520.348,
            "bin_end": 533.277,
            "count": 0
           },
           {
            "bin_start": 533.277,
            "bin_end": 546.206,
            "count": 0
           },
           {
            "bin_start": 546.206,
            "bin_end": 559.135,
            "count": 0
           },
           {
            "bin_start": 559.135,
            "bin_end": 572.064,
            "count": 0
           },
           {
            "bin_start": 572.064,
            "bin_end": 584.9929999999999,
            "count": 0
           },
           {
            "bin_start": 584.9929999999999,
            "bin_end": 597.922,
            "count": 0
           },
           {
            "bin_start": 597.922,
            "bin_end": 610.851,
            "count": 0
           },
           {
            "bin_start": 610.851,
            "bin_end": 623.78,
            "count": 1
           }
          ]
         }
        },
        {
         "name": "_deepnote_index_column",
         "dtype": "int64"
        }
       ],
       "rows_top": [
        {
         "location": "BRIDGEVIEW PLACE",
         "num_resp": 24,
         "nbr_relation": 2.1,
         "food_worry": 1.2,
         "apprch_bside": 1.6,
         "hlth_happy": 2.5,
         "chat_often": 1.7,
         "rlns_safe": 4.2,
         "age": 8,
         "bside_dur": 3.7,
         "household": 0.9,
         "walk_aid": 1.8,
         "imm_status": 0.6,
         "bside_pre_muni": 0.8,
         "Nos. of Suites": 72,
         "Postal Code": "V6B 5X8",
         "Build Year": 1993,
         "Average Rent": 623.78,
         "_deepnote_index_column": 0
        },
        {
         "location": "COLLINGWOOD TOWER",
         "num_resp": 16,
         "nbr_relation": 2,
         "food_worry": 1.4,
         "apprch_bside": 2.4,
         "hlth_happy": 2.7,
         "chat_often": 2,
         "rlns_safe": 3.6,
         "age": 8.3,
         "bside_dur": 3.3,
         "household": 0.9,
         "walk_aid": 1.7,
         "imm_status": 0.3,
         "bside_pre_muni": 0.9,
         "Nos. of Suites": 79,
         "Postal Code": "V5R 5V6",
         "Build Year": 1977,
         "Average Rent": 494.75,
         "_deepnote_index_column": 1
        },
        {
         "location": "LIONS VIEW BLDG I",
         "num_resp": 15,
         "nbr_relation": 2.2,
         "food_worry": 1.3,
         "apprch_bside": 1.9,
         "hlth_happy": 2.2,
         "chat_often": 2.2,
         "rlns_safe": 4.2,
         "age": 8.1,
         "bside_dur": 3.7,
         "household": 1,
         "walk_aid": 1.8,
         "imm_status": 0.6,
         "bside_pre_muni": 0.8,
         "Nos. of Suites": 45,
         "Postal Code": "V5R 5C6",
         "Build Year": 1993,
         "Average Rent": 494.49,
         "_deepnote_index_column": 2
        }
       ],
       "rows_bottom": null
      },
      "text/plain": "            location  num_resp  nbr_relation  food_worry  apprch_bside  \\\n0   BRIDGEVIEW PLACE        24           2.1         1.2           1.6   \n1  COLLINGWOOD TOWER        16           2.0         1.4           2.4   \n2  LIONS VIEW BLDG I        15           2.2         1.3           1.9   \n\n   hlth_happy  chat_often  rlns_safe  age  bside_dur  household  walk_aid  \\\n0         2.5         1.7        4.2  8.0        3.7        0.9       1.8   \n1         2.7         2.0        3.6  8.3        3.3        0.9       1.7   \n2         2.2         2.2        4.2  8.1        3.7        1.0       1.8   \n\n   imm_status  bside_pre_muni  Nos. of Suites Postal Code  Build Year  \\\n0         0.6             0.8              72     V6B 5X8      1993.0   \n1         0.3             0.9              79     V5R 5V6      1977.0   \n2         0.6             0.8              45     V5R 5C6      1993.0   \n\n   Average Rent  \n0        623.78  \n1        494.75  \n2        494.49  ",
      "text/html": "<div>\n<style scoped>\n    .dataframe tbody tr th:only-of-type {\n        vertical-align: middle;\n    }\n\n    .dataframe tbody tr th {\n        vertical-align: top;\n    }\n\n    .dataframe thead th {\n        text-align: right;\n    }\n</style>\n<table border=\"1\" class=\"dataframe\">\n  <thead>\n    <tr style=\"text-align: right;\">\n      <th></th>\n      <th>location</th>\n      <th>num_resp</th>\n      <th>nbr_relation</th>\n      <th>food_worry</th>\n      <th>apprch_bside</th>\n      <th>hlth_happy</th>\n      <th>chat_often</th>\n      <th>rlns_safe</th>\n      <th>age</th>\n      <th>bside_dur</th>\n      <th>household</th>\n      <th>walk_aid</th>\n      <th>imm_status</th>\n      <th>bside_pre_muni</th>\n      <th>Nos. of Suites</th>\n      <th>Postal Code</th>\n      <th>Build Year</th>\n      <th>Average Rent</th>\n    </tr>\n  </thead>\n  <tbody>\n    <tr>\n      <th>0</th>\n      <td>BRIDGEVIEW PLACE</td>\n      <td>24</td>\n      <td>2.1</td>\n      <td>1.2</td>\n      <td>1.6</td>\n      <td>2.5</td>\n      <td>1.7</td>\n      <td>4.2</td>\n      <td>8.0</td>\n      <td>3.7</td>\n      <td>0.9</td>\n      <td>1.8</td>\n      <td>0.6</td>\n      <td>0.8</td>\n      <td>72</td>\n      <td>V6B 5X8</td>\n      <td>1993.0</td>\n      <td>623.78</td>\n    </tr>\n    <tr>\n      <th>1</th>\n      <td>COLLINGWOOD TOWER</td>\n      <td>16</td>\n      <td>2.0</td>\n      <td>1.4</td>\n      <td>2.4</td>\n      <td>2.7</td>\n      <td>2.0</td>\n      <td>3.6</td>\n      <td>8.3</td>\n      <td>3.3</td>\n      <td>0.9</td>\n      <td>1.7</td>\n      <td>0.3</td>\n      <td>0.9</td>\n      <td>79</td>\n      <td>V5R 5V6</td>\n      <td>1977.0</td>\n      <td>494.75</td>\n    </tr>\n    <tr>\n      <th>2</th>\n      <td>LIONS VIEW BLDG I</td>\n      <td>15</td>\n      <td>2.2</td>\n      <td>1.3</td>\n      <td>1.9</td>\n      <td>2.2</td>\n      <td>2.2</td>\n      <td>4.2</td>\n      <td>8.1</td>\n      <td>3.7</td>\n      <td>1.0</td>\n      <td>1.8</td>\n      <td>0.6</td>\n      <td>0.8</td>\n      <td>45</td>\n      <td>V5R 5C6</td>\n      <td>1993.0</td>\n      <td>494.49</td>\n    </tr>\n  </tbody>\n</table>\n</div>"
     },
     "metadata": {}
    }
   ]
  },
  {
   "cell_type": "code",
   "source": "data['neighbourhood'] = data['Postal Code']\ndata.neighbourhood.replace({'V5R 5C6': 'Renfrew-Collingwood',\n                            'V5Z 1B3' : 'Fairview',\n                            'V6G 1K1' :  'Stanley Park',\n                            'V6K 1L9': 'Kitsilano',\n                            'V5T 1J9': 'Mount Pleasant',\n                            'V6B 5X8': 'Central Business District',\n                            'V5K 4X8': 'Hastings-Sunrise',\n                            'V6K 3M8': 'Kitsilano',\n                            'V5R 2K6': 'Renfrew-Collingwood',\n                            'V5R 5V6': 'Renfrew-Collingwood',\n                            'V5R 3N3': 'Rendrew-Collingwood',\n                            'V5N 5X1': 'Grandview-Woodland',\n                            'V6J 1P8': 'Kitsilano',\n                            'V5N 2A1': 'Grandview-Woodland',\n                            'V6E 1R2': 'West End',\n                            'V6E 1S2': 'West End',\n                            'V5N 1Y6': 'Kensington-Cedar Cottage',\n                            'V5R 4S2': 'Renfrew-Collingwood',\n                            'V6H 2S2': 'Fairview',\n                            'V6P 4W9': 'Marpole',\n                            'V5N 2B6': 'Kensington-Cedar Cottage',\n                            'V5P 1K5': 'Victoria-Fraserview',\n                            'V5N 1P3': 'Grandview-Woodland',\n                            'V6M 3Y1': 'Kerrisdale'\n\n                            }, inplace=True)",
   "metadata": {
    "tags": [],
    "cell_id": "00001-3f171bfc-843b-4925-868c-0bda130fab55",
    "deepnote_to_be_reexecuted": false,
    "source_hash": "1c0c8222",
    "execution_start": 1631147898163,
    "execution_millis": 1,
    "deepnote_cell_type": "code"
   },
   "outputs": [],
   "execution_count": 6
  },
  {
   "cell_type": "code",
   "source": "data.head(3)",
   "metadata": {
    "tags": [],
    "cell_id": "00002-68105032-87ef-4eee-baef-f7a2a791f700",
    "deepnote_to_be_reexecuted": false,
    "source_hash": "da627bf6",
    "execution_start": 1631147904663,
    "execution_millis": 56,
    "deepnote_cell_type": "code"
   },
   "outputs": [
    {
     "output_type": "execute_result",
     "execution_count": 7,
     "data": {
      "application/vnd.deepnote.dataframe.v2+json": {
       "row_count": 3,
       "column_count": 19,
       "columns": [
        {
         "name": "location",
         "dtype": "object",
         "stats": {
          "unique_count": 3,
          "nan_count": 0,
          "categories": [
           {
            "name": "BRIDGEVIEW PLACE",
            "count": 1
           },
           {
            "name": "COLLINGWOOD TOWER",
            "count": 1
           },
           {
            "name": "LIONS VIEW BLDG I",
            "count": 1
           }
          ]
         }
        },
        {
         "name": "num_resp",
         "dtype": "int64",
         "stats": {
          "unique_count": 3,
          "nan_count": 0,
          "min": "15",
          "max": "24",
          "histogram": [
           {
            "bin_start": 15,
            "bin_end": 15.9,
            "count": 1
           },
           {
            "bin_start": 15.9,
            "bin_end": 16.8,
            "count": 1
           },
           {
            "bin_start": 16.8,
            "bin_end": 17.7,
            "count": 0
           },
           {
            "bin_start": 17.7,
            "bin_end": 18.6,
            "count": 0
           },
           {
            "bin_start": 18.6,
            "bin_end": 19.5,
            "count": 0
           },
           {
            "bin_start": 19.5,
            "bin_end": 20.4,
            "count": 0
           },
           {
            "bin_start": 20.4,
            "bin_end": 21.3,
            "count": 0
           },
           {
            "bin_start": 21.3,
            "bin_end": 22.2,
            "count": 0
           },
           {
            "bin_start": 22.2,
            "bin_end": 23.1,
            "count": 0
           },
           {
            "bin_start": 23.1,
            "bin_end": 24,
            "count": 1
           }
          ]
         }
        },
        {
         "name": "nbr_relation",
         "dtype": "float64",
         "stats": {
          "unique_count": 3,
          "nan_count": 0,
          "min": "2.0",
          "max": "2.2",
          "histogram": [
           {
            "bin_start": 2,
            "bin_end": 2.02,
            "count": 1
           },
           {
            "bin_start": 2.02,
            "bin_end": 2.04,
            "count": 0
           },
           {
            "bin_start": 2.04,
            "bin_end": 2.06,
            "count": 0
           },
           {
            "bin_start": 2.06,
            "bin_end": 2.08,
            "count": 0
           },
           {
            "bin_start": 2.08,
            "bin_end": 2.1,
            "count": 0
           },
           {
            "bin_start": 2.1,
            "bin_end": 2.12,
            "count": 1
           },
           {
            "bin_start": 2.12,
            "bin_end": 2.14,
            "count": 0
           },
           {
            "bin_start": 2.14,
            "bin_end": 2.16,
            "count": 0
           },
           {
            "bin_start": 2.16,
            "bin_end": 2.18,
            "count": 0
           },
           {
            "bin_start": 2.18,
            "bin_end": 2.2,
            "count": 1
           }
          ]
         }
        },
        {
         "name": "food_worry",
         "dtype": "float64",
         "stats": {
          "unique_count": 3,
          "nan_count": 0,
          "min": "1.2",
          "max": "1.4",
          "histogram": [
           {
            "bin_start": 1.2,
            "bin_end": 1.22,
            "count": 1
           },
           {
            "bin_start": 1.22,
            "bin_end": 1.24,
            "count": 0
           },
           {
            "bin_start": 1.24,
            "bin_end": 1.26,
            "count": 0
           },
           {
            "bin_start": 1.26,
            "bin_end": 1.28,
            "count": 0
           },
           {
            "bin_start": 1.28,
            "bin_end": 1.2999999999999998,
            "count": 0
           },
           {
            "bin_start": 1.2999999999999998,
            "bin_end": 1.3199999999999998,
            "count": 1
           },
           {
            "bin_start": 1.3199999999999998,
            "bin_end": 1.3399999999999999,
            "count": 0
           },
           {
            "bin_start": 1.3399999999999999,
            "bin_end": 1.3599999999999999,
            "count": 0
           },
           {
            "bin_start": 1.3599999999999999,
            "bin_end": 1.38,
            "count": 0
           },
           {
            "bin_start": 1.38,
            "bin_end": 1.4,
            "count": 1
           }
          ]
         }
        },
        {
         "name": "apprch_bside",
         "dtype": "float64",
         "stats": {
          "unique_count": 3,
          "nan_count": 0,
          "min": "1.6",
          "max": "2.4",
          "histogram": [
           {
            "bin_start": 1.6,
            "bin_end": 1.6800000000000002,
            "count": 1
           },
           {
            "bin_start": 1.6800000000000002,
            "bin_end": 1.76,
            "count": 0
           },
           {
            "bin_start": 1.76,
            "bin_end": 1.84,
            "count": 0
           },
           {
            "bin_start": 1.84,
            "bin_end": 1.92,
            "count": 1
           },
           {
            "bin_start": 1.92,
            "bin_end": 2,
            "count": 0
           },
           {
            "bin_start": 2,
            "bin_end": 2.08,
            "count": 0
           },
           {
            "bin_start": 2.08,
            "bin_end": 2.16,
            "count": 0
           },
           {
            "bin_start": 2.16,
            "bin_end": 2.24,
            "count": 0
           },
           {
            "bin_start": 2.24,
            "bin_end": 2.32,
            "count": 0
           },
           {
            "bin_start": 2.32,
            "bin_end": 2.4,
            "count": 1
           }
          ]
         }
        },
        {
         "name": "hlth_happy",
         "dtype": "float64",
         "stats": {
          "unique_count": 3,
          "nan_count": 0,
          "min": "2.2",
          "max": "2.7",
          "histogram": [
           {
            "bin_start": 2.2,
            "bin_end": 2.25,
            "count": 1
           },
           {
            "bin_start": 2.25,
            "bin_end": 2.3000000000000003,
            "count": 0
           },
           {
            "bin_start": 2.3000000000000003,
            "bin_end": 2.35,
            "count": 0
           },
           {
            "bin_start": 2.35,
            "bin_end": 2.4000000000000004,
            "count": 0
           },
           {
            "bin_start": 2.4000000000000004,
            "bin_end": 2.45,
            "count": 0
           },
           {
            "bin_start": 2.45,
            "bin_end": 2.5,
            "count": 0
           },
           {
            "bin_start": 2.5,
            "bin_end": 2.5500000000000003,
            "count": 1
           },
           {
            "bin_start": 2.5500000000000003,
            "bin_end": 2.6,
            "count": 0
           },
           {
            "bin_start": 2.6,
            "bin_end": 2.6500000000000004,
            "count": 0
           },
           {
            "bin_start": 2.6500000000000004,
            "bin_end": 2.7,
            "count": 1
           }
          ]
         }
        },
        {
         "name": "chat_often",
         "dtype": "float64",
         "stats": {
          "unique_count": 3,
          "nan_count": 0,
          "min": "1.7",
          "max": "2.2",
          "histogram": [
           {
            "bin_start": 1.7,
            "bin_end": 1.75,
            "count": 1
           },
           {
            "bin_start": 1.75,
            "bin_end": 1.8,
            "count": 0
           },
           {
            "bin_start": 1.8,
            "bin_end": 1.85,
            "count": 0
           },
           {
            "bin_start": 1.85,
            "bin_end": 1.9000000000000001,
            "count": 0
           },
           {
            "bin_start": 1.9000000000000001,
            "bin_end": 1.9500000000000002,
            "count": 0
           },
           {
            "bin_start": 1.9500000000000002,
            "bin_end": 2,
            "count": 0
           },
           {
            "bin_start": 2,
            "bin_end": 2.0500000000000003,
            "count": 1
           },
           {
            "bin_start": 2.0500000000000003,
            "bin_end": 2.1,
            "count": 0
           },
           {
            "bin_start": 2.1,
            "bin_end": 2.1500000000000004,
            "count": 0
           },
           {
            "bin_start": 2.1500000000000004,
            "bin_end": 2.2,
            "count": 1
           }
          ]
         }
        },
        {
         "name": "rlns_safe",
         "dtype": "float64",
         "stats": {
          "unique_count": 2,
          "nan_count": 0,
          "min": "3.6",
          "max": "4.2",
          "histogram": [
           {
            "bin_start": 3.6,
            "bin_end": 3.66,
            "count": 1
           },
           {
            "bin_start": 3.66,
            "bin_end": 3.72,
            "count": 0
           },
           {
            "bin_start": 3.72,
            "bin_end": 3.7800000000000002,
            "count": 0
           },
           {
            "bin_start": 3.7800000000000002,
            "bin_end": 3.8400000000000003,
            "count": 0
           },
           {
            "bin_start": 3.8400000000000003,
            "bin_end": 3.9000000000000004,
            "count": 0
           },
           {
            "bin_start": 3.9000000000000004,
            "bin_end": 3.96,
            "count": 0
           },
           {
            "bin_start": 3.96,
            "bin_end": 4.0200000000000005,
            "count": 0
           },
           {
            "bin_start": 4.0200000000000005,
            "bin_end": 4.08,
            "count": 0
           },
           {
            "bin_start": 4.08,
            "bin_end": 4.140000000000001,
            "count": 0
           },
           {
            "bin_start": 4.140000000000001,
            "bin_end": 4.2,
            "count": 2
           }
          ]
         }
        },
        {
         "name": "age",
         "dtype": "float64",
         "stats": {
          "unique_count": 3,
          "nan_count": 0,
          "min": "8.0",
          "max": "8.3",
          "histogram": [
           {
            "bin_start": 8,
            "bin_end": 8.03,
            "count": 1
           },
           {
            "bin_start": 8.03,
            "bin_end": 8.06,
            "count": 0
           },
           {
            "bin_start": 8.06,
            "bin_end": 8.09,
            "count": 0
           },
           {
            "bin_start": 8.09,
            "bin_end": 8.120000000000001,
            "count": 1
           },
           {
            "bin_start": 8.120000000000001,
            "bin_end": 8.15,
            "count": 0
           },
           {
            "bin_start": 8.15,
            "bin_end": 8.18,
            "count": 0
           },
           {
            "bin_start": 8.18,
            "bin_end": 8.21,
            "count": 0
           },
           {
            "bin_start": 8.21,
            "bin_end": 8.24,
            "count": 0
           },
           {
            "bin_start": 8.24,
            "bin_end": 8.270000000000001,
            "count": 0
           },
           {
            "bin_start": 8.270000000000001,
            "bin_end": 8.3,
            "count": 1
           }
          ]
         }
        },
        {
         "name": "bside_dur",
         "dtype": "float64",
         "stats": {
          "unique_count": 2,
          "nan_count": 0,
          "min": "3.3",
          "max": "3.7",
          "histogram": [
           {
            "bin_start": 3.3,
            "bin_end": 3.34,
            "count": 1
           },
           {
            "bin_start": 3.34,
            "bin_end": 3.38,
            "count": 0
           },
           {
            "bin_start": 3.38,
            "bin_end": 3.42,
            "count": 0
           },
           {
            "bin_start": 3.42,
            "bin_end": 3.46,
            "count": 0
           },
           {
            "bin_start": 3.46,
            "bin_end": 3.5,
            "count": 0
           },
           {
            "bin_start": 3.5,
            "bin_end": 3.54,
            "count": 0
           },
           {
            "bin_start": 3.54,
            "bin_end": 3.58,
            "count": 0
           },
           {
            "bin_start": 3.58,
            "bin_end": 3.62,
            "count": 0
           },
           {
            "bin_start": 3.62,
            "bin_end": 3.66,
            "count": 0
           },
           {
            "bin_start": 3.66,
            "bin_end": 3.7,
            "count": 2
           }
          ]
         }
        },
        {
         "name": "household",
         "dtype": "float64",
         "stats": {
          "unique_count": 2,
          "nan_count": 0,
          "min": "0.9",
          "max": "1.0",
          "histogram": [
           {
            "bin_start": 0.9,
            "bin_end": 0.91,
            "count": 2
           },
           {
            "bin_start": 0.91,
            "bin_end": 0.92,
            "count": 0
           },
           {
            "bin_start": 0.92,
            "bin_end": 0.93,
            "count": 0
           },
           {
            "bin_start": 0.93,
            "bin_end": 0.9400000000000001,
            "count": 0
           },
           {
            "bin_start": 0.9400000000000001,
            "bin_end": 0.95,
            "count": 0
           },
           {
            "bin_start": 0.95,
            "bin_end": 0.96,
            "count": 0
           },
           {
            "bin_start": 0.96,
            "bin_end": 0.97,
            "count": 0
           },
           {
            "bin_start": 0.97,
            "bin_end": 0.98,
            "count": 0
           },
           {
            "bin_start": 0.98,
            "bin_end": 0.99,
            "count": 0
           },
           {
            "bin_start": 0.99,
            "bin_end": 1,
            "count": 1
           }
          ]
         }
        },
        {
         "name": "walk_aid",
         "dtype": "float64",
         "stats": {
          "unique_count": 2,
          "nan_count": 0,
          "min": "1.7",
          "max": "1.8",
          "histogram": [
           {
            "bin_start": 1.7,
            "bin_end": 1.71,
            "count": 1
           },
           {
            "bin_start": 1.71,
            "bin_end": 1.72,
            "count": 0
           },
           {
            "bin_start": 1.72,
            "bin_end": 1.73,
            "count": 0
           },
           {
            "bin_start": 1.73,
            "bin_end": 1.74,
            "count": 0
           },
           {
            "bin_start": 1.74,
            "bin_end": 1.75,
            "count": 0
           },
           {
            "bin_start": 1.75,
            "bin_end": 1.76,
            "count": 0
           },
           {
            "bin_start": 1.76,
            "bin_end": 1.77,
            "count": 0
           },
           {
            "bin_start": 1.77,
            "bin_end": 1.78,
            "count": 0
           },
           {
            "bin_start": 1.78,
            "bin_end": 1.79,
            "count": 0
           },
           {
            "bin_start": 1.79,
            "bin_end": 1.8,
            "count": 2
           }
          ]
         }
        },
        {
         "name": "imm_status",
         "dtype": "float64",
         "stats": {
          "unique_count": 2,
          "nan_count": 0,
          "min": "0.3",
          "max": "0.6",
          "histogram": [
           {
            "bin_start": 0.3,
            "bin_end": 0.32999999999999996,
            "count": 1
           },
           {
            "bin_start": 0.32999999999999996,
            "bin_end": 0.36,
            "count": 0
           },
           {
            "bin_start": 0.36,
            "bin_end": 0.39,
            "count": 0
           },
           {
            "bin_start": 0.39,
            "bin_end": 0.42,
            "count": 0
           },
           {
            "bin_start": 0.42,
            "bin_end": 0.44999999999999996,
            "count": 0
           },
           {
            "bin_start": 0.44999999999999996,
            "bin_end": 0.48,
            "count": 0
           },
           {
            "bin_start": 0.48,
            "bin_end": 0.51,
            "count": 0
           },
           {
            "bin_start": 0.51,
            "bin_end": 0.54,
            "count": 0
           },
           {
            "bin_start": 0.54,
            "bin_end": 0.5700000000000001,
            "count": 0
           },
           {
            "bin_start": 0.5700000000000001,
            "bin_end": 0.6,
            "count": 2
           }
          ]
         }
        },
        {
         "name": "bside_pre_muni",
         "dtype": "float64",
         "stats": {
          "unique_count": 2,
          "nan_count": 0,
          "min": "0.8",
          "max": "0.9",
          "histogram": [
           {
            "bin_start": 0.8,
            "bin_end": 0.81,
            "count": 2
           },
           {
            "bin_start": 0.81,
            "bin_end": 0.8200000000000001,
            "count": 0
           },
           {
            "bin_start": 0.8200000000000001,
            "bin_end": 0.8300000000000001,
            "count": 0
           },
           {
            "bin_start": 0.8300000000000001,
            "bin_end": 0.8400000000000001,
            "count": 0
           },
           {
            "bin_start": 0.8400000000000001,
            "bin_end": 0.8500000000000001,
            "count": 0
           },
           {
            "bin_start": 0.8500000000000001,
            "bin_end": 0.86,
            "count": 0
           },
           {
            "bin_start": 0.86,
            "bin_end": 0.87,
            "count": 0
           },
           {
            "bin_start": 0.87,
            "bin_end": 0.88,
            "count": 0
           },
           {
            "bin_start": 0.88,
            "bin_end": 0.89,
            "count": 0
           },
           {
            "bin_start": 0.89,
            "bin_end": 0.9,
            "count": 1
           }
          ]
         }
        },
        {
         "name": "Nos. of Suites",
         "dtype": "int64",
         "stats": {
          "unique_count": 3,
          "nan_count": 0,
          "min": "45",
          "max": "79",
          "histogram": [
           {
            "bin_start": 45,
            "bin_end": 48.4,
            "count": 1
           },
           {
            "bin_start": 48.4,
            "bin_end": 51.8,
            "count": 0
           },
           {
            "bin_start": 51.8,
            "bin_end": 55.2,
            "count": 0
           },
           {
            "bin_start": 55.2,
            "bin_end": 58.6,
            "count": 0
           },
           {
            "bin_start": 58.6,
            "bin_end": 62,
            "count": 0
           },
           {
            "bin_start": 62,
            "bin_end": 65.4,
            "count": 0
           },
           {
            "bin_start": 65.4,
            "bin_end": 68.8,
            "count": 0
           },
           {
            "bin_start": 68.8,
            "bin_end": 72.2,
            "count": 1
           },
           {
            "bin_start": 72.2,
            "bin_end": 75.6,
            "count": 0
           },
           {
            "bin_start": 75.6,
            "bin_end": 79,
            "count": 1
           }
          ]
         }
        },
        {
         "name": "Postal Code",
         "dtype": "object",
         "stats": {
          "unique_count": 3,
          "nan_count": 0,
          "categories": [
           {
            "name": "V6B 5X8",
            "count": 1
           },
           {
            "name": "V5R 5V6",
            "count": 1
           },
           {
            "name": "V5R 5C6",
            "count": 1
           }
          ]
         }
        },
        {
         "name": "Build Year",
         "dtype": "float64",
         "stats": {
          "unique_count": 2,
          "nan_count": 0,
          "min": "1977.0",
          "max": "1993.0",
          "histogram": [
           {
            "bin_start": 1977,
            "bin_end": 1978.6,
            "count": 1
           },
           {
            "bin_start": 1978.6,
            "bin_end": 1980.2,
            "count": 0
           },
           {
            "bin_start": 1980.2,
            "bin_end": 1981.8,
            "count": 0
           },
           {
            "bin_start": 1981.8,
            "bin_end": 1983.4,
            "count": 0
           },
           {
            "bin_start": 1983.4,
            "bin_end": 1985,
            "count": 0
           },
           {
            "bin_start": 1985,
            "bin_end": 1986.6,
            "count": 0
           },
           {
            "bin_start": 1986.6,
            "bin_end": 1988.2,
            "count": 0
           },
           {
            "bin_start": 1988.2,
            "bin_end": 1989.8,
            "count": 0
           },
           {
            "bin_start": 1989.8,
            "bin_end": 1991.4,
            "count": 0
           },
           {
            "bin_start": 1991.4,
            "bin_end": 1993,
            "count": 2
           }
          ]
         }
        },
        {
         "name": "Average Rent",
         "dtype": "float64",
         "stats": {
          "unique_count": 3,
          "nan_count": 0,
          "min": "494.49",
          "max": "623.78",
          "histogram": [
           {
            "bin_start": 494.49,
            "bin_end": 507.419,
            "count": 2
           },
           {
            "bin_start": 507.419,
            "bin_end": 520.348,
            "count": 0
           },
           {
            "bin_start": 520.348,
            "bin_end": 533.277,
            "count": 0
           },
           {
            "bin_start": 533.277,
            "bin_end": 546.206,
            "count": 0
           },
           {
            "bin_start": 546.206,
            "bin_end": 559.135,
            "count": 0
           },
           {
            "bin_start": 559.135,
            "bin_end": 572.064,
            "count": 0
           },
           {
            "bin_start": 572.064,
            "bin_end": 584.9929999999999,
            "count": 0
           },
           {
            "bin_start": 584.9929999999999,
            "bin_end": 597.922,
            "count": 0
           },
           {
            "bin_start": 597.922,
            "bin_end": 610.851,
            "count": 0
           },
           {
            "bin_start": 610.851,
            "bin_end": 623.78,
            "count": 1
           }
          ]
         }
        },
        {
         "name": "neighbourhood",
         "dtype": "object",
         "stats": {
          "unique_count": 2,
          "nan_count": 0,
          "categories": [
           {
            "name": "Renfrew-Collingwood",
            "count": 2
           },
           {
            "name": "Central Business District",
            "count": 1
           }
          ]
         }
        },
        {
         "name": "_deepnote_index_column",
         "dtype": "int64"
        }
       ],
       "rows_top": [
        {
         "location": "BRIDGEVIEW PLACE",
         "num_resp": 24,
         "nbr_relation": 2.1,
         "food_worry": 1.2,
         "apprch_bside": 1.6,
         "hlth_happy": 2.5,
         "chat_often": 1.7,
         "rlns_safe": 4.2,
         "age": 8,
         "bside_dur": 3.7,
         "household": 0.9,
         "walk_aid": 1.8,
         "imm_status": 0.6,
         "bside_pre_muni": 0.8,
         "Nos. of Suites": 72,
         "Postal Code": "V6B 5X8",
         "Build Year": 1993,
         "Average Rent": 623.78,
         "neighbourhood": "Central Business District",
         "_deepnote_index_column": 0
        },
        {
         "location": "COLLINGWOOD TOWER",
         "num_resp": 16,
         "nbr_relation": 2,
         "food_worry": 1.4,
         "apprch_bside": 2.4,
         "hlth_happy": 2.7,
         "chat_often": 2,
         "rlns_safe": 3.6,
         "age": 8.3,
         "bside_dur": 3.3,
         "household": 0.9,
         "walk_aid": 1.7,
         "imm_status": 0.3,
         "bside_pre_muni": 0.9,
         "Nos. of Suites": 79,
         "Postal Code": "V5R 5V6",
         "Build Year": 1977,
         "Average Rent": 494.75,
         "neighbourhood": "Renfrew-Collingwood",
         "_deepnote_index_column": 1
        },
        {
         "location": "LIONS VIEW BLDG I",
         "num_resp": 15,
         "nbr_relation": 2.2,
         "food_worry": 1.3,
         "apprch_bside": 1.9,
         "hlth_happy": 2.2,
         "chat_often": 2.2,
         "rlns_safe": 4.2,
         "age": 8.1,
         "bside_dur": 3.7,
         "household": 1,
         "walk_aid": 1.8,
         "imm_status": 0.6,
         "bside_pre_muni": 0.8,
         "Nos. of Suites": 45,
         "Postal Code": "V5R 5C6",
         "Build Year": 1993,
         "Average Rent": 494.49,
         "neighbourhood": "Renfrew-Collingwood",
         "_deepnote_index_column": 2
        }
       ],
       "rows_bottom": null
      },
      "text/plain": "            location  num_resp  nbr_relation  food_worry  apprch_bside  \\\n0   BRIDGEVIEW PLACE        24           2.1         1.2           1.6   \n1  COLLINGWOOD TOWER        16           2.0         1.4           2.4   \n2  LIONS VIEW BLDG I        15           2.2         1.3           1.9   \n\n   hlth_happy  chat_often  rlns_safe  age  bside_dur  household  walk_aid  \\\n0         2.5         1.7        4.2  8.0        3.7        0.9       1.8   \n1         2.7         2.0        3.6  8.3        3.3        0.9       1.7   \n2         2.2         2.2        4.2  8.1        3.7        1.0       1.8   \n\n   imm_status  bside_pre_muni  Nos. of Suites Postal Code  Build Year  \\\n0         0.6             0.8              72     V6B 5X8      1993.0   \n1         0.3             0.9              79     V5R 5V6      1977.0   \n2         0.6             0.8              45     V5R 5C6      1993.0   \n\n   Average Rent              neighbourhood  \n0        623.78  Central Business District  \n1        494.75        Renfrew-Collingwood  \n2        494.49        Renfrew-Collingwood  ",
      "text/html": "<div>\n<style scoped>\n    .dataframe tbody tr th:only-of-type {\n        vertical-align: middle;\n    }\n\n    .dataframe tbody tr th {\n        vertical-align: top;\n    }\n\n    .dataframe thead th {\n        text-align: right;\n    }\n</style>\n<table border=\"1\" class=\"dataframe\">\n  <thead>\n    <tr style=\"text-align: right;\">\n      <th></th>\n      <th>location</th>\n      <th>num_resp</th>\n      <th>nbr_relation</th>\n      <th>food_worry</th>\n      <th>apprch_bside</th>\n      <th>hlth_happy</th>\n      <th>chat_often</th>\n      <th>rlns_safe</th>\n      <th>age</th>\n      <th>bside_dur</th>\n      <th>household</th>\n      <th>walk_aid</th>\n      <th>imm_status</th>\n      <th>bside_pre_muni</th>\n      <th>Nos. of Suites</th>\n      <th>Postal Code</th>\n      <th>Build Year</th>\n      <th>Average Rent</th>\n      <th>neighbourhood</th>\n    </tr>\n  </thead>\n  <tbody>\n    <tr>\n      <th>0</th>\n      <td>BRIDGEVIEW PLACE</td>\n      <td>24</td>\n      <td>2.1</td>\n      <td>1.2</td>\n      <td>1.6</td>\n      <td>2.5</td>\n      <td>1.7</td>\n      <td>4.2</td>\n      <td>8.0</td>\n      <td>3.7</td>\n      <td>0.9</td>\n      <td>1.8</td>\n      <td>0.6</td>\n      <td>0.8</td>\n      <td>72</td>\n      <td>V6B 5X8</td>\n      <td>1993.0</td>\n      <td>623.78</td>\n      <td>Central Business District</td>\n    </tr>\n    <tr>\n      <th>1</th>\n      <td>COLLINGWOOD TOWER</td>\n      <td>16</td>\n      <td>2.0</td>\n      <td>1.4</td>\n      <td>2.4</td>\n      <td>2.7</td>\n      <td>2.0</td>\n      <td>3.6</td>\n      <td>8.3</td>\n      <td>3.3</td>\n      <td>0.9</td>\n      <td>1.7</td>\n      <td>0.3</td>\n      <td>0.9</td>\n      <td>79</td>\n      <td>V5R 5V6</td>\n      <td>1977.0</td>\n      <td>494.75</td>\n      <td>Renfrew-Collingwood</td>\n    </tr>\n    <tr>\n      <th>2</th>\n      <td>LIONS VIEW BLDG I</td>\n      <td>15</td>\n      <td>2.2</td>\n      <td>1.3</td>\n      <td>1.9</td>\n      <td>2.2</td>\n      <td>2.2</td>\n      <td>4.2</td>\n      <td>8.1</td>\n      <td>3.7</td>\n      <td>1.0</td>\n      <td>1.8</td>\n      <td>0.6</td>\n      <td>0.8</td>\n      <td>45</td>\n      <td>V5R 5C6</td>\n      <td>1993.0</td>\n      <td>494.49</td>\n      <td>Renfrew-Collingwood</td>\n    </tr>\n  </tbody>\n</table>\n</div>"
     },
     "metadata": {}
    }
   ],
   "execution_count": 7
  },
  {
   "cell_type": "code",
   "source": "crime = pd.read_csv('/work/Geographic Factors/crime.csv')\ncrime.head(3)",
   "metadata": {
    "tags": [],
    "cell_id": "00003-e88ee11f-9319-4bc3-871f-b5dc1c41efe5",
    "deepnote_to_be_reexecuted": false,
    "source_hash": "b99fd124",
    "execution_start": 1631147954004,
    "execution_millis": 20,
    "deepnote_cell_type": "code"
   },
   "outputs": [
    {
     "output_type": "execute_result",
     "execution_count": 8,
     "data": {
      "application/vnd.deepnote.dataframe.v2+json": {
       "row_count": 3,
       "column_count": 2,
       "columns": [
        {
         "name": "NEIGHBOURHOOD",
         "dtype": "object",
         "stats": {
          "unique_count": 3,
          "nan_count": 0,
          "categories": [
           {
            "name": "Arbutus Ridge",
            "count": 1
           },
           {
            "name": "Central Business District",
            "count": 1
           },
           {
            "name": "Dunbar-Southlands",
            "count": 1
           }
          ]
         }
        },
        {
         "name": "TYPE",
         "dtype": "float64",
         "stats": {
          "unique_count": 3,
          "nan_count": 0,
          "min": "1.0",
          "max": "27.6",
          "histogram": [
           {
            "bin_start": 1,
            "bin_end": 3.66,
            "count": 2
           },
           {
            "bin_start": 3.66,
            "bin_end": 6.32,
            "count": 0
           },
           {
            "bin_start": 6.32,
            "bin_end": 8.98,
            "count": 0
           },
           {
            "bin_start": 8.98,
            "bin_end": 11.64,
            "count": 0
           },
           {
            "bin_start": 11.64,
            "bin_end": 14.3,
            "count": 0
           },
           {
            "bin_start": 14.3,
            "bin_end": 16.96,
            "count": 0
           },
           {
            "bin_start": 16.96,
            "bin_end": 19.62,
            "count": 0
           },
           {
            "bin_start": 19.62,
            "bin_end": 22.28,
            "count": 0
           },
           {
            "bin_start": 22.28,
            "bin_end": 24.94,
            "count": 0
           },
           {
            "bin_start": 24.94,
            "bin_end": 27.6,
            "count": 1
           }
          ]
         }
        },
        {
         "name": "_deepnote_index_column",
         "dtype": "int64"
        }
       ],
       "rows_top": [
        {
         "NEIGHBOURHOOD": "Arbutus Ridge",
         "TYPE": 1,
         "_deepnote_index_column": 0
        },
        {
         "NEIGHBOURHOOD": "Central Business District",
         "TYPE": 27.6,
         "_deepnote_index_column": 1
        },
        {
         "NEIGHBOURHOOD": "Dunbar-Southlands",
         "TYPE": 1.4,
         "_deepnote_index_column": 2
        }
       ],
       "rows_bottom": null
      },
      "text/plain": "               NEIGHBOURHOOD  TYPE\n0              Arbutus Ridge   1.0\n1  Central Business District  27.6\n2          Dunbar-Southlands   1.4",
      "text/html": "<div>\n<style scoped>\n    .dataframe tbody tr th:only-of-type {\n        vertical-align: middle;\n    }\n\n    .dataframe tbody tr th {\n        vertical-align: top;\n    }\n\n    .dataframe thead th {\n        text-align: right;\n    }\n</style>\n<table border=\"1\" class=\"dataframe\">\n  <thead>\n    <tr style=\"text-align: right;\">\n      <th></th>\n      <th>NEIGHBOURHOOD</th>\n      <th>TYPE</th>\n    </tr>\n  </thead>\n  <tbody>\n    <tr>\n      <th>0</th>\n      <td>Arbutus Ridge</td>\n      <td>1.0</td>\n    </tr>\n    <tr>\n      <th>1</th>\n      <td>Central Business District</td>\n      <td>27.6</td>\n    </tr>\n    <tr>\n      <th>2</th>\n      <td>Dunbar-Southlands</td>\n      <td>1.4</td>\n    </tr>\n  </tbody>\n</table>\n</div>"
     },
     "metadata": {}
    }
   ],
   "execution_count": 8
  },
  {
   "cell_type": "code",
   "source": "crime.rename(columns = {'NEIGHBOURHOOD': 'neighbourhood',\n'TYPE':'crime_rate'}, inplace=True)\n\ncrime.head(1)",
   "metadata": {
    "tags": [],
    "cell_id": "00004-bb803e1a-55e5-4854-b988-d56bd3b6925a",
    "deepnote_to_be_reexecuted": false,
    "source_hash": "a66d76a0",
    "execution_start": 1631148026724,
    "execution_millis": 7,
    "deepnote_cell_type": "code"
   },
   "outputs": [
    {
     "output_type": "execute_result",
     "execution_count": 9,
     "data": {
      "application/vnd.deepnote.dataframe.v2+json": {
       "row_count": 1,
       "column_count": 2,
       "columns": [
        {
         "name": "neighbourhood",
         "dtype": "object",
         "stats": {
          "unique_count": 1,
          "nan_count": 0,
          "categories": [
           {
            "name": "Arbutus Ridge",
            "count": 1
           }
          ]
         }
        },
        {
         "name": "crime_rate",
         "dtype": "float64",
         "stats": {
          "unique_count": 1,
          "nan_count": 0,
          "min": "1.0",
          "max": "1.0",
          "histogram": [
           {
            "bin_start": 0.5,
            "bin_end": 0.6,
            "count": 0
           },
           {
            "bin_start": 0.6,
            "bin_end": 0.7,
            "count": 0
           },
           {
            "bin_start": 0.7,
            "bin_end": 0.8,
            "count": 0
           },
           {
            "bin_start": 0.8,
            "bin_end": 0.9,
            "count": 0
           },
           {
            "bin_start": 0.9,
            "bin_end": 1,
            "count": 0
           },
           {
            "bin_start": 1,
            "bin_end": 1.1,
            "count": 1
           },
           {
            "bin_start": 1.1,
            "bin_end": 1.2000000000000002,
            "count": 0
           },
           {
            "bin_start": 1.2000000000000002,
            "bin_end": 1.3,
            "count": 0
           },
           {
            "bin_start": 1.3,
            "bin_end": 1.4,
            "count": 0
           },
           {
            "bin_start": 1.4,
            "bin_end": 1.5,
            "count": 0
           }
          ]
         }
        },
        {
         "name": "_deepnote_index_column",
         "dtype": "int64"
        }
       ],
       "rows_top": [
        {
         "neighbourhood": "Arbutus Ridge",
         "crime_rate": 1,
         "_deepnote_index_column": 0
        }
       ],
       "rows_bottom": null
      },
      "text/plain": "   neighbourhood  crime_rate\n0  Arbutus Ridge         1.0",
      "text/html": "<div>\n<style scoped>\n    .dataframe tbody tr th:only-of-type {\n        vertical-align: middle;\n    }\n\n    .dataframe tbody tr th {\n        vertical-align: top;\n    }\n\n    .dataframe thead th {\n        text-align: right;\n    }\n</style>\n<table border=\"1\" class=\"dataframe\">\n  <thead>\n    <tr style=\"text-align: right;\">\n      <th></th>\n      <th>neighbourhood</th>\n      <th>crime_rate</th>\n    </tr>\n  </thead>\n  <tbody>\n    <tr>\n      <th>0</th>\n      <td>Arbutus Ridge</td>\n      <td>1.0</td>\n    </tr>\n  </tbody>\n</table>\n</div>"
     },
     "metadata": {}
    }
   ],
   "execution_count": 9
  },
  {
   "cell_type": "code",
   "source": "data2 = data.merge(crime, on = 'neighbourhood')\ndata2.rename(columns ={'crime_rate': 'neigh_crime_rate'},inplace=True)\ndata2.head(3)",
   "metadata": {
    "tags": [],
    "cell_id": "00005-9c4a3c94-690a-4705-93d3-5675f1e18f59",
    "deepnote_to_be_reexecuted": false,
    "source_hash": "f5c68764",
    "execution_start": 1631148205461,
    "execution_millis": 30,
    "deepnote_cell_type": "code"
   },
   "outputs": [
    {
     "output_type": "execute_result",
     "execution_count": 12,
     "data": {
      "application/vnd.deepnote.dataframe.v2+json": {
       "row_count": 3,
       "column_count": 20,
       "columns": [
        {
         "name": "location",
         "dtype": "object",
         "stats": {
          "unique_count": 3,
          "nan_count": 0,
          "categories": [
           {
            "name": "BRIDGEVIEW PLACE",
            "count": 1
           },
           {
            "name": "COLLINGWOOD TOWER",
            "count": 1
           },
           {
            "name": "LIONS VIEW BLDG I",
            "count": 1
           }
          ]
         }
        },
        {
         "name": "num_resp",
         "dtype": "int64",
         "stats": {
          "unique_count": 3,
          "nan_count": 0,
          "min": "15",
          "max": "24",
          "histogram": [
           {
            "bin_start": 15,
            "bin_end": 15.9,
            "count": 1
           },
           {
            "bin_start": 15.9,
            "bin_end": 16.8,
            "count": 1
           },
           {
            "bin_start": 16.8,
            "bin_end": 17.7,
            "count": 0
           },
           {
            "bin_start": 17.7,
            "bin_end": 18.6,
            "count": 0
           },
           {
            "bin_start": 18.6,
            "bin_end": 19.5,
            "count": 0
           },
           {
            "bin_start": 19.5,
            "bin_end": 20.4,
            "count": 0
           },
           {
            "bin_start": 20.4,
            "bin_end": 21.3,
            "count": 0
           },
           {
            "bin_start": 21.3,
            "bin_end": 22.2,
            "count": 0
           },
           {
            "bin_start": 22.2,
            "bin_end": 23.1,
            "count": 0
           },
           {
            "bin_start": 23.1,
            "bin_end": 24,
            "count": 1
           }
          ]
         }
        },
        {
         "name": "nbr_relation",
         "dtype": "float64",
         "stats": {
          "unique_count": 3,
          "nan_count": 0,
          "min": "2.0",
          "max": "2.2",
          "histogram": [
           {
            "bin_start": 2,
            "bin_end": 2.02,
            "count": 1
           },
           {
            "bin_start": 2.02,
            "bin_end": 2.04,
            "count": 0
           },
           {
            "bin_start": 2.04,
            "bin_end": 2.06,
            "count": 0
           },
           {
            "bin_start": 2.06,
            "bin_end": 2.08,
            "count": 0
           },
           {
            "bin_start": 2.08,
            "bin_end": 2.1,
            "count": 0
           },
           {
            "bin_start": 2.1,
            "bin_end": 2.12,
            "count": 1
           },
           {
            "bin_start": 2.12,
            "bin_end": 2.14,
            "count": 0
           },
           {
            "bin_start": 2.14,
            "bin_end": 2.16,
            "count": 0
           },
           {
            "bin_start": 2.16,
            "bin_end": 2.18,
            "count": 0
           },
           {
            "bin_start": 2.18,
            "bin_end": 2.2,
            "count": 1
           }
          ]
         }
        },
        {
         "name": "food_worry",
         "dtype": "float64",
         "stats": {
          "unique_count": 3,
          "nan_count": 0,
          "min": "1.2",
          "max": "1.4",
          "histogram": [
           {
            "bin_start": 1.2,
            "bin_end": 1.22,
            "count": 1
           },
           {
            "bin_start": 1.22,
            "bin_end": 1.24,
            "count": 0
           },
           {
            "bin_start": 1.24,
            "bin_end": 1.26,
            "count": 0
           },
           {
            "bin_start": 1.26,
            "bin_end": 1.28,
            "count": 0
           },
           {
            "bin_start": 1.28,
            "bin_end": 1.2999999999999998,
            "count": 0
           },
           {
            "bin_start": 1.2999999999999998,
            "bin_end": 1.3199999999999998,
            "count": 1
           },
           {
            "bin_start": 1.3199999999999998,
            "bin_end": 1.3399999999999999,
            "count": 0
           },
           {
            "bin_start": 1.3399999999999999,
            "bin_end": 1.3599999999999999,
            "count": 0
           },
           {
            "bin_start": 1.3599999999999999,
            "bin_end": 1.38,
            "count": 0
           },
           {
            "bin_start": 1.38,
            "bin_end": 1.4,
            "count": 1
           }
          ]
         }
        },
        {
         "name": "apprch_bside",
         "dtype": "float64",
         "stats": {
          "unique_count": 3,
          "nan_count": 0,
          "min": "1.6",
          "max": "2.4",
          "histogram": [
           {
            "bin_start": 1.6,
            "bin_end": 1.6800000000000002,
            "count": 1
           },
           {
            "bin_start": 1.6800000000000002,
            "bin_end": 1.76,
            "count": 0
           },
           {
            "bin_start": 1.76,
            "bin_end": 1.84,
            "count": 0
           },
           {
            "bin_start": 1.84,
            "bin_end": 1.92,
            "count": 1
           },
           {
            "bin_start": 1.92,
            "bin_end": 2,
            "count": 0
           },
           {
            "bin_start": 2,
            "bin_end": 2.08,
            "count": 0
           },
           {
            "bin_start": 2.08,
            "bin_end": 2.16,
            "count": 0
           },
           {
            "bin_start": 2.16,
            "bin_end": 2.24,
            "count": 0
           },
           {
            "bin_start": 2.24,
            "bin_end": 2.32,
            "count": 0
           },
           {
            "bin_start": 2.32,
            "bin_end": 2.4,
            "count": 1
           }
          ]
         }
        },
        {
         "name": "hlth_happy",
         "dtype": "float64",
         "stats": {
          "unique_count": 3,
          "nan_count": 0,
          "min": "2.2",
          "max": "2.7",
          "histogram": [
           {
            "bin_start": 2.2,
            "bin_end": 2.25,
            "count": 1
           },
           {
            "bin_start": 2.25,
            "bin_end": 2.3000000000000003,
            "count": 0
           },
           {
            "bin_start": 2.3000000000000003,
            "bin_end": 2.35,
            "count": 0
           },
           {
            "bin_start": 2.35,
            "bin_end": 2.4000000000000004,
            "count": 0
           },
           {
            "bin_start": 2.4000000000000004,
            "bin_end": 2.45,
            "count": 0
           },
           {
            "bin_start": 2.45,
            "bin_end": 2.5,
            "count": 0
           },
           {
            "bin_start": 2.5,
            "bin_end": 2.5500000000000003,
            "count": 1
           },
           {
            "bin_start": 2.5500000000000003,
            "bin_end": 2.6,
            "count": 0
           },
           {
            "bin_start": 2.6,
            "bin_end": 2.6500000000000004,
            "count": 0
           },
           {
            "bin_start": 2.6500000000000004,
            "bin_end": 2.7,
            "count": 1
           }
          ]
         }
        },
        {
         "name": "chat_often",
         "dtype": "float64",
         "stats": {
          "unique_count": 3,
          "nan_count": 0,
          "min": "1.7",
          "max": "2.2",
          "histogram": [
           {
            "bin_start": 1.7,
            "bin_end": 1.75,
            "count": 1
           },
           {
            "bin_start": 1.75,
            "bin_end": 1.8,
            "count": 0
           },
           {
            "bin_start": 1.8,
            "bin_end": 1.85,
            "count": 0
           },
           {
            "bin_start": 1.85,
            "bin_end": 1.9000000000000001,
            "count": 0
           },
           {
            "bin_start": 1.9000000000000001,
            "bin_end": 1.9500000000000002,
            "count": 0
           },
           {
            "bin_start": 1.9500000000000002,
            "bin_end": 2,
            "count": 0
           },
           {
            "bin_start": 2,
            "bin_end": 2.0500000000000003,
            "count": 1
           },
           {
            "bin_start": 2.0500000000000003,
            "bin_end": 2.1,
            "count": 0
           },
           {
            "bin_start": 2.1,
            "bin_end": 2.1500000000000004,
            "count": 0
           },
           {
            "bin_start": 2.1500000000000004,
            "bin_end": 2.2,
            "count": 1
           }
          ]
         }
        },
        {
         "name": "rlns_safe",
         "dtype": "float64",
         "stats": {
          "unique_count": 2,
          "nan_count": 0,
          "min": "3.6",
          "max": "4.2",
          "histogram": [
           {
            "bin_start": 3.6,
            "bin_end": 3.66,
            "count": 1
           },
           {
            "bin_start": 3.66,
            "bin_end": 3.72,
            "count": 0
           },
           {
            "bin_start": 3.72,
            "bin_end": 3.7800000000000002,
            "count": 0
           },
           {
            "bin_start": 3.7800000000000002,
            "bin_end": 3.8400000000000003,
            "count": 0
           },
           {
            "bin_start": 3.8400000000000003,
            "bin_end": 3.9000000000000004,
            "count": 0
           },
           {
            "bin_start": 3.9000000000000004,
            "bin_end": 3.96,
            "count": 0
           },
           {
            "bin_start": 3.96,
            "bin_end": 4.0200000000000005,
            "count": 0
           },
           {
            "bin_start": 4.0200000000000005,
            "bin_end": 4.08,
            "count": 0
           },
           {
            "bin_start": 4.08,
            "bin_end": 4.140000000000001,
            "count": 0
           },
           {
            "bin_start": 4.140000000000001,
            "bin_end": 4.2,
            "count": 2
           }
          ]
         }
        },
        {
         "name": "age",
         "dtype": "float64",
         "stats": {
          "unique_count": 3,
          "nan_count": 0,
          "min": "8.0",
          "max": "8.3",
          "histogram": [
           {
            "bin_start": 8,
            "bin_end": 8.03,
            "count": 1
           },
           {
            "bin_start": 8.03,
            "bin_end": 8.06,
            "count": 0
           },
           {
            "bin_start": 8.06,
            "bin_end": 8.09,
            "count": 0
           },
           {
            "bin_start": 8.09,
            "bin_end": 8.120000000000001,
            "count": 1
           },
           {
            "bin_start": 8.120000000000001,
            "bin_end": 8.15,
            "count": 0
           },
           {
            "bin_start": 8.15,
            "bin_end": 8.18,
            "count": 0
           },
           {
            "bin_start": 8.18,
            "bin_end": 8.21,
            "count": 0
           },
           {
            "bin_start": 8.21,
            "bin_end": 8.24,
            "count": 0
           },
           {
            "bin_start": 8.24,
            "bin_end": 8.270000000000001,
            "count": 0
           },
           {
            "bin_start": 8.270000000000001,
            "bin_end": 8.3,
            "count": 1
           }
          ]
         }
        },
        {
         "name": "bside_dur",
         "dtype": "float64",
         "stats": {
          "unique_count": 2,
          "nan_count": 0,
          "min": "3.3",
          "max": "3.7",
          "histogram": [
           {
            "bin_start": 3.3,
            "bin_end": 3.34,
            "count": 1
           },
           {
            "bin_start": 3.34,
            "bin_end": 3.38,
            "count": 0
           },
           {
            "bin_start": 3.38,
            "bin_end": 3.42,
            "count": 0
           },
           {
            "bin_start": 3.42,
            "bin_end": 3.46,
            "count": 0
           },
           {
            "bin_start": 3.46,
            "bin_end": 3.5,
            "count": 0
           },
           {
            "bin_start": 3.5,
            "bin_end": 3.54,
            "count": 0
           },
           {
            "bin_start": 3.54,
            "bin_end": 3.58,
            "count": 0
           },
           {
            "bin_start": 3.58,
            "bin_end": 3.62,
            "count": 0
           },
           {
            "bin_start": 3.62,
            "bin_end": 3.66,
            "count": 0
           },
           {
            "bin_start": 3.66,
            "bin_end": 3.7,
            "count": 2
           }
          ]
         }
        },
        {
         "name": "household",
         "dtype": "float64",
         "stats": {
          "unique_count": 2,
          "nan_count": 0,
          "min": "0.9",
          "max": "1.0",
          "histogram": [
           {
            "bin_start": 0.9,
            "bin_end": 0.91,
            "count": 2
           },
           {
            "bin_start": 0.91,
            "bin_end": 0.92,
            "count": 0
           },
           {
            "bin_start": 0.92,
            "bin_end": 0.93,
            "count": 0
           },
           {
            "bin_start": 0.93,
            "bin_end": 0.9400000000000001,
            "count": 0
           },
           {
            "bin_start": 0.9400000000000001,
            "bin_end": 0.95,
            "count": 0
           },
           {
            "bin_start": 0.95,
            "bin_end": 0.96,
            "count": 0
           },
           {
            "bin_start": 0.96,
            "bin_end": 0.97,
            "count": 0
           },
           {
            "bin_start": 0.97,
            "bin_end": 0.98,
            "count": 0
           },
           {
            "bin_start": 0.98,
            "bin_end": 0.99,
            "count": 0
           },
           {
            "bin_start": 0.99,
            "bin_end": 1,
            "count": 1
           }
          ]
         }
        },
        {
         "name": "walk_aid",
         "dtype": "float64",
         "stats": {
          "unique_count": 2,
          "nan_count": 0,
          "min": "1.7",
          "max": "1.8",
          "histogram": [
           {
            "bin_start": 1.7,
            "bin_end": 1.71,
            "count": 1
           },
           {
            "bin_start": 1.71,
            "bin_end": 1.72,
            "count": 0
           },
           {
            "bin_start": 1.72,
            "bin_end": 1.73,
            "count": 0
           },
           {
            "bin_start": 1.73,
            "bin_end": 1.74,
            "count": 0
           },
           {
            "bin_start": 1.74,
            "bin_end": 1.75,
            "count": 0
           },
           {
            "bin_start": 1.75,
            "bin_end": 1.76,
            "count": 0
           },
           {
            "bin_start": 1.76,
            "bin_end": 1.77,
            "count": 0
           },
           {
            "bin_start": 1.77,
            "bin_end": 1.78,
            "count": 0
           },
           {
            "bin_start": 1.78,
            "bin_end": 1.79,
            "count": 0
           },
           {
            "bin_start": 1.79,
            "bin_end": 1.8,
            "count": 2
           }
          ]
         }
        },
        {
         "name": "imm_status",
         "dtype": "float64",
         "stats": {
          "unique_count": 2,
          "nan_count": 0,
          "min": "0.3",
          "max": "0.6",
          "histogram": [
           {
            "bin_start": 0.3,
            "bin_end": 0.32999999999999996,
            "count": 1
           },
           {
            "bin_start": 0.32999999999999996,
            "bin_end": 0.36,
            "count": 0
           },
           {
            "bin_start": 0.36,
            "bin_end": 0.39,
            "count": 0
           },
           {
            "bin_start": 0.39,
            "bin_end": 0.42,
            "count": 0
           },
           {
            "bin_start": 0.42,
            "bin_end": 0.44999999999999996,
            "count": 0
           },
           {
            "bin_start": 0.44999999999999996,
            "bin_end": 0.48,
            "count": 0
           },
           {
            "bin_start": 0.48,
            "bin_end": 0.51,
            "count": 0
           },
           {
            "bin_start": 0.51,
            "bin_end": 0.54,
            "count": 0
           },
           {
            "bin_start": 0.54,
            "bin_end": 0.5700000000000001,
            "count": 0
           },
           {
            "bin_start": 0.5700000000000001,
            "bin_end": 0.6,
            "count": 2
           }
          ]
         }
        },
        {
         "name": "bside_pre_muni",
         "dtype": "float64",
         "stats": {
          "unique_count": 2,
          "nan_count": 0,
          "min": "0.8",
          "max": "0.9",
          "histogram": [
           {
            "bin_start": 0.8,
            "bin_end": 0.81,
            "count": 2
           },
           {
            "bin_start": 0.81,
            "bin_end": 0.8200000000000001,
            "count": 0
           },
           {
            "bin_start": 0.8200000000000001,
            "bin_end": 0.8300000000000001,
            "count": 0
           },
           {
            "bin_start": 0.8300000000000001,
            "bin_end": 0.8400000000000001,
            "count": 0
           },
           {
            "bin_start": 0.8400000000000001,
            "bin_end": 0.8500000000000001,
            "count": 0
           },
           {
            "bin_start": 0.8500000000000001,
            "bin_end": 0.86,
            "count": 0
           },
           {
            "bin_start": 0.86,
            "bin_end": 0.87,
            "count": 0
           },
           {
            "bin_start": 0.87,
            "bin_end": 0.88,
            "count": 0
           },
           {
            "bin_start": 0.88,
            "bin_end": 0.89,
            "count": 0
           },
           {
            "bin_start": 0.89,
            "bin_end": 0.9,
            "count": 1
           }
          ]
         }
        },
        {
         "name": "Nos. of Suites",
         "dtype": "int64",
         "stats": {
          "unique_count": 3,
          "nan_count": 0,
          "min": "45",
          "max": "79",
          "histogram": [
           {
            "bin_start": 45,
            "bin_end": 48.4,
            "count": 1
           },
           {
            "bin_start": 48.4,
            "bin_end": 51.8,
            "count": 0
           },
           {
            "bin_start": 51.8,
            "bin_end": 55.2,
            "count": 0
           },
           {
            "bin_start": 55.2,
            "bin_end": 58.6,
            "count": 0
           },
           {
            "bin_start": 58.6,
            "bin_end": 62,
            "count": 0
           },
           {
            "bin_start": 62,
            "bin_end": 65.4,
            "count": 0
           },
           {
            "bin_start": 65.4,
            "bin_end": 68.8,
            "count": 0
           },
           {
            "bin_start": 68.8,
            "bin_end": 72.2,
            "count": 1
           },
           {
            "bin_start": 72.2,
            "bin_end": 75.6,
            "count": 0
           },
           {
            "bin_start": 75.6,
            "bin_end": 79,
            "count": 1
           }
          ]
         }
        },
        {
         "name": "Postal Code",
         "dtype": "object",
         "stats": {
          "unique_count": 3,
          "nan_count": 0,
          "categories": [
           {
            "name": "V6B 5X8",
            "count": 1
           },
           {
            "name": "V5R 5V6",
            "count": 1
           },
           {
            "name": "V5R 5C6",
            "count": 1
           }
          ]
         }
        },
        {
         "name": "Build Year",
         "dtype": "float64",
         "stats": {
          "unique_count": 2,
          "nan_count": 0,
          "min": "1977.0",
          "max": "1993.0",
          "histogram": [
           {
            "bin_start": 1977,
            "bin_end": 1978.6,
            "count": 1
           },
           {
            "bin_start": 1978.6,
            "bin_end": 1980.2,
            "count": 0
           },
           {
            "bin_start": 1980.2,
            "bin_end": 1981.8,
            "count": 0
           },
           {
            "bin_start": 1981.8,
            "bin_end": 1983.4,
            "count": 0
           },
           {
            "bin_start": 1983.4,
            "bin_end": 1985,
            "count": 0
           },
           {
            "bin_start": 1985,
            "bin_end": 1986.6,
            "count": 0
           },
           {
            "bin_start": 1986.6,
            "bin_end": 1988.2,
            "count": 0
           },
           {
            "bin_start": 1988.2,
            "bin_end": 1989.8,
            "count": 0
           },
           {
            "bin_start": 1989.8,
            "bin_end": 1991.4,
            "count": 0
           },
           {
            "bin_start": 1991.4,
            "bin_end": 1993,
            "count": 2
           }
          ]
         }
        },
        {
         "name": "Average Rent",
         "dtype": "float64",
         "stats": {
          "unique_count": 3,
          "nan_count": 0,
          "min": "494.49",
          "max": "623.78",
          "histogram": [
           {
            "bin_start": 494.49,
            "bin_end": 507.419,
            "count": 2
           },
           {
            "bin_start": 507.419,
            "bin_end": 520.348,
            "count": 0
           },
           {
            "bin_start": 520.348,
            "bin_end": 533.277,
            "count": 0
           },
           {
            "bin_start": 533.277,
            "bin_end": 546.206,
            "count": 0
           },
           {
            "bin_start": 546.206,
            "bin_end": 559.135,
            "count": 0
           },
           {
            "bin_start": 559.135,
            "bin_end": 572.064,
            "count": 0
           },
           {
            "bin_start": 572.064,
            "bin_end": 584.9929999999999,
            "count": 0
           },
           {
            "bin_start": 584.9929999999999,
            "bin_end": 597.922,
            "count": 0
           },
           {
            "bin_start": 597.922,
            "bin_end": 610.851,
            "count": 0
           },
           {
            "bin_start": 610.851,
            "bin_end": 623.78,
            "count": 1
           }
          ]
         }
        },
        {
         "name": "neighbourhood",
         "dtype": "object",
         "stats": {
          "unique_count": 2,
          "nan_count": 0,
          "categories": [
           {
            "name": "Renfrew-Collingwood",
            "count": 2
           },
           {
            "name": "Central Business District",
            "count": 1
           }
          ]
         }
        },
        {
         "name": "neigh_crime_rate",
         "dtype": "float64",
         "stats": {
          "unique_count": 2,
          "nan_count": 0,
          "min": "5.8",
          "max": "27.6",
          "histogram": [
           {
            "bin_start": 5.8,
            "bin_end": 7.98,
            "count": 2
           },
           {
            "bin_start": 7.98,
            "bin_end": 10.16,
            "count": 0
           },
           {
            "bin_start": 10.16,
            "bin_end": 12.34,
            "count": 0
           },
           {
            "bin_start": 12.34,
            "bin_end": 14.52,
            "count": 0
           },
           {
            "bin_start": 14.52,
            "bin_end": 16.7,
            "count": 0
           },
           {
            "bin_start": 16.7,
            "bin_end": 18.880000000000003,
            "count": 0
           },
           {
            "bin_start": 18.880000000000003,
            "bin_end": 21.060000000000002,
            "count": 0
           },
           {
            "bin_start": 21.060000000000002,
            "bin_end": 23.240000000000002,
            "count": 0
           },
           {
            "bin_start": 23.240000000000002,
            "bin_end": 25.42,
            "count": 0
           },
           {
            "bin_start": 25.42,
            "bin_end": 27.6,
            "count": 1
           }
          ]
         }
        },
        {
         "name": "_deepnote_index_column",
         "dtype": "int64"
        }
       ],
       "rows_top": [
        {
         "location": "BRIDGEVIEW PLACE",
         "num_resp": 24,
         "nbr_relation": 2.1,
         "food_worry": 1.2,
         "apprch_bside": 1.6,
         "hlth_happy": 2.5,
         "chat_often": 1.7,
         "rlns_safe": 4.2,
         "age": 8,
         "bside_dur": 3.7,
         "household": 0.9,
         "walk_aid": 1.8,
         "imm_status": 0.6,
         "bside_pre_muni": 0.8,
         "Nos. of Suites": 72,
         "Postal Code": "V6B 5X8",
         "Build Year": 1993,
         "Average Rent": 623.78,
         "neighbourhood": "Central Business District",
         "neigh_crime_rate": 27.6,
         "_deepnote_index_column": 0
        },
        {
         "location": "COLLINGWOOD TOWER",
         "num_resp": 16,
         "nbr_relation": 2,
         "food_worry": 1.4,
         "apprch_bside": 2.4,
         "hlth_happy": 2.7,
         "chat_often": 2,
         "rlns_safe": 3.6,
         "age": 8.3,
         "bside_dur": 3.3,
         "household": 0.9,
         "walk_aid": 1.7,
         "imm_status": 0.3,
         "bside_pre_muni": 0.9,
         "Nos. of Suites": 79,
         "Postal Code": "V5R 5V6",
         "Build Year": 1977,
         "Average Rent": 494.75,
         "neighbourhood": "Renfrew-Collingwood",
         "neigh_crime_rate": 5.8,
         "_deepnote_index_column": 1
        },
        {
         "location": "LIONS VIEW BLDG I",
         "num_resp": 15,
         "nbr_relation": 2.2,
         "food_worry": 1.3,
         "apprch_bside": 1.9,
         "hlth_happy": 2.2,
         "chat_often": 2.2,
         "rlns_safe": 4.2,
         "age": 8.1,
         "bside_dur": 3.7,
         "household": 1,
         "walk_aid": 1.8,
         "imm_status": 0.6,
         "bside_pre_muni": 0.8,
         "Nos. of Suites": 45,
         "Postal Code": "V5R 5C6",
         "Build Year": 1993,
         "Average Rent": 494.49,
         "neighbourhood": "Renfrew-Collingwood",
         "neigh_crime_rate": 5.8,
         "_deepnote_index_column": 2
        }
       ],
       "rows_bottom": null
      },
      "text/plain": "            location  num_resp  nbr_relation  food_worry  apprch_bside  \\\n0   BRIDGEVIEW PLACE        24           2.1         1.2           1.6   \n1  COLLINGWOOD TOWER        16           2.0         1.4           2.4   \n2  LIONS VIEW BLDG I        15           2.2         1.3           1.9   \n\n   hlth_happy  chat_often  rlns_safe  age  bside_dur  household  walk_aid  \\\n0         2.5         1.7        4.2  8.0        3.7        0.9       1.8   \n1         2.7         2.0        3.6  8.3        3.3        0.9       1.7   \n2         2.2         2.2        4.2  8.1        3.7        1.0       1.8   \n\n   imm_status  bside_pre_muni  Nos. of Suites Postal Code  Build Year  \\\n0         0.6             0.8              72     V6B 5X8      1993.0   \n1         0.3             0.9              79     V5R 5V6      1977.0   \n2         0.6             0.8              45     V5R 5C6      1993.0   \n\n   Average Rent              neighbourhood  neigh_crime_rate  \n0        623.78  Central Business District              27.6  \n1        494.75        Renfrew-Collingwood               5.8  \n2        494.49        Renfrew-Collingwood               5.8  ",
      "text/html": "<div>\n<style scoped>\n    .dataframe tbody tr th:only-of-type {\n        vertical-align: middle;\n    }\n\n    .dataframe tbody tr th {\n        vertical-align: top;\n    }\n\n    .dataframe thead th {\n        text-align: right;\n    }\n</style>\n<table border=\"1\" class=\"dataframe\">\n  <thead>\n    <tr style=\"text-align: right;\">\n      <th></th>\n      <th>location</th>\n      <th>num_resp</th>\n      <th>nbr_relation</th>\n      <th>food_worry</th>\n      <th>apprch_bside</th>\n      <th>hlth_happy</th>\n      <th>chat_often</th>\n      <th>rlns_safe</th>\n      <th>age</th>\n      <th>bside_dur</th>\n      <th>household</th>\n      <th>walk_aid</th>\n      <th>imm_status</th>\n      <th>bside_pre_muni</th>\n      <th>Nos. of Suites</th>\n      <th>Postal Code</th>\n      <th>Build Year</th>\n      <th>Average Rent</th>\n      <th>neighbourhood</th>\n      <th>neigh_crime_rate</th>\n    </tr>\n  </thead>\n  <tbody>\n    <tr>\n      <th>0</th>\n      <td>BRIDGEVIEW PLACE</td>\n      <td>24</td>\n      <td>2.1</td>\n      <td>1.2</td>\n      <td>1.6</td>\n      <td>2.5</td>\n      <td>1.7</td>\n      <td>4.2</td>\n      <td>8.0</td>\n      <td>3.7</td>\n      <td>0.9</td>\n      <td>1.8</td>\n      <td>0.6</td>\n      <td>0.8</td>\n      <td>72</td>\n      <td>V6B 5X8</td>\n      <td>1993.0</td>\n      <td>623.78</td>\n      <td>Central Business District</td>\n      <td>27.6</td>\n    </tr>\n    <tr>\n      <th>1</th>\n      <td>COLLINGWOOD TOWER</td>\n      <td>16</td>\n      <td>2.0</td>\n      <td>1.4</td>\n      <td>2.4</td>\n      <td>2.7</td>\n      <td>2.0</td>\n      <td>3.6</td>\n      <td>8.3</td>\n      <td>3.3</td>\n      <td>0.9</td>\n      <td>1.7</td>\n      <td>0.3</td>\n      <td>0.9</td>\n      <td>79</td>\n      <td>V5R 5V6</td>\n      <td>1977.0</td>\n      <td>494.75</td>\n      <td>Renfrew-Collingwood</td>\n      <td>5.8</td>\n    </tr>\n    <tr>\n      <th>2</th>\n      <td>LIONS VIEW BLDG I</td>\n      <td>15</td>\n      <td>2.2</td>\n      <td>1.3</td>\n      <td>1.9</td>\n      <td>2.2</td>\n      <td>2.2</td>\n      <td>4.2</td>\n      <td>8.1</td>\n      <td>3.7</td>\n      <td>1.0</td>\n      <td>1.8</td>\n      <td>0.6</td>\n      <td>0.8</td>\n      <td>45</td>\n      <td>V5R 5C6</td>\n      <td>1993.0</td>\n      <td>494.49</td>\n      <td>Renfrew-Collingwood</td>\n      <td>5.8</td>\n    </tr>\n  </tbody>\n</table>\n</div>"
     },
     "metadata": {}
    }
   ],
   "execution_count": 12
  },
  {
   "cell_type": "code",
   "source": "data2.to_csv('means_ass_crime')",
   "metadata": {
    "tags": [],
    "cell_id": "00006-adc4124c-e4c2-4165-b2dd-e08a25011194",
    "deepnote_to_be_reexecuted": false,
    "source_hash": "2b131b39",
    "execution_start": 1631148264326,
    "execution_millis": 0,
    "deepnote_cell_type": "code"
   },
   "outputs": [],
   "execution_count": 13
  },
  {
   "cell_type": "code",
   "source": "",
   "metadata": {
    "tags": [],
    "cell_id": "00007-6066df54-3d70-49af-904d-b760428a6429",
    "deepnote_cell_type": "code"
   },
   "outputs": [],
   "execution_count": null
  },
  {
   "cell_type": "markdown",
   "source": "<a style='text-decoration:none;line-height:16px;display:flex;color:#5B5B62;padding:10px;justify-content:end;' href='https://deepnote.com?utm_source=created-in-deepnote-cell&projectId=ec36858b-3dda-48ee-b585-815a2bd46f62' target=\"_blank\">\n<img alt='Created in deepnote.com' style='display:inline;max-height:16px;margin:0px;margin-right:7.5px;' src='data:image/svg+xml;base64,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' > </img>\nCreated in <span style='font-weight:600;margin-left:4px;'>Deepnote</span></a>",
   "metadata": {
    "tags": [],
    "created_in_deepnote_cell": true,
    "deepnote_cell_type": "markdown"
   }
  }
 ],
 "nbformat": 4,
 "nbformat_minor": 2,
 "metadata": {
  "orig_nbformat": 2,
  "deepnote": {
   "is_reactive": false
  },
  "deepnote_notebook_id": "6a3d4001-9e4e-42d4-8246-c55425c62849",
  "deepnote_execution_queue": []
 }
}