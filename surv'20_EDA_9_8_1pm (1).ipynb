{
 "cells": [
  {
   "cell_type": "code",
   "metadata": {
    "tags": [],
    "cell_id": "00000-cdb72e94-d28e-4fc7-b5a6-46ed4d70a6f6",
    "deepnote_to_be_reexecuted": false,
    "source_hash": "6964eb8f",
    "execution_start": 1631142004421,
    "execution_millis": 1134,
    "deepnote_cell_type": "code"
   },
   "source": "# using df10\nimport pandas as pd\nimport numpy as np\nimport matplotlib.pyplot as plt\nimport seaborn as sns\nsns.set()\n\ndata= pd.read_csv('DFG_B_df10.csv')\ndata.drop('Unnamed: 0', axis=1, inplace=True)\ndata.head(3)",
   "outputs": [
    {
     "output_type": "execute_result",
     "execution_count": 1,
     "data": {
      "application/vnd.deepnote.dataframe.v2+json": {
       "row_count": 3,
       "column_count": 18,
       "columns": [
        {
         "name": "location",
         "dtype": "object",
         "stats": {
          "unique_count": 3,
          "nan_count": 0,
          "categories": [
           {
            "name": "LONDONDERRY",
            "count": 1
           },
           {
            "name": "LIONS VIEW BLDG III",
            "count": 1
           },
           {
            "name": "MOUNT PLEASANT",
            "count": 1
           }
          ]
         }
        },
        {
         "name": "nbr_relation",
         "dtype": "float64",
         "stats": {
          "unique_count": 1,
          "nan_count": 0,
          "min": "2.0",
          "max": "2.0",
          "histogram": [
           {
            "bin_start": 1.5,
            "bin_end": 1.6,
            "count": 0
           },
           {
            "bin_start": 1.6,
            "bin_end": 1.7,
            "count": 0
           },
           {
            "bin_start": 1.7,
            "bin_end": 1.8,
            "count": 0
           },
           {
            "bin_start": 1.8,
            "bin_end": 1.9,
            "count": 0
           },
           {
            "bin_start": 1.9,
            "bin_end": 2,
            "count": 0
           },
           {
            "bin_start": 2,
            "bin_end": 2.1,
            "count": 3
           },
           {
            "bin_start": 2.1,
            "bin_end": 2.2,
            "count": 0
           },
           {
            "bin_start": 2.2,
            "bin_end": 2.3,
            "count": 0
           },
           {
            "bin_start": 2.3,
            "bin_end": 2.4,
            "count": 0
           },
           {
            "bin_start": 2.4,
            "bin_end": 2.5,
            "count": 0
           }
          ]
         }
        },
        {
         "name": "food_worry",
         "dtype": "float64",
         "stats": {
          "unique_count": 1,
          "nan_count": 0,
          "min": "1.0",
          "max": "1.0",
          "histogram": [
           {
            "bin_start": 0.5,
            "bin_end": 0.6,
            "count": 0
           },
           {
            "bin_start": 0.6,
            "bin_end": 0.7,
            "count": 0
           },
           {
            "bin_start": 0.7,
            "bin_end": 0.8,
            "count": 0
           },
           {
            "bin_start": 0.8,
            "bin_end": 0.9,
            "count": 0
           },
           {
            "bin_start": 0.9,
            "bin_end": 1,
            "count": 0
           },
           {
            "bin_start": 1,
            "bin_end": 1.1,
            "count": 3
           },
           {
            "bin_start": 1.1,
            "bin_end": 1.2000000000000002,
            "count": 0
           },
           {
            "bin_start": 1.2000000000000002,
            "bin_end": 1.3,
            "count": 0
           },
           {
            "bin_start": 1.3,
            "bin_end": 1.4,
            "count": 0
           },
           {
            "bin_start": 1.4,
            "bin_end": 1.5,
            "count": 0
           }
          ]
         }
        },
        {
         "name": "apprch_bside",
         "dtype": "float64",
         "stats": {
          "unique_count": 3,
          "nan_count": 0,
          "min": "1.0",
          "max": "3.0",
          "histogram": [
           {
            "bin_start": 1,
            "bin_end": 1.2,
            "count": 1
           },
           {
            "bin_start": 1.2,
            "bin_end": 1.4,
            "count": 0
           },
           {
            "bin_start": 1.4,
            "bin_end": 1.6,
            "count": 0
           },
           {
            "bin_start": 1.6,
            "bin_end": 1.8,
            "count": 0
           },
           {
            "bin_start": 1.8,
            "bin_end": 2,
            "count": 0
           },
           {
            "bin_start": 2,
            "bin_end": 2.2,
            "count": 1
           },
           {
            "bin_start": 2.2,
            "bin_end": 2.4000000000000004,
            "count": 0
           },
           {
            "bin_start": 2.4000000000000004,
            "bin_end": 2.6,
            "count": 0
           },
           {
            "bin_start": 2.6,
            "bin_end": 2.8,
            "count": 0
           },
           {
            "bin_start": 2.8,
            "bin_end": 3,
            "count": 1
           }
          ]
         }
        },
        {
         "name": "hlth_happy",
         "dtype": "float64",
         "stats": {
          "unique_count": 2,
          "nan_count": 0,
          "min": "2.0",
          "max": "3.0",
          "histogram": [
           {
            "bin_start": 2,
            "bin_end": 2.1,
            "count": 2
           },
           {
            "bin_start": 2.1,
            "bin_end": 2.2,
            "count": 0
           },
           {
            "bin_start": 2.2,
            "bin_end": 2.3,
            "count": 0
           },
           {
            "bin_start": 2.3,
            "bin_end": 2.4,
            "count": 0
           },
           {
            "bin_start": 2.4,
            "bin_end": 2.5,
            "count": 0
           },
           {
            "bin_start": 2.5,
            "bin_end": 2.6,
            "count": 0
           },
           {
            "bin_start": 2.6,
            "bin_end": 2.7,
            "count": 0
           },
           {
            "bin_start": 2.7,
            "bin_end": 2.8,
            "count": 0
           },
           {
            "bin_start": 2.8,
            "bin_end": 2.9,
            "count": 0
           },
           {
            "bin_start": 2.9,
            "bin_end": 3,
            "count": 1
           }
          ]
         }
        },
        {
         "name": "chat_often",
         "dtype": "float64",
         "stats": {
          "unique_count": 2,
          "nan_count": 0,
          "min": "2.0",
          "max": "5.0",
          "histogram": [
           {
            "bin_start": 2,
            "bin_end": 2.3,
            "count": 2
           },
           {
            "bin_start": 2.3,
            "bin_end": 2.6,
            "count": 0
           },
           {
            "bin_start": 2.6,
            "bin_end": 2.9,
            "count": 0
           },
           {
            "bin_start": 2.9,
            "bin_end": 3.2,
            "count": 0
           },
           {
            "bin_start": 3.2,
            "bin_end": 3.5,
            "count": 0
           },
           {
            "bin_start": 3.5,
            "bin_end": 3.8,
            "count": 0
           },
           {
            "bin_start": 3.8,
            "bin_end": 4.1,
            "count": 0
           },
           {
            "bin_start": 4.1,
            "bin_end": 4.4,
            "count": 0
           },
           {
            "bin_start": 4.4,
            "bin_end": 4.699999999999999,
            "count": 0
           },
           {
            "bin_start": 4.699999999999999,
            "bin_end": 5,
            "count": 1
           }
          ]
         }
        },
        {
         "name": "rlns_safe",
         "dtype": "float64",
         "stats": {
          "unique_count": 2,
          "nan_count": 0,
          "min": "4.0",
          "max": "5.0",
          "histogram": [
           {
            "bin_start": 4,
            "bin_end": 4.1,
            "count": 2
           },
           {
            "bin_start": 4.1,
            "bin_end": 4.2,
            "count": 0
           },
           {
            "bin_start": 4.2,
            "bin_end": 4.3,
            "count": 0
           },
           {
            "bin_start": 4.3,
            "bin_end": 4.4,
            "count": 0
           },
           {
            "bin_start": 4.4,
            "bin_end": 4.5,
            "count": 0
           },
           {
            "bin_start": 4.5,
            "bin_end": 4.6,
            "count": 0
           },
           {
            "bin_start": 4.6,
            "bin_end": 4.7,
            "count": 0
           },
           {
            "bin_start": 4.7,
            "bin_end": 4.8,
            "count": 0
           },
           {
            "bin_start": 4.8,
            "bin_end": 4.9,
            "count": 0
           },
           {
            "bin_start": 4.9,
            "bin_end": 5,
            "count": 1
           }
          ]
         }
        },
        {
         "name": "age",
         "dtype": "float64",
         "stats": {
          "unique_count": 2,
          "nan_count": 0,
          "min": "8.0",
          "max": "9.0",
          "histogram": [
           {
            "bin_start": 8,
            "bin_end": 8.1,
            "count": 2
           },
           {
            "bin_start": 8.1,
            "bin_end": 8.2,
            "count": 0
           },
           {
            "bin_start": 8.2,
            "bin_end": 8.3,
            "count": 0
           },
           {
            "bin_start": 8.3,
            "bin_end": 8.4,
            "count": 0
           },
           {
            "bin_start": 8.4,
            "bin_end": 8.5,
            "count": 0
           },
           {
            "bin_start": 8.5,
            "bin_end": 8.6,
            "count": 0
           },
           {
            "bin_start": 8.6,
            "bin_end": 8.7,
            "count": 0
           },
           {
            "bin_start": 8.7,
            "bin_end": 8.8,
            "count": 0
           },
           {
            "bin_start": 8.8,
            "bin_end": 8.9,
            "count": 0
           },
           {
            "bin_start": 8.9,
            "bin_end": 9,
            "count": 1
           }
          ]
         }
        },
        {
         "name": "gender",
         "dtype": "float64",
         "stats": {
          "unique_count": 2,
          "nan_count": 0,
          "min": "1.0",
          "max": "2.0",
          "histogram": [
           {
            "bin_start": 1,
            "bin_end": 1.1,
            "count": 2
           },
           {
            "bin_start": 1.1,
            "bin_end": 1.2,
            "count": 0
           },
           {
            "bin_start": 1.2,
            "bin_end": 1.3,
            "count": 0
           },
           {
            "bin_start": 1.3,
            "bin_end": 1.4,
            "count": 0
           },
           {
            "bin_start": 1.4,
            "bin_end": 1.5,
            "count": 0
           },
           {
            "bin_start": 1.5,
            "bin_end": 1.6,
            "count": 0
           },
           {
            "bin_start": 1.6,
            "bin_end": 1.7000000000000002,
            "count": 0
           },
           {
            "bin_start": 1.7000000000000002,
            "bin_end": 1.8,
            "count": 0
           },
           {
            "bin_start": 1.8,
            "bin_end": 1.9,
            "count": 0
           },
           {
            "bin_start": 1.9,
            "bin_end": 2,
            "count": 1
           }
          ]
         }
        },
        {
         "name": "household",
         "dtype": "float64",
         "stats": {
          "unique_count": 1,
          "nan_count": 0,
          "min": "1.0",
          "max": "1.0",
          "histogram": [
           {
            "bin_start": 0.5,
            "bin_end": 0.6,
            "count": 0
           },
           {
            "bin_start": 0.6,
            "bin_end": 0.7,
            "count": 0
           },
           {
            "bin_start": 0.7,
            "bin_end": 0.8,
            "count": 0
           },
           {
            "bin_start": 0.8,
            "bin_end": 0.9,
            "count": 0
           },
           {
            "bin_start": 0.9,
            "bin_end": 1,
            "count": 0
           },
           {
            "bin_start": 1,
            "bin_end": 1.1,
            "count": 3
           },
           {
            "bin_start": 1.1,
            "bin_end": 1.2000000000000002,
            "count": 0
           },
           {
            "bin_start": 1.2000000000000002,
            "bin_end": 1.3,
            "count": 0
           },
           {
            "bin_start": 1.3,
            "bin_end": 1.4,
            "count": 0
           },
           {
            "bin_start": 1.4,
            "bin_end": 1.5,
            "count": 0
           }
          ]
         }
        },
        {
         "name": "rln_status",
         "dtype": "float64",
         "stats": {
          "unique_count": 1,
          "nan_count": 0,
          "min": "1.0",
          "max": "1.0",
          "histogram": [
           {
            "bin_start": 0.5,
            "bin_end": 0.6,
            "count": 0
           },
           {
            "bin_start": 0.6,
            "bin_end": 0.7,
            "count": 0
           },
           {
            "bin_start": 0.7,
            "bin_end": 0.8,
            "count": 0
           },
           {
            "bin_start": 0.8,
            "bin_end": 0.9,
            "count": 0
           },
           {
            "bin_start": 0.9,
            "bin_end": 1,
            "count": 0
           },
           {
            "bin_start": 1,
            "bin_end": 1.1,
            "count": 3
           },
           {
            "bin_start": 1.1,
            "bin_end": 1.2000000000000002,
            "count": 0
           },
           {
            "bin_start": 1.2000000000000002,
            "bin_end": 1.3,
            "count": 0
           },
           {
            "bin_start": 1.3,
            "bin_end": 1.4,
            "count": 0
           },
           {
            "bin_start": 1.4,
            "bin_end": 1.5,
            "count": 0
           }
          ]
         }
        },
        {
         "name": "work_paid",
         "dtype": "float64",
         "stats": {
          "unique_count": 2,
          "nan_count": 0,
          "min": "1.0",
          "max": "3.0",
          "histogram": [
           {
            "bin_start": 1,
            "bin_end": 1.2,
            "count": 1
           },
           {
            "bin_start": 1.2,
            "bin_end": 1.4,
            "count": 0
           },
           {
            "bin_start": 1.4,
            "bin_end": 1.6,
            "count": 0
           },
           {
            "bin_start": 1.6,
            "bin_end": 1.8,
            "count": 0
           },
           {
            "bin_start": 1.8,
            "bin_end": 2,
            "count": 0
           },
           {
            "bin_start": 2,
            "bin_end": 2.2,
            "count": 0
           },
           {
            "bin_start": 2.2,
            "bin_end": 2.4000000000000004,
            "count": 0
           },
           {
            "bin_start": 2.4000000000000004,
            "bin_end": 2.6,
            "count": 0
           },
           {
            "bin_start": 2.6,
            "bin_end": 2.8,
            "count": 0
           },
           {
            "bin_start": 2.8,
            "bin_end": 3,
            "count": 2
           }
          ]
         }
        },
        {
         "name": "work_vol",
         "dtype": "float64",
         "stats": {
          "unique_count": 2,
          "nan_count": 0,
          "min": "2.0",
          "max": "3.0",
          "histogram": [
           {
            "bin_start": 2,
            "bin_end": 2.1,
            "count": 1
           },
           {
            "bin_start": 2.1,
            "bin_end": 2.2,
            "count": 0
           },
           {
            "bin_start": 2.2,
            "bin_end": 2.3,
            "count": 0
           },
           {
            "bin_start": 2.3,
            "bin_end": 2.4,
            "count": 0
           },
           {
            "bin_start": 2.4,
            "bin_end": 2.5,
            "count": 0
           },
           {
            "bin_start": 2.5,
            "bin_end": 2.6,
            "count": 0
           },
           {
            "bin_start": 2.6,
            "bin_end": 2.7,
            "count": 0
           },
           {
            "bin_start": 2.7,
            "bin_end": 2.8,
            "count": 0
           },
           {
            "bin_start": 2.8,
            "bin_end": 2.9,
            "count": 0
           },
           {
            "bin_start": 2.9,
            "bin_end": 3,
            "count": 2
           }
          ]
         }
        },
        {
         "name": "walk_aid",
         "dtype": "float64",
         "stats": {
          "unique_count": 1,
          "nan_count": 0,
          "min": "2.0",
          "max": "2.0",
          "histogram": [
           {
            "bin_start": 1.5,
            "bin_end": 1.6,
            "count": 0
           },
           {
            "bin_start": 1.6,
            "bin_end": 1.7,
            "count": 0
           },
           {
            "bin_start": 1.7,
            "bin_end": 1.8,
            "count": 0
           },
           {
            "bin_start": 1.8,
            "bin_end": 1.9,
            "count": 0
           },
           {
            "bin_start": 1.9,
            "bin_end": 2,
            "count": 0
           },
           {
            "bin_start": 2,
            "bin_end": 2.1,
            "count": 3
           },
           {
            "bin_start": 2.1,
            "bin_end": 2.2,
            "count": 0
           },
           {
            "bin_start": 2.2,
            "bin_end": 2.3,
            "count": 0
           },
           {
            "bin_start": 2.3,
            "bin_end": 2.4,
            "count": 0
           },
           {
            "bin_start": 2.4,
            "bin_end": 2.5,
            "count": 0
           }
          ]
         }
        },
        {
         "name": "imm_status",
         "dtype": "float64",
         "stats": {
          "unique_count": 2,
          "nan_count": 0,
          "min": "0.0",
          "max": "1.0",
          "histogram": [
           {
            "bin_start": 0,
            "bin_end": 0.1,
            "count": 1
           },
           {
            "bin_start": 0.1,
            "bin_end": 0.2,
            "count": 0
           },
           {
            "bin_start": 0.2,
            "bin_end": 0.30000000000000004,
            "count": 0
           },
           {
            "bin_start": 0.30000000000000004,
            "bin_end": 0.4,
            "count": 0
           },
           {
            "bin_start": 0.4,
            "bin_end": 0.5,
            "count": 0
           },
           {
            "bin_start": 0.5,
            "bin_end": 0.6000000000000001,
            "count": 0
           },
           {
            "bin_start": 0.6000000000000001,
            "bin_end": 0.7000000000000001,
            "count": 0
           },
           {
            "bin_start": 0.7000000000000001,
            "bin_end": 0.8,
            "count": 0
           },
           {
            "bin_start": 0.8,
            "bin_end": 0.9,
            "count": 0
           },
           {
            "bin_start": 0.9,
            "bin_end": 1,
            "count": 2
           }
          ]
         }
        },
        {
         "name": "bside_dur",
         "dtype": "float64",
         "stats": {
          "unique_count": 3,
          "nan_count": 0,
          "min": "2.0",
          "max": "4.0",
          "histogram": [
           {
            "bin_start": 2,
            "bin_end": 2.2,
            "count": 1
           },
           {
            "bin_start": 2.2,
            "bin_end": 2.4,
            "count": 0
           },
           {
            "bin_start": 2.4,
            "bin_end": 2.6,
            "count": 0
           },
           {
            "bin_start": 2.6,
            "bin_end": 2.8,
            "count": 0
           },
           {
            "bin_start": 2.8,
            "bin_end": 3,
            "count": 0
           },
           {
            "bin_start": 3,
            "bin_end": 3.2,
            "count": 1
           },
           {
            "bin_start": 3.2,
            "bin_end": 3.4000000000000004,
            "count": 0
           },
           {
            "bin_start": 3.4000000000000004,
            "bin_end": 3.6,
            "count": 0
           },
           {
            "bin_start": 3.6,
            "bin_end": 3.8,
            "count": 0
           },
           {
            "bin_start": 3.8,
            "bin_end": 4,
            "count": 1
           }
          ]
         }
        },
        {
         "name": "bside_pre",
         "dtype": "float64",
         "stats": {
          "unique_count": 3,
          "nan_count": 0,
          "min": "0.0",
          "max": "3.0",
          "histogram": [
           {
            "bin_start": 0,
            "bin_end": 0.3,
            "count": 1
           },
           {
            "bin_start": 0.3,
            "bin_end": 0.6,
            "count": 0
           },
           {
            "bin_start": 0.6,
            "bin_end": 0.8999999999999999,
            "count": 0
           },
           {
            "bin_start": 0.8999999999999999,
            "bin_end": 1.2,
            "count": 0
           },
           {
            "bin_start": 1.2,
            "bin_end": 1.5,
            "count": 0
           },
           {
            "bin_start": 1.5,
            "bin_end": 1.7999999999999998,
            "count": 0
           },
           {
            "bin_start": 1.7999999999999998,
            "bin_end": 2.1,
            "count": 1
           },
           {
            "bin_start": 2.1,
            "bin_end": 2.4,
            "count": 0
           },
           {
            "bin_start": 2.4,
            "bin_end": 2.6999999999999997,
            "count": 0
           },
           {
            "bin_start": 2.6999999999999997,
            "bin_end": 3,
            "count": 1
           }
          ]
         }
        },
        {
         "name": "bside_pre_muni",
         "dtype": "float64",
         "stats": {
          "unique_count": 2,
          "nan_count": 0,
          "min": "0.0",
          "max": "1.0",
          "histogram": [
           {
            "bin_start": 0,
            "bin_end": 0.1,
            "count": 2
           },
           {
            "bin_start": 0.1,
            "bin_end": 0.2,
            "count": 0
           },
           {
            "bin_start": 0.2,
            "bin_end": 0.30000000000000004,
            "count": 0
           },
           {
            "bin_start": 0.30000000000000004,
            "bin_end": 0.4,
            "count": 0
           },
           {
            "bin_start": 0.4,
            "bin_end": 0.5,
            "count": 0
           },
           {
            "bin_start": 0.5,
            "bin_end": 0.6000000000000001,
            "count": 0
           },
           {
            "bin_start": 0.6000000000000001,
            "bin_end": 0.7000000000000001,
            "count": 0
           },
           {
            "bin_start": 0.7000000000000001,
            "bin_end": 0.8,
            "count": 0
           },
           {
            "bin_start": 0.8,
            "bin_end": 0.9,
            "count": 0
           },
           {
            "bin_start": 0.9,
            "bin_end": 1,
            "count": 1
           }
          ]
         }
        },
        {
         "name": "_deepnote_index_column",
         "dtype": "int64"
        }
       ],
       "rows_top": [
        {
         "location": "LONDONDERRY",
         "nbr_relation": 2,
         "food_worry": 1,
         "apprch_bside": 2,
         "hlth_happy": 3,
         "chat_often": 2,
         "rlns_safe": 4,
         "age": 8,
         "gender": 2,
         "household": 1,
         "rln_status": 1,
         "work_paid": 3,
         "work_vol": 3,
         "walk_aid": 2,
         "imm_status": 1,
         "bside_dur": 2,
         "bside_pre": 2,
         "bside_pre_muni": 0,
         "_deepnote_index_column": 0
        },
        {
         "location": "LIONS VIEW BLDG III",
         "nbr_relation": 2,
         "food_worry": 1,
         "apprch_bside": 1,
         "hlth_happy": 2,
         "chat_often": 5,
         "rlns_safe": 5,
         "age": 8,
         "gender": 1,
         "household": 1,
         "rln_status": 1,
         "work_paid": 1,
         "work_vol": 2,
         "walk_aid": 2,
         "imm_status": 0,
         "bside_dur": 3,
         "bside_pre": 0,
         "bside_pre_muni": 0,
         "_deepnote_index_column": 1
        },
        {
         "location": "MOUNT PLEASANT",
         "nbr_relation": 2,
         "food_worry": 1,
         "apprch_bside": 3,
         "hlth_happy": 2,
         "chat_often": 2,
         "rlns_safe": 4,
         "age": 9,
         "gender": 1,
         "household": 1,
         "rln_status": 1,
         "work_paid": 3,
         "work_vol": 3,
         "walk_aid": 2,
         "imm_status": 1,
         "bside_dur": 4,
         "bside_pre": 3,
         "bside_pre_muni": 1,
         "_deepnote_index_column": 2
        }
       ],
       "rows_bottom": null
      },
      "text/plain": "              location  nbr_relation  food_worry  apprch_bside  hlth_happy  \\\n0          LONDONDERRY           2.0         1.0           2.0         3.0   \n1  LIONS VIEW BLDG III           2.0         1.0           1.0         2.0   \n2       MOUNT PLEASANT           2.0         1.0           3.0         2.0   \n\n   chat_often  rlns_safe  age  gender  household  rln_status  work_paid  \\\n0         2.0        4.0  8.0     2.0        1.0         1.0        3.0   \n1         5.0        5.0  8.0     1.0        1.0         1.0        1.0   \n2         2.0        4.0  9.0     1.0        1.0         1.0        3.0   \n\n   work_vol  walk_aid  imm_status  bside_dur  bside_pre  bside_pre_muni  \n0       3.0       2.0         1.0        2.0        2.0             0.0  \n1       2.0       2.0         0.0        3.0        0.0             0.0  \n2       3.0       2.0         1.0        4.0        3.0             1.0  ",
      "text/html": "<div>\n<style scoped>\n    .dataframe tbody tr th:only-of-type {\n        vertical-align: middle;\n    }\n\n    .dataframe tbody tr th {\n        vertical-align: top;\n    }\n\n    .dataframe thead th {\n        text-align: right;\n    }\n</style>\n<table border=\"1\" class=\"dataframe\">\n  <thead>\n    <tr style=\"text-align: right;\">\n      <th></th>\n      <th>location</th>\n      <th>nbr_relation</th>\n      <th>food_worry</th>\n      <th>apprch_bside</th>\n      <th>hlth_happy</th>\n      <th>chat_often</th>\n      <th>rlns_safe</th>\n      <th>age</th>\n      <th>gender</th>\n      <th>household</th>\n      <th>rln_status</th>\n      <th>work_paid</th>\n      <th>work_vol</th>\n      <th>walk_aid</th>\n      <th>imm_status</th>\n      <th>bside_dur</th>\n      <th>bside_pre</th>\n      <th>bside_pre_muni</th>\n    </tr>\n  </thead>\n  <tbody>\n    <tr>\n      <th>0</th>\n      <td>LONDONDERRY</td>\n      <td>2.0</td>\n      <td>1.0</td>\n      <td>2.0</td>\n      <td>3.0</td>\n      <td>2.0</td>\n      <td>4.0</td>\n      <td>8.0</td>\n      <td>2.0</td>\n      <td>1.0</td>\n      <td>1.0</td>\n      <td>3.0</td>\n      <td>3.0</td>\n      <td>2.0</td>\n      <td>1.0</td>\n      <td>2.0</td>\n      <td>2.0</td>\n      <td>0.0</td>\n    </tr>\n    <tr>\n      <th>1</th>\n      <td>LIONS VIEW BLDG III</td>\n      <td>2.0</td>\n      <td>1.0</td>\n      <td>1.0</td>\n      <td>2.0</td>\n      <td>5.0</td>\n      <td>5.0</td>\n      <td>8.0</td>\n      <td>1.0</td>\n      <td>1.0</td>\n      <td>1.0</td>\n      <td>1.0</td>\n      <td>2.0</td>\n      <td>2.0</td>\n      <td>0.0</td>\n      <td>3.0</td>\n      <td>0.0</td>\n      <td>0.0</td>\n    </tr>\n    <tr>\n      <th>2</th>\n      <td>MOUNT PLEASANT</td>\n      <td>2.0</td>\n      <td>1.0</td>\n      <td>3.0</td>\n      <td>2.0</td>\n      <td>2.0</td>\n      <td>4.0</td>\n      <td>9.0</td>\n      <td>1.0</td>\n      <td>1.0</td>\n      <td>1.0</td>\n      <td>3.0</td>\n      <td>3.0</td>\n      <td>2.0</td>\n      <td>1.0</td>\n      <td>4.0</td>\n      <td>3.0</td>\n      <td>1.0</td>\n    </tr>\n  </tbody>\n</table>\n</div>"
     },
     "metadata": {}
    }
   ],
   "execution_count": 1
  },
  {
   "cell_type": "code",
   "source": "data.describe()",
   "metadata": {
    "tags": [],
    "cell_id": "00001-4ab0c12e-7685-41ec-afc4-2ff883233cfb",
    "deepnote_to_be_reexecuted": false,
    "source_hash": "d786443f",
    "execution_start": 1631142005549,
    "execution_millis": 92,
    "deepnote_cell_type": "code"
   },
   "outputs": [
    {
     "output_type": "execute_result",
     "execution_count": 2,
     "data": {
      "application/vnd.deepnote.dataframe.v2+json": {
       "row_count": 8,
       "column_count": 17,
       "columns": [
        {
         "name": "nbr_relation",
         "dtype": "float64",
         "stats": {
          "unique_count": 6,
          "nan_count": 0,
          "min": "0.4334236004792886",
          "max": "223.0",
          "histogram": [
           {
            "bin_start": 0.4334236004792886,
            "bin_end": 22.690081240431358,
            "count": 7
           },
           {
            "bin_start": 22.690081240431358,
            "bin_end": 44.94673888038343,
            "count": 0
           },
           {
            "bin_start": 44.94673888038343,
            "bin_end": 67.2033965203355,
            "count": 0
           },
           {
            "bin_start": 67.2033965203355,
            "bin_end": 89.46005416028757,
            "count": 0
           },
           {
            "bin_start": 89.46005416028757,
            "bin_end": 111.71671180023964,
            "count": 0
           },
           {
            "bin_start": 111.71671180023964,
            "bin_end": 133.97336944019173,
            "count": 0
           },
           {
            "bin_start": 133.97336944019173,
            "bin_end": 156.2300270801438,
            "count": 0
           },
           {
            "bin_start": 156.2300270801438,
            "bin_end": 178.48668472009587,
            "count": 0
           },
           {
            "bin_start": 178.48668472009587,
            "bin_end": 200.74334236004793,
            "count": 0
           },
           {
            "bin_start": 200.74334236004793,
            "bin_end": 223,
            "count": 1
           }
          ]
         }
        },
        {
         "name": "food_worry",
         "dtype": "float64",
         "stats": {
          "unique_count": 6,
          "nan_count": 0,
          "min": "0.9241854211594744",
          "max": "223.0",
          "histogram": [
           {
            "bin_start": 0.9241854211594744,
            "bin_end": 23.13176687904353,
            "count": 7
           },
           {
            "bin_start": 23.13176687904353,
            "bin_end": 45.33934833692758,
            "count": 0
           },
           {
            "bin_start": 45.33934833692758,
            "bin_end": 67.54692979481163,
            "count": 0
           },
           {
            "bin_start": 67.54692979481163,
            "bin_end": 89.75451125269569,
            "count": 0
           },
           {
            "bin_start": 89.75451125269569,
            "bin_end": 111.96209271057975,
            "count": 0
           },
           {
            "bin_start": 111.96209271057975,
            "bin_end": 134.16967416846379,
            "count": 0
           },
           {
            "bin_start": 134.16967416846379,
            "bin_end": 156.37725562634785,
            "count": 0
           },
           {
            "bin_start": 156.37725562634785,
            "bin_end": 178.5848370842319,
            "count": 0
           },
           {
            "bin_start": 178.5848370842319,
            "bin_end": 200.79241854211597,
            "count": 0
           },
           {
            "bin_start": 200.79241854211597,
            "bin_end": 223,
            "count": 1
           }
          ]
         }
        },
        {
         "name": "apprch_bside",
         "dtype": "float64",
         "stats": {
          "unique_count": 7,
          "nan_count": 0,
          "min": "1.0",
          "max": "223.0",
          "histogram": [
           {
            "bin_start": 1,
            "bin_end": 23.2,
            "count": 7
           },
           {
            "bin_start": 23.2,
            "bin_end": 45.4,
            "count": 0
           },
           {
            "bin_start": 45.4,
            "bin_end": 67.6,
            "count": 0
           },
           {
            "bin_start": 67.6,
            "bin_end": 89.8,
            "count": 0
           },
           {
            "bin_start": 89.8,
            "bin_end": 112,
            "count": 0
           },
           {
            "bin_start": 112,
            "bin_end": 134.2,
            "count": 0
           },
           {
            "bin_start": 134.2,
            "bin_end": 156.4,
            "count": 0
           },
           {
            "bin_start": 156.4,
            "bin_end": 178.6,
            "count": 0
           },
           {
            "bin_start": 178.6,
            "bin_end": 200.79999999999998,
            "count": 0
           },
           {
            "bin_start": 200.79999999999998,
            "bin_end": 223,
            "count": 1
           }
          ]
         }
        },
        {
         "name": "hlth_happy",
         "dtype": "float64",
         "stats": {
          "unique_count": 7,
          "nan_count": 0,
          "min": "0.84209629290555",
          "max": "223.0",
          "histogram": [
           {
            "bin_start": 0.84209629290555,
            "bin_end": 23.057886663614994,
            "count": 7
           },
           {
            "bin_start": 23.057886663614994,
            "bin_end": 45.27367703432444,
            "count": 0
           },
           {
            "bin_start": 45.27367703432444,
            "bin_end": 67.48946740503389,
            "count": 0
           },
           {
            "bin_start": 67.48946740503389,
            "bin_end": 89.70525777574333,
            "count": 0
           },
           {
            "bin_start": 89.70525777574333,
            "bin_end": 111.92104814645278,
            "count": 0
           },
           {
            "bin_start": 111.92104814645278,
            "bin_end": 134.13683851716223,
            "count": 0
           },
           {
            "bin_start": 134.13683851716223,
            "bin_end": 156.35262888787167,
            "count": 0
           },
           {
            "bin_start": 156.35262888787167,
            "bin_end": 178.56841925858112,
            "count": 0
           },
           {
            "bin_start": 178.56841925858112,
            "bin_end": 200.78420962929056,
            "count": 0
           },
           {
            "bin_start": 200.78420962929056,
            "bin_end": 223,
            "count": 1
           }
          ]
         }
        },
        {
         "name": "chat_often",
         "dtype": "float64",
         "stats": {
          "unique_count": 8,
          "nan_count": 0,
          "min": "0.9520691065073104",
          "max": "223.0",
          "histogram": [
           {
            "bin_start": 0.9520691065073104,
            "bin_end": 23.15686219585658,
            "count": 7
           },
           {
            "bin_start": 23.15686219585658,
            "bin_end": 45.36165528520585,
            "count": 0
           },
           {
            "bin_start": 45.36165528520585,
            "bin_end": 67.56644837455512,
            "count": 0
           },
           {
            "bin_start": 67.56644837455512,
            "bin_end": 89.77124146390439,
            "count": 0
           },
           {
            "bin_start": 89.77124146390439,
            "bin_end": 111.97603455325365,
            "count": 0
           },
           {
            "bin_start": 111.97603455325365,
            "bin_end": 134.18082764260294,
            "count": 0
           },
           {
            "bin_start": 134.18082764260294,
            "bin_end": 156.3856207319522,
            "count": 0
           },
           {
            "bin_start": 156.3856207319522,
            "bin_end": 178.59041382130147,
            "count": 0
           },
           {
            "bin_start": 178.59041382130147,
            "bin_end": 200.79520691065073,
            "count": 0
           },
           {
            "bin_start": 200.79520691065073,
            "bin_end": 223,
            "count": 1
           }
          ]
         }
        },
        {
         "name": "rlns_safe",
         "dtype": "float64",
         "stats": {
          "unique_count": 6,
          "nan_count": 0,
          "min": "0.844180603907179",
          "max": "223.0",
          "histogram": [
           {
            "bin_start": 0.844180603907179,
            "bin_end": 23.059762543516463,
            "count": 7
           },
           {
            "bin_start": 23.059762543516463,
            "bin_end": 45.27534448312574,
            "count": 0
           },
           {
            "bin_start": 45.27534448312574,
            "bin_end": 67.49092642273503,
            "count": 0
           },
           {
            "bin_start": 67.49092642273503,
            "bin_end": 89.70650836234431,
            "count": 0
           },
           {
            "bin_start": 89.70650836234431,
            "bin_end": 111.92209030195359,
            "count": 0
           },
           {
            "bin_start": 111.92209030195359,
            "bin_end": 134.13767224156288,
            "count": 0
           },
           {
            "bin_start": 134.13767224156288,
            "bin_end": 156.35325418117216,
            "count": 0
           },
           {
            "bin_start": 156.35325418117216,
            "bin_end": 178.56883612078144,
            "count": 0
           },
           {
            "bin_start": 178.56883612078144,
            "bin_end": 200.78441806039072,
            "count": 0
           },
           {
            "bin_start": 200.78441806039072,
            "bin_end": 223,
            "count": 1
           }
          ]
         }
        },
        {
         "name": "age",
         "dtype": "float64",
         "stats": {
          "unique_count": 6,
          "nan_count": 0,
          "min": "1.0164883152953128",
          "max": "223.0",
          "histogram": [
           {
            "bin_start": 1.0164883152953128,
            "bin_end": 23.214839483765783,
            "count": 7
           },
           {
            "bin_start": 23.214839483765783,
            "bin_end": 45.41319065223625,
            "count": 0
           },
           {
            "bin_start": 45.41319065223625,
            "bin_end": 67.61154182070673,
            "count": 0
           },
           {
            "bin_start": 67.61154182070673,
            "bin_end": 89.8098929891772,
            "count": 0
           },
           {
            "bin_start": 89.8098929891772,
            "bin_end": 112.00824415764767,
            "count": 0
           },
           {
            "bin_start": 112.00824415764767,
            "bin_end": 134.20659532611813,
            "count": 0
           },
           {
            "bin_start": 134.20659532611813,
            "bin_end": 156.4049464945886,
            "count": 0
           },
           {
            "bin_start": 156.4049464945886,
            "bin_end": 178.60329766305907,
            "count": 0
           },
           {
            "bin_start": 178.60329766305907,
            "bin_end": 200.80164883152955,
            "count": 0
           },
           {
            "bin_start": 200.80164883152955,
            "bin_end": 223,
            "count": 1
           }
          ]
         }
        },
        {
         "name": "gender",
         "dtype": "float64",
         "stats": {
          "unique_count": 7,
          "nan_count": 0,
          "min": "0.0",
          "max": "223.0",
          "histogram": [
           {
            "bin_start": 0,
            "bin_end": 22.3,
            "count": 7
           },
           {
            "bin_start": 22.3,
            "bin_end": 44.6,
            "count": 0
           },
           {
            "bin_start": 44.6,
            "bin_end": 66.9,
            "count": 0
           },
           {
            "bin_start": 66.9,
            "bin_end": 89.2,
            "count": 0
           },
           {
            "bin_start": 89.2,
            "bin_end": 111.5,
            "count": 0
           },
           {
            "bin_start": 111.5,
            "bin_end": 133.8,
            "count": 0
           },
           {
            "bin_start": 133.8,
            "bin_end": 156.1,
            "count": 0
           },
           {
            "bin_start": 156.1,
            "bin_end": 178.4,
            "count": 0
           },
           {
            "bin_start": 178.4,
            "bin_end": 200.70000000000002,
            "count": 0
           },
           {
            "bin_start": 200.70000000000002,
            "bin_end": 223,
            "count": 1
           }
          ]
         }
        },
        {
         "name": "household",
         "dtype": "float64",
         "stats": {
          "unique_count": 5,
          "nan_count": 0,
          "min": "0.0",
          "max": "223.0",
          "histogram": [
           {
            "bin_start": 0,
            "bin_end": 22.3,
            "count": 7
           },
           {
            "bin_start": 22.3,
            "bin_end": 44.6,
            "count": 0
           },
           {
            "bin_start": 44.6,
            "bin_end": 66.9,
            "count": 0
           },
           {
            "bin_start": 66.9,
            "bin_end": 89.2,
            "count": 0
           },
           {
            "bin_start": 89.2,
            "bin_end": 111.5,
            "count": 0
           },
           {
            "bin_start": 111.5,
            "bin_end": 133.8,
            "count": 0
           },
           {
            "bin_start": 133.8,
            "bin_end": 156.1,
            "count": 0
           },
           {
            "bin_start": 156.1,
            "bin_end": 178.4,
            "count": 0
           },
           {
            "bin_start": 178.4,
            "bin_end": 200.70000000000002,
            "count": 0
           },
           {
            "bin_start": 200.70000000000002,
            "bin_end": 223,
            "count": 1
           }
          ]
         }
        },
        {
         "name": "rln_status",
         "dtype": "float64",
         "stats": {
          "unique_count": 7,
          "nan_count": 0,
          "min": "0.0",
          "max": "223.0",
          "histogram": [
           {
            "bin_start": 0,
            "bin_end": 22.3,
            "count": 7
           },
           {
            "bin_start": 22.3,
            "bin_end": 44.6,
            "count": 0
           },
           {
            "bin_start": 44.6,
            "bin_end": 66.9,
            "count": 0
           },
           {
            "bin_start": 66.9,
            "bin_end": 89.2,
            "count": 0
           },
           {
            "bin_start": 89.2,
            "bin_end": 111.5,
            "count": 0
           },
           {
            "bin_start": 111.5,
            "bin_end": 133.8,
            "count": 0
           },
           {
            "bin_start": 133.8,
            "bin_end": 156.1,
            "count": 0
           },
           {
            "bin_start": 156.1,
            "bin_end": 178.4,
            "count": 0
           },
           {
            "bin_start": 178.4,
            "bin_end": 200.70000000000002,
            "count": 0
           },
           {
            "bin_start": 200.70000000000002,
            "bin_end": 223,
            "count": 1
           }
          ]
         }
        },
        {
         "name": "work_paid",
         "dtype": "float64",
         "stats": {
          "unique_count": 6,
          "nan_count": 0,
          "min": "0.6071591099420995",
          "max": "223.0",
          "histogram": [
           {
            "bin_start": 0.6071591099420995,
            "bin_end": 22.846443198947888,
            "count": 7
           },
           {
            "bin_start": 22.846443198947888,
            "bin_end": 45.08572728795368,
            "count": 0
           },
           {
            "bin_start": 45.08572728795368,
            "bin_end": 67.32501137695947,
            "count": 0
           },
           {
            "bin_start": 67.32501137695947,
            "bin_end": 89.56429546596526,
            "count": 0
           },
           {
            "bin_start": 89.56429546596526,
            "bin_end": 111.80357955497105,
            "count": 0
           },
           {
            "bin_start": 111.80357955497105,
            "bin_end": 134.04286364397683,
            "count": 0
           },
           {
            "bin_start": 134.04286364397683,
            "bin_end": 156.28214773298262,
            "count": 0
           },
           {
            "bin_start": 156.28214773298262,
            "bin_end": 178.52143182198841,
            "count": 0
           },
           {
            "bin_start": 178.52143182198841,
            "bin_end": 200.7607159109942,
            "count": 0
           },
           {
            "bin_start": 200.7607159109942,
            "bin_end": 223,
            "count": 1
           }
          ]
         }
        },
        {
         "name": "work_vol",
         "dtype": "float64",
         "stats": {
          "unique_count": 5,
          "nan_count": 0,
          "min": "0.3884986489790595",
          "max": "223.0",
          "histogram": [
           {
            "bin_start": 0.3884986489790595,
            "bin_end": 22.64964878408115,
            "count": 7
           },
           {
            "bin_start": 22.64964878408115,
            "bin_end": 44.91079891918324,
            "count": 0
           },
           {
            "bin_start": 44.91079891918324,
            "bin_end": 67.17194905428534,
            "count": 0
           },
           {
            "bin_start": 67.17194905428534,
            "bin_end": 89.43309918938743,
            "count": 0
           },
           {
            "bin_start": 89.43309918938743,
            "bin_end": 111.69424932448953,
            "count": 0
           },
           {
            "bin_start": 111.69424932448953,
            "bin_end": 133.9553994595916,
            "count": 0
           },
           {
            "bin_start": 133.9553994595916,
            "bin_end": 156.2165495946937,
            "count": 0
           },
           {
            "bin_start": 156.2165495946937,
            "bin_end": 178.4776997297958,
            "count": 0
           },
           {
            "bin_start": 178.4776997297958,
            "bin_end": 200.7388498648979,
            "count": 0
           },
           {
            "bin_start": 200.7388498648979,
            "bin_end": 223,
            "count": 1
           }
          ]
         }
        },
        {
         "name": "walk_aid",
         "dtype": "float64",
         "stats": {
          "unique_count": 5,
          "nan_count": 0,
          "min": "0.42094019000133087",
          "max": "223.0",
          "histogram": [
           {
            "bin_start": 0.42094019000133087,
            "bin_end": 22.6788461710012,
            "count": 7
           },
           {
            "bin_start": 22.6788461710012,
            "bin_end": 44.93675215200107,
            "count": 0
           },
           {
            "bin_start": 44.93675215200107,
            "bin_end": 67.19465813300094,
            "count": 0
           },
           {
            "bin_start": 67.19465813300094,
            "bin_end": 89.45256411400081,
            "count": 0
           },
           {
            "bin_start": 89.45256411400081,
            "bin_end": 111.71047009500067,
            "count": 0
           },
           {
            "bin_start": 111.71047009500067,
            "bin_end": 133.96837607600054,
            "count": 0
           },
           {
            "bin_start": 133.96837607600054,
            "bin_end": 156.2262820570004,
            "count": 0
           },
           {
            "bin_start": 156.2262820570004,
            "bin_end": 178.48418803800027,
            "count": 0
           },
           {
            "bin_start": 178.48418803800027,
            "bin_end": 200.74209401900015,
            "count": 0
           },
           {
            "bin_start": 200.74209401900015,
            "bin_end": 223,
            "count": 1
           }
          ]
         }
        },
        {
         "name": "imm_status",
         "dtype": "float64",
         "stats": {
          "unique_count": 5,
          "nan_count": 0,
          "min": "0.0",
          "max": "223.0",
          "histogram": [
           {
            "bin_start": 0,
            "bin_end": 22.3,
            "count": 7
           },
           {
            "bin_start": 22.3,
            "bin_end": 44.6,
            "count": 0
           },
           {
            "bin_start": 44.6,
            "bin_end": 66.9,
            "count": 0
           },
           {
            "bin_start": 66.9,
            "bin_end": 89.2,
            "count": 0
           },
           {
            "bin_start": 89.2,
            "bin_end": 111.5,
            "count": 0
           },
           {
            "bin_start": 111.5,
            "bin_end": 133.8,
            "count": 0
           },
           {
            "bin_start": 133.8,
            "bin_end": 156.1,
            "count": 0
           },
           {
            "bin_start": 156.1,
            "bin_end": 178.4,
            "count": 0
           },
           {
            "bin_start": 178.4,
            "bin_end": 200.70000000000002,
            "count": 0
           },
           {
            "bin_start": 200.70000000000002,
            "bin_end": 223,
            "count": 1
           }
          ]
         }
        },
        {
         "name": "bside_dur",
         "dtype": "float64",
         "stats": {
          "unique_count": 6,
          "nan_count": 0,
          "min": "0.7336744431301964",
          "max": "223.0",
          "histogram": [
           {
            "bin_start": 0.7336744431301964,
            "bin_end": 22.96030699881718,
            "count": 7
           },
           {
            "bin_start": 22.96030699881718,
            "bin_end": 45.186939554504164,
            "count": 0
           },
           {
            "bin_start": 45.186939554504164,
            "bin_end": 67.41357211019114,
            "count": 0
           },
           {
            "bin_start": 67.41357211019114,
            "bin_end": 89.64020466587813,
            "count": 0
           },
           {
            "bin_start": 89.64020466587813,
            "bin_end": 111.86683722156512,
            "count": 0
           },
           {
            "bin_start": 111.86683722156512,
            "bin_end": 134.09346977725207,
            "count": 0
           },
           {
            "bin_start": 134.09346977725207,
            "bin_end": 156.32010233293906,
            "count": 0
           },
           {
            "bin_start": 156.32010233293906,
            "bin_end": 178.54673488862605,
            "count": 0
           },
           {
            "bin_start": 178.54673488862605,
            "bin_end": 200.77336744431304,
            "count": 0
           },
           {
            "bin_start": 200.77336744431304,
            "bin_end": 223,
            "count": 1
           }
          ]
         }
        },
        {
         "name": "bside_pre",
         "dtype": "float64",
         "stats": {
          "unique_count": 6,
          "nan_count": 0,
          "min": "0.0",
          "max": "223.0",
          "histogram": [
           {
            "bin_start": 0,
            "bin_end": 22.3,
            "count": 7
           },
           {
            "bin_start": 22.3,
            "bin_end": 44.6,
            "count": 0
           },
           {
            "bin_start": 44.6,
            "bin_end": 66.9,
            "count": 0
           },
           {
            "bin_start": 66.9,
            "bin_end": 89.2,
            "count": 0
           },
           {
            "bin_start": 89.2,
            "bin_end": 111.5,
            "count": 0
           },
           {
            "bin_start": 111.5,
            "bin_end": 133.8,
            "count": 0
           },
           {
            "bin_start": 133.8,
            "bin_end": 156.1,
            "count": 0
           },
           {
            "bin_start": 156.1,
            "bin_end": 178.4,
            "count": 0
           },
           {
            "bin_start": 178.4,
            "bin_end": 200.70000000000002,
            "count": 0
           },
           {
            "bin_start": 200.70000000000002,
            "bin_end": 223,
            "count": 1
           }
          ]
         }
        },
        {
         "name": "bside_pre_muni",
         "dtype": "float64",
         "stats": {
          "unique_count": 5,
          "nan_count": 0,
          "min": "0.0",
          "max": "223.0",
          "histogram": [
           {
            "bin_start": 0,
            "bin_end": 22.3,
            "count": 7
           },
           {
            "bin_start": 22.3,
            "bin_end": 44.6,
            "count": 0
           },
           {
            "bin_start": 44.6,
            "bin_end": 66.9,
            "count": 0
           },
           {
            "bin_start": 66.9,
            "bin_end": 89.2,
            "count": 0
           },
           {
            "bin_start": 89.2,
            "bin_end": 111.5,
            "count": 0
           },
           {
            "bin_start": 111.5,
            "bin_end": 133.8,
            "count": 0
           },
           {
            "bin_start": 133.8,
            "bin_end": 156.1,
            "count": 0
           },
           {
            "bin_start": 156.1,
            "bin_end": 178.4,
            "count": 0
           },
           {
            "bin_start": 178.4,
            "bin_end": 200.70000000000002,
            "count": 0
           },
           {
            "bin_start": 200.70000000000002,
            "bin_end": 223,
            "count": 1
           }
          ]
         }
        },
        {
         "name": "_deepnote_index_column",
         "dtype": "object"
        }
       ],
       "rows_top": [
        {
         "nbr_relation": 223,
         "food_worry": 223,
         "apprch_bside": 223,
         "hlth_happy": 223,
         "chat_often": 223,
         "rlns_safe": 223,
         "age": 223,
         "gender": 223,
         "household": 223,
         "rln_status": 223,
         "work_paid": 223,
         "work_vol": 223,
         "walk_aid": 223,
         "imm_status": 223,
         "bside_dur": 223,
         "bside_pre": 223,
         "bside_pre_muni": 223,
         "_deepnote_index_column": "count"
        },
        {
         "nbr_relation": 2.0762331838565022,
         "food_worry": 1.4753363228699552,
         "apprch_bside": 1.9955156950672646,
         "hlth_happy": 2.5381165919282513,
         "chat_often": 2.1300448430493275,
         "rlns_safe": 3.9103139013452917,
         "age": 7.914798206278027,
         "gender": 1.345291479820628,
         "household": 0.9013452914798207,
         "rln_status": 1.9237668161434978,
         "work_paid": 3.0269058295964126,
         "work_vol": 2.8430493273542603,
         "walk_aid": 1.7713004484304933,
         "imm_status": 0.5829596412556054,
         "bside_dur": 3.5336322869955157,
         "bside_pre": 2.3004484304932737,
         "bside_pre_muni": 0.8116591928251121,
         "_deepnote_index_column": "mean"
        },
        {
         "nbr_relation": 0.4334236004792886,
         "food_worry": 0.9241854211594744,
         "apprch_bside": 1.0675295968111942,
         "hlth_happy": 0.84209629290555,
         "chat_often": 0.9520691065073104,
         "rlns_safe": 0.844180603907179,
         "age": 1.0164883152953128,
         "gender": 0.5302241411724239,
         "household": 0.2988687109131116,
         "rln_status": 1.1344404420468839,
         "work_paid": 0.6071591099420995,
         "work_vol": 0.3884986489790595,
         "walk_aid": 0.42094019000133087,
         "imm_status": 0.4941789379244719,
         "bside_dur": 0.7336744431301964,
         "bside_pre": 1.1795363938050358,
         "bside_pre_muni": 0.3918636811297198,
         "_deepnote_index_column": "std"
        },
        {
         "nbr_relation": 1,
         "food_worry": 1,
         "apprch_bside": 1,
         "hlth_happy": 1,
         "chat_often": 1,
         "rlns_safe": 1,
         "age": 4,
         "gender": 0,
         "household": 0,
         "rln_status": 0,
         "work_paid": 1,
         "work_vol": 1,
         "walk_aid": 1,
         "imm_status": 0,
         "bside_dur": 2,
         "bside_pre": 0,
         "bside_pre_muni": 0,
         "_deepnote_index_column": "min"
        },
        {
         "nbr_relation": 2,
         "food_worry": 1,
         "apprch_bside": 1,
         "hlth_happy": 2,
         "chat_often": 1.5,
         "rlns_safe": 4,
         "age": 8,
         "gender": 1,
         "household": 1,
         "rln_status": 1,
         "work_paid": 3,
         "work_vol": 3,
         "walk_aid": 2,
         "imm_status": 0,
         "bside_dur": 3,
         "bside_pre": 2,
         "bside_pre_muni": 1,
         "_deepnote_index_column": "25%"
        },
        {
         "nbr_relation": 2,
         "food_worry": 1,
         "apprch_bside": 2,
         "hlth_happy": 2,
         "chat_often": 2,
         "rlns_safe": 4,
         "age": 8,
         "gender": 1,
         "household": 1,
         "rln_status": 1,
         "work_paid": 3,
         "work_vol": 3,
         "walk_aid": 2,
         "imm_status": 1,
         "bside_dur": 4,
         "bside_pre": 2,
         "bside_pre_muni": 1,
         "_deepnote_index_column": "50%"
        },
        {
         "nbr_relation": 2,
         "food_worry": 2,
         "apprch_bside": 3,
         "hlth_happy": 3,
         "chat_often": 3,
         "rlns_safe": 4,
         "age": 9,
         "gender": 2,
         "household": 1,
         "rln_status": 3,
         "work_paid": 3,
         "work_vol": 3,
         "walk_aid": 2,
         "imm_status": 1,
         "bside_dur": 4,
         "bside_pre": 2,
         "bside_pre_muni": 1,
         "_deepnote_index_column": "75%"
        },
        {
         "nbr_relation": 3,
         "food_worry": 5,
         "apprch_bside": 5,
         "hlth_happy": 5,
         "chat_often": 5,
         "rlns_safe": 5,
         "age": 9,
         "gender": 3,
         "household": 1,
         "rln_status": 4,
         "work_paid": 4,
         "work_vol": 3,
         "walk_aid": 2,
         "imm_status": 1,
         "bside_dur": 4,
         "bside_pre": 7,
         "bside_pre_muni": 1,
         "_deepnote_index_column": "max"
        }
       ],
       "rows_bottom": null
      },
      "text/plain": "       nbr_relation  food_worry  apprch_bside  hlth_happy  chat_often  \\\ncount    223.000000  223.000000    223.000000  223.000000  223.000000   \nmean       2.076233    1.475336      1.995516    2.538117    2.130045   \nstd        0.433424    0.924185      1.067530    0.842096    0.952069   \nmin        1.000000    1.000000      1.000000    1.000000    1.000000   \n25%        2.000000    1.000000      1.000000    2.000000    1.500000   \n50%        2.000000    1.000000      2.000000    2.000000    2.000000   \n75%        2.000000    2.000000      3.000000    3.000000    3.000000   \nmax        3.000000    5.000000      5.000000    5.000000    5.000000   \n\n        rlns_safe         age      gender   household  rln_status   work_paid  \\\ncount  223.000000  223.000000  223.000000  223.000000  223.000000  223.000000   \nmean     3.910314    7.914798    1.345291    0.901345    1.923767    3.026906   \nstd      0.844181    1.016488    0.530224    0.298869    1.134440    0.607159   \nmin      1.000000    4.000000    0.000000    0.000000    0.000000    1.000000   \n25%      4.000000    8.000000    1.000000    1.000000    1.000000    3.000000   \n50%      4.000000    8.000000    1.000000    1.000000    1.000000    3.000000   \n75%      4.000000    9.000000    2.000000    1.000000    3.000000    3.000000   \nmax      5.000000    9.000000    3.000000    1.000000    4.000000    4.000000   \n\n         work_vol   walk_aid  imm_status   bside_dur   bside_pre  \\\ncount  223.000000  223.00000  223.000000  223.000000  223.000000   \nmean     2.843049    1.77130    0.582960    3.533632    2.300448   \nstd      0.388499    0.42094    0.494179    0.733674    1.179536   \nmin      1.000000    1.00000    0.000000    2.000000    0.000000   \n25%      3.000000    2.00000    0.000000    3.000000    2.000000   \n50%      3.000000    2.00000    1.000000    4.000000    2.000000   \n75%      3.000000    2.00000    1.000000    4.000000    2.000000   \nmax      3.000000    2.00000    1.000000    4.000000    7.000000   \n\n       bside_pre_muni  \ncount      223.000000  \nmean         0.811659  \nstd          0.391864  \nmin          0.000000  \n25%          1.000000  \n50%          1.000000  \n75%          1.000000  \nmax          1.000000  ",
      "text/html": "<div>\n<style scoped>\n    .dataframe tbody tr th:only-of-type {\n        vertical-align: middle;\n    }\n\n    .dataframe tbody tr th {\n        vertical-align: top;\n    }\n\n    .dataframe thead th {\n        text-align: right;\n    }\n</style>\n<table border=\"1\" class=\"dataframe\">\n  <thead>\n    <tr style=\"text-align: right;\">\n      <th></th>\n      <th>nbr_relation</th>\n      <th>food_worry</th>\n      <th>apprch_bside</th>\n      <th>hlth_happy</th>\n      <th>chat_often</th>\n      <th>rlns_safe</th>\n      <th>age</th>\n      <th>gender</th>\n      <th>household</th>\n      <th>rln_status</th>\n      <th>work_paid</th>\n      <th>work_vol</th>\n      <th>walk_aid</th>\n      <th>imm_status</th>\n      <th>bside_dur</th>\n      <th>bside_pre</th>\n      <th>bside_pre_muni</th>\n    </tr>\n  </thead>\n  <tbody>\n    <tr>\n      <th>count</th>\n      <td>223.000000</td>\n      <td>223.000000</td>\n      <td>223.000000</td>\n      <td>223.000000</td>\n      <td>223.000000</td>\n      <td>223.000000</td>\n      <td>223.000000</td>\n      <td>223.000000</td>\n      <td>223.000000</td>\n      <td>223.000000</td>\n      <td>223.000000</td>\n      <td>223.000000</td>\n      <td>223.00000</td>\n      <td>223.000000</td>\n      <td>223.000000</td>\n      <td>223.000000</td>\n      <td>223.000000</td>\n    </tr>\n    <tr>\n      <th>mean</th>\n      <td>2.076233</td>\n      <td>1.475336</td>\n      <td>1.995516</td>\n      <td>2.538117</td>\n      <td>2.130045</td>\n      <td>3.910314</td>\n      <td>7.914798</td>\n      <td>1.345291</td>\n      <td>0.901345</td>\n      <td>1.923767</td>\n      <td>3.026906</td>\n      <td>2.843049</td>\n      <td>1.77130</td>\n      <td>0.582960</td>\n      <td>3.533632</td>\n      <td>2.300448</td>\n      <td>0.811659</td>\n    </tr>\n    <tr>\n      <th>std</th>\n      <td>0.433424</td>\n      <td>0.924185</td>\n      <td>1.067530</td>\n      <td>0.842096</td>\n      <td>0.952069</td>\n      <td>0.844181</td>\n      <td>1.016488</td>\n      <td>0.530224</td>\n      <td>0.298869</td>\n      <td>1.134440</td>\n      <td>0.607159</td>\n      <td>0.388499</td>\n      <td>0.42094</td>\n      <td>0.494179</td>\n      <td>0.733674</td>\n      <td>1.179536</td>\n      <td>0.391864</td>\n    </tr>\n    <tr>\n      <th>min</th>\n      <td>1.000000</td>\n      <td>1.000000</td>\n      <td>1.000000</td>\n      <td>1.000000</td>\n      <td>1.000000</td>\n      <td>1.000000</td>\n      <td>4.000000</td>\n      <td>0.000000</td>\n      <td>0.000000</td>\n      <td>0.000000</td>\n      <td>1.000000</td>\n      <td>1.000000</td>\n      <td>1.00000</td>\n      <td>0.000000</td>\n      <td>2.000000</td>\n      <td>0.000000</td>\n      <td>0.000000</td>\n    </tr>\n    <tr>\n      <th>25%</th>\n      <td>2.000000</td>\n      <td>1.000000</td>\n      <td>1.000000</td>\n      <td>2.000000</td>\n      <td>1.500000</td>\n      <td>4.000000</td>\n      <td>8.000000</td>\n      <td>1.000000</td>\n      <td>1.000000</td>\n      <td>1.000000</td>\n      <td>3.000000</td>\n      <td>3.000000</td>\n      <td>2.00000</td>\n      <td>0.000000</td>\n      <td>3.000000</td>\n      <td>2.000000</td>\n      <td>1.000000</td>\n    </tr>\n    <tr>\n      <th>50%</th>\n      <td>2.000000</td>\n      <td>1.000000</td>\n      <td>2.000000</td>\n      <td>2.000000</td>\n      <td>2.000000</td>\n      <td>4.000000</td>\n      <td>8.000000</td>\n      <td>1.000000</td>\n      <td>1.000000</td>\n      <td>1.000000</td>\n      <td>3.000000</td>\n      <td>3.000000</td>\n      <td>2.00000</td>\n      <td>1.000000</td>\n      <td>4.000000</td>\n      <td>2.000000</td>\n      <td>1.000000</td>\n    </tr>\n    <tr>\n      <th>75%</th>\n      <td>2.000000</td>\n      <td>2.000000</td>\n      <td>3.000000</td>\n      <td>3.000000</td>\n      <td>3.000000</td>\n      <td>4.000000</td>\n      <td>9.000000</td>\n      <td>2.000000</td>\n      <td>1.000000</td>\n      <td>3.000000</td>\n      <td>3.000000</td>\n      <td>3.000000</td>\n      <td>2.00000</td>\n      <td>1.000000</td>\n      <td>4.000000</td>\n      <td>2.000000</td>\n      <td>1.000000</td>\n    </tr>\n    <tr>\n      <th>max</th>\n      <td>3.000000</td>\n      <td>5.000000</td>\n      <td>5.000000</td>\n      <td>5.000000</td>\n      <td>5.000000</td>\n      <td>5.000000</td>\n      <td>9.000000</td>\n      <td>3.000000</td>\n      <td>1.000000</td>\n      <td>4.000000</td>\n      <td>4.000000</td>\n      <td>3.000000</td>\n      <td>2.00000</td>\n      <td>1.000000</td>\n      <td>4.000000</td>\n      <td>7.000000</td>\n      <td>1.000000</td>\n    </tr>\n  </tbody>\n</table>\n</div>"
     },
     "metadata": {}
    }
   ],
   "execution_count": 2
  },
  {
   "cell_type": "code",
   "source": "data.mode()",
   "metadata": {
    "tags": [],
    "cell_id": "00002-bc430423-c430-4de9-afae-ebd942b340f1",
    "deepnote_to_be_reexecuted": false,
    "source_hash": "7de19da6",
    "execution_start": 1631142005633,
    "execution_millis": 72,
    "deepnote_cell_type": "code"
   },
   "outputs": [
    {
     "output_type": "execute_result",
     "execution_count": 3,
     "data": {
      "application/vnd.deepnote.dataframe.v2+json": {
       "row_count": 1,
       "column_count": 18,
       "columns": [
        {
         "name": "location",
         "dtype": "object",
         "stats": {
          "unique_count": 1,
          "nan_count": 0,
          "categories": [
           {
            "name": "BRIDGEVIEW PLACE",
            "count": 1
           }
          ]
         }
        },
        {
         "name": "nbr_relation",
         "dtype": "float64",
         "stats": {
          "unique_count": 1,
          "nan_count": 0,
          "min": "2.0",
          "max": "2.0",
          "histogram": [
           {
            "bin_start": 1.5,
            "bin_end": 1.6,
            "count": 0
           },
           {
            "bin_start": 1.6,
            "bin_end": 1.7,
            "count": 0
           },
           {
            "bin_start": 1.7,
            "bin_end": 1.8,
            "count": 0
           },
           {
            "bin_start": 1.8,
            "bin_end": 1.9,
            "count": 0
           },
           {
            "bin_start": 1.9,
            "bin_end": 2,
            "count": 0
           },
           {
            "bin_start": 2,
            "bin_end": 2.1,
            "count": 1
           },
           {
            "bin_start": 2.1,
            "bin_end": 2.2,
            "count": 0
           },
           {
            "bin_start": 2.2,
            "bin_end": 2.3,
            "count": 0
           },
           {
            "bin_start": 2.3,
            "bin_end": 2.4,
            "count": 0
           },
           {
            "bin_start": 2.4,
            "bin_end": 2.5,
            "count": 0
           }
          ]
         }
        },
        {
         "name": "food_worry",
         "dtype": "float64",
         "stats": {
          "unique_count": 1,
          "nan_count": 0,
          "min": "1.0",
          "max": "1.0",
          "histogram": [
           {
            "bin_start": 0.5,
            "bin_end": 0.6,
            "count": 0
           },
           {
            "bin_start": 0.6,
            "bin_end": 0.7,
            "count": 0
           },
           {
            "bin_start": 0.7,
            "bin_end": 0.8,
            "count": 0
           },
           {
            "bin_start": 0.8,
            "bin_end": 0.9,
            "count": 0
           },
           {
            "bin_start": 0.9,
            "bin_end": 1,
            "count": 0
           },
           {
            "bin_start": 1,
            "bin_end": 1.1,
            "count": 1
           },
           {
            "bin_start": 1.1,
            "bin_end": 1.2000000000000002,
            "count": 0
           },
           {
            "bin_start": 1.2000000000000002,
            "bin_end": 1.3,
            "count": 0
           },
           {
            "bin_start": 1.3,
            "bin_end": 1.4,
            "count": 0
           },
           {
            "bin_start": 1.4,
            "bin_end": 1.5,
            "count": 0
           }
          ]
         }
        },
        {
         "name": "apprch_bside",
         "dtype": "float64",
         "stats": {
          "unique_count": 1,
          "nan_count": 0,
          "min": "1.0",
          "max": "1.0",
          "histogram": [
           {
            "bin_start": 0.5,
            "bin_end": 0.6,
            "count": 0
           },
           {
            "bin_start": 0.6,
            "bin_end": 0.7,
            "count": 0
           },
           {
            "bin_start": 0.7,
            "bin_end": 0.8,
            "count": 0
           },
           {
            "bin_start": 0.8,
            "bin_end": 0.9,
            "count": 0
           },
           {
            "bin_start": 0.9,
            "bin_end": 1,
            "count": 0
           },
           {
            "bin_start": 1,
            "bin_end": 1.1,
            "count": 1
           },
           {
            "bin_start": 1.1,
            "bin_end": 1.2000000000000002,
            "count": 0
           },
           {
            "bin_start": 1.2000000000000002,
            "bin_end": 1.3,
            "count": 0
           },
           {
            "bin_start": 1.3,
            "bin_end": 1.4,
            "count": 0
           },
           {
            "bin_start": 1.4,
            "bin_end": 1.5,
            "count": 0
           }
          ]
         }
        },
        {
         "name": "hlth_happy",
         "dtype": "float64",
         "stats": {
          "unique_count": 1,
          "nan_count": 0,
          "min": "2.0",
          "max": "2.0",
          "histogram": [
           {
            "bin_start": 1.5,
            "bin_end": 1.6,
            "count": 0
           },
           {
            "bin_start": 1.6,
            "bin_end": 1.7,
            "count": 0
           },
           {
            "bin_start": 1.7,
            "bin_end": 1.8,
            "count": 0
           },
           {
            "bin_start": 1.8,
            "bin_end": 1.9,
            "count": 0
           },
           {
            "bin_start": 1.9,
            "bin_end": 2,
            "count": 0
           },
           {
            "bin_start": 2,
            "bin_end": 2.1,
            "count": 1
           },
           {
            "bin_start": 2.1,
            "bin_end": 2.2,
            "count": 0
           },
           {
            "bin_start": 2.2,
            "bin_end": 2.3,
            "count": 0
           },
           {
            "bin_start": 2.3,
            "bin_end": 2.4,
            "count": 0
           },
           {
            "bin_start": 2.4,
            "bin_end": 2.5,
            "count": 0
           }
          ]
         }
        },
        {
         "name": "chat_often",
         "dtype": "float64",
         "stats": {
          "unique_count": 1,
          "nan_count": 0,
          "min": "2.0",
          "max": "2.0",
          "histogram": [
           {
            "bin_start": 1.5,
            "bin_end": 1.6,
            "count": 0
           },
           {
            "bin_start": 1.6,
            "bin_end": 1.7,
            "count": 0
           },
           {
            "bin_start": 1.7,
            "bin_end": 1.8,
            "count": 0
           },
           {
            "bin_start": 1.8,
            "bin_end": 1.9,
            "count": 0
           },
           {
            "bin_start": 1.9,
            "bin_end": 2,
            "count": 0
           },
           {
            "bin_start": 2,
            "bin_end": 2.1,
            "count": 1
           },
           {
            "bin_start": 2.1,
            "bin_end": 2.2,
            "count": 0
           },
           {
            "bin_start": 2.2,
            "bin_end": 2.3,
            "count": 0
           },
           {
            "bin_start": 2.3,
            "bin_end": 2.4,
            "count": 0
           },
           {
            "bin_start": 2.4,
            "bin_end": 2.5,
            "count": 0
           }
          ]
         }
        },
        {
         "name": "rlns_safe",
         "dtype": "float64",
         "stats": {
          "unique_count": 1,
          "nan_count": 0,
          "min": "4.0",
          "max": "4.0",
          "histogram": [
           {
            "bin_start": 3.5,
            "bin_end": 3.6,
            "count": 0
           },
           {
            "bin_start": 3.6,
            "bin_end": 3.7,
            "count": 0
           },
           {
            "bin_start": 3.7,
            "bin_end": 3.8,
            "count": 0
           },
           {
            "bin_start": 3.8,
            "bin_end": 3.9,
            "count": 0
           },
           {
            "bin_start": 3.9,
            "bin_end": 4,
            "count": 0
           },
           {
            "bin_start": 4,
            "bin_end": 4.1,
            "count": 1
           },
           {
            "bin_start": 4.1,
            "bin_end": 4.2,
            "count": 0
           },
           {
            "bin_start": 4.2,
            "bin_end": 4.3,
            "count": 0
           },
           {
            "bin_start": 4.3,
            "bin_end": 4.4,
            "count": 0
           },
           {
            "bin_start": 4.4,
            "bin_end": 4.5,
            "count": 0
           }
          ]
         }
        },
        {
         "name": "age",
         "dtype": "float64",
         "stats": {
          "unique_count": 1,
          "nan_count": 0,
          "min": "8.0",
          "max": "8.0",
          "histogram": [
           {
            "bin_start": 7.5,
            "bin_end": 7.6,
            "count": 0
           },
           {
            "bin_start": 7.6,
            "bin_end": 7.7,
            "count": 0
           },
           {
            "bin_start": 7.7,
            "bin_end": 7.8,
            "count": 0
           },
           {
            "bin_start": 7.8,
            "bin_end": 7.9,
            "count": 0
           },
           {
            "bin_start": 7.9,
            "bin_end": 8,
            "count": 0
           },
           {
            "bin_start": 8,
            "bin_end": 8.1,
            "count": 1
           },
           {
            "bin_start": 8.1,
            "bin_end": 8.2,
            "count": 0
           },
           {
            "bin_start": 8.2,
            "bin_end": 8.3,
            "count": 0
           },
           {
            "bin_start": 8.3,
            "bin_end": 8.4,
            "count": 0
           },
           {
            "bin_start": 8.4,
            "bin_end": 8.5,
            "count": 0
           }
          ]
         }
        },
        {
         "name": "gender",
         "dtype": "float64",
         "stats": {
          "unique_count": 1,
          "nan_count": 0,
          "min": "1.0",
          "max": "1.0",
          "histogram": [
           {
            "bin_start": 0.5,
            "bin_end": 0.6,
            "count": 0
           },
           {
            "bin_start": 0.6,
            "bin_end": 0.7,
            "count": 0
           },
           {
            "bin_start": 0.7,
            "bin_end": 0.8,
            "count": 0
           },
           {
            "bin_start": 0.8,
            "bin_end": 0.9,
            "count": 0
           },
           {
            "bin_start": 0.9,
            "bin_end": 1,
            "count": 0
           },
           {
            "bin_start": 1,
            "bin_end": 1.1,
            "count": 1
           },
           {
            "bin_start": 1.1,
            "bin_end": 1.2000000000000002,
            "count": 0
           },
           {
            "bin_start": 1.2000000000000002,
            "bin_end": 1.3,
            "count": 0
           },
           {
            "bin_start": 1.3,
            "bin_end": 1.4,
            "count": 0
           },
           {
            "bin_start": 1.4,
            "bin_end": 1.5,
            "count": 0
           }
          ]
         }
        },
        {
         "name": "household",
         "dtype": "float64",
         "stats": {
          "unique_count": 1,
          "nan_count": 0,
          "min": "1.0",
          "max": "1.0",
          "histogram": [
           {
            "bin_start": 0.5,
            "bin_end": 0.6,
            "count": 0
           },
           {
            "bin_start": 0.6,
            "bin_end": 0.7,
            "count": 0
           },
           {
            "bin_start": 0.7,
            "bin_end": 0.8,
            "count": 0
           },
           {
            "bin_start": 0.8,
            "bin_end": 0.9,
            "count": 0
           },
           {
            "bin_start": 0.9,
            "bin_end": 1,
            "count": 0
           },
           {
            "bin_start": 1,
            "bin_end": 1.1,
            "count": 1
           },
           {
            "bin_start": 1.1,
            "bin_end": 1.2000000000000002,
            "count": 0
           },
           {
            "bin_start": 1.2000000000000002,
            "bin_end": 1.3,
            "count": 0
           },
           {
            "bin_start": 1.3,
            "bin_end": 1.4,
            "count": 0
           },
           {
            "bin_start": 1.4,
            "bin_end": 1.5,
            "count": 0
           }
          ]
         }
        },
        {
         "name": "rln_status",
         "dtype": "float64",
         "stats": {
          "unique_count": 1,
          "nan_count": 0,
          "min": "1.0",
          "max": "1.0",
          "histogram": [
           {
            "bin_start": 0.5,
            "bin_end": 0.6,
            "count": 0
           },
           {
            "bin_start": 0.6,
            "bin_end": 0.7,
            "count": 0
           },
           {
            "bin_start": 0.7,
            "bin_end": 0.8,
            "count": 0
           },
           {
            "bin_start": 0.8,
            "bin_end": 0.9,
            "count": 0
           },
           {
            "bin_start": 0.9,
            "bin_end": 1,
            "count": 0
           },
           {
            "bin_start": 1,
            "bin_end": 1.1,
            "count": 1
           },
           {
            "bin_start": 1.1,
            "bin_end": 1.2000000000000002,
            "count": 0
           },
           {
            "bin_start": 1.2000000000000002,
            "bin_end": 1.3,
            "count": 0
           },
           {
            "bin_start": 1.3,
            "bin_end": 1.4,
            "count": 0
           },
           {
            "bin_start": 1.4,
            "bin_end": 1.5,
            "count": 0
           }
          ]
         }
        },
        {
         "name": "work_paid",
         "dtype": "float64",
         "stats": {
          "unique_count": 1,
          "nan_count": 0,
          "min": "3.0",
          "max": "3.0",
          "histogram": [
           {
            "bin_start": 2.5,
            "bin_end": 2.6,
            "count": 0
           },
           {
            "bin_start": 2.6,
            "bin_end": 2.7,
            "count": 0
           },
           {
            "bin_start": 2.7,
            "bin_end": 2.8,
            "count": 0
           },
           {
            "bin_start": 2.8,
            "bin_end": 2.9,
            "count": 0
           },
           {
            "bin_start": 2.9,
            "bin_end": 3,
            "count": 0
           },
           {
            "bin_start": 3,
            "bin_end": 3.1,
            "count": 1
           },
           {
            "bin_start": 3.1,
            "bin_end": 3.2,
            "count": 0
           },
           {
            "bin_start": 3.2,
            "bin_end": 3.3,
            "count": 0
           },
           {
            "bin_start": 3.3,
            "bin_end": 3.4,
            "count": 0
           },
           {
            "bin_start": 3.4,
            "bin_end": 3.5,
            "count": 0
           }
          ]
         }
        },
        {
         "name": "work_vol",
         "dtype": "float64",
         "stats": {
          "unique_count": 1,
          "nan_count": 0,
          "min": "3.0",
          "max": "3.0",
          "histogram": [
           {
            "bin_start": 2.5,
            "bin_end": 2.6,
            "count": 0
           },
           {
            "bin_start": 2.6,
            "bin_end": 2.7,
            "count": 0
           },
           {
            "bin_start": 2.7,
            "bin_end": 2.8,
            "count": 0
           },
           {
            "bin_start": 2.8,
            "bin_end": 2.9,
            "count": 0
           },
           {
            "bin_start": 2.9,
            "bin_end": 3,
            "count": 0
           },
           {
            "bin_start": 3,
            "bin_end": 3.1,
            "count": 1
           },
           {
            "bin_start": 3.1,
            "bin_end": 3.2,
            "count": 0
           },
           {
            "bin_start": 3.2,
            "bin_end": 3.3,
            "count": 0
           },
           {
            "bin_start": 3.3,
            "bin_end": 3.4,
            "count": 0
           },
           {
            "bin_start": 3.4,
            "bin_end": 3.5,
            "count": 0
           }
          ]
         }
        },
        {
         "name": "walk_aid",
         "dtype": "float64",
         "stats": {
          "unique_count": 1,
          "nan_count": 0,
          "min": "2.0",
          "max": "2.0",
          "histogram": [
           {
            "bin_start": 1.5,
            "bin_end": 1.6,
            "count": 0
           },
           {
            "bin_start": 1.6,
            "bin_end": 1.7,
            "count": 0
           },
           {
            "bin_start": 1.7,
            "bin_end": 1.8,
            "count": 0
           },
           {
            "bin_start": 1.8,
            "bin_end": 1.9,
            "count": 0
           },
           {
            "bin_start": 1.9,
            "bin_end": 2,
            "count": 0
           },
           {
            "bin_start": 2,
            "bin_end": 2.1,
            "count": 1
           },
           {
            "bin_start": 2.1,
            "bin_end": 2.2,
            "count": 0
           },
           {
            "bin_start": 2.2,
            "bin_end": 2.3,
            "count": 0
           },
           {
            "bin_start": 2.3,
            "bin_end": 2.4,
            "count": 0
           },
           {
            "bin_start": 2.4,
            "bin_end": 2.5,
            "count": 0
           }
          ]
         }
        },
        {
         "name": "imm_status",
         "dtype": "float64",
         "stats": {
          "unique_count": 1,
          "nan_count": 0,
          "min": "1.0",
          "max": "1.0",
          "histogram": [
           {
            "bin_start": 0.5,
            "bin_end": 0.6,
            "count": 0
           },
           {
            "bin_start": 0.6,
            "bin_end": 0.7,
            "count": 0
           },
           {
            "bin_start": 0.7,
            "bin_end": 0.8,
            "count": 0
           },
           {
            "bin_start": 0.8,
            "bin_end": 0.9,
            "count": 0
           },
           {
            "bin_start": 0.9,
            "bin_end": 1,
            "count": 0
           },
           {
            "bin_start": 1,
            "bin_end": 1.1,
            "count": 1
           },
           {
            "bin_start": 1.1,
            "bin_end": 1.2000000000000002,
            "count": 0
           },
           {
            "bin_start": 1.2000000000000002,
            "bin_end": 1.3,
            "count": 0
           },
           {
            "bin_start": 1.3,
            "bin_end": 1.4,
            "count": 0
           },
           {
            "bin_start": 1.4,
            "bin_end": 1.5,
            "count": 0
           }
          ]
         }
        },
        {
         "name": "bside_dur",
         "dtype": "float64",
         "stats": {
          "unique_count": 1,
          "nan_count": 0,
          "min": "4.0",
          "max": "4.0",
          "histogram": [
           {
            "bin_start": 3.5,
            "bin_end": 3.6,
            "count": 0
           },
           {
            "bin_start": 3.6,
            "bin_end": 3.7,
            "count": 0
           },
           {
            "bin_start": 3.7,
            "bin_end": 3.8,
            "count": 0
           },
           {
            "bin_start": 3.8,
            "bin_end": 3.9,
            "count": 0
           },
           {
            "bin_start": 3.9,
            "bin_end": 4,
            "count": 0
           },
           {
            "bin_start": 4,
            "bin_end": 4.1,
            "count": 1
           },
           {
            "bin_start": 4.1,
            "bin_end": 4.2,
            "count": 0
           },
           {
            "bin_start": 4.2,
            "bin_end": 4.3,
            "count": 0
           },
           {
            "bin_start": 4.3,
            "bin_end": 4.4,
            "count": 0
           },
           {
            "bin_start": 4.4,
            "bin_end": 4.5,
            "count": 0
           }
          ]
         }
        },
        {
         "name": "bside_pre",
         "dtype": "float64",
         "stats": {
          "unique_count": 1,
          "nan_count": 0,
          "min": "2.0",
          "max": "2.0",
          "histogram": [
           {
            "bin_start": 1.5,
            "bin_end": 1.6,
            "count": 0
           },
           {
            "bin_start": 1.6,
            "bin_end": 1.7,
            "count": 0
           },
           {
            "bin_start": 1.7,
            "bin_end": 1.8,
            "count": 0
           },
           {
            "bin_start": 1.8,
            "bin_end": 1.9,
            "count": 0
           },
           {
            "bin_start": 1.9,
            "bin_end": 2,
            "count": 0
           },
           {
            "bin_start": 2,
            "bin_end": 2.1,
            "count": 1
           },
           {
            "bin_start": 2.1,
            "bin_end": 2.2,
            "count": 0
           },
           {
            "bin_start": 2.2,
            "bin_end": 2.3,
            "count": 0
           },
           {
            "bin_start": 2.3,
            "bin_end": 2.4,
            "count": 0
           },
           {
            "bin_start": 2.4,
            "bin_end": 2.5,
            "count": 0
           }
          ]
         }
        },
        {
         "name": "bside_pre_muni",
         "dtype": "float64",
         "stats": {
          "unique_count": 1,
          "nan_count": 0,
          "min": "1.0",
          "max": "1.0",
          "histogram": [
           {
            "bin_start": 0.5,
            "bin_end": 0.6,
            "count": 0
           },
           {
            "bin_start": 0.6,
            "bin_end": 0.7,
            "count": 0
           },
           {
            "bin_start": 0.7,
            "bin_end": 0.8,
            "count": 0
           },
           {
            "bin_start": 0.8,
            "bin_end": 0.9,
            "count": 0
           },
           {
            "bin_start": 0.9,
            "bin_end": 1,
            "count": 0
           },
           {
            "bin_start": 1,
            "bin_end": 1.1,
            "count": 1
           },
           {
            "bin_start": 1.1,
            "bin_end": 1.2000000000000002,
            "count": 0
           },
           {
            "bin_start": 1.2000000000000002,
            "bin_end": 1.3,
            "count": 0
           },
           {
            "bin_start": 1.3,
            "bin_end": 1.4,
            "count": 0
           },
           {
            "bin_start": 1.4,
            "bin_end": 1.5,
            "count": 0
           }
          ]
         }
        },
        {
         "name": "_deepnote_index_column",
         "dtype": "int64"
        }
       ],
       "rows_top": [
        {
         "location": "BRIDGEVIEW PLACE",
         "nbr_relation": 2,
         "food_worry": 1,
         "apprch_bside": 1,
         "hlth_happy": 2,
         "chat_often": 2,
         "rlns_safe": 4,
         "age": 8,
         "gender": 1,
         "household": 1,
         "rln_status": 1,
         "work_paid": 3,
         "work_vol": 3,
         "walk_aid": 2,
         "imm_status": 1,
         "bside_dur": 4,
         "bside_pre": 2,
         "bside_pre_muni": 1,
         "_deepnote_index_column": 0
        }
       ],
       "rows_bottom": null
      },
      "text/plain": "           location  nbr_relation  food_worry  apprch_bside  hlth_happy  \\\n0  BRIDGEVIEW PLACE           2.0         1.0           1.0         2.0   \n\n   chat_often  rlns_safe  age  gender  household  rln_status  work_paid  \\\n0         2.0        4.0  8.0     1.0        1.0         1.0        3.0   \n\n   work_vol  walk_aid  imm_status  bside_dur  bside_pre  bside_pre_muni  \n0       3.0       2.0         1.0        4.0        2.0             1.0  ",
      "text/html": "<div>\n<style scoped>\n    .dataframe tbody tr th:only-of-type {\n        vertical-align: middle;\n    }\n\n    .dataframe tbody tr th {\n        vertical-align: top;\n    }\n\n    .dataframe thead th {\n        text-align: right;\n    }\n</style>\n<table border=\"1\" class=\"dataframe\">\n  <thead>\n    <tr style=\"text-align: right;\">\n      <th></th>\n      <th>location</th>\n      <th>nbr_relation</th>\n      <th>food_worry</th>\n      <th>apprch_bside</th>\n      <th>hlth_happy</th>\n      <th>chat_often</th>\n      <th>rlns_safe</th>\n      <th>age</th>\n      <th>gender</th>\n      <th>household</th>\n      <th>rln_status</th>\n      <th>work_paid</th>\n      <th>work_vol</th>\n      <th>walk_aid</th>\n      <th>imm_status</th>\n      <th>bside_dur</th>\n      <th>bside_pre</th>\n      <th>bside_pre_muni</th>\n    </tr>\n  </thead>\n  <tbody>\n    <tr>\n      <th>0</th>\n      <td>BRIDGEVIEW PLACE</td>\n      <td>2.0</td>\n      <td>1.0</td>\n      <td>1.0</td>\n      <td>2.0</td>\n      <td>2.0</td>\n      <td>4.0</td>\n      <td>8.0</td>\n      <td>1.0</td>\n      <td>1.0</td>\n      <td>1.0</td>\n      <td>3.0</td>\n      <td>3.0</td>\n      <td>2.0</td>\n      <td>1.0</td>\n      <td>4.0</td>\n      <td>2.0</td>\n      <td>1.0</td>\n    </tr>\n  </tbody>\n</table>\n</div>"
     },
     "metadata": {}
    }
   ],
   "execution_count": 3
  },
  {
   "cell_type": "code",
   "source": "# categorical = location, gender, rln_status, work_paid, work_vol, bside_pre\n# binary = household, walk_aid, imm_status, bside_pre_muni\n# ordinal = nbr_relation, food_worry, apprch_bside, hlth_happy, chat_often, rlns_safe, age,\n#      bside_dur",
   "metadata": {
    "tags": [],
    "cell_id": "00001-41f12d93-f5c3-45e5-8d57-ebc16076c19b",
    "deepnote_to_be_reexecuted": false,
    "source_hash": "c50a53cf",
    "execution_start": 1631142005699,
    "execution_millis": 3499095,
    "deepnote_cell_type": "code"
   },
   "outputs": [],
   "execution_count": 4
  },
  {
   "cell_type": "code",
   "metadata": {
    "tags": [],
    "cell_id": "00001-22e99011-e007-4be1-8da1-5c69f10dfb3a",
    "deepnote_to_be_reexecuted": false,
    "source_hash": "8f43bd10",
    "execution_start": 1631142005743,
    "execution_millis": 3499099,
    "deepnote_cell_type": "code"
   },
   "source": "# will opt not to use df visualizations straight from deepnote \n#  (no % functionality)",
   "execution_count": 5,
   "outputs": []
  },
  {
   "cell_type": "code",
   "metadata": {
    "tags": [],
    "cell_id": "00001-8ff0646b-1288-442d-be8b-d5cb4caef7ae",
    "deepnote_to_be_reexecuted": false,
    "source_hash": "1e344c48",
    "execution_start": 1631142005743,
    "execution_millis": 11,
    "deepnote_cell_type": "code"
   },
   "source": "# variable likely most interesting is location -> use as basis for comparison\nloc = data.location.value_counts()\nloc",
   "outputs": [
    {
     "output_type": "execute_result",
     "execution_count": 6,
     "data": {
      "text/plain": "BRIDGEVIEW PLACE        24\nCOLEOPY PARK            19\nCOLLINGWOOD TOWER       16\nLIONS VIEW BLDG I       15\nLIONS VIEW BLDG II      15\nGORDONFAHRNI            13\nMORELAND KENNEDY        11\nGLYNN MANOR             11\nLIONS VIEW BLDG III     10\nWALLACE WILSON           9\nSOROPTIMIST LIONS        9\nMOUNT PLEASANT           9\nALICE SAUNDERS           7\nARBUTUS COURT            7\nLONDONDERRY              7\nMAGNOLO MANOR            7\nBURRARD MANOR            6\nLOYAL ORANGE             5\nHARWOOD MANOR            5\nFLORENCE MANOR           5\nMACLEOD MANOR            4\nMUIR MANOR               4\nKINGS DAUGHTERS          2\nWILSON HEIGHTS MANOR     1\nEDWARD BYERS             1\nFIRST LUTHERAN COURT     1\nName: location, dtype: int64"
     },
     "metadata": {}
    }
   ],
   "execution_count": 6
  },
  {
   "cell_type": "code",
   "metadata": {
    "tags": [],
    "cell_id": "00003-e934eae6-1faa-4e5f-9c02-5797a91c627f",
    "deepnote_to_be_reexecuted": false,
    "source_hash": "eb75f547",
    "execution_start": 1631142005744,
    "execution_millis": 517,
    "deepnote_cell_type": "code"
   },
   "source": "perc = (loc / loc.sum())*100\nplt.figure(figsize=(10,5))\nperc.plot(kind='bar',rot=83)\nplt.xlabel('location')\nplt.ylabel('%')\nplt.title('Respondent distribution per building');\n# majority of respondents are from Bridgeview Place and Coleopy Park\n## --> are the whole buildings managed by BS?  Assume no, because some buildings\n##     only have 1-2 respondents\n## are these respondents representative of BS population per building?",
   "outputs": [
    {
     "data": {
      "text/plain": "<Figure size 720x360 with 1 Axes>",
      "image/png": "[encoded data removed]"
     },
     "metadata": {
      "image/png": {
       "width": 615,
       "height": 470
      }
     },
     "output_type": "display_data"
    }
   ],
   "execution_count": 7
  },
  {
   "cell_type": "code",
   "metadata": {
    "tags": [],
    "cell_id": "00004-b575186b-4eb0-4895-8a91-484ac041841a",
    "deepnote_to_be_reexecuted": false,
    "source_hash": "1b3fd915",
    "execution_start": 1631142006295,
    "execution_millis": 531,
    "deepnote_cell_type": "code"
   },
   "source": "data.iloc[:,:5].hist(figsize = (5,3))\nplt.subplots_adjust(hspace= 0.6,wspace=0.3)\n# nbr relation 2 = no change\n# food_worry 'I worried about not being able to get enough to eat' \n#  --> suggest make question simpler! \n#  1 = never --> ie, not worried about food\n# apprc_bside 'How approachable do you think Brightside is?'\n#  1 = very approachable  --> good results\n# hlth_happy 'rate your happiness'\n#  1 = very happy --> most are happy or neutral",
   "outputs": [
    {
     "data": {
      "text/plain": "<Figure size 360x216 with 4 Axes>",
      "image/png": "[encoded data removed]"
     },
     "metadata": {
      "image/png": {
       "width": 323,
       "height": 212
      }
     },
     "output_type": "display_data"
    }
   ],
   "execution_count": 8
  },
  {
   "cell_type": "code",
   "metadata": {
    "tags": [],
    "cell_id": "00005-8add3218-a52e-4c6d-b236-a45d28d4eec9",
    "deepnote_to_be_reexecuted": false,
    "source_hash": "a5637fe1",
    "execution_start": 1631142006817,
    "execution_millis": 615,
    "deepnote_cell_type": "code"
   },
   "source": "data.iloc[:,5:9].hist(figsize = (5,3))\nplt.subplots_adjust(hspace= 0.6,wspace=0.3)\n# chat often:  how often do you have conversations with your neighbours\n# 1 = everyday, 2 = a few times per week  --> acceptable social interaction\n# rlns_safe: feel safe living in this building\n# 1 = strongly disagree, 4 = agree  --> tenants feel safe\n# age 5 = 35-44, 6 = 45-54, 7 = 55-64, 8 = 65-74, 9 = >75\n#   --> most are aged >55\n# gender: 'which gender do you identify'\n# 1= female, 2=male",
   "outputs": [
    {
     "data": {
      "text/plain": "<Figure size 360x216 with 4 Axes>",
      "image/png": "[encoded data removed]"
     },
     "metadata": {
      "image/png": {
       "width": 323,
       "height": 212
      }
     },
     "output_type": "display_data"
    }
   ],
   "execution_count": 9
  },
  {
   "cell_type": "code",
   "metadata": {
    "tags": [],
    "cell_id": "00006-fbcddfb5-01ce-4d4f-bcf4-eb21b44f11a3",
    "deepnote_to_be_reexecuted": false,
    "source_hash": "e89053c7",
    "execution_start": 1631142007425,
    "execution_millis": 554,
    "deepnote_cell_type": "code"
   },
   "source": "data.iloc[:,9:13].hist(figsize = (5,3))\nplt.subplots_adjust(hspace= 0.6,wspace=0.3)\n# household: 'household composition'\n# 0 = not living alone, 1 = living alone  --> most live by themselves\n# rln_status: 'relationship status'\n# 1 = single, 2 = married/living-in, 3 = div/sep, 4 = widowed  --> most are single\n# work_paid: 'doing any paid work'\n# 1 = full-time, 2 = part-time, 3 = no, ret, 4 = no, not currently working --> most are retired\n# work_vol: 'doing any volunteer work'\n# 1 = full-time, 2 = part-time, 3 = no  --> most not doing vol work",
   "outputs": [
    {
     "data": {
      "text/plain": "<Figure size 360x216 with 4 Axes>",
      "image/png": "[encoded data removed]"
     },
     "metadata": {
      "image/png": {
       "width": 323,
       "height": 212
      }
     },
     "output_type": "display_data"
    }
   ],
   "execution_count": 10
  },
  {
   "cell_type": "code",
   "metadata": {
    "tags": [],
    "cell_id": "00007-36fe37fc-1bcd-4743-a0fa-9c4cabf18f65",
    "deepnote_to_be_reexecuted": false,
    "source_hash": "ff164100",
    "execution_start": 1631142007974,
    "execution_millis": 751,
    "deepnote_cell_type": "code"
   },
   "source": "data.iloc[:,13:18].hist(figsize = (5,5))\nplt.subplots_adjust(hspace= 0.6,wspace=0.3)\n# walk-aid: 'use a mobility aid when you walk'\n# 1 = yes  --> most do not require a walking aid\n# imm_status: 'immigrant to Canada'\n# 0 = yes, 1 = no  --> more than half are Canadian-born\n# bside_dur: 'How long have you lived in a Brightside building'\n# 1 = <1yr, 2 = 1-3yrs, 3 = 4-6yrs, 4 = >6yrs  --> majority are long-term tenants\n# bside-pre: 'type of housing did you live in just before moving to a Brightside building'\n# 0 = other, 1 = social housing, 2 = private market housing,\n# 3 = lived with family, 4 = transitional housing, \n# 5 = couch-surfing/temp, 6 = homeless, 7 = shelter  \n#     --> majority were privately renting before going to bside\n# bside_pre_muni: 'municipality did you live in just before moving to the Brightside building'\n# 0 = other, 1 = Vancouver  --> most were from Vancouver",
   "outputs": [
    {
     "data": {
      "text/plain": "<Figure size 360x360 with 6 Axes>",
      "image/png": "[encoded data removed]"
     },
     "metadata": {
      "image/png": {
       "width": 327,
       "height": 321
      }
     },
     "output_type": "display_data"
    }
   ],
   "execution_count": 11
  },
  {
   "cell_type": "markdown",
   "source": "### Findings:\n\nMost tenants are Canadian-born, aged >55, female, single and living by themselves.\n\nMost are retirees, not doing volunteer work.\n\nMajority were not worried about food.  They had acceptable neighbourly social interactions and generally felt content and safe.\n\nMost tenants were previously renting from private companies in Vancouver\nand are now long-term Brightside clients who think that Brightside is approachable.\n\n### Limitations:\n\nFindings might be skewed by representation bias.",
   "metadata": {
    "tags": [],
    "cell_id": "00011-106a4bdb-7046-4f56-97c1-ff79cb5b0181",
    "deepnote_cell_type": "markdown"
   }
  },
  {
   "cell_type": "code",
   "source": "",
   "metadata": {
    "tags": [],
    "cell_id": "00012-4a7d9119-c45b-4b63-ae8a-296212a73161",
    "deepnote_to_be_reexecuted": false,
    "source_hash": "b623e53d",
    "execution_start": 1631142008711,
    "execution_millis": 1,
    "deepnote_cell_type": "code"
   },
   "outputs": [],
   "execution_count": 11
  },
  {
   "cell_type": "markdown",
   "source": "### Query:\nDifference in perception of approachability between properties",
   "metadata": {
    "tags": [],
    "cell_id": "00013-c65d5de2-acc6-4d5e-931b-7bab115e93be",
    "deepnote_cell_type": "markdown"
   }
  },
  {
   "cell_type": "code",
   "source": "data.groupby('location')['apprch_bside'].value_counts().sort_values(ascending=False)\n",
   "metadata": {
    "tags": [],
    "cell_id": "00012-67ca5838-4181-4016-b45c-0423153fcaa7",
    "deepnote_to_be_reexecuted": false,
    "source_hash": "ab38cda",
    "execution_start": 1631142008720,
    "execution_millis": 30,
    "deepnote_cell_type": "code"
   },
   "outputs": [
    {
     "output_type": "execute_result",
     "execution_count": 12,
     "data": {
      "text/plain": "location              apprch_bside\nBRIDGEVIEW PLACE      1.0             15\nLIONS VIEW BLDG II    2.0             12\nCOLEOPY PARK          2.0              8\nLIONS VIEW BLDG I     1.0              7\nGORDONFAHRNI          1.0              7\n                                      ..\nLONDONDERRY           1.0              1\n                      2.0              1\n                      5.0              1\nLOYAL ORANGE          3.0              1\nWILSON HEIGHTS MANOR  1.0              1\nName: apprch_bside, Length: 78, dtype: int64"
     },
     "metadata": {}
    }
   ],
   "execution_count": 12
  },
  {
   "cell_type": "code",
   "source": "apprch = data.groupby('location')['apprch_bside'].value_counts().sort_values(ascending=False)\napprch[0]",
   "metadata": {
    "tags": [],
    "cell_id": "00013-b33da85c-ff6d-4c4d-80fb-d5a369eb0d96",
    "deepnote_to_be_reexecuted": false,
    "source_hash": "2f8f7649",
    "execution_start": 1631142008733,
    "execution_millis": 21,
    "deepnote_cell_type": "code"
   },
   "outputs": [
    {
     "output_type": "execute_result",
     "execution_count": 13,
     "data": {
      "text/plain": "15"
     },
     "metadata": {}
    }
   ],
   "execution_count": 13
  },
  {
   "cell_type": "code",
   "source": "data.groupby('apprch_bside')['location'].value_counts().sort_index(ascending=False).head(15)\n# dissatisfied clients number between 1-4\n# need to correlate with number of occupants per building\n#   to see relative importance",
   "metadata": {
    "tags": [],
    "cell_id": "00014-046e3a77-d7c1-4896-a803-807d654c283b",
    "deepnote_to_be_reexecuted": false,
    "source_hash": "f38cfb5b",
    "execution_start": 1631142008784,
    "execution_millis": 16,
    "deepnote_cell_type": "code"
   },
   "outputs": [
    {
     "output_type": "execute_result",
     "execution_count": 14,
     "data": {
      "text/plain": "apprch_bside  location           \n5.0           WALLACE WILSON         1\n              SOROPTIMIST LIONS      1\n              MACLEOD MANOR          1\n              LONDONDERRY            1\n              LIONS VIEW BLDG III    2\n              KINGS DAUGHTERS        1\n4.0           SOROPTIMIST LIONS      1\n              MORELAND KENNEDY       2\n              LIONS VIEW BLDG II     1\n              LIONS VIEW BLDG I      1\n              HARWOOD MANOR          1\n              GLYNN MANOR            3\n              COLLINGWOOD TOWER      2\n              COLEOPY PARK           4\n              BRIDGEVIEW PLACE       1\nName: location, dtype: int64"
     },
     "metadata": {}
    }
   ],
   "execution_count": 14
  },
  {
   "cell_type": "code",
   "source": "data.groupby('location')['apprch_bside'].mean().sort_values()\napp = data.groupby('location')['apprch_bside'].mean().sort_values()\nplt.figure(figsize = (10,5))\napp.plot(kind = 'bar', rot = 85);\nplt.xlabel('location')\nplt.ylabel('mean approachability score')\nplt.title('Mean approachability perception per property, 2020');\n\n# tenants from wilson heights manor and first lutheran and florence manor\n#   are very satisfied with BS\n#  tenants from londonderry and king's daughters are least satisfied\n\n### --> merge with assets",
   "metadata": {
    "tags": [],
    "cell_id": "00017-7f1d69c1-bf1c-4ebd-b896-81c1dbcebd25",
    "deepnote_to_be_reexecuted": false,
    "source_hash": "b787a719",
    "execution_start": 1631142008785,
    "execution_millis": 578,
    "deepnote_cell_type": "code"
   },
   "outputs": [
    {
     "data": {
      "text/plain": "<Figure size 720x360 with 1 Axes>",
      "image/png": "[encoded data removed]"
     },
     "metadata": {
      "image/png": {
       "width": 616,
       "height": 470
      }
     },
     "output_type": "display_data"
    }
   ],
   "execution_count": 15
  },
  {
   "cell_type": "code",
   "source": "# compile mean for ordinals\ndf11 = data.location.value_counts()\ndf11 = df11.to_frame()\ndf11.head(3)",
   "metadata": {
    "tags": [],
    "cell_id": "00018-a8a4edac-4bd1-4777-8354-7b33df7719dd",
    "deepnote_to_be_reexecuted": false,
    "source_hash": "c4f1c12e",
    "execution_start": 1631142009358,
    "execution_millis": 19,
    "deepnote_cell_type": "code"
   },
   "outputs": [
    {
     "output_type": "execute_result",
     "execution_count": 16,
     "data": {
      "application/vnd.deepnote.dataframe.v2+json": {
       "row_count": 3,
       "column_count": 1,
       "columns": [
        {
         "name": "location",
         "dtype": "int64",
         "stats": {
          "unique_count": 3,
          "nan_count": 0,
          "min": "16",
          "max": "24",
          "histogram": [
           {
            "bin_start": 16,
            "bin_end": 16.8,
            "count": 1
           },
           {
            "bin_start": 16.8,
            "bin_end": 17.6,
            "count": 0
           },
           {
            "bin_start": 17.6,
            "bin_end": 18.4,
            "count": 0
           },
           {
            "bin_start": 18.4,
            "bin_end": 19.2,
            "count": 1
           },
           {
            "bin_start": 19.2,
            "bin_end": 20,
            "count": 0
           },
           {
            "bin_start": 20,
            "bin_end": 20.8,
            "count": 0
           },
           {
            "bin_start": 20.8,
            "bin_end": 21.6,
            "count": 0
           },
           {
            "bin_start": 21.6,
            "bin_end": 22.4,
            "count": 0
           },
           {
            "bin_start": 22.4,
            "bin_end": 23.2,
            "count": 0
           },
           {
            "bin_start": 23.2,
            "bin_end": 24,
            "count": 1
           }
          ]
         }
        },
        {
         "name": "_deepnote_index_column",
         "dtype": "object"
        }
       ],
       "rows_top": [
        {
         "location": 24,
         "_deepnote_index_column": "BRIDGEVIEW PLACE"
        },
        {
         "location": 19,
         "_deepnote_index_column": "COLEOPY PARK"
        },
        {
         "location": 16,
         "_deepnote_index_column": "COLLINGWOOD TOWER"
        }
       ],
       "rows_bottom": null
      },
      "text/plain": "                   location\nBRIDGEVIEW PLACE         24\nCOLEOPY PARK             19\nCOLLINGWOOD TOWER        16",
      "text/html": "<div>\n<style scoped>\n    .dataframe tbody tr th:only-of-type {\n        vertical-align: middle;\n    }\n\n    .dataframe tbody tr th {\n        vertical-align: top;\n    }\n\n    .dataframe thead th {\n        text-align: right;\n    }\n</style>\n<table border=\"1\" class=\"dataframe\">\n  <thead>\n    <tr style=\"text-align: right;\">\n      <th></th>\n      <th>location</th>\n    </tr>\n  </thead>\n  <tbody>\n    <tr>\n      <th>BRIDGEVIEW PLACE</th>\n      <td>24</td>\n    </tr>\n    <tr>\n      <th>COLEOPY PARK</th>\n      <td>19</td>\n    </tr>\n    <tr>\n      <th>COLLINGWOOD TOWER</th>\n      <td>16</td>\n    </tr>\n  </tbody>\n</table>\n</div>"
     },
     "metadata": {}
    }
   ],
   "execution_count": 16
  },
  {
   "cell_type": "code",
   "source": "df11.rename(columns = {'location':'num_resp'},inplace=True)\ndf11.head(1)",
   "metadata": {
    "tags": [],
    "cell_id": "00020-ad658676-68c7-4c40-a289-f418ad523c27",
    "deepnote_to_be_reexecuted": false,
    "source_hash": "67c98a2b",
    "execution_start": 1631142009381,
    "execution_millis": 15,
    "deepnote_cell_type": "code"
   },
   "outputs": [
    {
     "output_type": "execute_result",
     "execution_count": 17,
     "data": {
      "application/vnd.deepnote.dataframe.v2+json": {
       "row_count": 1,
       "column_count": 1,
       "columns": [
        {
         "name": "num_resp",
         "dtype": "int64",
         "stats": {
          "unique_count": 1,
          "nan_count": 0,
          "min": "24",
          "max": "24",
          "histogram": [
           {
            "bin_start": 23.5,
            "bin_end": 23.6,
            "count": 0
           },
           {
            "bin_start": 23.6,
            "bin_end": 23.7,
            "count": 0
           },
           {
            "bin_start": 23.7,
            "bin_end": 23.8,
            "count": 0
           },
           {
            "bin_start": 23.8,
            "bin_end": 23.9,
            "count": 0
           },
           {
            "bin_start": 23.9,
            "bin_end": 24,
            "count": 0
           },
           {
            "bin_start": 24,
            "bin_end": 24.1,
            "count": 1
           },
           {
            "bin_start": 24.1,
            "bin_end": 24.2,
            "count": 0
           },
           {
            "bin_start": 24.2,
            "bin_end": 24.3,
            "count": 0
           },
           {
            "bin_start": 24.3,
            "bin_end": 24.4,
            "count": 0
           },
           {
            "bin_start": 24.4,
            "bin_end": 24.5,
            "count": 0
           }
          ]
         }
        },
        {
         "name": "_deepnote_index_column",
         "dtype": "object"
        }
       ],
       "rows_top": [
        {
         "num_resp": 24,
         "_deepnote_index_column": "BRIDGEVIEW PLACE"
        }
       ],
       "rows_bottom": null
      },
      "text/plain": "                  num_resp\nBRIDGEVIEW PLACE        24",
      "text/html": "<div>\n<style scoped>\n    .dataframe tbody tr th:only-of-type {\n        vertical-align: middle;\n    }\n\n    .dataframe tbody tr th {\n        vertical-align: top;\n    }\n\n    .dataframe thead th {\n        text-align: right;\n    }\n</style>\n<table border=\"1\" class=\"dataframe\">\n  <thead>\n    <tr style=\"text-align: right;\">\n      <th></th>\n      <th>num_resp</th>\n    </tr>\n  </thead>\n  <tbody>\n    <tr>\n      <th>BRIDGEVIEW PLACE</th>\n      <td>24</td>\n    </tr>\n  </tbody>\n</table>\n</div>"
     },
     "metadata": {}
    }
   ],
   "execution_count": 17
  },
  {
   "cell_type": "code",
   "source": "ordinal = ['nbr_relation', 'food_worry', 'apprch_bside', 'hlth_happy',\n  'chat_often', 'rlns_safe', 'age','bside_dur']\nfor o in ordinal:\n    df11[o]= data.groupby('location')[o].mean().round(1)\ndf11.head(3)",
   "metadata": {
    "tags": [],
    "cell_id": "00020-638492f4-6f6e-416b-ac0b-5a272bb5e5de",
    "deepnote_to_be_reexecuted": false,
    "source_hash": "7934ba3c",
    "execution_start": 1631142009426,
    "execution_millis": 21,
    "deepnote_cell_type": "code"
   },
   "outputs": [
    {
     "output_type": "execute_result",
     "execution_count": 18,
     "data": {
      "application/vnd.deepnote.dataframe.v2+json": {
       "row_count": 3,
       "column_count": 9,
       "columns": [
        {
         "name": "num_resp",
         "dtype": "int64",
         "stats": {
          "unique_count": 3,
          "nan_count": 0,
          "min": "16",
          "max": "24",
          "histogram": [
           {
            "bin_start": 16,
            "bin_end": 16.8,
            "count": 1
           },
           {
            "bin_start": 16.8,
            "bin_end": 17.6,
            "count": 0
           },
           {
            "bin_start": 17.6,
            "bin_end": 18.4,
            "count": 0
           },
           {
            "bin_start": 18.4,
            "bin_end": 19.2,
            "count": 1
           },
           {
            "bin_start": 19.2,
            "bin_end": 20,
            "count": 0
           },
           {
            "bin_start": 20,
            "bin_end": 20.8,
            "count": 0
           },
           {
            "bin_start": 20.8,
            "bin_end": 21.6,
            "count": 0
           },
           {
            "bin_start": 21.6,
            "bin_end": 22.4,
            "count": 0
           },
           {
            "bin_start": 22.4,
            "bin_end": 23.2,
            "count": 0
           },
           {
            "bin_start": 23.2,
            "bin_end": 24,
            "count": 1
           }
          ]
         }
        },
        {
         "name": "nbr_relation",
         "dtype": "float64",
         "stats": {
          "unique_count": 3,
          "nan_count": 0,
          "min": "1.9",
          "max": "2.1",
          "histogram": [
           {
            "bin_start": 1.9,
            "bin_end": 1.92,
            "count": 1
           },
           {
            "bin_start": 1.92,
            "bin_end": 1.94,
            "count": 0
           },
           {
            "bin_start": 1.94,
            "bin_end": 1.96,
            "count": 0
           },
           {
            "bin_start": 1.96,
            "bin_end": 1.98,
            "count": 0
           },
           {
            "bin_start": 1.98,
            "bin_end": 2,
            "count": 0
           },
           {
            "bin_start": 2,
            "bin_end": 2.02,
            "count": 1
           },
           {
            "bin_start": 2.02,
            "bin_end": 2.04,
            "count": 0
           },
           {
            "bin_start": 2.04,
            "bin_end": 2.06,
            "count": 0
           },
           {
            "bin_start": 2.06,
            "bin_end": 2.08,
            "count": 0
           },
           {
            "bin_start": 2.08,
            "bin_end": 2.1,
            "count": 1
           }
          ]
         }
        },
        {
         "name": "food_worry",
         "dtype": "float64",
         "stats": {
          "unique_count": 3,
          "nan_count": 0,
          "min": "1.2",
          "max": "1.8",
          "histogram": [
           {
            "bin_start": 1.2,
            "bin_end": 1.26,
            "count": 1
           },
           {
            "bin_start": 1.26,
            "bin_end": 1.32,
            "count": 0
           },
           {
            "bin_start": 1.32,
            "bin_end": 1.38,
            "count": 0
           },
           {
            "bin_start": 1.38,
            "bin_end": 1.44,
            "count": 1
           },
           {
            "bin_start": 1.44,
            "bin_end": 1.5,
            "count": 0
           },
           {
            "bin_start": 1.5,
            "bin_end": 1.56,
            "count": 0
           },
           {
            "bin_start": 1.56,
            "bin_end": 1.62,
            "count": 0
           },
           {
            "bin_start": 1.62,
            "bin_end": 1.6800000000000002,
            "count": 0
           },
           {
            "bin_start": 1.6800000000000002,
            "bin_end": 1.7400000000000002,
            "count": 0
           },
           {
            "bin_start": 1.7400000000000002,
            "bin_end": 1.8,
            "count": 1
           }
          ]
         }
        },
        {
         "name": "apprch_bside",
         "dtype": "float64",
         "stats": {
          "unique_count": 2,
          "nan_count": 0,
          "min": "1.6",
          "max": "2.4",
          "histogram": [
           {
            "bin_start": 1.6,
            "bin_end": 1.6800000000000002,
            "count": 1
           },
           {
            "bin_start": 1.6800000000000002,
            "bin_end": 1.76,
            "count": 0
           },
           {
            "bin_start": 1.76,
            "bin_end": 1.84,
            "count": 0
           },
           {
            "bin_start": 1.84,
            "bin_end": 1.92,
            "count": 0
           },
           {
            "bin_start": 1.92,
            "bin_end": 2,
            "count": 0
           },
           {
            "bin_start": 2,
            "bin_end": 2.08,
            "count": 0
           },
           {
            "bin_start": 2.08,
            "bin_end": 2.16,
            "count": 0
           },
           {
            "bin_start": 2.16,
            "bin_end": 2.24,
            "count": 0
           },
           {
            "bin_start": 2.24,
            "bin_end": 2.32,
            "count": 0
           },
           {
            "bin_start": 2.32,
            "bin_end": 2.4,
            "count": 2
           }
          ]
         }
        },
        {
         "name": "hlth_happy",
         "dtype": "float64",
         "stats": {
          "unique_count": 3,
          "nan_count": 0,
          "min": "2.5",
          "max": "2.8",
          "histogram": [
           {
            "bin_start": 2.5,
            "bin_end": 2.53,
            "count": 1
           },
           {
            "bin_start": 2.53,
            "bin_end": 2.56,
            "count": 0
           },
           {
            "bin_start": 2.56,
            "bin_end": 2.59,
            "count": 0
           },
           {
            "bin_start": 2.59,
            "bin_end": 2.62,
            "count": 0
           },
           {
            "bin_start": 2.62,
            "bin_end": 2.65,
            "count": 0
           },
           {
            "bin_start": 2.65,
            "bin_end": 2.6799999999999997,
            "count": 0
           },
           {
            "bin_start": 2.6799999999999997,
            "bin_end": 2.71,
            "count": 1
           },
           {
            "bin_start": 2.71,
            "bin_end": 2.7399999999999998,
            "count": 0
           },
           {
            "bin_start": 2.7399999999999998,
            "bin_end": 2.77,
            "count": 0
           },
           {
            "bin_start": 2.77,
            "bin_end": 2.8,
            "count": 1
           }
          ]
         }
        },
        {
         "name": "chat_often",
         "dtype": "float64",
         "stats": {
          "unique_count": 3,
          "nan_count": 0,
          "min": "1.7",
          "max": "2.4",
          "histogram": [
           {
            "bin_start": 1.7,
            "bin_end": 1.77,
            "count": 1
           },
           {
            "bin_start": 1.77,
            "bin_end": 1.8399999999999999,
            "count": 0
           },
           {
            "bin_start": 1.8399999999999999,
            "bin_end": 1.91,
            "count": 0
           },
           {
            "bin_start": 1.91,
            "bin_end": 1.98,
            "count": 0
           },
           {
            "bin_start": 1.98,
            "bin_end": 2.05,
            "count": 1
           },
           {
            "bin_start": 2.05,
            "bin_end": 2.12,
            "count": 0
           },
           {
            "bin_start": 2.12,
            "bin_end": 2.19,
            "count": 0
           },
           {
            "bin_start": 2.19,
            "bin_end": 2.26,
            "count": 0
           },
           {
            "bin_start": 2.26,
            "bin_end": 2.33,
            "count": 0
           },
           {
            "bin_start": 2.33,
            "bin_end": 2.4,
            "count": 1
           }
          ]
         }
        },
        {
         "name": "rlns_safe",
         "dtype": "float64",
         "stats": {
          "unique_count": 3,
          "nan_count": 0,
          "min": "3.6",
          "max": "4.2",
          "histogram": [
           {
            "bin_start": 3.6,
            "bin_end": 3.66,
            "count": 1
           },
           {
            "bin_start": 3.66,
            "bin_end": 3.72,
            "count": 0
           },
           {
            "bin_start": 3.72,
            "bin_end": 3.7800000000000002,
            "count": 0
           },
           {
            "bin_start": 3.7800000000000002,
            "bin_end": 3.8400000000000003,
            "count": 0
           },
           {
            "bin_start": 3.8400000000000003,
            "bin_end": 3.9000000000000004,
            "count": 0
           },
           {
            "bin_start": 3.9000000000000004,
            "bin_end": 3.96,
            "count": 0
           },
           {
            "bin_start": 3.96,
            "bin_end": 4.0200000000000005,
            "count": 1
           },
           {
            "bin_start": 4.0200000000000005,
            "bin_end": 4.08,
            "count": 0
           },
           {
            "bin_start": 4.08,
            "bin_end": 4.140000000000001,
            "count": 0
           },
           {
            "bin_start": 4.140000000000001,
            "bin_end": 4.2,
            "count": 1
           }
          ]
         }
        },
        {
         "name": "age",
         "dtype": "float64",
         "stats": {
          "unique_count": 3,
          "nan_count": 0,
          "min": "7.8",
          "max": "8.3",
          "histogram": [
           {
            "bin_start": 7.8,
            "bin_end": 7.85,
            "count": 1
           },
           {
            "bin_start": 7.85,
            "bin_end": 7.9,
            "count": 0
           },
           {
            "bin_start": 7.9,
            "bin_end": 7.95,
            "count": 0
           },
           {
            "bin_start": 7.95,
            "bin_end": 8,
            "count": 0
           },
           {
            "bin_start": 8,
            "bin_end": 8.05,
            "count": 1
           },
           {
            "bin_start": 8.05,
            "bin_end": 8.1,
            "count": 0
           },
           {
            "bin_start": 8.1,
            "bin_end": 8.15,
            "count": 0
           },
           {
            "bin_start": 8.15,
            "bin_end": 8.200000000000001,
            "count": 0
           },
           {
            "bin_start": 8.200000000000001,
            "bin_end": 8.25,
            "count": 0
           },
           {
            "bin_start": 8.25,
            "bin_end": 8.3,
            "count": 1
           }
          ]
         }
        },
        {
         "name": "bside_dur",
         "dtype": "float64",
         "stats": {
          "unique_count": 3,
          "nan_count": 0,
          "min": "3.3",
          "max": "3.7",
          "histogram": [
           {
            "bin_start": 3.3,
            "bin_end": 3.34,
            "count": 1
           },
           {
            "bin_start": 3.34,
            "bin_end": 3.38,
            "count": 0
           },
           {
            "bin_start": 3.38,
            "bin_end": 3.42,
            "count": 0
           },
           {
            "bin_start": 3.42,
            "bin_end": 3.46,
            "count": 0
           },
           {
            "bin_start": 3.46,
            "bin_end": 3.5,
            "count": 0
           },
           {
            "bin_start": 3.5,
            "bin_end": 3.54,
            "count": 1
           },
           {
            "bin_start": 3.54,
            "bin_end": 3.58,
            "count": 0
           },
           {
            "bin_start": 3.58,
            "bin_end": 3.62,
            "count": 0
           },
           {
            "bin_start": 3.62,
            "bin_end": 3.66,
            "count": 0
           },
           {
            "bin_start": 3.66,
            "bin_end": 3.7,
            "count": 1
           }
          ]
         }
        },
        {
         "name": "_deepnote_index_column",
         "dtype": "object"
        }
       ],
       "rows_top": [
        {
         "num_resp": 24,
         "nbr_relation": 2.1,
         "food_worry": 1.2,
         "apprch_bside": 1.6,
         "hlth_happy": 2.5,
         "chat_often": 1.7,
         "rlns_safe": 4.2,
         "age": 8,
         "bside_dur": 3.7,
         "_deepnote_index_column": "BRIDGEVIEW PLACE"
        },
        {
         "num_resp": 19,
         "nbr_relation": 1.9,
         "food_worry": 1.8,
         "apprch_bside": 2.4,
         "hlth_happy": 2.8,
         "chat_often": 2.4,
         "rlns_safe": 4,
         "age": 7.8,
         "bside_dur": 3.5,
         "_deepnote_index_column": "COLEOPY PARK"
        },
        {
         "num_resp": 16,
         "nbr_relation": 2,
         "food_worry": 1.4,
         "apprch_bside": 2.4,
         "hlth_happy": 2.7,
         "chat_often": 2,
         "rlns_safe": 3.6,
         "age": 8.3,
         "bside_dur": 3.3,
         "_deepnote_index_column": "COLLINGWOOD TOWER"
        }
       ],
       "rows_bottom": null
      },
      "text/plain": "                   num_resp  nbr_relation  food_worry  apprch_bside  \\\nBRIDGEVIEW PLACE         24           2.1         1.2           1.6   \nCOLEOPY PARK             19           1.9         1.8           2.4   \nCOLLINGWOOD TOWER        16           2.0         1.4           2.4   \n\n                   hlth_happy  chat_often  rlns_safe  age  bside_dur  \nBRIDGEVIEW PLACE          2.5         1.7        4.2  8.0        3.7  \nCOLEOPY PARK              2.8         2.4        4.0  7.8        3.5  \nCOLLINGWOOD TOWER         2.7         2.0        3.6  8.3        3.3  ",
      "text/html": "<div>\n<style scoped>\n    .dataframe tbody tr th:only-of-type {\n        vertical-align: middle;\n    }\n\n    .dataframe tbody tr th {\n        vertical-align: top;\n    }\n\n    .dataframe thead th {\n        text-align: right;\n    }\n</style>\n<table border=\"1\" class=\"dataframe\">\n  <thead>\n    <tr style=\"text-align: right;\">\n      <th></th>\n      <th>num_resp</th>\n      <th>nbr_relation</th>\n      <th>food_worry</th>\n      <th>apprch_bside</th>\n      <th>hlth_happy</th>\n      <th>chat_often</th>\n      <th>rlns_safe</th>\n      <th>age</th>\n      <th>bside_dur</th>\n    </tr>\n  </thead>\n  <tbody>\n    <tr>\n      <th>BRIDGEVIEW PLACE</th>\n      <td>24</td>\n      <td>2.1</td>\n      <td>1.2</td>\n      <td>1.6</td>\n      <td>2.5</td>\n      <td>1.7</td>\n      <td>4.2</td>\n      <td>8.0</td>\n      <td>3.7</td>\n    </tr>\n    <tr>\n      <th>COLEOPY PARK</th>\n      <td>19</td>\n      <td>1.9</td>\n      <td>1.8</td>\n      <td>2.4</td>\n      <td>2.8</td>\n      <td>2.4</td>\n      <td>4.0</td>\n      <td>7.8</td>\n      <td>3.5</td>\n    </tr>\n    <tr>\n      <th>COLLINGWOOD TOWER</th>\n      <td>16</td>\n      <td>2.0</td>\n      <td>1.4</td>\n      <td>2.4</td>\n      <td>2.7</td>\n      <td>2.0</td>\n      <td>3.6</td>\n      <td>8.3</td>\n      <td>3.3</td>\n    </tr>\n  </tbody>\n</table>\n</div>"
     },
     "metadata": {}
    }
   ],
   "execution_count": 18
  },
  {
   "cell_type": "code",
   "source": "# a bit of a stretch, but try to include binaries\nbinary = ['household', 'walk_aid', 'imm_status', 'bside_pre_muni']\nfor b in binary:\n    df11[b]= data.groupby('location')[b].mean().round(1)\ndf11.head(3)",
   "metadata": {
    "tags": [],
    "cell_id": "00021-1b18e305-e72b-47b5-acdf-b013bdd3caf2",
    "deepnote_to_be_reexecuted": false,
    "source_hash": "96ef4d86",
    "execution_start": 1631142009436,
    "execution_millis": 53,
    "deepnote_cell_type": "code"
   },
   "outputs": [
    {
     "output_type": "execute_result",
     "execution_count": 19,
     "data": {
      "application/vnd.deepnote.dataframe.v2+json": {
       "row_count": 3,
       "column_count": 13,
       "columns": [
        {
         "name": "num_resp",
         "dtype": "int64",
         "stats": {
          "unique_count": 3,
          "nan_count": 0,
          "min": "16",
          "max": "24",
          "histogram": [
           {
            "bin_start": 16,
            "bin_end": 16.8,
            "count": 1
           },
           {
            "bin_start": 16.8,
            "bin_end": 17.6,
            "count": 0
           },
           {
            "bin_start": 17.6,
            "bin_end": 18.4,
            "count": 0
           },
           {
            "bin_start": 18.4,
            "bin_end": 19.2,
            "count": 1
           },
           {
            "bin_start": 19.2,
            "bin_end": 20,
            "count": 0
           },
           {
            "bin_start": 20,
            "bin_end": 20.8,
            "count": 0
           },
           {
            "bin_start": 20.8,
            "bin_end": 21.6,
            "count": 0
           },
           {
            "bin_start": 21.6,
            "bin_end": 22.4,
            "count": 0
           },
           {
            "bin_start": 22.4,
            "bin_end": 23.2,
            "count": 0
           },
           {
            "bin_start": 23.2,
            "bin_end": 24,
            "count": 1
           }
          ]
         }
        },
        {
         "name": "nbr_relation",
         "dtype": "float64",
         "stats": {
          "unique_count": 3,
          "nan_count": 0,
          "min": "1.9",
          "max": "2.1",
          "histogram": [
           {
            "bin_start": 1.9,
            "bin_end": 1.92,
            "count": 1
           },
           {
            "bin_start": 1.92,
            "bin_end": 1.94,
            "count": 0
           },
           {
            "bin_start": 1.94,
            "bin_end": 1.96,
            "count": 0
           },
           {
            "bin_start": 1.96,
            "bin_end": 1.98,
            "count": 0
           },
           {
            "bin_start": 1.98,
            "bin_end": 2,
            "count": 0
           },
           {
            "bin_start": 2,
            "bin_end": 2.02,
            "count": 1
           },
           {
            "bin_start": 2.02,
            "bin_end": 2.04,
            "count": 0
           },
           {
            "bin_start": 2.04,
            "bin_end": 2.06,
            "count": 0
           },
           {
            "bin_start": 2.06,
            "bin_end": 2.08,
            "count": 0
           },
           {
            "bin_start": 2.08,
            "bin_end": 2.1,
            "count": 1
           }
          ]
         }
        },
        {
         "name": "food_worry",
         "dtype": "float64",
         "stats": {
          "unique_count": 3,
          "nan_count": 0,
          "min": "1.2",
          "max": "1.8",
          "histogram": [
           {
            "bin_start": 1.2,
            "bin_end": 1.26,
            "count": 1
           },
           {
            "bin_start": 1.26,
            "bin_end": 1.32,
            "count": 0
           },
           {
            "bin_start": 1.32,
            "bin_end": 1.38,
            "count": 0
           },
           {
            "bin_start": 1.38,
            "bin_end": 1.44,
            "count": 1
           },
           {
            "bin_start": 1.44,
            "bin_end": 1.5,
            "count": 0
           },
           {
            "bin_start": 1.5,
            "bin_end": 1.56,
            "count": 0
           },
           {
            "bin_start": 1.56,
            "bin_end": 1.62,
            "count": 0
           },
           {
            "bin_start": 1.62,
            "bin_end": 1.6800000000000002,
            "count": 0
           },
           {
            "bin_start": 1.6800000000000002,
            "bin_end": 1.7400000000000002,
            "count": 0
           },
           {
            "bin_start": 1.7400000000000002,
            "bin_end": 1.8,
            "count": 1
           }
          ]
         }
        },
        {
         "name": "apprch_bside",
         "dtype": "float64",
         "stats": {
          "unique_count": 2,
          "nan_count": 0,
          "min": "1.6",
          "max": "2.4",
          "histogram": [
           {
            "bin_start": 1.6,
            "bin_end": 1.6800000000000002,
            "count": 1
           },
           {
            "bin_start": 1.6800000000000002,
            "bin_end": 1.76,
            "count": 0
           },
           {
            "bin_start": 1.76,
            "bin_end": 1.84,
            "count": 0
           },
           {
            "bin_start": 1.84,
            "bin_end": 1.92,
            "count": 0
           },
           {
            "bin_start": 1.92,
            "bin_end": 2,
            "count": 0
           },
           {
            "bin_start": 2,
            "bin_end": 2.08,
            "count": 0
           },
           {
            "bin_start": 2.08,
            "bin_end": 2.16,
            "count": 0
           },
           {
            "bin_start": 2.16,
            "bin_end": 2.24,
            "count": 0
           },
           {
            "bin_start": 2.24,
            "bin_end": 2.32,
            "count": 0
           },
           {
            "bin_start": 2.32,
            "bin_end": 2.4,
            "count": 2
           }
          ]
         }
        },
        {
         "name": "hlth_happy",
         "dtype": "float64",
         "stats": {
          "unique_count": 3,
          "nan_count": 0,
          "min": "2.5",
          "max": "2.8",
          "histogram": [
           {
            "bin_start": 2.5,
            "bin_end": 2.53,
            "count": 1
           },
           {
            "bin_start": 2.53,
            "bin_end": 2.56,
            "count": 0
           },
           {
            "bin_start": 2.56,
            "bin_end": 2.59,
            "count": 0
           },
           {
            "bin_start": 2.59,
            "bin_end": 2.62,
            "count": 0
           },
           {
            "bin_start": 2.62,
            "bin_end": 2.65,
            "count": 0
           },
           {
            "bin_start": 2.65,
            "bin_end": 2.6799999999999997,
            "count": 0
           },
           {
            "bin_start": 2.6799999999999997,
            "bin_end": 2.71,
            "count": 1
           },
           {
            "bin_start": 2.71,
            "bin_end": 2.7399999999999998,
            "count": 0
           },
           {
            "bin_start": 2.7399999999999998,
            "bin_end": 2.77,
            "count": 0
           },
           {
            "bin_start": 2.77,
            "bin_end": 2.8,
            "count": 1
           }
          ]
         }
        },
        {
         "name": "chat_often",
         "dtype": "float64",
         "stats": {
          "unique_count": 3,
          "nan_count": 0,
          "min": "1.7",
          "max": "2.4",
          "histogram": [
           {
            "bin_start": 1.7,
            "bin_end": 1.77,
            "count": 1
           },
           {
            "bin_start": 1.77,
            "bin_end": 1.8399999999999999,
            "count": 0
           },
           {
            "bin_start": 1.8399999999999999,
            "bin_end": 1.91,
            "count": 0
           },
           {
            "bin_start": 1.91,
            "bin_end": 1.98,
            "count": 0
           },
           {
            "bin_start": 1.98,
            "bin_end": 2.05,
            "count": 1
           },
           {
            "bin_start": 2.05,
            "bin_end": 2.12,
            "count": 0
           },
           {
            "bin_start": 2.12,
            "bin_end": 2.19,
            "count": 0
           },
           {
            "bin_start": 2.19,
            "bin_end": 2.26,
            "count": 0
           },
           {
            "bin_start": 2.26,
            "bin_end": 2.33,
            "count": 0
           },
           {
            "bin_start": 2.33,
            "bin_end": 2.4,
            "count": 1
           }
          ]
         }
        },
        {
         "name": "rlns_safe",
         "dtype": "float64",
         "stats": {
          "unique_count": 3,
          "nan_count": 0,
          "min": "3.6",
          "max": "4.2",
          "histogram": [
           {
            "bin_start": 3.6,
            "bin_end": 3.66,
            "count": 1
           },
           {
            "bin_start": 3.66,
            "bin_end": 3.72,
            "count": 0
           },
           {
            "bin_start": 3.72,
            "bin_end": 3.7800000000000002,
            "count": 0
           },
           {
            "bin_start": 3.7800000000000002,
            "bin_end": 3.8400000000000003,
            "count": 0
           },
           {
            "bin_start": 3.8400000000000003,
            "bin_end": 3.9000000000000004,
            "count": 0
           },
           {
            "bin_start": 3.9000000000000004,
            "bin_end": 3.96,
            "count": 0
           },
           {
            "bin_start": 3.96,
            "bin_end": 4.0200000000000005,
            "count": 1
           },
           {
            "bin_start": 4.0200000000000005,
            "bin_end": 4.08,
            "count": 0
           },
           {
            "bin_start": 4.08,
            "bin_end": 4.140000000000001,
            "count": 0
           },
           {
            "bin_start": 4.140000000000001,
            "bin_end": 4.2,
            "count": 1
           }
          ]
         }
        },
        {
         "name": "age",
         "dtype": "float64",
         "stats": {
          "unique_count": 3,
          "nan_count": 0,
          "min": "7.8",
          "max": "8.3",
          "histogram": [
           {
            "bin_start": 7.8,
            "bin_end": 7.85,
            "count": 1
           },
           {
            "bin_start": 7.85,
            "bin_end": 7.9,
            "count": 0
           },
           {
            "bin_start": 7.9,
            "bin_end": 7.95,
            "count": 0
           },
           {
            "bin_start": 7.95,
            "bin_end": 8,
            "count": 0
           },
           {
            "bin_start": 8,
            "bin_end": 8.05,
            "count": 1
           },
           {
            "bin_start": 8.05,
            "bin_end": 8.1,
            "count": 0
           },
           {
            "bin_start": 8.1,
            "bin_end": 8.15,
            "count": 0
           },
           {
            "bin_start": 8.15,
            "bin_end": 8.200000000000001,
            "count": 0
           },
           {
            "bin_start": 8.200000000000001,
            "bin_end": 8.25,
            "count": 0
           },
           {
            "bin_start": 8.25,
            "bin_end": 8.3,
            "count": 1
           }
          ]
         }
        },
        {
         "name": "bside_dur",
         "dtype": "float64",
         "stats": {
          "unique_count": 3,
          "nan_count": 0,
          "min": "3.3",
          "max": "3.7",
          "histogram": [
           {
            "bin_start": 3.3,
            "bin_end": 3.34,
            "count": 1
           },
           {
            "bin_start": 3.34,
            "bin_end": 3.38,
            "count": 0
           },
           {
            "bin_start": 3.38,
            "bin_end": 3.42,
            "count": 0
           },
           {
            "bin_start": 3.42,
            "bin_end": 3.46,
            "count": 0
           },
           {
            "bin_start": 3.46,
            "bin_end": 3.5,
            "count": 0
           },
           {
            "bin_start": 3.5,
            "bin_end": 3.54,
            "count": 1
           },
           {
            "bin_start": 3.54,
            "bin_end": 3.58,
            "count": 0
           },
           {
            "bin_start": 3.58,
            "bin_end": 3.62,
            "count": 0
           },
           {
            "bin_start": 3.62,
            "bin_end": 3.66,
            "count": 0
           },
           {
            "bin_start": 3.66,
            "bin_end": 3.7,
            "count": 1
           }
          ]
         }
        },
        {
         "name": "household",
         "dtype": "float64",
         "stats": {
          "unique_count": 2,
          "nan_count": 0,
          "min": "0.8",
          "max": "0.9",
          "histogram": [
           {
            "bin_start": 0.8,
            "bin_end": 0.81,
            "count": 1
           },
           {
            "bin_start": 0.81,
            "bin_end": 0.8200000000000001,
            "count": 0
           },
           {
            "bin_start": 0.8200000000000001,
            "bin_end": 0.8300000000000001,
            "count": 0
           },
           {
            "bin_start": 0.8300000000000001,
            "bin_end": 0.8400000000000001,
            "count": 0
           },
           {
            "bin_start": 0.8400000000000001,
            "bin_end": 0.8500000000000001,
            "count": 0
           },
           {
            "bin_start": 0.8500000000000001,
            "bin_end": 0.86,
            "count": 0
           },
           {
            "bin_start": 0.86,
            "bin_end": 0.87,
            "count": 0
           },
           {
            "bin_start": 0.87,
            "bin_end": 0.88,
            "count": 0
           },
           {
            "bin_start": 0.88,
            "bin_end": 0.89,
            "count": 0
           },
           {
            "bin_start": 0.89,
            "bin_end": 0.9,
            "count": 2
           }
          ]
         }
        },
        {
         "name": "walk_aid",
         "dtype": "float64",
         "stats": {
          "unique_count": 2,
          "nan_count": 0,
          "min": "1.7",
          "max": "1.8",
          "histogram": [
           {
            "bin_start": 1.7,
            "bin_end": 1.71,
            "count": 2
           },
           {
            "bin_start": 1.71,
            "bin_end": 1.72,
            "count": 0
           },
           {
            "bin_start": 1.72,
            "bin_end": 1.73,
            "count": 0
           },
           {
            "bin_start": 1.73,
            "bin_end": 1.74,
            "count": 0
           },
           {
            "bin_start": 1.74,
            "bin_end": 1.75,
            "count": 0
           },
           {
            "bin_start": 1.75,
            "bin_end": 1.76,
            "count": 0
           },
           {
            "bin_start": 1.76,
            "bin_end": 1.77,
            "count": 0
           },
           {
            "bin_start": 1.77,
            "bin_end": 1.78,
            "count": 0
           },
           {
            "bin_start": 1.78,
            "bin_end": 1.79,
            "count": 0
           },
           {
            "bin_start": 1.79,
            "bin_end": 1.8,
            "count": 1
           }
          ]
         }
        },
        {
         "name": "imm_status",
         "dtype": "float64",
         "stats": {
          "unique_count": 3,
          "nan_count": 0,
          "min": "0.3",
          "max": "0.6",
          "histogram": [
           {
            "bin_start": 0.3,
            "bin_end": 0.32999999999999996,
            "count": 1
           },
           {
            "bin_start": 0.32999999999999996,
            "bin_end": 0.36,
            "count": 0
           },
           {
            "bin_start": 0.36,
            "bin_end": 0.39,
            "count": 0
           },
           {
            "bin_start": 0.39,
            "bin_end": 0.42,
            "count": 1
           },
           {
            "bin_start": 0.42,
            "bin_end": 0.44999999999999996,
            "count": 0
           },
           {
            "bin_start": 0.44999999999999996,
            "bin_end": 0.48,
            "count": 0
           },
           {
            "bin_start": 0.48,
            "bin_end": 0.51,
            "count": 0
           },
           {
            "bin_start": 0.51,
            "bin_end": 0.54,
            "count": 0
           },
           {
            "bin_start": 0.54,
            "bin_end": 0.5700000000000001,
            "count": 0
           },
           {
            "bin_start": 0.5700000000000001,
            "bin_end": 0.6,
            "count": 1
           }
          ]
         }
        },
        {
         "name": "bside_pre_muni",
         "dtype": "float64",
         "stats": {
          "unique_count": 2,
          "nan_count": 0,
          "min": "0.8",
          "max": "0.9",
          "histogram": [
           {
            "bin_start": 0.8,
            "bin_end": 0.81,
            "count": 2
           },
           {
            "bin_start": 0.81,
            "bin_end": 0.8200000000000001,
            "count": 0
           },
           {
            "bin_start": 0.8200000000000001,
            "bin_end": 0.8300000000000001,
            "count": 0
           },
           {
            "bin_start": 0.8300000000000001,
            "bin_end": 0.8400000000000001,
            "count": 0
           },
           {
            "bin_start": 0.8400000000000001,
            "bin_end": 0.8500000000000001,
            "count": 0
           },
           {
            "bin_start": 0.8500000000000001,
            "bin_end": 0.86,
            "count": 0
           },
           {
            "bin_start": 0.86,
            "bin_end": 0.87,
            "count": 0
           },
           {
            "bin_start": 0.87,
            "bin_end": 0.88,
            "count": 0
           },
           {
            "bin_start": 0.88,
            "bin_end": 0.89,
            "count": 0
           },
           {
            "bin_start": 0.89,
            "bin_end": 0.9,
            "count": 1
           }
          ]
         }
        },
        {
         "name": "_deepnote_index_column",
         "dtype": "object"
        }
       ],
       "rows_top": [
        {
         "num_resp": 24,
         "nbr_relation": 2.1,
         "food_worry": 1.2,
         "apprch_bside": 1.6,
         "hlth_happy": 2.5,
         "chat_often": 1.7,
         "rlns_safe": 4.2,
         "age": 8,
         "bside_dur": 3.7,
         "household": 0.9,
         "walk_aid": 1.8,
         "imm_status": 0.6,
         "bside_pre_muni": 0.8,
         "_deepnote_index_column": "BRIDGEVIEW PLACE"
        },
        {
         "num_resp": 19,
         "nbr_relation": 1.9,
         "food_worry": 1.8,
         "apprch_bside": 2.4,
         "hlth_happy": 2.8,
         "chat_often": 2.4,
         "rlns_safe": 4,
         "age": 7.8,
         "bside_dur": 3.5,
         "household": 0.8,
         "walk_aid": 1.7,
         "imm_status": 0.4,
         "bside_pre_muni": 0.8,
         "_deepnote_index_column": "COLEOPY PARK"
        },
        {
         "num_resp": 16,
         "nbr_relation": 2,
         "food_worry": 1.4,
         "apprch_bside": 2.4,
         "hlth_happy": 2.7,
         "chat_often": 2,
         "rlns_safe": 3.6,
         "age": 8.3,
         "bside_dur": 3.3,
         "household": 0.9,
         "walk_aid": 1.7,
         "imm_status": 0.3,
         "bside_pre_muni": 0.9,
         "_deepnote_index_column": "COLLINGWOOD TOWER"
        }
       ],
       "rows_bottom": null
      },
      "text/plain": "                   num_resp  nbr_relation  food_worry  apprch_bside  \\\nBRIDGEVIEW PLACE         24           2.1         1.2           1.6   \nCOLEOPY PARK             19           1.9         1.8           2.4   \nCOLLINGWOOD TOWER        16           2.0         1.4           2.4   \n\n                   hlth_happy  chat_often  rlns_safe  age  bside_dur  \\\nBRIDGEVIEW PLACE          2.5         1.7        4.2  8.0        3.7   \nCOLEOPY PARK              2.8         2.4        4.0  7.8        3.5   \nCOLLINGWOOD TOWER         2.7         2.0        3.6  8.3        3.3   \n\n                   household  walk_aid  imm_status  bside_pre_muni  \nBRIDGEVIEW PLACE         0.9       1.8         0.6             0.8  \nCOLEOPY PARK             0.8       1.7         0.4             0.8  \nCOLLINGWOOD TOWER        0.9       1.7         0.3             0.9  ",
      "text/html": "<div>\n<style scoped>\n    .dataframe tbody tr th:only-of-type {\n        vertical-align: middle;\n    }\n\n    .dataframe tbody tr th {\n        vertical-align: top;\n    }\n\n    .dataframe thead th {\n        text-align: right;\n    }\n</style>\n<table border=\"1\" class=\"dataframe\">\n  <thead>\n    <tr style=\"text-align: right;\">\n      <th></th>\n      <th>num_resp</th>\n      <th>nbr_relation</th>\n      <th>food_worry</th>\n      <th>apprch_bside</th>\n      <th>hlth_happy</th>\n      <th>chat_often</th>\n      <th>rlns_safe</th>\n      <th>age</th>\n      <th>bside_dur</th>\n      <th>household</th>\n      <th>walk_aid</th>\n      <th>imm_status</th>\n      <th>bside_pre_muni</th>\n    </tr>\n  </thead>\n  <tbody>\n    <tr>\n      <th>BRIDGEVIEW PLACE</th>\n      <td>24</td>\n      <td>2.1</td>\n      <td>1.2</td>\n      <td>1.6</td>\n      <td>2.5</td>\n      <td>1.7</td>\n      <td>4.2</td>\n      <td>8.0</td>\n      <td>3.7</td>\n      <td>0.9</td>\n      <td>1.8</td>\n      <td>0.6</td>\n      <td>0.8</td>\n    </tr>\n    <tr>\n      <th>COLEOPY PARK</th>\n      <td>19</td>\n      <td>1.9</td>\n      <td>1.8</td>\n      <td>2.4</td>\n      <td>2.8</td>\n      <td>2.4</td>\n      <td>4.0</td>\n      <td>7.8</td>\n      <td>3.5</td>\n      <td>0.8</td>\n      <td>1.7</td>\n      <td>0.4</td>\n      <td>0.8</td>\n    </tr>\n    <tr>\n      <th>COLLINGWOOD TOWER</th>\n      <td>16</td>\n      <td>2.0</td>\n      <td>1.4</td>\n      <td>2.4</td>\n      <td>2.7</td>\n      <td>2.0</td>\n      <td>3.6</td>\n      <td>8.3</td>\n      <td>3.3</td>\n      <td>0.9</td>\n      <td>1.7</td>\n      <td>0.3</td>\n      <td>0.9</td>\n    </tr>\n  </tbody>\n</table>\n</div>"
     },
     "metadata": {}
    }
   ],
   "execution_count": 19
  },
  {
   "cell_type": "code",
   "source": "df11.head()",
   "metadata": {
    "tags": [],
    "cell_id": "00022-0887c47f-54c8-453b-b537-c3c753f11066",
    "deepnote_to_be_reexecuted": false,
    "source_hash": "ad711ee0",
    "execution_start": 1631142009557,
    "execution_millis": 16,
    "deepnote_cell_type": "code"
   },
   "outputs": [
    {
     "output_type": "execute_result",
     "execution_count": 20,
     "data": {
      "application/vnd.deepnote.dataframe.v2+json": {
       "row_count": 5,
       "column_count": 13,
       "columns": [
        {
         "name": "num_resp",
         "dtype": "int64",
         "stats": {
          "unique_count": 4,
          "nan_count": 0,
          "min": "15",
          "max": "24",
          "histogram": [
           {
            "bin_start": 15,
            "bin_end": 15.9,
            "count": 2
           },
           {
            "bin_start": 15.9,
            "bin_end": 16.8,
            "count": 1
           },
           {
            "bin_start": 16.8,
            "bin_end": 17.7,
            "count": 0
           },
           {
            "bin_start": 17.7,
            "bin_end": 18.6,
            "count": 0
           },
           {
            "bin_start": 18.6,
            "bin_end": 19.5,
            "count": 1
           },
           {
            "bin_start": 19.5,
            "bin_end": 20.4,
            "count": 0
           },
           {
            "bin_start": 20.4,
            "bin_end": 21.3,
            "count": 0
           },
           {
            "bin_start": 21.3,
            "bin_end": 22.2,
            "count": 0
           },
           {
            "bin_start": 22.2,
            "bin_end": 23.1,
            "count": 0
           },
           {
            "bin_start": 23.1,
            "bin_end": 24,
            "count": 1
           }
          ]
         }
        },
        {
         "name": "nbr_relation",
         "dtype": "float64",
         "stats": {
          "unique_count": 5,
          "nan_count": 0,
          "min": "1.9",
          "max": "2.3",
          "histogram": [
           {
            "bin_start": 1.9,
            "bin_end": 1.94,
            "count": 1
           },
           {
            "bin_start": 1.94,
            "bin_end": 1.98,
            "count": 0
           },
           {
            "bin_start": 1.98,
            "bin_end": 2.02,
            "count": 1
           },
           {
            "bin_start": 2.02,
            "bin_end": 2.06,
            "count": 0
           },
           {
            "bin_start": 2.06,
            "bin_end": 2.0999999999999996,
            "count": 0
           },
           {
            "bin_start": 2.0999999999999996,
            "bin_end": 2.1399999999999997,
            "count": 1
           },
           {
            "bin_start": 2.1399999999999997,
            "bin_end": 2.1799999999999997,
            "count": 0
           },
           {
            "bin_start": 2.1799999999999997,
            "bin_end": 2.2199999999999998,
            "count": 1
           },
           {
            "bin_start": 2.2199999999999998,
            "bin_end": 2.26,
            "count": 0
           },
           {
            "bin_start": 2.26,
            "bin_end": 2.3,
            "count": 1
           }
          ]
         }
        },
        {
         "name": "food_worry",
         "dtype": "float64",
         "stats": {
          "unique_count": 5,
          "nan_count": 0,
          "min": "1.2",
          "max": "1.8",
          "histogram": [
           {
            "bin_start": 1.2,
            "bin_end": 1.26,
            "count": 1
           },
           {
            "bin_start": 1.26,
            "bin_end": 1.32,
            "count": 1
           },
           {
            "bin_start": 1.32,
            "bin_end": 1.38,
            "count": 0
           },
           {
            "bin_start": 1.38,
            "bin_end": 1.44,
            "count": 1
           },
           {
            "bin_start": 1.44,
            "bin_end": 1.5,
            "count": 0
           },
           {
            "bin_start": 1.5,
            "bin_end": 1.56,
            "count": 0
           },
           {
            "bin_start": 1.56,
            "bin_end": 1.62,
            "count": 1
           },
           {
            "bin_start": 1.62,
            "bin_end": 1.6800000000000002,
            "count": 0
           },
           {
            "bin_start": 1.6800000000000002,
            "bin_end": 1.7400000000000002,
            "count": 0
           },
           {
            "bin_start": 1.7400000000000002,
            "bin_end": 1.8,
            "count": 1
           }
          ]
         }
        },
        {
         "name": "apprch_bside",
         "dtype": "float64",
         "stats": {
          "unique_count": 4,
          "nan_count": 0,
          "min": "1.6",
          "max": "2.4",
          "histogram": [
           {
            "bin_start": 1.6,
            "bin_end": 1.6800000000000002,
            "count": 1
           },
           {
            "bin_start": 1.6800000000000002,
            "bin_end": 1.76,
            "count": 0
           },
           {
            "bin_start": 1.76,
            "bin_end": 1.84,
            "count": 0
           },
           {
            "bin_start": 1.84,
            "bin_end": 1.92,
            "count": 1
           },
           {
            "bin_start": 1.92,
            "bin_end": 2,
            "count": 0
           },
           {
            "bin_start": 2,
            "bin_end": 2.08,
            "count": 0
           },
           {
            "bin_start": 2.08,
            "bin_end": 2.16,
            "count": 1
           },
           {
            "bin_start": 2.16,
            "bin_end": 2.24,
            "count": 0
           },
           {
            "bin_start": 2.24,
            "bin_end": 2.32,
            "count": 0
           },
           {
            "bin_start": 2.32,
            "bin_end": 2.4,
            "count": 2
           }
          ]
         }
        },
        {
         "name": "hlth_happy",
         "dtype": "float64",
         "stats": {
          "unique_count": 5,
          "nan_count": 0,
          "min": "2.2",
          "max": "3.0",
          "histogram": [
           {
            "bin_start": 2.2,
            "bin_end": 2.2800000000000002,
            "count": 1
           },
           {
            "bin_start": 2.2800000000000002,
            "bin_end": 2.3600000000000003,
            "count": 0
           },
           {
            "bin_start": 2.3600000000000003,
            "bin_end": 2.44,
            "count": 0
           },
           {
            "bin_start": 2.44,
            "bin_end": 2.52,
            "count": 1
           },
           {
            "bin_start": 2.52,
            "bin_end": 2.6,
            "count": 0
           },
           {
            "bin_start": 2.6,
            "bin_end": 2.68,
            "count": 0
           },
           {
            "bin_start": 2.68,
            "bin_end": 2.7600000000000002,
            "count": 1
           },
           {
            "bin_start": 2.7600000000000002,
            "bin_end": 2.84,
            "count": 1
           },
           {
            "bin_start": 2.84,
            "bin_end": 2.92,
            "count": 0
           },
           {
            "bin_start": 2.92,
            "bin_end": 3,
            "count": 1
           }
          ]
         }
        },
        {
         "name": "chat_often",
         "dtype": "float64",
         "stats": {
          "unique_count": 5,
          "nan_count": 0,
          "min": "1.7",
          "max": "2.4",
          "histogram": [
           {
            "bin_start": 1.7,
            "bin_end": 1.77,
            "count": 1
           },
           {
            "bin_start": 1.77,
            "bin_end": 1.8399999999999999,
            "count": 0
           },
           {
            "bin_start": 1.8399999999999999,
            "bin_end": 1.91,
            "count": 1
           },
           {
            "bin_start": 1.91,
            "bin_end": 1.98,
            "count": 0
           },
           {
            "bin_start": 1.98,
            "bin_end": 2.05,
            "count": 1
           },
           {
            "bin_start": 2.05,
            "bin_end": 2.12,
            "count": 0
           },
           {
            "bin_start": 2.12,
            "bin_end": 2.19,
            "count": 0
           },
           {
            "bin_start": 2.19,
            "bin_end": 2.26,
            "count": 1
           },
           {
            "bin_start": 2.26,
            "bin_end": 2.33,
            "count": 0
           },
           {
            "bin_start": 2.33,
            "bin_end": 2.4,
            "count": 1
           }
          ]
         }
        },
        {
         "name": "rlns_safe",
         "dtype": "float64",
         "stats": {
          "unique_count": 4,
          "nan_count": 0,
          "min": "3.6",
          "max": "4.2",
          "histogram": [
           {
            "bin_start": 3.6,
            "bin_end": 3.66,
            "count": 1
           },
           {
            "bin_start": 3.66,
            "bin_end": 3.72,
            "count": 0
           },
           {
            "bin_start": 3.72,
            "bin_end": 3.7800000000000002,
            "count": 0
           },
           {
            "bin_start": 3.7800000000000002,
            "bin_end": 3.8400000000000003,
            "count": 0
           },
           {
            "bin_start": 3.8400000000000003,
            "bin_end": 3.9000000000000004,
            "count": 0
           },
           {
            "bin_start": 3.9000000000000004,
            "bin_end": 3.96,
            "count": 0
           },
           {
            "bin_start": 3.96,
            "bin_end": 4.0200000000000005,
            "count": 1
           },
           {
            "bin_start": 4.0200000000000005,
            "bin_end": 4.08,
            "count": 0
           },
           {
            "bin_start": 4.08,
            "bin_end": 4.140000000000001,
            "count": 1
           },
           {
            "bin_start": 4.140000000000001,
            "bin_end": 4.2,
            "count": 2
           }
          ]
         }
        },
        {
         "name": "age",
         "dtype": "float64",
         "stats": {
          "unique_count": 4,
          "nan_count": 0,
          "min": "7.8",
          "max": "8.3",
          "histogram": [
           {
            "bin_start": 7.8,
            "bin_end": 7.85,
            "count": 1
           },
           {
            "bin_start": 7.85,
            "bin_end": 7.9,
            "count": 0
           },
           {
            "bin_start": 7.9,
            "bin_end": 7.95,
            "count": 0
           },
           {
            "bin_start": 7.95,
            "bin_end": 8,
            "count": 0
           },
           {
            "bin_start": 8,
            "bin_end": 8.05,
            "count": 1
           },
           {
            "bin_start": 8.05,
            "bin_end": 8.1,
            "count": 0
           },
           {
            "bin_start": 8.1,
            "bin_end": 8.15,
            "count": 2
           },
           {
            "bin_start": 8.15,
            "bin_end": 8.200000000000001,
            "count": 0
           },
           {
            "bin_start": 8.200000000000001,
            "bin_end": 8.25,
            "count": 0
           },
           {
            "bin_start": 8.25,
            "bin_end": 8.3,
            "count": 1
           }
          ]
         }
        },
        {
         "name": "bside_dur",
         "dtype": "float64",
         "stats": {
          "unique_count": 3,
          "nan_count": 0,
          "min": "3.3",
          "max": "3.7",
          "histogram": [
           {
            "bin_start": 3.3,
            "bin_end": 3.34,
            "count": 1
           },
           {
            "bin_start": 3.34,
            "bin_end": 3.38,
            "count": 0
           },
           {
            "bin_start": 3.38,
            "bin_end": 3.42,
            "count": 0
           },
           {
            "bin_start": 3.42,
            "bin_end": 3.46,
            "count": 0
           },
           {
            "bin_start": 3.46,
            "bin_end": 3.5,
            "count": 0
           },
           {
            "bin_start": 3.5,
            "bin_end": 3.54,
            "count": 2
           },
           {
            "bin_start": 3.54,
            "bin_end": 3.58,
            "count": 0
           },
           {
            "bin_start": 3.58,
            "bin_end": 3.62,
            "count": 0
           },
           {
            "bin_start": 3.62,
            "bin_end": 3.66,
            "count": 0
           },
           {
            "bin_start": 3.66,
            "bin_end": 3.7,
            "count": 2
           }
          ]
         }
        },
        {
         "name": "household",
         "dtype": "float64",
         "stats": {
          "unique_count": 3,
          "nan_count": 0,
          "min": "0.8",
          "max": "1.0",
          "histogram": [
           {
            "bin_start": 0.8,
            "bin_end": 0.8200000000000001,
            "count": 1
           },
           {
            "bin_start": 0.8200000000000001,
            "bin_end": 0.8400000000000001,
            "count": 0
           },
           {
            "bin_start": 0.8400000000000001,
            "bin_end": 0.86,
            "count": 0
           },
           {
            "bin_start": 0.86,
            "bin_end": 0.88,
            "count": 0
           },
           {
            "bin_start": 0.88,
            "bin_end": 0.9,
            "count": 0
           },
           {
            "bin_start": 0.9,
            "bin_end": 0.92,
            "count": 3
           },
           {
            "bin_start": 0.92,
            "bin_end": 0.9400000000000001,
            "count": 0
           },
           {
            "bin_start": 0.9400000000000001,
            "bin_end": 0.96,
            "count": 0
           },
           {
            "bin_start": 0.96,
            "bin_end": 0.98,
            "count": 0
           },
           {
            "bin_start": 0.98,
            "bin_end": 1,
            "count": 1
           }
          ]
         }
        },
        {
         "name": "walk_aid",
         "dtype": "float64",
         "stats": {
          "unique_count": 2,
          "nan_count": 0,
          "min": "1.7",
          "max": "1.8",
          "histogram": [
           {
            "bin_start": 1.7,
            "bin_end": 1.71,
            "count": 2
           },
           {
            "bin_start": 1.71,
            "bin_end": 1.72,
            "count": 0
           },
           {
            "bin_start": 1.72,
            "bin_end": 1.73,
            "count": 0
           },
           {
            "bin_start": 1.73,
            "bin_end": 1.74,
            "count": 0
           },
           {
            "bin_start": 1.74,
            "bin_end": 1.75,
            "count": 0
           },
           {
            "bin_start": 1.75,
            "bin_end": 1.76,
            "count": 0
           },
           {
            "bin_start": 1.76,
            "bin_end": 1.77,
            "count": 0
           },
           {
            "bin_start": 1.77,
            "bin_end": 1.78,
            "count": 0
           },
           {
            "bin_start": 1.78,
            "bin_end": 1.79,
            "count": 0
           },
           {
            "bin_start": 1.79,
            "bin_end": 1.8,
            "count": 3
           }
          ]
         }
        },
        {
         "name": "imm_status",
         "dtype": "float64",
         "stats": {
          "unique_count": 3,
          "nan_count": 0,
          "min": "0.3",
          "max": "0.6",
          "histogram": [
           {
            "bin_start": 0.3,
            "bin_end": 0.32999999999999996,
            "count": 1
           },
           {
            "bin_start": 0.32999999999999996,
            "bin_end": 0.36,
            "count": 0
           },
           {
            "bin_start": 0.36,
            "bin_end": 0.39,
            "count": 0
           },
           {
            "bin_start": 0.39,
            "bin_end": 0.42,
            "count": 1
           },
           {
            "bin_start": 0.42,
            "bin_end": 0.44999999999999996,
            "count": 0
           },
           {
            "bin_start": 0.44999999999999996,
            "bin_end": 0.48,
            "count": 0
           },
           {
            "bin_start": 0.48,
            "bin_end": 0.51,
            "count": 0
           },
           {
            "bin_start": 0.51,
            "bin_end": 0.54,
            "count": 0
           },
           {
            "bin_start": 0.54,
            "bin_end": 0.5700000000000001,
            "count": 0
           },
           {
            "bin_start": 0.5700000000000001,
            "bin_end": 0.6,
            "count": 3
           }
          ]
         }
        },
        {
         "name": "bside_pre_muni",
         "dtype": "float64",
         "stats": {
          "unique_count": 3,
          "nan_count": 0,
          "min": "0.7",
          "max": "0.9",
          "histogram": [
           {
            "bin_start": 0.7,
            "bin_end": 0.72,
            "count": 1
           },
           {
            "bin_start": 0.72,
            "bin_end": 0.74,
            "count": 0
           },
           {
            "bin_start": 0.74,
            "bin_end": 0.76,
            "count": 0
           },
           {
            "bin_start": 0.76,
            "bin_end": 0.78,
            "count": 0
           },
           {
            "bin_start": 0.78,
            "bin_end": 0.8,
            "count": 0
           },
           {
            "bin_start": 0.8,
            "bin_end": 0.8200000000000001,
            "count": 3
           },
           {
            "bin_start": 0.8200000000000001,
            "bin_end": 0.84,
            "count": 0
           },
           {
            "bin_start": 0.84,
            "bin_end": 0.86,
            "count": 0
           },
           {
            "bin_start": 0.86,
            "bin_end": 0.88,
            "count": 0
           },
           {
            "bin_start": 0.88,
            "bin_end": 0.9,
            "count": 1
           }
          ]
         }
        },
        {
         "name": "_deepnote_index_column",
         "dtype": "object"
        }
       ],
       "rows_top": [
        {
         "num_resp": 24,
         "nbr_relation": 2.1,
         "food_worry": 1.2,
         "apprch_bside": 1.6,
         "hlth_happy": 2.5,
         "chat_often": 1.7,
         "rlns_safe": 4.2,
         "age": 8,
         "bside_dur": 3.7,
         "household": 0.9,
         "walk_aid": 1.8,
         "imm_status": 0.6,
         "bside_pre_muni": 0.8,
         "_deepnote_index_column": "BRIDGEVIEW PLACE"
        },
        {
         "num_resp": 19,
         "nbr_relation": 1.9,
         "food_worry": 1.8,
         "apprch_bside": 2.4,
         "hlth_happy": 2.8,
         "chat_often": 2.4,
         "rlns_safe": 4,
         "age": 7.8,
         "bside_dur": 3.5,
         "household": 0.8,
         "walk_aid": 1.7,
         "imm_status": 0.4,
         "bside_pre_muni": 0.8,
         "_deepnote_index_column": "COLEOPY PARK"
        },
        {
         "num_resp": 16,
         "nbr_relation": 2,
         "food_worry": 1.4,
         "apprch_bside": 2.4,
         "hlth_happy": 2.7,
         "chat_often": 2,
         "rlns_safe": 3.6,
         "age": 8.3,
         "bside_dur": 3.3,
         "household": 0.9,
         "walk_aid": 1.7,
         "imm_status": 0.3,
         "bside_pre_muni": 0.9,
         "_deepnote_index_column": "COLLINGWOOD TOWER"
        },
        {
         "num_resp": 15,
         "nbr_relation": 2.2,
         "food_worry": 1.3,
         "apprch_bside": 1.9,
         "hlth_happy": 2.2,
         "chat_often": 2.2,
         "rlns_safe": 4.2,
         "age": 8.1,
         "bside_dur": 3.7,
         "household": 1,
         "walk_aid": 1.8,
         "imm_status": 0.6,
         "bside_pre_muni": 0.8,
         "_deepnote_index_column": "LIONS VIEW BLDG I"
        },
        {
         "num_resp": 15,
         "nbr_relation": 2.3,
         "food_worry": 1.6,
         "apprch_bside": 2.1,
         "hlth_happy": 3,
         "chat_often": 1.9,
         "rlns_safe": 4.1,
         "age": 8.1,
         "bside_dur": 3.5,
         "household": 0.9,
         "walk_aid": 1.8,
         "imm_status": 0.6,
         "bside_pre_muni": 0.7,
         "_deepnote_index_column": "LIONS VIEW BLDG II"
        }
       ],
       "rows_bottom": null
      },
      "text/plain": "                    num_resp  nbr_relation  food_worry  apprch_bside  \\\nBRIDGEVIEW PLACE          24           2.1         1.2           1.6   \nCOLEOPY PARK              19           1.9         1.8           2.4   \nCOLLINGWOOD TOWER         16           2.0         1.4           2.4   \nLIONS VIEW BLDG I         15           2.2         1.3           1.9   \nLIONS VIEW BLDG II        15           2.3         1.6           2.1   \n\n                    hlth_happy  chat_often  rlns_safe  age  bside_dur  \\\nBRIDGEVIEW PLACE           2.5         1.7        4.2  8.0        3.7   \nCOLEOPY PARK               2.8         2.4        4.0  7.8        3.5   \nCOLLINGWOOD TOWER          2.7         2.0        3.6  8.3        3.3   \nLIONS VIEW BLDG I          2.2         2.2        4.2  8.1        3.7   \nLIONS VIEW BLDG II         3.0         1.9        4.1  8.1        3.5   \n\n                    household  walk_aid  imm_status  bside_pre_muni  \nBRIDGEVIEW PLACE          0.9       1.8         0.6             0.8  \nCOLEOPY PARK              0.8       1.7         0.4             0.8  \nCOLLINGWOOD TOWER         0.9       1.7         0.3             0.9  \nLIONS VIEW BLDG I         1.0       1.8         0.6             0.8  \nLIONS VIEW BLDG II        0.9       1.8         0.6             0.7  ",
      "text/html": "<div>\n<style scoped>\n    .dataframe tbody tr th:only-of-type {\n        vertical-align: middle;\n    }\n\n    .dataframe tbody tr th {\n        vertical-align: top;\n    }\n\n    .dataframe thead th {\n        text-align: right;\n    }\n</style>\n<table border=\"1\" class=\"dataframe\">\n  <thead>\n    <tr style=\"text-align: right;\">\n      <th></th>\n      <th>num_resp</th>\n      <th>nbr_relation</th>\n      <th>food_worry</th>\n      <th>apprch_bside</th>\n      <th>hlth_happy</th>\n      <th>chat_often</th>\n      <th>rlns_safe</th>\n      <th>age</th>\n      <th>bside_dur</th>\n      <th>household</th>\n      <th>walk_aid</th>\n      <th>imm_status</th>\n      <th>bside_pre_muni</th>\n    </tr>\n  </thead>\n  <tbody>\n    <tr>\n      <th>BRIDGEVIEW PLACE</th>\n      <td>24</td>\n      <td>2.1</td>\n      <td>1.2</td>\n      <td>1.6</td>\n      <td>2.5</td>\n      <td>1.7</td>\n      <td>4.2</td>\n      <td>8.0</td>\n      <td>3.7</td>\n      <td>0.9</td>\n      <td>1.8</td>\n      <td>0.6</td>\n      <td>0.8</td>\n    </tr>\n    <tr>\n      <th>COLEOPY PARK</th>\n      <td>19</td>\n      <td>1.9</td>\n      <td>1.8</td>\n      <td>2.4</td>\n      <td>2.8</td>\n      <td>2.4</td>\n      <td>4.0</td>\n      <td>7.8</td>\n      <td>3.5</td>\n      <td>0.8</td>\n      <td>1.7</td>\n      <td>0.4</td>\n      <td>0.8</td>\n    </tr>\n    <tr>\n      <th>COLLINGWOOD TOWER</th>\n      <td>16</td>\n      <td>2.0</td>\n      <td>1.4</td>\n      <td>2.4</td>\n      <td>2.7</td>\n      <td>2.0</td>\n      <td>3.6</td>\n      <td>8.3</td>\n      <td>3.3</td>\n      <td>0.9</td>\n      <td>1.7</td>\n      <td>0.3</td>\n      <td>0.9</td>\n    </tr>\n    <tr>\n      <th>LIONS VIEW BLDG I</th>\n      <td>15</td>\n      <td>2.2</td>\n      <td>1.3</td>\n      <td>1.9</td>\n      <td>2.2</td>\n      <td>2.2</td>\n      <td>4.2</td>\n      <td>8.1</td>\n      <td>3.7</td>\n      <td>1.0</td>\n      <td>1.8</td>\n      <td>0.6</td>\n      <td>0.8</td>\n    </tr>\n    <tr>\n      <th>LIONS VIEW BLDG II</th>\n      <td>15</td>\n      <td>2.3</td>\n      <td>1.6</td>\n      <td>2.1</td>\n      <td>3.0</td>\n      <td>1.9</td>\n      <td>4.1</td>\n      <td>8.1</td>\n      <td>3.5</td>\n      <td>0.9</td>\n      <td>1.8</td>\n      <td>0.6</td>\n      <td>0.7</td>\n    </tr>\n  </tbody>\n</table>\n</div>"
     },
     "metadata": {}
    }
   ],
   "execution_count": 20
  },
  {
   "cell_type": "code",
   "source": "df11.to_csv('means')",
   "metadata": {
    "tags": [],
    "cell_id": "00023-44d0b38c-cd5a-4174-9079-8f47989562f1",
    "deepnote_to_be_reexecuted": false,
    "source_hash": "f83a0c",
    "execution_start": 1631142216125,
    "execution_millis": 79,
    "deepnote_cell_type": "code"
   },
   "outputs": [],
   "execution_count": 21
  },
  {
   "cell_type": "code",
   "source": "",
   "metadata": {
    "tags": [],
    "cell_id": "00024-ea356c91-4dc3-48d5-b6b4-11240c12b011",
    "deepnote_cell_type": "code"
   },
   "outputs": [],
   "execution_count": null
  },
  {
   "cell_type": "markdown",
   "source": "<a style='text-decoration:none;line-height:16px;display:flex;color:#5B5B62;padding:10px;justify-content:end;' href='https://deepnote.com?utm_source=created-in-deepnote-cell&projectId=ec36858b-3dda-48ee-b585-815a2bd46f62' target=\"_blank\">\n<img alt='Created in deepnote.com' style='display:inline;max-height:16px;margin:0px;margin-right:7.5px;' src='data:image/svg+xml;base64,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' > </img>\nCreated in <span style='font-weight:600;margin-left:4px;'>Deepnote</span></a>",
   "metadata": {
    "tags": [],
    "created_in_deepnote_cell": true,
    "deepnote_cell_type": "markdown"
   }
  }
 ],
 "nbformat": 4,
 "nbformat_minor": 2,
 "metadata": {
  "orig_nbformat": 2,
  "deepnote": {
   "is_reactive": false
  },
  "deepnote_notebook_id": "14a7a9e3-ce3f-44f5-b711-22f2f6840344",
  "deepnote_execution_queue": []
 }
}