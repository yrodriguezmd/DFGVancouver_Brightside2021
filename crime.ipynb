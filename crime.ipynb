{
 "cells": [
  {
   "cell_type": "code",
   "metadata": {
    "tags": [],
    "cell_id": "00000-0bc6d752-5526-4870-9bec-fb56201a64d7",
    "deepnote_to_be_reexecuted": false,
    "source_hash": "5a9b8238",
    "execution_start": 1631146614112,
    "execution_millis": 1229,
    "deepnote_cell_type": "code"
   },
   "source": "import pandas as pd\n\ncrime = pd.read_csv('/work/Geographic Factors/crimedata_csv_all_years.csv')\ncrime.head(3)",
   "execution_count": 1,
   "outputs": [
    {
     "output_type": "execute_result",
     "execution_count": 1,
     "data": {
      "application/vnd.deepnote.dataframe.v2+json": {
       "row_count": 3,
       "column_count": 10,
       "columns": [
        {
         "name": "TYPE",
         "dtype": "object",
         "stats": {
          "unique_count": 1,
          "nan_count": 0,
          "categories": [
           {
            "name": "Break and Enter Commercial",
            "count": 3
           }
          ]
         }
        },
        {
         "name": "YEAR",
         "dtype": "int64",
         "stats": {
          "unique_count": 2,
          "nan_count": 0,
          "min": "2012",
          "max": "2019",
          "histogram": [
           {
            "bin_start": 2012,
            "bin_end": 2012.7,
            "count": 1
           },
           {
            "bin_start": 2012.7,
            "bin_end": 2013.4,
            "count": 0
           },
           {
            "bin_start": 2013.4,
            "bin_end": 2014.1,
            "count": 0
           },
           {
            "bin_start": 2014.1,
            "bin_end": 2014.8,
            "count": 0
           },
           {
            "bin_start": 2014.8,
            "bin_end": 2015.5,
            "count": 0
           },
           {
            "bin_start": 2015.5,
            "bin_end": 2016.2,
            "count": 0
           },
           {
            "bin_start": 2016.2,
            "bin_end": 2016.9,
            "count": 0
           },
           {
            "bin_start": 2016.9,
            "bin_end": 2017.6,
            "count": 0
           },
           {
            "bin_start": 2017.6,
            "bin_end": 2018.3,
            "count": 0
           },
           {
            "bin_start": 2018.3,
            "bin_end": 2019,
            "count": 2
           }
          ]
         }
        },
        {
         "name": "MONTH",
         "dtype": "int64",
         "stats": {
          "unique_count": 3,
          "nan_count": 0,
          "min": "3",
          "max": "12",
          "histogram": [
           {
            "bin_start": 3,
            "bin_end": 3.9,
            "count": 1
           },
           {
            "bin_start": 3.9,
            "bin_end": 4.8,
            "count": 0
           },
           {
            "bin_start": 4.8,
            "bin_end": 5.7,
            "count": 0
           },
           {
            "bin_start": 5.7,
            "bin_end": 6.6,
            "count": 0
           },
           {
            "bin_start": 6.6,
            "bin_end": 7.5,
            "count": 0
           },
           {
            "bin_start": 7.5,
            "bin_end": 8.4,
            "count": 1
           },
           {
            "bin_start": 8.4,
            "bin_end": 9.3,
            "count": 0
           },
           {
            "bin_start": 9.3,
            "bin_end": 10.2,
            "count": 0
           },
           {
            "bin_start": 10.2,
            "bin_end": 11.1,
            "count": 0
           },
           {
            "bin_start": 11.1,
            "bin_end": 12,
            "count": 1
           }
          ]
         }
        },
        {
         "name": "DAY",
         "dtype": "int64",
         "stats": {
          "unique_count": 3,
          "nan_count": 0,
          "min": "7",
          "max": "27",
          "histogram": [
           {
            "bin_start": 7,
            "bin_end": 9,
            "count": 1
           },
           {
            "bin_start": 9,
            "bin_end": 11,
            "count": 0
           },
           {
            "bin_start": 11,
            "bin_end": 13,
            "count": 0
           },
           {
            "bin_start": 13,
            "bin_end": 15,
            "count": 1
           },
           {
            "bin_start": 15,
            "bin_end": 17,
            "count": 0
           },
           {
            "bin_start": 17,
            "bin_end": 19,
            "count": 0
           },
           {
            "bin_start": 19,
            "bin_end": 21,
            "count": 0
           },
           {
            "bin_start": 21,
            "bin_end": 23,
            "count": 0
           },
           {
            "bin_start": 23,
            "bin_end": 25,
            "count": 0
           },
           {
            "bin_start": 25,
            "bin_end": 27,
            "count": 1
           }
          ]
         }
        },
        {
         "name": "HOUR",
         "dtype": "int64",
         "stats": {
          "unique_count": 3,
          "nan_count": 0,
          "min": "2",
          "max": "8",
          "histogram": [
           {
            "bin_start": 2,
            "bin_end": 2.6,
            "count": 1
           },
           {
            "bin_start": 2.6,
            "bin_end": 3.2,
            "count": 0
           },
           {
            "bin_start": 3.2,
            "bin_end": 3.8,
            "count": 0
           },
           {
            "bin_start": 3.8,
            "bin_end": 4.4,
            "count": 1
           },
           {
            "bin_start": 4.4,
            "bin_end": 5,
            "count": 0
           },
           {
            "bin_start": 5,
            "bin_end": 5.6,
            "count": 0
           },
           {
            "bin_start": 5.6,
            "bin_end": 6.2,
            "count": 0
           },
           {
            "bin_start": 6.2,
            "bin_end": 6.8,
            "count": 0
           },
           {
            "bin_start": 6.8,
            "bin_end": 7.3999999999999995,
            "count": 0
           },
           {
            "bin_start": 7.3999999999999995,
            "bin_end": 8,
            "count": 1
           }
          ]
         }
        },
        {
         "name": "MINUTE",
         "dtype": "int64",
         "stats": {
          "unique_count": 3,
          "nan_count": 0,
          "min": "6",
          "max": "52",
          "histogram": [
           {
            "bin_start": 6,
            "bin_end": 10.6,
            "count": 1
           },
           {
            "bin_start": 10.6,
            "bin_end": 15.2,
            "count": 1
           },
           {
            "bin_start": 15.2,
            "bin_end": 19.799999999999997,
            "count": 0
           },
           {
            "bin_start": 19.799999999999997,
            "bin_end": 24.4,
            "count": 0
           },
           {
            "bin_start": 24.4,
            "bin_end": 29,
            "count": 0
           },
           {
            "bin_start": 29,
            "bin_end": 33.599999999999994,
            "count": 0
           },
           {
            "bin_start": 33.599999999999994,
            "bin_end": 38.199999999999996,
            "count": 0
           },
           {
            "bin_start": 38.199999999999996,
            "bin_end": 42.8,
            "count": 0
           },
           {
            "bin_start": 42.8,
            "bin_end": 47.4,
            "count": 0
           },
           {
            "bin_start": 47.4,
            "bin_end": 52,
            "count": 1
           }
          ]
         }
        },
        {
         "name": "HUNDRED_BLOCK",
         "dtype": "object",
         "stats": {
          "unique_count": 2,
          "nan_count": 1,
          "categories": [
           {
            "name": "10XX SITKA SQ",
            "count": 1
           },
           {
            "name": "10XX ALBERNI ST",
            "count": 1
           },
           {
            "name": "Missing",
            "count": 1
           }
          ]
         }
        },
        {
         "name": "NEIGHBOURHOOD",
         "dtype": "object",
         "stats": {
          "unique_count": 3,
          "nan_count": 0,
          "categories": [
           {
            "name": "Oakridge",
            "count": 1
           },
           {
            "name": "Fairview",
            "count": 1
           },
           {
            "name": "West End",
            "count": 1
           }
          ]
         }
        },
        {
         "name": "X",
         "dtype": "float64",
         "stats": {
          "unique_count": 3,
          "nan_count": 0,
          "min": "490612.9648",
          "max": "491285.0",
          "histogram": [
           {
            "bin_start": 490612.9648,
            "bin_end": 490680.16832,
            "count": 1
           },
           {
            "bin_start": 490680.16832,
            "bin_end": 490747.37184000004,
            "count": 0
           },
           {
            "bin_start": 490747.37184000004,
            "bin_end": 490814.57536,
            "count": 0
           },
           {
            "bin_start": 490814.57536,
            "bin_end": 490881.77888,
            "count": 0
           },
           {
            "bin_start": 490881.77888,
            "bin_end": 490948.9824,
            "count": 0
           },
           {
            "bin_start": 490948.9824,
            "bin_end": 491016.18592,
            "count": 1
           },
           {
            "bin_start": 491016.18592,
            "bin_end": 491083.38944,
            "count": 0
           },
           {
            "bin_start": 491083.38944,
            "bin_end": 491150.59296,
            "count": 0
           },
           {
            "bin_start": 491150.59296,
            "bin_end": 491217.79648,
            "count": 0
           },
           {
            "bin_start": 491217.79648,
            "bin_end": 491285,
            "count": 1
           }
          ]
         }
        },
        {
         "name": "Y",
         "dtype": "float64",
         "stats": {
          "unique_count": 3,
          "nan_count": 0,
          "min": "5453433.0",
          "max": "5459174.3376",
          "histogram": [
           {
            "bin_start": 5453433,
            "bin_end": 5454007.13376,
            "count": 1
           },
           {
            "bin_start": 5454007.13376,
            "bin_end": 5454581.26752,
            "count": 0
           },
           {
            "bin_start": 5454581.26752,
            "bin_end": 5455155.40128,
            "count": 0
           },
           {
            "bin_start": 5455155.40128,
            "bin_end": 5455729.53504,
            "count": 0
           },
           {
            "bin_start": 5455729.53504,
            "bin_end": 5456303.6688,
            "count": 0
           },
           {
            "bin_start": 5456303.6688,
            "bin_end": 5456877.80256,
            "count": 0
           },
           {
            "bin_start": 5456877.80256,
            "bin_end": 5457451.93632,
            "count": 1
           },
           {
            "bin_start": 5457451.93632,
            "bin_end": 5458026.07008,
            "count": 0
           },
           {
            "bin_start": 5458026.07008,
            "bin_end": 5458600.203840001,
            "count": 0
           },
           {
            "bin_start": 5458600.203840001,
            "bin_end": 5459174.3376,
            "count": 1
           }
          ]
         }
        },
        {
         "name": "_deepnote_index_column",
         "dtype": "int64"
        }
       ],
       "rows_top": [
        {
         "TYPE": "Break and Enter Commercial",
         "YEAR": 2012,
         "MONTH": 12,
         "DAY": 14,
         "HOUR": 8,
         "MINUTE": 52,
         "HUNDRED_BLOCK": "nan",
         "NEIGHBOURHOOD": "Oakridge",
         "X": 491285,
         "Y": 5453433,
         "_deepnote_index_column": 0
        },
        {
         "TYPE": "Break and Enter Commercial",
         "YEAR": 2019,
         "MONTH": 3,
         "DAY": 7,
         "HOUR": 2,
         "MINUTE": 6,
         "HUNDRED_BLOCK": "10XX SITKA SQ",
         "NEIGHBOURHOOD": "Fairview",
         "X": 490612.9648,
         "Y": 5457109.8223,
         "_deepnote_index_column": 1
        },
        {
         "TYPE": "Break and Enter Commercial",
         "YEAR": 2019,
         "MONTH": 8,
         "DAY": 27,
         "HOUR": 4,
         "MINUTE": 12,
         "HUNDRED_BLOCK": "10XX ALBERNI ST",
         "NEIGHBOURHOOD": "West End",
         "X": 491007.7798,
         "Y": 5459174.3376,
         "_deepnote_index_column": 2
        }
       ],
       "rows_bottom": null
      },
      "text/plain": "                         TYPE  YEAR  MONTH  DAY  HOUR  MINUTE  \\\n0  Break and Enter Commercial  2012     12   14     8      52   \n1  Break and Enter Commercial  2019      3    7     2       6   \n2  Break and Enter Commercial  2019      8   27     4      12   \n\n     HUNDRED_BLOCK NEIGHBOURHOOD            X             Y  \n0              NaN      Oakridge  491285.0000  5.453433e+06  \n1    10XX SITKA SQ      Fairview  490612.9648  5.457110e+06  \n2  10XX ALBERNI ST      West End  491007.7798  5.459174e+06  ",
      "text/html": "<div>\n<style scoped>\n    .dataframe tbody tr th:only-of-type {\n        vertical-align: middle;\n    }\n\n    .dataframe tbody tr th {\n        vertical-align: top;\n    }\n\n    .dataframe thead th {\n        text-align: right;\n    }\n</style>\n<table border=\"1\" class=\"dataframe\">\n  <thead>\n    <tr style=\"text-align: right;\">\n      <th></th>\n      <th>TYPE</th>\n      <th>YEAR</th>\n      <th>MONTH</th>\n      <th>DAY</th>\n      <th>HOUR</th>\n      <th>MINUTE</th>\n      <th>HUNDRED_BLOCK</th>\n      <th>NEIGHBOURHOOD</th>\n      <th>X</th>\n      <th>Y</th>\n    </tr>\n  </thead>\n  <tbody>\n    <tr>\n      <th>0</th>\n      <td>Break and Enter Commercial</td>\n      <td>2012</td>\n      <td>12</td>\n      <td>14</td>\n      <td>8</td>\n      <td>52</td>\n      <td>NaN</td>\n      <td>Oakridge</td>\n      <td>491285.0000</td>\n      <td>5.453433e+06</td>\n    </tr>\n    <tr>\n      <th>1</th>\n      <td>Break and Enter Commercial</td>\n      <td>2019</td>\n      <td>3</td>\n      <td>7</td>\n      <td>2</td>\n      <td>6</td>\n      <td>10XX SITKA SQ</td>\n      <td>Fairview</td>\n      <td>490612.9648</td>\n      <td>5.457110e+06</td>\n    </tr>\n    <tr>\n      <th>2</th>\n      <td>Break and Enter Commercial</td>\n      <td>2019</td>\n      <td>8</td>\n      <td>27</td>\n      <td>4</td>\n      <td>12</td>\n      <td>10XX ALBERNI ST</td>\n      <td>West End</td>\n      <td>491007.7798</td>\n      <td>5.459174e+06</td>\n    </tr>\n  </tbody>\n</table>\n</div>"
     },
     "metadata": {}
    }
   ]
  },
  {
   "cell_type": "code",
   "source": "crime = crime [ crime.YEAR == 2020]\ncrime.head(3)",
   "metadata": {
    "tags": [],
    "cell_id": "00001-fc269328-e994-4967-9d27-dabc5a1c11bd",
    "deepnote_to_be_reexecuted": false,
    "source_hash": "32d86157",
    "execution_start": 1631146671753,
    "execution_millis": 47,
    "deepnote_cell_type": "code"
   },
   "outputs": [
    {
     "output_type": "execute_result",
     "execution_count": 2,
     "data": {
      "application/vnd.deepnote.dataframe.v2+json": {
       "row_count": 3,
       "column_count": 10,
       "columns": [
        {
         "name": "TYPE",
         "dtype": "object",
         "stats": {
          "unique_count": 1,
          "nan_count": 0,
          "categories": [
           {
            "name": "Break and Enter Commercial",
            "count": 3
           }
          ]
         }
        },
        {
         "name": "YEAR",
         "dtype": "int64",
         "stats": {
          "unique_count": 1,
          "nan_count": 0,
          "min": "2020",
          "max": "2020",
          "histogram": [
           {
            "bin_start": 2019.5,
            "bin_end": 2019.6,
            "count": 0
           },
           {
            "bin_start": 2019.6,
            "bin_end": 2019.7,
            "count": 0
           },
           {
            "bin_start": 2019.7,
            "bin_end": 2019.8,
            "count": 0
           },
           {
            "bin_start": 2019.8,
            "bin_end": 2019.9,
            "count": 0
           },
           {
            "bin_start": 2019.9,
            "bin_end": 2020,
            "count": 0
           },
           {
            "bin_start": 2020,
            "bin_end": 2020.1,
            "count": 3
           },
           {
            "bin_start": 2020.1,
            "bin_end": 2020.2,
            "count": 0
           },
           {
            "bin_start": 2020.2,
            "bin_end": 2020.3,
            "count": 0
           },
           {
            "bin_start": 2020.3,
            "bin_end": 2020.4,
            "count": 0
           },
           {
            "bin_start": 2020.4,
            "bin_end": 2020.5,
            "count": 0
           }
          ]
         }
        },
        {
         "name": "MONTH",
         "dtype": "int64",
         "stats": {
          "unique_count": 3,
          "nan_count": 0,
          "min": "1",
          "max": "7",
          "histogram": [
           {
            "bin_start": 1,
            "bin_end": 1.6,
            "count": 1
           },
           {
            "bin_start": 1.6,
            "bin_end": 2.2,
            "count": 0
           },
           {
            "bin_start": 2.2,
            "bin_end": 2.8,
            "count": 0
           },
           {
            "bin_start": 2.8,
            "bin_end": 3.4,
            "count": 0
           },
           {
            "bin_start": 3.4,
            "bin_end": 4,
            "count": 0
           },
           {
            "bin_start": 4,
            "bin_end": 4.6,
            "count": 0
           },
           {
            "bin_start": 4.6,
            "bin_end": 5.2,
            "count": 0
           },
           {
            "bin_start": 5.2,
            "bin_end": 5.8,
            "count": 0
           },
           {
            "bin_start": 5.8,
            "bin_end": 6.3999999999999995,
            "count": 1
           },
           {
            "bin_start": 6.3999999999999995,
            "bin_end": 7,
            "count": 1
           }
          ]
         }
        },
        {
         "name": "DAY",
         "dtype": "int64",
         "stats": {
          "unique_count": 3,
          "nan_count": 0,
          "min": "3",
          "max": "28",
          "histogram": [
           {
            "bin_start": 3,
            "bin_end": 5.5,
            "count": 1
           },
           {
            "bin_start": 5.5,
            "bin_end": 8,
            "count": 0
           },
           {
            "bin_start": 8,
            "bin_end": 10.5,
            "count": 0
           },
           {
            "bin_start": 10.5,
            "bin_end": 13,
            "count": 0
           },
           {
            "bin_start": 13,
            "bin_end": 15.5,
            "count": 0
           },
           {
            "bin_start": 15.5,
            "bin_end": 18,
            "count": 0
           },
           {
            "bin_start": 18,
            "bin_end": 20.5,
            "count": 1
           },
           {
            "bin_start": 20.5,
            "bin_end": 23,
            "count": 0
           },
           {
            "bin_start": 23,
            "bin_end": 25.5,
            "count": 0
           },
           {
            "bin_start": 25.5,
            "bin_end": 28,
            "count": 1
           }
          ]
         }
        },
        {
         "name": "HOUR",
         "dtype": "int64",
         "stats": {
          "unique_count": 3,
          "nan_count": 0,
          "min": "3",
          "max": "19",
          "histogram": [
           {
            "bin_start": 3,
            "bin_end": 4.6,
            "count": 1
           },
           {
            "bin_start": 4.6,
            "bin_end": 6.2,
            "count": 1
           },
           {
            "bin_start": 6.2,
            "bin_end": 7.800000000000001,
            "count": 0
           },
           {
            "bin_start": 7.800000000000001,
            "bin_end": 9.4,
            "count": 0
           },
           {
            "bin_start": 9.4,
            "bin_end": 11,
            "count": 0
           },
           {
            "bin_start": 11,
            "bin_end": 12.600000000000001,
            "count": 0
           },
           {
            "bin_start": 12.600000000000001,
            "bin_end": 14.200000000000001,
            "count": 0
           },
           {
            "bin_start": 14.200000000000001,
            "bin_end": 15.8,
            "count": 0
           },
           {
            "bin_start": 15.8,
            "bin_end": 17.4,
            "count": 0
           },
           {
            "bin_start": 17.4,
            "bin_end": 19,
            "count": 1
           }
          ]
         }
        },
        {
         "name": "MINUTE",
         "dtype": "int64",
         "stats": {
          "unique_count": 3,
          "nan_count": 0,
          "min": "12",
          "max": "43",
          "histogram": [
           {
            "bin_start": 12,
            "bin_end": 15.1,
            "count": 1
           },
           {
            "bin_start": 15.1,
            "bin_end": 18.2,
            "count": 0
           },
           {
            "bin_start": 18.2,
            "bin_end": 21.3,
            "count": 0
           },
           {
            "bin_start": 21.3,
            "bin_end": 24.4,
            "count": 0
           },
           {
            "bin_start": 24.4,
            "bin_end": 27.5,
            "count": 0
           },
           {
            "bin_start": 27.5,
            "bin_end": 30.6,
            "count": 0
           },
           {
            "bin_start": 30.6,
            "bin_end": 33.7,
            "count": 0
           },
           {
            "bin_start": 33.7,
            "bin_end": 36.8,
            "count": 0
           },
           {
            "bin_start": 36.8,
            "bin_end": 39.900000000000006,
            "count": 0
           },
           {
            "bin_start": 39.900000000000006,
            "bin_end": 43,
            "count": 2
           }
          ]
         }
        },
        {
         "name": "HUNDRED_BLOCK",
         "dtype": "object",
         "stats": {
          "unique_count": 1,
          "nan_count": 0,
          "categories": [
           {
            "name": "10XX ALBERNI ST",
            "count": 3
           }
          ]
         }
        },
        {
         "name": "NEIGHBOURHOOD",
         "dtype": "object",
         "stats": {
          "unique_count": 1,
          "nan_count": 0,
          "categories": [
           {
            "name": "West End",
            "count": 3
           }
          ]
         }
        },
        {
         "name": "X",
         "dtype": "float64",
         "stats": {
          "unique_count": 3,
          "nan_count": 0,
          "min": "491015.9434",
          "max": "491068.6829",
          "histogram": [
           {
            "bin_start": 491015.9434,
            "bin_end": 491021.21735,
            "count": 1
           },
           {
            "bin_start": 491021.21735,
            "bin_end": 491026.4913,
            "count": 0
           },
           {
            "bin_start": 491026.4913,
            "bin_end": 491031.76525,
            "count": 0
           },
           {
            "bin_start": 491031.76525,
            "bin_end": 491037.0392,
            "count": 0
           },
           {
            "bin_start": 491037.0392,
            "bin_end": 491042.31315,
            "count": 0
           },
           {
            "bin_start": 491042.31315,
            "bin_end": 491047.5871,
            "count": 0
           },
           {
            "bin_start": 491047.5871,
            "bin_end": 491052.86105,
            "count": 0
           },
           {
            "bin_start": 491052.86105,
            "bin_end": 491058.135,
            "count": 0
           },
           {
            "bin_start": 491058.135,
            "bin_end": 491063.40895,
            "count": 1
           },
           {
            "bin_start": 491063.40895,
            "bin_end": 491068.6829,
            "count": 1
           }
          ]
         }
        },
        {
         "name": "Y",
         "dtype": "float64",
         "stats": {
          "unique_count": 3,
          "nan_count": 0,
          "min": "5459122.4178",
          "max": "5459166.1397",
          "histogram": [
           {
            "bin_start": 5459122.4178,
            "bin_end": 5459126.78999,
            "count": 2
           },
           {
            "bin_start": 5459126.78999,
            "bin_end": 5459131.16218,
            "count": 0
           },
           {
            "bin_start": 5459131.16218,
            "bin_end": 5459135.53437,
            "count": 0
           },
           {
            "bin_start": 5459135.53437,
            "bin_end": 5459139.90656,
            "count": 0
           },
           {
            "bin_start": 5459139.90656,
            "bin_end": 5459144.2787500005,
            "count": 0
           },
           {
            "bin_start": 5459144.2787500005,
            "bin_end": 5459148.65094,
            "count": 0
           },
           {
            "bin_start": 5459148.65094,
            "bin_end": 5459153.02313,
            "count": 0
           },
           {
            "bin_start": 5459153.02313,
            "bin_end": 5459157.39532,
            "count": 0
           },
           {
            "bin_start": 5459157.39532,
            "bin_end": 5459161.767510001,
            "count": 0
           },
           {
            "bin_start": 5459161.767510001,
            "bin_end": 5459166.1397,
            "count": 1
           }
          ]
         }
        },
        {
         "name": "_deepnote_index_column",
         "dtype": "int64"
        }
       ],
       "rows_top": [
        {
         "TYPE": "Break and Enter Commercial",
         "YEAR": 2020,
         "MONTH": 7,
         "DAY": 28,
         "HOUR": 19,
         "MINUTE": 12,
         "HUNDRED_BLOCK": "10XX ALBERNI ST",
         "NEIGHBOURHOOD": "West End",
         "X": 491015.9434,
         "Y": 5459166.1397,
         "_deepnote_index_column": 5
        },
        {
         "TYPE": "Break and Enter Commercial",
         "YEAR": 2020,
         "MONTH": 6,
         "DAY": 19,
         "HOUR": 3,
         "MINUTE": 40,
         "HUNDRED_BLOCK": "10XX ALBERNI ST",
         "NEIGHBOURHOOD": "West End",
         "X": 491059.4824,
         "Y": 5459122.4178,
         "_deepnote_index_column": 21
        },
        {
         "TYPE": "Break and Enter Commercial",
         "YEAR": 2020,
         "MONTH": 1,
         "DAY": 3,
         "HOUR": 6,
         "MINUTE": 43,
         "HUNDRED_BLOCK": "10XX ALBERNI ST",
         "NEIGHBOURHOOD": "West End",
         "X": 491068.6829,
         "Y": 5459126.1374,
         "_deepnote_index_column": 30
        }
       ],
       "rows_bottom": null
      },
      "text/plain": "                          TYPE  YEAR  MONTH  DAY  HOUR  MINUTE  \\\n5   Break and Enter Commercial  2020      7   28    19      12   \n21  Break and Enter Commercial  2020      6   19     3      40   \n30  Break and Enter Commercial  2020      1    3     6      43   \n\n      HUNDRED_BLOCK NEIGHBOURHOOD            X             Y  \n5   10XX ALBERNI ST      West End  491015.9434  5.459166e+06  \n21  10XX ALBERNI ST      West End  491059.4824  5.459122e+06  \n30  10XX ALBERNI ST      West End  491068.6829  5.459126e+06  ",
      "text/html": "<div>\n<style scoped>\n    .dataframe tbody tr th:only-of-type {\n        vertical-align: middle;\n    }\n\n    .dataframe tbody tr th {\n        vertical-align: top;\n    }\n\n    .dataframe thead th {\n        text-align: right;\n    }\n</style>\n<table border=\"1\" class=\"dataframe\">\n  <thead>\n    <tr style=\"text-align: right;\">\n      <th></th>\n      <th>TYPE</th>\n      <th>YEAR</th>\n      <th>MONTH</th>\n      <th>DAY</th>\n      <th>HOUR</th>\n      <th>MINUTE</th>\n      <th>HUNDRED_BLOCK</th>\n      <th>NEIGHBOURHOOD</th>\n      <th>X</th>\n      <th>Y</th>\n    </tr>\n  </thead>\n  <tbody>\n    <tr>\n      <th>5</th>\n      <td>Break and Enter Commercial</td>\n      <td>2020</td>\n      <td>7</td>\n      <td>28</td>\n      <td>19</td>\n      <td>12</td>\n      <td>10XX ALBERNI ST</td>\n      <td>West End</td>\n      <td>491015.9434</td>\n      <td>5.459166e+06</td>\n    </tr>\n    <tr>\n      <th>21</th>\n      <td>Break and Enter Commercial</td>\n      <td>2020</td>\n      <td>6</td>\n      <td>19</td>\n      <td>3</td>\n      <td>40</td>\n      <td>10XX ALBERNI ST</td>\n      <td>West End</td>\n      <td>491059.4824</td>\n      <td>5.459122e+06</td>\n    </tr>\n    <tr>\n      <th>30</th>\n      <td>Break and Enter Commercial</td>\n      <td>2020</td>\n      <td>1</td>\n      <td>3</td>\n      <td>6</td>\n      <td>43</td>\n      <td>10XX ALBERNI ST</td>\n      <td>West End</td>\n      <td>491068.6829</td>\n      <td>5.459126e+06</td>\n    </tr>\n  </tbody>\n</table>\n</div>"
     },
     "metadata": {}
    }
   ],
   "execution_count": 2
  },
  {
   "cell_type": "code",
   "source": "crime.NEIGHBOURHOOD.unique()\n# does not correspond with neighbourhood data in website",
   "metadata": {
    "tags": [],
    "cell_id": "00002-9248a6e3-cedf-42a4-b8a0-c9eb58c39e2a",
    "deepnote_to_be_reexecuted": false,
    "source_hash": "484338b7",
    "execution_start": 1631146826236,
    "execution_millis": 8,
    "deepnote_cell_type": "code"
   },
   "outputs": [
    {
     "output_type": "execute_result",
     "execution_count": 3,
     "data": {
      "text/plain": "array(['West End', 'Central Business District', 'Strathcona',\n       'Grandview-Woodland', 'Mount Pleasant', 'Stanley Park', 'Marpole',\n       'Fairview', 'Shaughnessy', 'Sunset', 'Kensington-Cedar Cottage',\n       'Kitsilano', 'Kerrisdale', 'Hastings-Sunrise',\n       'Victoria-Fraserview', 'Riley Park', 'Oakridge', 'West Point Grey',\n       'Arbutus Ridge', 'Renfrew-Collingwood', 'Killarney',\n       'South Cambie', 'Dunbar-Southlands', 'Musqueam', nan], dtype=object)"
     },
     "metadata": {}
    }
   ],
   "execution_count": 3
  },
  {
   "cell_type": "code",
   "source": "crime.count()",
   "metadata": {
    "tags": [],
    "cell_id": "00003-f3206842-825d-4ac0-b768-6420b08443b5",
    "deepnote_to_be_reexecuted": false,
    "source_hash": "53d8d08f",
    "execution_start": 1631147029432,
    "execution_millis": 11,
    "deepnote_cell_type": "code"
   },
   "outputs": [
    {
     "output_type": "execute_result",
     "execution_count": 8,
     "data": {
      "text/plain": "TYPE             37467\nYEAR             37467\nMONTH            37467\nDAY              37467\nHOUR             37467\nMINUTE           37467\nHUNDRED_BLOCK    37467\nNEIGHBOURHOOD    37464\nX                37466\nY                37466\ndtype: int64"
     },
     "metadata": {}
    }
   ],
   "execution_count": 8
  },
  {
   "cell_type": "code",
   "source": "len(crime)",
   "metadata": {
    "tags": [],
    "cell_id": "00004-5f0401d7-f6a0-4b09-a31c-55bb8187c1b4",
    "deepnote_to_be_reexecuted": false,
    "source_hash": "eb9b7ca2",
    "execution_start": 1631147116546,
    "execution_millis": 8,
    "deepnote_cell_type": "code"
   },
   "outputs": [
    {
     "output_type": "execute_result",
     "execution_count": 12,
     "data": {
      "text/plain": "37467"
     },
     "metadata": {}
    }
   ],
   "execution_count": 12
  },
  {
   "cell_type": "code",
   "source": "crime2= ((crime.groupby('NEIGHBOURHOOD')['TYPE'].count() / len(crime)) *100).round(1)\ncrime2 = crime2.to_frame()\ncrime2.head()",
   "metadata": {
    "tags": [],
    "cell_id": "00003-2cbf52c5-e6a5-44d8-b411-904c9da71790",
    "deepnote_to_be_reexecuted": false,
    "source_hash": "4dd60dd5",
    "execution_start": 1631147236697,
    "execution_millis": 15,
    "deepnote_cell_type": "code"
   },
   "outputs": [
    {
     "output_type": "execute_result",
     "execution_count": 17,
     "data": {
      "application/vnd.deepnote.dataframe.v2+json": {
       "row_count": 5,
       "column_count": 1,
       "columns": [
        {
         "name": "TYPE",
         "dtype": "float64",
         "stats": {
          "unique_count": 5,
          "nan_count": 0,
          "min": "1.0",
          "max": "27.6",
          "histogram": [
           {
            "bin_start": 1,
            "bin_end": 3.66,
            "count": 2
           },
           {
            "bin_start": 3.66,
            "bin_end": 6.32,
            "count": 2
           },
           {
            "bin_start": 6.32,
            "bin_end": 8.98,
            "count": 0
           },
           {
            "bin_start": 8.98,
            "bin_end": 11.64,
            "count": 0
           },
           {
            "bin_start": 11.64,
            "bin_end": 14.3,
            "count": 0
           },
           {
            "bin_start": 14.3,
            "bin_end": 16.96,
            "count": 0
           },
           {
            "bin_start": 16.96,
            "bin_end": 19.62,
            "count": 0
           },
           {
            "bin_start": 19.62,
            "bin_end": 22.28,
            "count": 0
           },
           {
            "bin_start": 22.28,
            "bin_end": 24.94,
            "count": 0
           },
           {
            "bin_start": 24.94,
            "bin_end": 27.6,
            "count": 1
           }
          ]
         }
        },
        {
         "name": "_deepnote_index_column",
         "dtype": "object"
        }
       ],
       "rows_top": [
        {
         "TYPE": 1,
         "_deepnote_index_column": "Arbutus Ridge"
        },
        {
         "TYPE": 27.6,
         "_deepnote_index_column": "Central Business District"
        },
        {
         "TYPE": 1.4,
         "_deepnote_index_column": "Dunbar-Southlands"
        },
        {
         "TYPE": 5.7,
         "_deepnote_index_column": "Fairview"
        },
        {
         "TYPE": 5.1,
         "_deepnote_index_column": "Grandview-Woodland"
        }
       ],
       "rows_bottom": null
      },
      "text/plain": "                           TYPE\nNEIGHBOURHOOD                  \nArbutus Ridge               1.0\nCentral Business District  27.6\nDunbar-Southlands           1.4\nFairview                    5.7\nGrandview-Woodland          5.1",
      "text/html": "<div>\n<style scoped>\n    .dataframe tbody tr th:only-of-type {\n        vertical-align: middle;\n    }\n\n    .dataframe tbody tr th {\n        vertical-align: top;\n    }\n\n    .dataframe thead th {\n        text-align: right;\n    }\n</style>\n<table border=\"1\" class=\"dataframe\">\n  <thead>\n    <tr style=\"text-align: right;\">\n      <th></th>\n      <th>TYPE</th>\n    </tr>\n    <tr>\n      <th>NEIGHBOURHOOD</th>\n      <th></th>\n    </tr>\n  </thead>\n  <tbody>\n    <tr>\n      <th>Arbutus Ridge</th>\n      <td>1.0</td>\n    </tr>\n    <tr>\n      <th>Central Business District</th>\n      <td>27.6</td>\n    </tr>\n    <tr>\n      <th>Dunbar-Southlands</th>\n      <td>1.4</td>\n    </tr>\n    <tr>\n      <th>Fairview</th>\n      <td>5.7</td>\n    </tr>\n    <tr>\n      <th>Grandview-Woodland</th>\n      <td>5.1</td>\n    </tr>\n  </tbody>\n</table>\n</div>"
     },
     "metadata": {}
    }
   ],
   "execution_count": 17
  },
  {
   "cell_type": "code",
   "source": "# need to relate neighbourhood with postal code",
   "metadata": {
    "tags": [],
    "cell_id": "00004-bc37076d-0fab-4f6c-af97-21971ae51724",
    "deepnote_cell_type": "code"
   },
   "outputs": [],
   "execution_count": null
  },
  {
   "cell_type": "code",
   "source": "crime2.to_csv('crime.csv')",
   "metadata": {
    "tags": [],
    "cell_id": "00007-cd0db898-ee5c-48f4-92d9-3063ea50d0ec",
    "deepnote_to_be_reexecuted": false,
    "source_hash": "510b7d0e",
    "execution_start": 1631147354726,
    "execution_millis": 3,
    "deepnote_cell_type": "code"
   },
   "outputs": [],
   "execution_count": 19
  },
  {
   "cell_type": "code",
   "source": "",
   "metadata": {
    "tags": [],
    "cell_id": "00008-b10a7d1c-069f-4ce5-94a1-1c193407cb92",
    "deepnote_cell_type": "code"
   },
   "outputs": [],
   "execution_count": null
  },
  {
   "cell_type": "markdown",
   "source": "<a style='text-decoration:none;line-height:16px;display:flex;color:#5B5B62;padding:10px;justify-content:end;' href='https://deepnote.com?utm_source=created-in-deepnote-cell&projectId=ec36858b-3dda-48ee-b585-815a2bd46f62' target=\"_blank\">\n<img alt='Created in deepnote.com' style='display:inline;max-height:16px;margin:0px;margin-right:7.5px;' src='data:image/svg+xml;base64,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' > </img>\nCreated in <span style='font-weight:600;margin-left:4px;'>Deepnote</span></a>",
   "metadata": {
    "tags": [],
    "created_in_deepnote_cell": true,
    "deepnote_cell_type": "markdown"
   }
  }
 ],
 "nbformat": 4,
 "nbformat_minor": 2,
 "metadata": {
  "orig_nbformat": 2,
  "deepnote": {
   "is_reactive": false
  },
  "deepnote_notebook_id": "fbef2460-2f52-414d-9dd3-9749bea9e316",
  "deepnote_execution_queue": []
 }
}