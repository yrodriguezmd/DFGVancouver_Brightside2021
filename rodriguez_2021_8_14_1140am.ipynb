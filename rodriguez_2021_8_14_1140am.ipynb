{
 "cells": [
  {
   "cell_type": "code",
   "metadata": {
    "tags": [],
    "cell_id": "00000-6028b59e-b516-40ee-ad01-9adc701944dd",
    "deepnote_to_be_reexecuted": false,
    "source_hash": "e49ab6a4",
    "execution_start": 1628967551831,
    "execution_millis": 886,
    "deepnote_cell_type": "code"
   },
   "source": "import pandas as pd\n\ndf = pd.read_csv('/work/Geographic Factors/crimedata_csv_all_years.csv')\ndf.sample(5)",
   "execution_count": 9,
   "outputs": [
    {
     "output_type": "execute_result",
     "execution_count": 9,
     "data": {
      "application/vnd.deepnote.dataframe.v2+json": {
       "row_count": 5,
       "column_count": 10,
       "columns": [
        {
         "name": "TYPE",
         "dtype": "object",
         "stats": {
          "unique_count": 4,
          "nan_count": 0,
          "categories": [
           {
            "name": "Theft from Vehicle",
            "count": 2
           },
           {
            "name": "Break and Enter Commercial",
            "count": 1
           },
           {
            "name": "2 others",
            "count": 2
           }
          ]
         }
        },
        {
         "name": "YEAR",
         "dtype": "int64",
         "stats": {
          "unique_count": 5,
          "nan_count": 0,
          "min": "2004",
          "max": "2014",
          "histogram": [
           {
            "bin_start": 2004,
            "bin_end": 2005,
            "count": 1
           },
           {
            "bin_start": 2005,
            "bin_end": 2006,
            "count": 0
           },
           {
            "bin_start": 2006,
            "bin_end": 2007,
            "count": 0
           },
           {
            "bin_start": 2007,
            "bin_end": 2008,
            "count": 0
           },
           {
            "bin_start": 2008,
            "bin_end": 2009,
            "count": 1
           },
           {
            "bin_start": 2009,
            "bin_end": 2010,
            "count": 0
           },
           {
            "bin_start": 2010,
            "bin_end": 2011,
            "count": 1
           },
           {
            "bin_start": 2011,
            "bin_end": 2012,
            "count": 0
           },
           {
            "bin_start": 2012,
            "bin_end": 2013,
            "count": 0
           },
           {
            "bin_start": 2013,
            "bin_end": 2014,
            "count": 2
           }
          ]
         }
        },
        {
         "name": "MONTH",
         "dtype": "int64",
         "stats": {
          "unique_count": 5,
          "nan_count": 0,
          "min": "1",
          "max": "9",
          "histogram": [
           {
            "bin_start": 1,
            "bin_end": 1.8,
            "count": 1
           },
           {
            "bin_start": 1.8,
            "bin_end": 2.6,
            "count": 0
           },
           {
            "bin_start": 2.6,
            "bin_end": 3.4000000000000004,
            "count": 1
           },
           {
            "bin_start": 3.4000000000000004,
            "bin_end": 4.2,
            "count": 1
           },
           {
            "bin_start": 4.2,
            "bin_end": 5,
            "count": 0
           },
           {
            "bin_start": 5,
            "bin_end": 5.800000000000001,
            "count": 0
           },
           {
            "bin_start": 5.800000000000001,
            "bin_end": 6.6000000000000005,
            "count": 0
           },
           {
            "bin_start": 6.6000000000000005,
            "bin_end": 7.4,
            "count": 0
           },
           {
            "bin_start": 7.4,
            "bin_end": 8.2,
            "count": 1
           },
           {
            "bin_start": 8.2,
            "bin_end": 9,
            "count": 1
           }
          ]
         }
        },
        {
         "name": "DAY",
         "dtype": "int64",
         "stats": {
          "unique_count": 5,
          "nan_count": 0,
          "min": "7",
          "max": "27",
          "histogram": [
           {
            "bin_start": 7,
            "bin_end": 9,
            "count": 1
           },
           {
            "bin_start": 9,
            "bin_end": 11,
            "count": 1
           },
           {
            "bin_start": 11,
            "bin_end": 13,
            "count": 0
           },
           {
            "bin_start": 13,
            "bin_end": 15,
            "count": 0
           },
           {
            "bin_start": 15,
            "bin_end": 17,
            "count": 1
           },
           {
            "bin_start": 17,
            "bin_end": 19,
            "count": 0
           },
           {
            "bin_start": 19,
            "bin_end": 21,
            "count": 0
           },
           {
            "bin_start": 21,
            "bin_end": 23,
            "count": 0
           },
           {
            "bin_start": 23,
            "bin_end": 25,
            "count": 1
           },
           {
            "bin_start": 25,
            "bin_end": 27,
            "count": 1
           }
          ]
         }
        },
        {
         "name": "HOUR",
         "dtype": "int64",
         "stats": {
          "unique_count": 5,
          "nan_count": 0,
          "min": "9",
          "max": "17",
          "histogram": [
           {
            "bin_start": 9,
            "bin_end": 9.8,
            "count": 1
           },
           {
            "bin_start": 9.8,
            "bin_end": 10.6,
            "count": 0
           },
           {
            "bin_start": 10.6,
            "bin_end": 11.4,
            "count": 0
           },
           {
            "bin_start": 11.4,
            "bin_end": 12.2,
            "count": 1
           },
           {
            "bin_start": 12.2,
            "bin_end": 13,
            "count": 0
           },
           {
            "bin_start": 13,
            "bin_end": 13.8,
            "count": 0
           },
           {
            "bin_start": 13.8,
            "bin_end": 14.600000000000001,
            "count": 0
           },
           {
            "bin_start": 14.600000000000001,
            "bin_end": 15.4,
            "count": 1
           },
           {
            "bin_start": 15.4,
            "bin_end": 16.2,
            "count": 1
           },
           {
            "bin_start": 16.2,
            "bin_end": 17,
            "count": 1
           }
          ]
         }
        },
        {
         "name": "MINUTE",
         "dtype": "int64",
         "stats": {
          "unique_count": 3,
          "nan_count": 0,
          "min": "0",
          "max": "30",
          "histogram": [
           {
            "bin_start": 0,
            "bin_end": 3,
            "count": 3
           },
           {
            "bin_start": 3,
            "bin_end": 6,
            "count": 0
           },
           {
            "bin_start": 6,
            "bin_end": 9,
            "count": 0
           },
           {
            "bin_start": 9,
            "bin_end": 12,
            "count": 0
           },
           {
            "bin_start": 12,
            "bin_end": 15,
            "count": 0
           },
           {
            "bin_start": 15,
            "bin_end": 18,
            "count": 0
           },
           {
            "bin_start": 18,
            "bin_end": 21,
            "count": 0
           },
           {
            "bin_start": 21,
            "bin_end": 24,
            "count": 0
           },
           {
            "bin_start": 24,
            "bin_end": 27,
            "count": 1
           },
           {
            "bin_start": 27,
            "bin_end": 30,
            "count": 1
           }
          ]
         }
        },
        {
         "name": "HUNDRED_BLOCK",
         "dtype": "object",
         "stats": {
          "unique_count": 5,
          "nan_count": 0,
          "categories": [
           {
            "name": "23XX BAYSWATER ST",
            "count": 1
           },
           {
            "name": "26XX LARCH ST",
            "count": 1
           },
           {
            "name": "3 others",
            "count": 3
           }
          ]
         }
        },
        {
         "name": "NEIGHBOURHOOD",
         "dtype": "object",
         "stats": {
          "unique_count": 4,
          "nan_count": 0,
          "categories": [
           {
            "name": "Kitsilano",
            "count": 2
           },
           {
            "name": "Sunset",
            "count": 1
           },
           {
            "name": "2 others",
            "count": 2
           }
          ]
         }
        },
        {
         "name": "X",
         "dtype": "float64",
         "stats": {
          "unique_count": 5,
          "nan_count": 0,
          "min": "487540.4778",
          "max": "493497.2265",
          "histogram": [
           {
            "bin_start": 487540.4778,
            "bin_end": 488136.15267,
            "count": 1
           },
           {
            "bin_start": 488136.15267,
            "bin_end": 488731.82753999997,
            "count": 1
           },
           {
            "bin_start": 488731.82753999997,
            "bin_end": 489327.50241,
            "count": 0
           },
           {
            "bin_start": 489327.50241,
            "bin_end": 489923.17728,
            "count": 0
           },
           {
            "bin_start": 489923.17728,
            "bin_end": 490518.85215,
            "count": 0
           },
           {
            "bin_start": 490518.85215,
            "bin_end": 491114.52702,
            "count": 0
           },
           {
            "bin_start": 491114.52702,
            "bin_end": 491710.20188999997,
            "count": 0
           },
           {
            "bin_start": 491710.20188999997,
            "bin_end": 492305.87676,
            "count": 0
           },
           {
            "bin_start": 492305.87676,
            "bin_end": 492901.55163,
            "count": 1
           },
           {
            "bin_start": 492901.55163,
            "bin_end": 493497.2265,
            "count": 2
           }
          ]
         }
        },
        {
         "name": "Y",
         "dtype": "float64",
         "stats": {
          "unique_count": 5,
          "nan_count": 0,
          "min": "5450726.7424",
          "max": "5458720.2485",
          "histogram": [
           {
            "bin_start": 5450726.7424,
            "bin_end": 5451526.09301,
            "count": 1
           },
           {
            "bin_start": 5451526.09301,
            "bin_end": 5452325.44362,
            "count": 0
           },
           {
            "bin_start": 5452325.44362,
            "bin_end": 5453124.79423,
            "count": 0
           },
           {
            "bin_start": 5453124.79423,
            "bin_end": 5453924.14484,
            "count": 0
           },
           {
            "bin_start": 5453924.14484,
            "bin_end": 5454723.495449999,
            "count": 0
           },
           {
            "bin_start": 5454723.495449999,
            "bin_end": 5455522.846059999,
            "count": 0
           },
           {
            "bin_start": 5455522.846059999,
            "bin_end": 5456322.1966699995,
            "count": 0
           },
           {
            "bin_start": 5456322.1966699995,
            "bin_end": 5457121.54728,
            "count": 2
           },
           {
            "bin_start": 5457121.54728,
            "bin_end": 5457920.89789,
            "count": 0
           },
           {
            "bin_start": 5457920.89789,
            "bin_end": 5458720.2485,
            "count": 2
           }
          ]
         }
        },
        {
         "name": "_deepnote_index_column",
         "dtype": "int64"
        }
       ],
       "rows_top": [
        {
         "TYPE": "Break and Enter Commercial",
         "YEAR": 2010,
         "MONTH": 8,
         "DAY": 9,
         "HOUR": 17,
         "MINUTE": 0,
         "HUNDRED_BLOCK": "23XX BAYSWATER ST",
         "NEIGHBOURHOOD": "Kitsilano",
         "X": 487540.4778,
         "Y": 5456971.6539,
         "_deepnote_index_column": 17641
        },
        {
         "TYPE": "Theft from Vehicle",
         "YEAR": 2014,
         "MONTH": 4,
         "DAY": 16,
         "HOUR": 15,
         "MINUTE": 0,
         "HUNDRED_BLOCK": "26XX LARCH ST",
         "NEIGHBOURHOOD": "Kitsilano",
         "X": 488181.1463,
         "Y": 5456614.0562,
         "_deepnote_index_column": 548849
        },
        {
         "TYPE": "Other Theft",
         "YEAR": 2004,
         "MONTH": 3,
         "DAY": 24,
         "HOUR": 12,
         "MINUTE": 25,
         "HUNDRED_BLOCK": "83XX CHESTER ST",
         "NEIGHBOURHOOD": "Sunset",
         "X": 493494.8305,
         "Y": 5450726.7424,
         "_deepnote_index_column": 433316
        },
        {
         "TYPE": "Theft from Vehicle",
         "YEAR": 2008,
         "MONTH": 1,
         "DAY": 7,
         "HOUR": 9,
         "MINUTE": 0,
         "HUNDRED_BLOCK": "7XX E HASTINGS ST",
         "NEIGHBOURHOOD": "Strathcona",
         "X": 493497.2265,
         "Y": 5458720.2485,
         "_deepnote_index_column": 633633
        },
        {
         "TYPE": "Theft of Bicycle",
         "YEAR": 2013,
         "MONTH": 9,
         "DAY": 27,
         "HOUR": 16,
         "MINUTE": 30,
         "HUNDRED_BLOCK": "CARRALL ST / E PENDER ST",
         "NEIGHBOURHOOD": "Central Business District",
         "X": 492408.4344,
         "Y": 5458642.8036,
         "_deepnote_index_column": 723854
        }
       ],
       "rows_bottom": null
      },
      "text/plain": "                              TYPE  YEAR  MONTH  DAY  HOUR  MINUTE  \\\n17641   Break and Enter Commercial  2010      8    9    17       0   \n548849          Theft from Vehicle  2014      4   16    15       0   \n433316                 Other Theft  2004      3   24    12      25   \n633633          Theft from Vehicle  2008      1    7     9       0   \n723854            Theft of Bicycle  2013      9   27    16      30   \n\n                   HUNDRED_BLOCK              NEIGHBOURHOOD            X  \\\n17641          23XX BAYSWATER ST                  Kitsilano  487540.4778   \n548849             26XX LARCH ST                  Kitsilano  488181.1463   \n433316           83XX CHESTER ST                     Sunset  493494.8305   \n633633         7XX E HASTINGS ST                 Strathcona  493497.2265   \n723854  CARRALL ST / E PENDER ST  Central Business District  492408.4344   \n\n                   Y  \n17641   5.456972e+06  \n548849  5.456614e+06  \n433316  5.450727e+06  \n633633  5.458720e+06  \n723854  5.458643e+06  ",
      "text/html": "<div>\n<style scoped>\n    .dataframe tbody tr th:only-of-type {\n        vertical-align: middle;\n    }\n\n    .dataframe tbody tr th {\n        vertical-align: top;\n    }\n\n    .dataframe thead th {\n        text-align: right;\n    }\n</style>\n<table border=\"1\" class=\"dataframe\">\n  <thead>\n    <tr style=\"text-align: right;\">\n      <th></th>\n      <th>TYPE</th>\n      <th>YEAR</th>\n      <th>MONTH</th>\n      <th>DAY</th>\n      <th>HOUR</th>\n      <th>MINUTE</th>\n      <th>HUNDRED_BLOCK</th>\n      <th>NEIGHBOURHOOD</th>\n      <th>X</th>\n      <th>Y</th>\n    </tr>\n  </thead>\n  <tbody>\n    <tr>\n      <th>17641</th>\n      <td>Break and Enter Commercial</td>\n      <td>2010</td>\n      <td>8</td>\n      <td>9</td>\n      <td>17</td>\n      <td>0</td>\n      <td>23XX BAYSWATER ST</td>\n      <td>Kitsilano</td>\n      <td>487540.4778</td>\n      <td>5.456972e+06</td>\n    </tr>\n    <tr>\n      <th>548849</th>\n      <td>Theft from Vehicle</td>\n      <td>2014</td>\n      <td>4</td>\n      <td>16</td>\n      <td>15</td>\n      <td>0</td>\n      <td>26XX LARCH ST</td>\n      <td>Kitsilano</td>\n      <td>488181.1463</td>\n      <td>5.456614e+06</td>\n    </tr>\n    <tr>\n      <th>433316</th>\n      <td>Other Theft</td>\n      <td>2004</td>\n      <td>3</td>\n      <td>24</td>\n      <td>12</td>\n      <td>25</td>\n      <td>83XX CHESTER ST</td>\n      <td>Sunset</td>\n      <td>493494.8305</td>\n      <td>5.450727e+06</td>\n    </tr>\n    <tr>\n      <th>633633</th>\n      <td>Theft from Vehicle</td>\n      <td>2008</td>\n      <td>1</td>\n      <td>7</td>\n      <td>9</td>\n      <td>0</td>\n      <td>7XX E HASTINGS ST</td>\n      <td>Strathcona</td>\n      <td>493497.2265</td>\n      <td>5.458720e+06</td>\n    </tr>\n    <tr>\n      <th>723854</th>\n      <td>Theft of Bicycle</td>\n      <td>2013</td>\n      <td>9</td>\n      <td>27</td>\n      <td>16</td>\n      <td>30</td>\n      <td>CARRALL ST / E PENDER ST</td>\n      <td>Central Business District</td>\n      <td>492408.4344</td>\n      <td>5.458643e+06</td>\n    </tr>\n  </tbody>\n</table>\n</div>"
     },
     "metadata": {}
    }
   ]
  },
  {
   "cell_type": "code",
   "source": "df.info()\n# 797 566 observations\n# some null",
   "metadata": {
    "tags": [],
    "cell_id": "00003-82b3011e-eba5-4065-9547-81965e88ccfa",
    "deepnote_to_be_reexecuted": false,
    "source_hash": "de1e323c",
    "execution_start": 1628967195600,
    "execution_millis": 122,
    "deepnote_cell_type": "code"
   },
   "outputs": [
    {
     "name": "stdout",
     "text": "<class 'pandas.core.frame.DataFrame'>\nRangeIndex: 797566 entries, 0 to 797565\nData columns (total 10 columns):\n #   Column         Non-Null Count   Dtype  \n---  ------         --------------   -----  \n 0   TYPE           797566 non-null  object \n 1   YEAR           797566 non-null  int64  \n 2   MONTH          797566 non-null  int64  \n 3   DAY            797566 non-null  int64  \n 4   HOUR           797566 non-null  int64  \n 5   MINUTE         797566 non-null  int64  \n 6   HUNDRED_BLOCK  797554 non-null  object \n 7   NEIGHBOURHOOD  797442 non-null  object \n 8   X              797493 non-null  float64\n 9   Y              797493 non-null  float64\ndtypes: float64(2), int64(5), object(3)\nmemory usage: 60.8+ MB\n",
     "output_type": "stream"
    }
   ],
   "execution_count": 7
  },
  {
   "cell_type": "code",
   "source": "N = len(df)\n(df.isnull().sum()) / N *100\n# small percentage of null on 4 variables",
   "metadata": {
    "tags": [],
    "cell_id": "00002-9ae54581-b52c-4643-9c67-dcd88a02871c",
    "deepnote_to_be_reexecuted": false,
    "source_hash": "9052a0f3",
    "execution_start": 1628968221638,
    "execution_millis": 102,
    "deepnote_cell_type": "code"
   },
   "outputs": [
    {
     "output_type": "execute_result",
     "execution_count": 11,
     "data": {
      "text/plain": "TYPE             0.000000\nYEAR             0.000000\nMONTH            0.000000\nDAY              0.000000\nHOUR             0.000000\nMINUTE           0.000000\nHUNDRED_BLOCK    0.001505\nNEIGHBOURHOOD    0.015547\nX                0.009153\nY                0.009153\ndtype: float64"
     },
     "metadata": {}
    }
   ],
   "execution_count": 11
  },
  {
   "cell_type": "code",
   "source": "#df.describe()",
   "metadata": {
    "tags": [],
    "cell_id": "00003-81df5d2f-780d-48ad-8e94-dbf44a0ff3b2",
    "deepnote_to_be_reexecuted": false,
    "source_hash": "5ca36e8d",
    "execution_start": 1628968361846,
    "execution_millis": 0,
    "deepnote_cell_type": "code"
   },
   "outputs": [],
   "execution_count": 14
  },
  {
   "cell_type": "code",
   "source": "categorical = df.select_dtypes('object').columns\n\nprint('% of unique values:')\nfor cat in categorical:\n    unique = df[cat].nunique()\n    unique = round(unique/N*100,2)\n    print(cat, unique)\n# no significant cardinality in categoricals",
   "metadata": {
    "tags": [],
    "cell_id": "00004-6c41634f-925c-4db4-a7bb-fba3a6450821",
    "deepnote_to_be_reexecuted": false,
    "source_hash": "5713f13c",
    "execution_start": 1628968503644,
    "execution_millis": 283,
    "deepnote_cell_type": "code"
   },
   "outputs": [
    {
     "name": "stdout",
     "text": "% of unique values:\nTYPE 0.0\nHUNDRED_BLOCK 2.88\nNEIGHBOURHOOD 0.0\n",
     "output_type": "stream"
    }
   ],
   "execution_count": 17
  },
  {
   "cell_type": "code",
   "source": "df.head()",
   "metadata": {
    "tags": [],
    "cell_id": "00005-5d69dc82-f997-4a8a-94aa-0d14c1c0bc96",
    "deepnote_to_be_reexecuted": false,
    "source_hash": "c085b6ba",
    "execution_start": 1628968563304,
    "execution_millis": 24,
    "deepnote_cell_type": "code"
   },
   "outputs": [
    {
     "output_type": "execute_result",
     "execution_count": 18,
     "data": {
      "application/vnd.deepnote.dataframe.v2+json": {
       "row_count": 5,
       "column_count": 10,
       "columns": [
        {
         "name": "TYPE",
         "dtype": "object",
         "stats": {
          "unique_count": 1,
          "nan_count": 0,
          "categories": [
           {
            "name": "Break and Enter Commercial",
            "count": 5
           }
          ]
         }
        },
        {
         "name": "YEAR",
         "dtype": "int64",
         "stats": {
          "unique_count": 4,
          "nan_count": 0,
          "min": "2012",
          "max": "2021",
          "histogram": [
           {
            "bin_start": 2012,
            "bin_end": 2012.9,
            "count": 1
           },
           {
            "bin_start": 2012.9,
            "bin_end": 2013.8,
            "count": 0
           },
           {
            "bin_start": 2013.8,
            "bin_end": 2014.7,
            "count": 1
           },
           {
            "bin_start": 2014.7,
            "bin_end": 2015.6,
            "count": 0
           },
           {
            "bin_start": 2015.6,
            "bin_end": 2016.5,
            "count": 0
           },
           {
            "bin_start": 2016.5,
            "bin_end": 2017.4,
            "count": 0
           },
           {
            "bin_start": 2017.4,
            "bin_end": 2018.3,
            "count": 0
           },
           {
            "bin_start": 2018.3,
            "bin_end": 2019.2,
            "count": 2
           },
           {
            "bin_start": 2019.2,
            "bin_end": 2020.1,
            "count": 0
           },
           {
            "bin_start": 2020.1,
            "bin_end": 2021,
            "count": 1
           }
          ]
         }
        },
        {
         "name": "MONTH",
         "dtype": "int64",
         "stats": {
          "unique_count": 4,
          "nan_count": 0,
          "min": "3",
          "max": "12",
          "histogram": [
           {
            "bin_start": 3,
            "bin_end": 3.9,
            "count": 1
           },
           {
            "bin_start": 3.9,
            "bin_end": 4.8,
            "count": 1
           },
           {
            "bin_start": 4.8,
            "bin_end": 5.7,
            "count": 0
           },
           {
            "bin_start": 5.7,
            "bin_end": 6.6,
            "count": 0
           },
           {
            "bin_start": 6.6,
            "bin_end": 7.5,
            "count": 0
           },
           {
            "bin_start": 7.5,
            "bin_end": 8.4,
            "count": 2
           },
           {
            "bin_start": 8.4,
            "bin_end": 9.3,
            "count": 0
           },
           {
            "bin_start": 9.3,
            "bin_end": 10.2,
            "count": 0
           },
           {
            "bin_start": 10.2,
            "bin_end": 11.1,
            "count": 0
           },
           {
            "bin_start": 11.1,
            "bin_end": 12,
            "count": 1
           }
          ]
         }
        },
        {
         "name": "DAY",
         "dtype": "int64",
         "stats": {
          "unique_count": 5,
          "nan_count": 0,
          "min": "7",
          "max": "27",
          "histogram": [
           {
            "bin_start": 7,
            "bin_end": 9,
            "count": 2
           },
           {
            "bin_start": 9,
            "bin_end": 11,
            "count": 0
           },
           {
            "bin_start": 11,
            "bin_end": 13,
            "count": 0
           },
           {
            "bin_start": 13,
            "bin_end": 15,
            "count": 1
           },
           {
            "bin_start": 15,
            "bin_end": 17,
            "count": 0
           },
           {
            "bin_start": 17,
            "bin_end": 19,
            "count": 0
           },
           {
            "bin_start": 19,
            "bin_end": 21,
            "count": 0
           },
           {
            "bin_start": 21,
            "bin_end": 23,
            "count": 0
           },
           {
            "bin_start": 23,
            "bin_end": 25,
            "count": 0
           },
           {
            "bin_start": 25,
            "bin_end": 27,
            "count": 2
           }
          ]
         }
        },
        {
         "name": "HOUR",
         "dtype": "int64",
         "stats": {
          "unique_count": 4,
          "nan_count": 0,
          "min": "2",
          "max": "8",
          "histogram": [
           {
            "bin_start": 2,
            "bin_end": 2.6,
            "count": 1
           },
           {
            "bin_start": 2.6,
            "bin_end": 3.2,
            "count": 0
           },
           {
            "bin_start": 3.2,
            "bin_end": 3.8,
            "count": 0
           },
           {
            "bin_start": 3.8,
            "bin_end": 4.4,
            "count": 2
           },
           {
            "bin_start": 4.4,
            "bin_end": 5,
            "count": 0
           },
           {
            "bin_start": 5,
            "bin_end": 5.6,
            "count": 1
           },
           {
            "bin_start": 5.6,
            "bin_end": 6.2,
            "count": 0
           },
           {
            "bin_start": 6.2,
            "bin_end": 6.8,
            "count": 0
           },
           {
            "bin_start": 6.8,
            "bin_end": 7.3999999999999995,
            "count": 0
           },
           {
            "bin_start": 7.3999999999999995,
            "bin_end": 8,
            "count": 1
           }
          ]
         }
        },
        {
         "name": "MINUTE",
         "dtype": "int64",
         "stats": {
          "unique_count": 5,
          "nan_count": 0,
          "min": "6",
          "max": "52",
          "histogram": [
           {
            "bin_start": 6,
            "bin_end": 10.6,
            "count": 1
           },
           {
            "bin_start": 10.6,
            "bin_end": 15.2,
            "count": 2
           },
           {
            "bin_start": 15.2,
            "bin_end": 19.799999999999997,
            "count": 0
           },
           {
            "bin_start": 19.799999999999997,
            "bin_end": 24.4,
            "count": 0
           },
           {
            "bin_start": 24.4,
            "bin_end": 29,
            "count": 0
           },
           {
            "bin_start": 29,
            "bin_end": 33.599999999999994,
            "count": 0
           },
           {
            "bin_start": 33.599999999999994,
            "bin_end": 38.199999999999996,
            "count": 0
           },
           {
            "bin_start": 38.199999999999996,
            "bin_end": 42.8,
            "count": 0
           },
           {
            "bin_start": 42.8,
            "bin_end": 47.4,
            "count": 1
           },
           {
            "bin_start": 47.4,
            "bin_end": 52,
            "count": 1
           }
          ]
         }
        },
        {
         "name": "HUNDRED_BLOCK",
         "dtype": "object",
         "stats": {
          "unique_count": 2,
          "nan_count": 1,
          "categories": [
           {
            "name": "10XX ALBERNI ST",
            "count": 3
           },
           {
            "name": "10XX SITKA SQ",
            "count": 1
           },
           {
            "name": "Missing",
            "count": 1
           }
          ]
         }
        },
        {
         "name": "NEIGHBOURHOOD",
         "dtype": "object",
         "stats": {
          "unique_count": 3,
          "nan_count": 0,
          "categories": [
           {
            "name": "West End",
            "count": 3
           },
           {
            "name": "Oakridge",
            "count": 1
           },
           {
            "name": "Fairview",
            "count": 1
           }
          ]
         }
        },
        {
         "name": "X",
         "dtype": "float64",
         "stats": {
          "unique_count": 4,
          "nan_count": 0,
          "min": "490612.9648",
          "max": "491285.0",
          "histogram": [
           {
            "bin_start": 490612.9648,
            "bin_end": 490680.16832,
            "count": 1
           },
           {
            "bin_start": 490680.16832,
            "bin_end": 490747.37184000004,
            "count": 0
           },
           {
            "bin_start": 490747.37184000004,
            "bin_end": 490814.57536,
            "count": 0
           },
           {
            "bin_start": 490814.57536,
            "bin_end": 490881.77888,
            "count": 0
           },
           {
            "bin_start": 490881.77888,
            "bin_end": 490948.9824,
            "count": 0
           },
           {
            "bin_start": 490948.9824,
            "bin_end": 491016.18592,
            "count": 3
           },
           {
            "bin_start": 491016.18592,
            "bin_end": 491083.38944,
            "count": 0
           },
           {
            "bin_start": 491083.38944,
            "bin_end": 491150.59296,
            "count": 0
           },
           {
            "bin_start": 491150.59296,
            "bin_end": 491217.79648,
            "count": 0
           },
           {
            "bin_start": 491217.79648,
            "bin_end": 491285,
            "count": 1
           }
          ]
         }
        },
        {
         "name": "Y",
         "dtype": "float64",
         "stats": {
          "unique_count": 4,
          "nan_count": 0,
          "min": "5453433.0",
          "max": "5459174.3376",
          "histogram": [
           {
            "bin_start": 5453433,
            "bin_end": 5454007.13376,
            "count": 1
           },
           {
            "bin_start": 5454007.13376,
            "bin_end": 5454581.26752,
            "count": 0
           },
           {
            "bin_start": 5454581.26752,
            "bin_end": 5455155.40128,
            "count": 0
           },
           {
            "bin_start": 5455155.40128,
            "bin_end": 5455729.53504,
            "count": 0
           },
           {
            "bin_start": 5455729.53504,
            "bin_end": 5456303.6688,
            "count": 0
           },
           {
            "bin_start": 5456303.6688,
            "bin_end": 5456877.80256,
            "count": 0
           },
           {
            "bin_start": 5456877.80256,
            "bin_end": 5457451.93632,
            "count": 1
           },
           {
            "bin_start": 5457451.93632,
            "bin_end": 5458026.07008,
            "count": 0
           },
           {
            "bin_start": 5458026.07008,
            "bin_end": 5458600.203840001,
            "count": 0
           },
           {
            "bin_start": 5458600.203840001,
            "bin_end": 5459174.3376,
            "count": 3
           }
          ]
         }
        },
        {
         "name": "_deepnote_index_column",
         "dtype": "int64"
        }
       ],
       "rows_top": [
        {
         "TYPE": "Break and Enter Commercial",
         "YEAR": 2012,
         "MONTH": 12,
         "DAY": 14,
         "HOUR": 8,
         "MINUTE": 52,
         "HUNDRED_BLOCK": "nan",
         "NEIGHBOURHOOD": "Oakridge",
         "X": 491285,
         "Y": 5453433,
         "_deepnote_index_column": 0
        },
        {
         "TYPE": "Break and Enter Commercial",
         "YEAR": 2019,
         "MONTH": 3,
         "DAY": 7,
         "HOUR": 2,
         "MINUTE": 6,
         "HUNDRED_BLOCK": "10XX SITKA SQ",
         "NEIGHBOURHOOD": "Fairview",
         "X": 490612.9648,
         "Y": 5457109.8223,
         "_deepnote_index_column": 1
        },
        {
         "TYPE": "Break and Enter Commercial",
         "YEAR": 2019,
         "MONTH": 8,
         "DAY": 27,
         "HOUR": 4,
         "MINUTE": 12,
         "HUNDRED_BLOCK": "10XX ALBERNI ST",
         "NEIGHBOURHOOD": "West End",
         "X": 491007.7798,
         "Y": 5459174.3376,
         "_deepnote_index_column": 2
        },
        {
         "TYPE": "Break and Enter Commercial",
         "YEAR": 2021,
         "MONTH": 4,
         "DAY": 26,
         "HOUR": 4,
         "MINUTE": 44,
         "HUNDRED_BLOCK": "10XX ALBERNI ST",
         "NEIGHBOURHOOD": "West End",
         "X": 491007.7798,
         "Y": 5459174.3376,
         "_deepnote_index_column": 3
        },
        {
         "TYPE": "Break and Enter Commercial",
         "YEAR": 2014,
         "MONTH": 8,
         "DAY": 8,
         "HOUR": 5,
         "MINUTE": 13,
         "HUNDRED_BLOCK": "10XX ALBERNI ST",
         "NEIGHBOURHOOD": "West End",
         "X": 491015.9434,
         "Y": 5459166.1397,
         "_deepnote_index_column": 4
        }
       ],
       "rows_bottom": null
      },
      "text/plain": "                         TYPE  YEAR  MONTH  DAY  HOUR  MINUTE  \\\n0  Break and Enter Commercial  2012     12   14     8      52   \n1  Break and Enter Commercial  2019      3    7     2       6   \n2  Break and Enter Commercial  2019      8   27     4      12   \n3  Break and Enter Commercial  2021      4   26     4      44   \n4  Break and Enter Commercial  2014      8    8     5      13   \n\n     HUNDRED_BLOCK NEIGHBOURHOOD            X             Y  \n0              NaN      Oakridge  491285.0000  5.453433e+06  \n1    10XX SITKA SQ      Fairview  490612.9648  5.457110e+06  \n2  10XX ALBERNI ST      West End  491007.7798  5.459174e+06  \n3  10XX ALBERNI ST      West End  491007.7798  5.459174e+06  \n4  10XX ALBERNI ST      West End  491015.9434  5.459166e+06  ",
      "text/html": "<div>\n<style scoped>\n    .dataframe tbody tr th:only-of-type {\n        vertical-align: middle;\n    }\n\n    .dataframe tbody tr th {\n        vertical-align: top;\n    }\n\n    .dataframe thead th {\n        text-align: right;\n    }\n</style>\n<table border=\"1\" class=\"dataframe\">\n  <thead>\n    <tr style=\"text-align: right;\">\n      <th></th>\n      <th>TYPE</th>\n      <th>YEAR</th>\n      <th>MONTH</th>\n      <th>DAY</th>\n      <th>HOUR</th>\n      <th>MINUTE</th>\n      <th>HUNDRED_BLOCK</th>\n      <th>NEIGHBOURHOOD</th>\n      <th>X</th>\n      <th>Y</th>\n    </tr>\n  </thead>\n  <tbody>\n    <tr>\n      <th>0</th>\n      <td>Break and Enter Commercial</td>\n      <td>2012</td>\n      <td>12</td>\n      <td>14</td>\n      <td>8</td>\n      <td>52</td>\n      <td>NaN</td>\n      <td>Oakridge</td>\n      <td>491285.0000</td>\n      <td>5.453433e+06</td>\n    </tr>\n    <tr>\n      <th>1</th>\n      <td>Break and Enter Commercial</td>\n      <td>2019</td>\n      <td>3</td>\n      <td>7</td>\n      <td>2</td>\n      <td>6</td>\n      <td>10XX SITKA SQ</td>\n      <td>Fairview</td>\n      <td>490612.9648</td>\n      <td>5.457110e+06</td>\n    </tr>\n    <tr>\n      <th>2</th>\n      <td>Break and Enter Commercial</td>\n      <td>2019</td>\n      <td>8</td>\n      <td>27</td>\n      <td>4</td>\n      <td>12</td>\n      <td>10XX ALBERNI ST</td>\n      <td>West End</td>\n      <td>491007.7798</td>\n      <td>5.459174e+06</td>\n    </tr>\n    <tr>\n      <th>3</th>\n      <td>Break and Enter Commercial</td>\n      <td>2021</td>\n      <td>4</td>\n      <td>26</td>\n      <td>4</td>\n      <td>44</td>\n      <td>10XX ALBERNI ST</td>\n      <td>West End</td>\n      <td>491007.7798</td>\n      <td>5.459174e+06</td>\n    </tr>\n    <tr>\n      <th>4</th>\n      <td>Break and Enter Commercial</td>\n      <td>2014</td>\n      <td>8</td>\n      <td>8</td>\n      <td>5</td>\n      <td>13</td>\n      <td>10XX ALBERNI ST</td>\n      <td>West End</td>\n      <td>491015.9434</td>\n      <td>5.459166e+06</td>\n    </tr>\n  </tbody>\n</table>\n</div>"
     },
     "metadata": {}
    }
   ],
   "execution_count": 18
  },
  {
   "cell_type": "code",
   "source": "type = df.TYPE.value_counts()\ntype_perc = round((type/N)*100 ,2)\ntype_perc\n# 1/4 of crime are vehicle thefts,\n# another 1/4 are other forms of thefts\n# major personal injuries such are offense against a person and \n#    homicide comprise <10%",
   "metadata": {
    "tags": [],
    "cell_id": "00006-2c43032b-6f59-4b21-a170-19b374d79514",
    "deepnote_to_be_reexecuted": false,
    "source_hash": "b1636fdc",
    "execution_start": 1628970352057,
    "execution_millis": 93,
    "deepnote_cell_type": "code"
   },
   "outputs": [
    {
     "output_type": "execute_result",
     "execution_count": 44,
     "data": {
      "text/plain": "Theft from Vehicle                                        28.27\nOther Theft                                               24.26\nMischief                                                  11.73\nBreak and Enter Residential/Other                          8.73\nOffence Against a Person                                   8.51\nBreak and Enter Commercial                                 5.43\nTheft of Vehicle                                           5.38\nTheft of Bicycle                                           4.26\nVehicle Collision or Pedestrian Struck (with Injury)       3.36\nVehicle Collision or Pedestrian Struck (with Fatality)     0.04\nHomicide                                                   0.04\nName: TYPE, dtype: float64"
     },
     "metadata": {}
    }
   ],
   "execution_count": 44
  },
  {
   "cell_type": "code",
   "source": "import matplotlib.pyplot as plt\nimport seaborn as sns\nsns.set()\ntype_perc.plot(kind='bar', rot = 90)\nplt.xlabel('Crime type')\nplt.ylabel('%')\nplt.title('Percentage distribution of Types of Crime');",
   "metadata": {
    "tags": [],
    "cell_id": "00009-214a1bba-ee6e-46ea-84b3-5f51d32fcbd5",
    "deepnote_to_be_reexecuted": false,
    "source_hash": "9c276dc0",
    "execution_start": 1628970616865,
    "execution_millis": 784,
    "deepnote_cell_type": "code"
   },
   "outputs": [
    {
     "data": {
      "text/plain": "<Figure size 432x288 with 1 Axes>",
      "image/png": "[encoded data removed]"
     },
     "metadata": {
      "image/png": {
       "width": 389,
       "height": 559
      }
     },
     "output_type": "display_data"
    }
   ],
   "execution_count": 57
  },
  {
   "cell_type": "code",
   "source": "neigh = df.NEIGHBOURHOOD.value_counts()\nneigh_perc = round((neigh/N)*100 ,2)\nneigh_perc\n## with minimal null, not yet filled\n# 1/4 of crimes occur in the CBD",
   "metadata": {
    "tags": [],
    "cell_id": "00007-abef4943-6c6f-4d66-acd1-59372cfa01c7",
    "deepnote_to_be_reexecuted": false,
    "source_hash": "a25c3269",
    "execution_start": 1628970523994,
    "execution_millis": 10,
    "deepnote_cell_type": "code"
   },
   "outputs": [
    {
     "output_type": "execute_result",
     "execution_count": 54,
     "data": {
      "text/plain": "Central Business District    26.48\nWest End                      9.03\nStrathcona                    6.32\nMount Pleasant                6.27\nFairview                      6.25\nGrandview-Woodland            5.70\nRenfrew-Collingwood           5.23\nKitsilano                     5.02\nKensington-Cedar Cottage      4.78\nHastings-Sunrise              3.51\nSunset                        3.28\nMarpole                       2.49\nRiley Park                    2.44\nVictoria-Fraserview           2.03\nKillarney                     1.91\nOakridge                      1.55\nDunbar-Southlands             1.33\nKerrisdale                    1.33\nWest Point Grey               1.13\nArbutus Ridge                 1.09\nSouth Cambie                  1.01\nShaughnessy                   1.00\nStanley Park                  0.67\nMusqueam                      0.12\nName: NEIGHBOURHOOD, dtype: float64"
     },
     "metadata": {}
    }
   ],
   "execution_count": 54
  },
  {
   "cell_type": "code",
   "source": "neigh_perc.plot(kind='bar', rot = 90)\nplt.xlabel('Neighbourhood')\nplt.ylabel('%')\nplt.title('Percentage distribution of Neighbourhood crime');",
   "metadata": {
    "tags": [],
    "cell_id": "00009-aedb23b1-8962-4926-adee-20e0bbfa5dfd",
    "deepnote_to_be_reexecuted": false,
    "source_hash": "e210a65e",
    "execution_start": 1628970632225,
    "execution_millis": 388,
    "deepnote_cell_type": "code"
   },
   "outputs": [
    {
     "data": {
      "text/plain": "<Figure size 432x288 with 1 Axes>",
      "image/png": "[encoded data removed]"
     },
     "metadata": {
      "image/png": {
       "width": 389,
       "height": 420
      }
     },
     "output_type": "display_data"
    }
   ],
   "execution_count": 58
  },
  {
   "cell_type": "code",
   "source": "type_neigh = df.groupby('TYPE')['NEIGHBOURHOOD'].value_counts()\n(((type_neigh.sort_values(ascending=False))/N)*100).head()\n# the leading crimes are thefts and mischief that occur in the CBD, \n#    accounting for almost 20%\n\n# https://geodash.vpd.ca/opendata/\n# Other Theft: Theft of property that includes personal items (purse, wallet, cellphone, laptop, etc.), bicycle, etc.",
   "metadata": {
    "tags": [],
    "cell_id": "00008-92b9b49c-cd07-4fd5-8c2f-b747104833e6",
    "deepnote_to_be_reexecuted": false,
    "source_hash": "1e71104c",
    "execution_start": 1628969362634,
    "execution_millis": 135,
    "deepnote_cell_type": "code"
   },
   "outputs": [
    {
     "output_type": "execute_result",
     "execution_count": 39,
     "data": {
      "text/plain": "TYPE                NEIGHBOURHOOD            \nOther Theft         Central Business District    8.538478\nTheft from Vehicle  Central Business District    8.229664\nMischief            Central Business District    3.012791\nTheft from Vehicle  West End                     2.730808\nOther Theft         West End                     2.551764\nName: NEIGHBOURHOOD, dtype: float64"
     },
     "metadata": {}
    }
   ],
   "execution_count": 39
  },
  {
   "cell_type": "code",
   "source": "year = df.YEAR.value_counts()\nyear_perc = ((year/N)*100).sort_index(ascending=False)\nyear_perc",
   "metadata": {
    "tags": [],
    "cell_id": "00009-f1238268-255a-47da-b0f0-9e5889159ffc",
    "deepnote_to_be_reexecuted": false,
    "source_hash": "bab03a6",
    "execution_start": 1628970657330,
    "execution_millis": 6,
    "deepnote_cell_type": "code"
   },
   "outputs": [
    {
     "output_type": "execute_result",
     "execution_count": 59,
     "data": {
      "text/plain": "2021    1.839095\n2020    4.697668\n2019    6.054546\n2018    5.571577\n2017    5.423376\n2016    5.535717\n2015    5.050742\n2014    4.924107\n2013    4.496305\n2012    4.461700\n2011    4.319016\n2010    4.473862\n2009    4.761111\n2008    5.232921\n2007    5.566310\n2006    6.225692\n2005    6.700010\n2004    7.289177\n2003    7.377070\nName: YEAR, dtype: float64"
     },
     "metadata": {}
    }
   ],
   "execution_count": 59
  },
  {
   "cell_type": "code",
   "source": "year_perc.plot(kind='bar', rot = 70)\nplt.xlabel('Year')\nplt.ylabel('%')\nplt.title('Annual percentage distribution of crime (2003-2021');\n# decreasing percentage from 2003 - 2012\n# increasing trend 2013-2019\n# decreased in 2020 --> ? pandemic effect\n# 2021 ongoing",
   "metadata": {
    "tags": [],
    "cell_id": "00010-f59a0f09-f798-4fa3-bf61-e0c14558aec6",
    "deepnote_to_be_reexecuted": false,
    "source_hash": "d1648129",
    "execution_start": 1628970722157,
    "execution_millis": 317,
    "deepnote_cell_type": "code"
   },
   "outputs": [
    {
     "data": {
      "text/plain": "<Figure size 432x288 with 1 Axes>",
      "image/png": "[encoded data removed]"
     },
     "metadata": {
      "image/png": {
       "width": 383,
       "height": 303
      }
     },
     "output_type": "display_data"
    }
   ],
   "execution_count": 62
  },
  {
   "cell_type": "code",
   "source": "year_type = df.groupby('YEAR')['TYPE'].value_counts()\n(((year_type.sort_values(ascending=False))/N)*100).head()",
   "metadata": {
    "tags": [],
    "cell_id": "00013-2071339c-312f-4ad0-932e-535ea9904525",
    "deepnote_to_be_reexecuted": false,
    "source_hash": "210bf31f",
    "execution_start": 1628970941077,
    "execution_millis": 120,
    "deepnote_cell_type": "code"
   },
   "outputs": [
    {
     "output_type": "execute_result",
     "execution_count": 65,
     "data": {
      "text/plain": "YEAR  TYPE              \n2004  Theft from Vehicle    2.282820\n2003  Theft from Vehicle    2.224769\n2019  Theft from Vehicle    2.132990\n2005  Theft from Vehicle    2.075816\n2018  Theft from Vehicle    1.881224\nName: TYPE, dtype: float64"
     },
     "metadata": {}
    }
   ],
   "execution_count": 65
  },
  {
   "cell_type": "code",
   "source": "veh = df[df.TYPE == 'Theft from Vehicle']\nveh.groupby('YEAR')['NEIGHBOURHOOD'].value_counts().sort_values(ascending=False).head(10)",
   "metadata": {
    "tags": [],
    "cell_id": "00014-ac70694e-3d02-42db-a991-941398b30aac",
    "deepnote_to_be_reexecuted": false,
    "source_hash": "82d06a4b",
    "execution_start": 1628971584719,
    "execution_millis": 59,
    "deepnote_cell_type": "code"
   },
   "outputs": [
    {
     "output_type": "execute_result",
     "execution_count": 78,
     "data": {
      "text/plain": "YEAR  NEIGHBOURHOOD            \n2019  Central Business District    6375\n2003  Central Business District    5340\n2018  Central Business District    5300\n2004  Central Business District    4419\n2016  Central Business District    4384\n2017  Central Business District    4313\n2006  Central Business District    4084\n2007  Central Business District    3869\n2008  Central Business District    3831\n2005  Central Business District    3780\nName: NEIGHBOURHOOD, dtype: int64"
     },
     "metadata": {}
    }
   ],
   "execution_count": 78
  },
  {
   "cell_type": "code",
   "source": "yr_2021 = df[df.YEAR==2021]\ncbd = df[df.NEIGHBOURHOOD == 'Central Business District']\n\nyr_2021_cbd = yr_2021[yr_2021.NEIGHBOURHOOD == 'Central Business District']\n\nyr_2021_cbd_type = yr_2021_cbd.groupby('TYPE')\nyr_2021_cbd_type_ct = yr_2021_cbd_type.count()\nyr_2021_cbd_type_ct['YEAR'].sort_values(ascending=False)",
   "metadata": {
    "tags": [],
    "cell_id": "00015-976f0d2d-ac5a-452d-a4d5-a9ea26626c9e",
    "deepnote_to_be_reexecuted": false,
    "source_hash": "8701bad9",
    "execution_start": 1628972504915,
    "execution_millis": 72,
    "deepnote_cell_type": "code"
   },
   "outputs": [
    {
     "output_type": "execute_result",
     "execution_count": 110,
     "data": {
      "text/plain": "TYPE\nOther Theft                                             1062\nMischief                                                 856\nTheft from Vehicle                                       772\nOffence Against a Person                                 565\nBreak and Enter Commercial                               319\nTheft of Bicycle                                         128\nBreak and Enter Residential/Other                         59\nVehicle Collision or Pedestrian Struck (with Injury)      58\nTheft of Vehicle                                          37\nHomicide                                                   4\nName: YEAR, dtype: int64"
     },
     "metadata": {}
    }
   ],
   "execution_count": 110
  },
  {
   "cell_type": "code",
   "source": "(yr_2021_cbd_type_ct['YEAR'].sort_values(ascending=False)).plot(kind='bar')\nplt.xlabel('Crime type')\nplt.ylabel('Frequency of crime')\nplt.title('Frequency of Crime types in the Central Business District in 2021');",
   "metadata": {
    "tags": [],
    "cell_id": "00015-feae3673-012c-428f-9618-437004db7b01",
    "deepnote_to_be_reexecuted": false,
    "source_hash": "943eb431",
    "execution_start": 1628972643253,
    "execution_millis": 234,
    "deepnote_cell_type": "code"
   },
   "outputs": [
    {
     "data": {
      "text/plain": "<Figure size 432x288 with 1 Axes>",
      "image/png": "[encoded data removed]"
     },
     "metadata": {
      "image/png": {
       "width": 433,
       "height": 550
      }
     },
     "output_type": "display_data"
    }
   ],
   "execution_count": 114
  },
  {
   "cell_type": "code",
   "source": "df2 = pd.read_csv('/work/Amenity_Rooms_and_Assets.csv')\ndf2.sample(5)\n\n## would have helped to have neighbourhood name info, to correlate with statcan",
   "metadata": {
    "tags": [],
    "cell_id": "00017-9a02912d-44d8-497f-b5f3-285052449c13",
    "deepnote_to_be_reexecuted": false,
    "source_hash": "ef0e543b",
    "execution_start": 1628972869747,
    "execution_millis": 117,
    "deepnote_cell_type": "code"
   },
   "outputs": [
    {
     "output_type": "execute_result",
     "execution_count": 117,
     "data": {
      "application/vnd.deepnote.dataframe.v2+json": {
       "row_count": 5,
       "column_count": 40,
       "columns": [
        {
         "name": "Nos. of Suites",
         "dtype": "int64",
         "stats": {
          "unique_count": 5,
          "nan_count": 0,
          "min": "16",
          "max": "79",
          "histogram": [
           {
            "bin_start": 16,
            "bin_end": 22.3,
            "count": 2
           },
           {
            "bin_start": 22.3,
            "bin_end": 28.6,
            "count": 1
           },
           {
            "bin_start": 28.6,
            "bin_end": 34.9,
            "count": 0
           },
           {
            "bin_start": 34.9,
            "bin_end": 41.2,
            "count": 0
           },
           {
            "bin_start": 41.2,
            "bin_end": 47.5,
            "count": 0
           },
           {
            "bin_start": 47.5,
            "bin_end": 53.8,
            "count": 0
           },
           {
            "bin_start": 53.8,
            "bin_end": 60.1,
            "count": 0
           },
           {
            "bin_start": 60.1,
            "bin_end": 66.4,
            "count": 0
           },
           {
            "bin_start": 66.4,
            "bin_end": 72.69999999999999,
            "count": 1
           },
           {
            "bin_start": 72.69999999999999,
            "bin_end": 79,
            "count": 1
           }
          ]
         }
        },
        {
         "name": "Building Names",
         "dtype": "object",
         "stats": {
          "unique_count": 5,
          "nan_count": 0,
          "categories": [
           {
            "name": "COLLINGWOOD TOWER",
            "count": 1
           },
           {
            "name": "BRIDGEVIEW PLACE",
            "count": 1
           },
           {
            "name": "3 others",
            "count": 3
           }
          ]
         }
        },
        {
         "name": "Building Code",
         "dtype": "object",
         "stats": {
          "unique_count": 5,
          "nan_count": 0,
          "categories": [
           {
            "name": "CT",
            "count": 1
           },
           {
            "name": "BVP",
            "count": 1
           },
           {
            "name": "3 others",
            "count": 3
           }
          ]
         }
        },
        {
         "name": "Address",
         "dtype": "object",
         "stats": {
          "unique_count": 5,
          "nan_count": 0,
          "categories": [
           {
            "name": "5657 Harold St.",
            "count": 1
           },
           {
            "name": "238 Davie St.",
            "count": 1
           },
           {
            "name": "3 others",
            "count": 3
           }
          ]
         }
        },
        {
         "name": "Postal Code",
         "dtype": "object",
         "stats": {
          "unique_count": 5,
          "nan_count": 0,
          "categories": [
           {
            "name": "V5R 5V6",
            "count": 1
           },
           {
            "name": "V6B 5X8",
            "count": 1
           },
           {
            "name": "3 others",
            "count": 3
           }
          ]
         }
        },
        {
         "name": "No. of Suite Type",
         "dtype": "object",
         "stats": {
          "unique_count": 5,
          "nan_count": 0,
          "categories": [
           {
            "name": "Bachelor (56), 1BDR (12)",
            "count": 1
           },
           {
            "name": "1BDR (56), 2BDR (12), Handicap (4)",
            "count": 1
           },
           {
            "name": "3 others",
            "count": 3
           }
          ]
         }
        },
        {
         "name": "Build Year",
         "dtype": "float64",
         "stats": {
          "unique_count": 5,
          "nan_count": 0,
          "min": "1964.0",
          "max": "1993.0",
          "histogram": [
           {
            "bin_start": 1964,
            "bin_end": 1966.9,
            "count": 1
           },
           {
            "bin_start": 1966.9,
            "bin_end": 1969.8,
            "count": 1
           },
           {
            "bin_start": 1969.8,
            "bin_end": 1972.7,
            "count": 1
           },
           {
            "bin_start": 1972.7,
            "bin_end": 1975.6,
            "count": 0
           },
           {
            "bin_start": 1975.6,
            "bin_end": 1978.5,
            "count": 1
           },
           {
            "bin_start": 1978.5,
            "bin_end": 1981.4,
            "count": 0
           },
           {
            "bin_start": 1981.4,
            "bin_end": 1984.3,
            "count": 0
           },
           {
            "bin_start": 1984.3,
            "bin_end": 1987.2,
            "count": 0
           },
           {
            "bin_start": 1987.2,
            "bin_end": 1990.1,
            "count": 0
           },
           {
            "bin_start": 1990.1,
            "bin_end": 1993,
            "count": 1
           }
          ]
         }
        },
        {
         "name": "Resident Profile",
         "dtype": "object",
         "stats": {
          "unique_count": 2,
          "nan_count": 0,
          "categories": [
           {
            "name": "Seniors",
            "count": 3
           },
           {
            "name": "Families, People with Disabilities, Seniors",
            "count": 2
           }
          ]
         }
        },
        {
         "name": "BC Housing Registration (required)",
         "dtype": "bool",
         "stats": {
          "unique_count": 2,
          "nan_count": 0,
          "categories": [
           {
            "name": "False",
            "count": 3
           },
           {
            "name": "True",
            "count": 2
           }
          ]
         }
        },
        {
         "name": "Pet Friendly ",
         "dtype": "bool",
         "stats": {
          "unique_count": 1,
          "nan_count": 0,
          "categories": [
           {
            "name": "False",
            "count": 5
           }
          ]
         }
        },
        {
         "name": "Amenity room",
         "dtype": "object",
         "stats": {
          "unique_count": 2,
          "nan_count": 0,
          "categories": [
           {
            "name": "Yes",
            "count": 3
           },
           {
            "name": "No",
            "count": 2
           }
          ]
         }
        },
        {
         "name": "Lounge",
         "dtype": "object",
         "stats": {
          "unique_count": 0,
          "nan_count": 5,
          "categories": [
           {
            "name": "Missing",
            "count": 5
           }
          ]
         }
        },
        {
         "name": "Other",
         "dtype": "object",
         "stats": {
          "unique_count": 0,
          "nan_count": 5,
          "categories": [
           {
            "name": "Missing",
            "count": 5
           }
          ]
         }
        },
        {
         "name": "Static Chairs",
         "dtype": "float64",
         "stats": {
          "unique_count": 1,
          "nan_count": 4,
          "min": "4.0",
          "max": "4.0",
          "histogram": [
           {
            "bin_start": 3.5,
            "bin_end": 3.6,
            "count": 0
           },
           {
            "bin_start": 3.6,
            "bin_end": 3.7,
            "count": 0
           },
           {
            "bin_start": 3.7,
            "bin_end": 3.8,
            "count": 0
           },
           {
            "bin_start": 3.8,
            "bin_end": 3.9,
            "count": 0
           },
           {
            "bin_start": 3.9,
            "bin_end": 4,
            "count": 0
           },
           {
            "bin_start": 4,
            "bin_end": 4.1,
            "count": 1
           },
           {
            "bin_start": 4.1,
            "bin_end": 4.2,
            "count": 0
           },
           {
            "bin_start": 4.2,
            "bin_end": 4.3,
            "count": 0
           },
           {
            "bin_start": 4.3,
            "bin_end": 4.4,
            "count": 0
           },
           {
            "bin_start": 4.4,
            "bin_end": 4.5,
            "count": 0
           }
          ]
         }
        },
        {
         "name": "Movable Chairs",
         "dtype": "float64",
         "stats": {
          "unique_count": 3,
          "nan_count": 2,
          "min": "3.0",
          "max": "20.0",
          "histogram": [
           {
            "bin_start": 3,
            "bin_end": 4.7,
            "count": 1
           },
           {
            "bin_start": 4.7,
            "bin_end": 6.4,
            "count": 0
           },
           {
            "bin_start": 6.4,
            "bin_end": 8.1,
            "count": 0
           },
           {
            "bin_start": 8.1,
            "bin_end": 9.8,
            "count": 0
           },
           {
            "bin_start": 9.8,
            "bin_end": 11.5,
            "count": 1
           },
           {
            "bin_start": 11.5,
            "bin_end": 13.2,
            "count": 0
           },
           {
            "bin_start": 13.2,
            "bin_end": 14.9,
            "count": 0
           },
           {
            "bin_start": 14.9,
            "bin_end": 16.6,
            "count": 0
           },
           {
            "bin_start": 16.6,
            "bin_end": 18.299999999999997,
            "count": 0
           },
           {
            "bin_start": 18.299999999999997,
            "bin_end": 20,
            "count": 1
           }
          ]
         }
        },
        {
         "name": "Division",
         "dtype": "int64",
         "stats": {
          "unique_count": 2,
          "nan_count": 0,
          "min": "1",
          "max": "2",
          "histogram": [
           {
            "bin_start": 1,
            "bin_end": 1.1,
            "count": 3
           },
           {
            "bin_start": 1.1,
            "bin_end": 1.2,
            "count": 0
           },
           {
            "bin_start": 1.2,
            "bin_end": 1.3,
            "count": 0
           },
           {
            "bin_start": 1.3,
            "bin_end": 1.4,
            "count": 0
           },
           {
            "bin_start": 1.4,
            "bin_end": 1.5,
            "count": 0
           },
           {
            "bin_start": 1.5,
            "bin_end": 1.6,
            "count": 0
           },
           {
            "bin_start": 1.6,
            "bin_end": 1.7000000000000002,
            "count": 0
           },
           {
            "bin_start": 1.7000000000000002,
            "bin_end": 1.8,
            "count": 0
           },
           {
            "bin_start": 1.8,
            "bin_end": 1.9,
            "count": 0
           },
           {
            "bin_start": 1.9,
            "bin_end": 2,
            "count": 2
           }
          ]
         }
        },
        {
         "name": "Tables",
         "dtype": "float64",
         "stats": {
          "unique_count": 3,
          "nan_count": 2,
          "min": "1.0",
          "max": "17.0",
          "histogram": [
           {
            "bin_start": 1,
            "bin_end": 2.6,
            "count": 1
           },
           {
            "bin_start": 2.6,
            "bin_end": 4.2,
            "count": 1
           },
           {
            "bin_start": 4.2,
            "bin_end": 5.800000000000001,
            "count": 0
           },
           {
            "bin_start": 5.800000000000001,
            "bin_end": 7.4,
            "count": 0
           },
           {
            "bin_start": 7.4,
            "bin_end": 9,
            "count": 0
           },
           {
            "bin_start": 9,
            "bin_end": 10.600000000000001,
            "count": 0
           },
           {
            "bin_start": 10.600000000000001,
            "bin_end": 12.200000000000001,
            "count": 0
           },
           {
            "bin_start": 12.200000000000001,
            "bin_end": 13.8,
            "count": 0
           },
           {
            "bin_start": 13.8,
            "bin_end": 15.4,
            "count": 0
           },
           {
            "bin_start": 15.4,
            "bin_end": 17,
            "count": 1
           }
          ]
         }
        },
        {
         "name": "Appliances ",
         "dtype": "object",
         "stats": {
          "unique_count": 3,
          "nan_count": 2,
          "categories": [
           {
            "name": "Fridge  ",
            "count": 1
           },
           {
            "name": "2 others",
            "count": 2
           },
           {
            "name": "Missing",
            "count": 2
           }
          ]
         }
        },
        {
         "name": "DVD Player",
         "dtype": "bool",
         "stats": {
          "unique_count": 1,
          "nan_count": 0,
          "categories": [
           {
            "name": "False",
            "count": 5
           }
          ]
         }
        },
        {
         "name": "Microwave",
         "dtype": "bool",
         "stats": {
          "unique_count": 1,
          "nan_count": 0,
          "categories": [
           {
            "name": "False",
            "count": 5
           }
          ]
         }
        },
        {
         "name": "Stove",
         "dtype": "bool",
         "stats": {
          "unique_count": 2,
          "nan_count": 0,
          "categories": [
           {
            "name": "False",
            "count": 4
           },
           {
            "name": "True",
            "count": 1
           }
          ]
         }
        },
        {
         "name": "Fridge",
         "dtype": "bool",
         "stats": {
          "unique_count": 2,
          "nan_count": 0,
          "categories": [
           {
            "name": "False",
            "count": 3
           },
           {
            "name": "True",
            "count": 2
           }
          ]
         }
        },
        {
         "name": "Television",
         "dtype": "bool",
         "stats": {
          "unique_count": 2,
          "nan_count": 0,
          "categories": [
           {
            "name": "False",
            "count": 4
           },
           {
            "name": "True",
            "count": 1
           }
          ]
         }
        },
        {
         "name": "Sink",
         "dtype": "bool",
         "stats": {
          "unique_count": 2,
          "nan_count": 0,
          "categories": [
           {
            "name": "False",
            "count": 4
           },
           {
            "name": "True",
            "count": 1
           }
          ]
         }
        },
        {
         "name": "Comments",
         "dtype": "object",
         "stats": {
          "unique_count": 2,
          "nan_count": 3,
          "categories": [
           {
            "name": "Main Floor, 2nd Amenity Room on 10th Floor - not currently usable.   6x3' tables and 1X8' and 1X6' table stored in adjacent storeroom.",
            "count": 1
           },
           {
            "name": "8th Floor Amenity Room.  Combined with laundry room. 2nd Floor Amenity Room.  Combined with laundry room.  Three 6' resin chairs and 10 stacking chairs.  4 folding chairs in closet.  Dining room table with 6 chairs.",
            "count": 1
           },
           {
            "name": "Missing",
            "count": 3
           }
          ]
         }
        },
        {
         "name": "Recommended Occupancy",
         "dtype": "object",
         "stats": {
          "unique_count": 2,
          "nan_count": 2,
          "categories": [
           {
            "name": "12-15",
            "count": 2
           },
           {
            "name": "8-10",
            "count": 1
           },
           {
            "name": "Missing",
            "count": 2
           }
          ]
         }
        },
        {
         "name": "Access",
         "dtype": "object",
         "stats": {
          "unique_count": 1,
          "nan_count": 2,
          "categories": [
           {
            "name": "OPEN",
            "count": 3
           },
           {
            "name": "Missing",
            "count": 2
           }
          ]
         }
        },
        {
         "name": "Picture",
         "dtype": "object",
         "stats": {
          "unique_count": 1,
          "nan_count": 3,
          "categories": [
           {
            "name": "Y",
            "count": 2
           },
           {
            "name": "Missing",
            "count": 3
           }
          ]
         }
        },
        {
         "name": "Type of Flooring",
         "dtype": "object",
         "stats": {
          "unique_count": 1,
          "nan_count": 3,
          "categories": [
           {
            "name": "C",
            "count": 2
           },
           {
            "name": "Missing",
            "count": 3
           }
          ]
         }
        },
        {
         "name": "Type of Flooring.1",
         "dtype": "object",
         "stats": {
          "unique_count": 1,
          "nan_count": 3,
          "categories": [
           {
            "name": "Carpeting",
            "count": 2
           },
           {
            "name": "Missing",
            "count": 3
           }
          ]
         }
        },
        {
         "name": "Bike Storage",
         "dtype": "object",
         "stats": {
          "unique_count": 1,
          "nan_count": 2,
          "categories": [
           {
            "name": "Y",
            "count": 3
           },
           {
            "name": "Missing",
            "count": 2
           }
          ]
         }
        },
        {
         "name": "Location",
         "dtype": "object",
         "stats": {
          "unique_count": 3,
          "nan_count": 2,
          "categories": [
           {
            "name": "Door left of entrance",
            "count": 1
           },
           {
            "name": "2 others",
            "count": 2
           },
           {
            "name": "Missing",
            "count": 2
           }
          ]
         }
        },
        {
         "name": "Rent - Lowest Range",
         "dtype": "float64",
         "stats": {
          "unique_count": 3,
          "nan_count": 0,
          "min": "220.0",
          "max": "475.0",
          "histogram": [
           {
            "bin_start": 220,
            "bin_end": 245.5,
            "count": 1
           },
           {
            "bin_start": 245.5,
            "bin_end": 271,
            "count": 0
           },
           {
            "bin_start": 271,
            "bin_end": 296.5,
            "count": 0
           },
           {
            "bin_start": 296.5,
            "bin_end": 322,
            "count": 1
           },
           {
            "bin_start": 322,
            "bin_end": 347.5,
            "count": 0
           },
           {
            "bin_start": 347.5,
            "bin_end": 373,
            "count": 0
           },
           {
            "bin_start": 373,
            "bin_end": 398.5,
            "count": 0
           },
           {
            "bin_start": 398.5,
            "bin_end": 424,
            "count": 0
           },
           {
            "bin_start": 424,
            "bin_end": 449.5,
            "count": 0
           },
           {
            "bin_start": 449.5,
            "bin_end": 475,
            "count": 3
           }
          ]
         }
        },
        {
         "name": "Rent - Highest Range",
         "dtype": "object",
         "stats": {
          "unique_count": 5,
          "nan_count": 0,
          "categories": [
           {
            "name": "772.00",
            "count": 1
           },
           {
            "name": "1,284.00",
            "count": 1
           },
           {
            "name": "3 others",
            "count": 3
           }
          ]
         }
        },
        {
         "name": "Average Rent",
         "dtype": "float64",
         "stats": {
          "unique_count": 5,
          "nan_count": 0,
          "min": "494.75",
          "max": "886.1",
          "histogram": [
           {
            "bin_start": 494.75,
            "bin_end": 533.885,
            "count": 1
           },
           {
            "bin_start": 533.885,
            "bin_end": 573.02,
            "count": 0
           },
           {
            "bin_start": 573.02,
            "bin_end": 612.155,
            "count": 0
           },
           {
            "bin_start": 612.155,
            "bin_end": 651.29,
            "count": 1
           },
           {
            "bin_start": 651.29,
            "bin_end": 690.425,
            "count": 0
           },
           {
            "bin_start": 690.425,
            "bin_end": 729.5600000000001,
            "count": 0
           },
           {
            "bin_start": 729.5600000000001,
            "bin_end": 768.695,
            "count": 2
           },
           {
            "bin_start": 768.695,
            "bin_end": 807.83,
            "count": 0
           },
           {
            "bin_start": 807.83,
            "bin_end": 846.965,
            "count": 0
           },
           {
            "bin_start": 846.965,
            "bin_end": 886.1,
            "count": 1
           }
          ]
         }
        },
        {
         "name": "Median Rent",
         "dtype": "object",
         "stats": {
          "unique_count": 5,
          "nan_count": 0,
          "categories": [
           {
            "name": "475.00",
            "count": 1
           },
           {
            "name": "529.00",
            "count": 1
           },
           {
            "name": "3 others",
            "count": 3
           }
          ]
         }
        },
        {
         "name": "Unnamed: 36",
         "dtype": "float64",
         "stats": {
          "unique_count": 0,
          "nan_count": 5,
          "min": null,
          "max": null,
          "histogram": [
           {
            "bin_start": 0,
            "bin_end": 0.1,
            "count": 0
           },
           {
            "bin_start": 0.1,
            "bin_end": 0.2,
            "count": 0
           },
           {
            "bin_start": 0.2,
            "bin_end": 0.30000000000000004,
            "count": 0
           },
           {
            "bin_start": 0.30000000000000004,
            "bin_end": 0.4,
            "count": 0
           },
           {
            "bin_start": 0.4,
            "bin_end": 0.5,
            "count": 0
           },
           {
            "bin_start": 0.5,
            "bin_end": 0.6000000000000001,
            "count": 0
           },
           {
            "bin_start": 0.6000000000000001,
            "bin_end": 0.7000000000000001,
            "count": 0
           },
           {
            "bin_start": 0.7000000000000001,
            "bin_end": 0.8,
            "count": 0
           },
           {
            "bin_start": 0.8,
            "bin_end": 0.9,
            "count": 0
           },
           {
            "bin_start": 0.9,
            "bin_end": 1,
            "count": 0
           }
          ]
         }
        },
        {
         "name": "Unnamed: 37",
         "dtype": "float64",
         "stats": {
          "unique_count": 0,
          "nan_count": 5,
          "min": null,
          "max": null,
          "histogram": [
           {
            "bin_start": 0,
            "bin_end": 0.1,
            "count": 0
           },
           {
            "bin_start": 0.1,
            "bin_end": 0.2,
            "count": 0
           },
           {
            "bin_start": 0.2,
            "bin_end": 0.30000000000000004,
            "count": 0
           },
           {
            "bin_start": 0.30000000000000004,
            "bin_end": 0.4,
            "count": 0
           },
           {
            "bin_start": 0.4,
            "bin_end": 0.5,
            "count": 0
           },
           {
            "bin_start": 0.5,
            "bin_end": 0.6000000000000001,
            "count": 0
           },
           {
            "bin_start": 0.6000000000000001,
            "bin_end": 0.7000000000000001,
            "count": 0
           },
           {
            "bin_start": 0.7000000000000001,
            "bin_end": 0.8,
            "count": 0
           },
           {
            "bin_start": 0.8,
            "bin_end": 0.9,
            "count": 0
           },
           {
            "bin_start": 0.9,
            "bin_end": 1,
            "count": 0
           }
          ]
         }
        },
        {
         "name": "Unnamed: 38",
         "dtype": "float64",
         "stats": {
          "unique_count": 0,
          "nan_count": 5,
          "min": null,
          "max": null,
          "histogram": [
           {
            "bin_start": 0,
            "bin_end": 0.1,
            "count": 0
           },
           {
            "bin_start": 0.1,
            "bin_end": 0.2,
            "count": 0
           },
           {
            "bin_start": 0.2,
            "bin_end": 0.30000000000000004,
            "count": 0
           },
           {
            "bin_start": 0.30000000000000004,
            "bin_end": 0.4,
            "count": 0
           },
           {
            "bin_start": 0.4,
            "bin_end": 0.5,
            "count": 0
           },
           {
            "bin_start": 0.5,
            "bin_end": 0.6000000000000001,
            "count": 0
           },
           {
            "bin_start": 0.6000000000000001,
            "bin_end": 0.7000000000000001,
            "count": 0
           },
           {
            "bin_start": 0.7000000000000001,
            "bin_end": 0.8,
            "count": 0
           },
           {
            "bin_start": 0.8,
            "bin_end": 0.9,
            "count": 0
           },
           {
            "bin_start": 0.9,
            "bin_end": 1,
            "count": 0
           }
          ]
         }
        },
        {
         "name": "Unnamed: 39",
         "dtype": "float64",
         "stats": {
          "unique_count": 0,
          "nan_count": 5,
          "min": null,
          "max": null,
          "histogram": [
           {
            "bin_start": 0,
            "bin_end": 0.1,
            "count": 0
           },
           {
            "bin_start": 0.1,
            "bin_end": 0.2,
            "count": 0
           },
           {
            "bin_start": 0.2,
            "bin_end": 0.30000000000000004,
            "count": 0
           },
           {
            "bin_start": 0.30000000000000004,
            "bin_end": 0.4,
            "count": 0
           },
           {
            "bin_start": 0.4,
            "bin_end": 0.5,
            "count": 0
           },
           {
            "bin_start": 0.5,
            "bin_end": 0.6000000000000001,
            "count": 0
           },
           {
            "bin_start": 0.6000000000000001,
            "bin_end": 0.7000000000000001,
            "count": 0
           },
           {
            "bin_start": 0.7000000000000001,
            "bin_end": 0.8,
            "count": 0
           },
           {
            "bin_start": 0.8,
            "bin_end": 0.9,
            "count": 0
           },
           {
            "bin_start": 0.9,
            "bin_end": 1,
            "count": 0
           }
          ]
         }
        },
        {
         "name": "_deepnote_index_column",
         "dtype": "int64"
        }
       ],
       "rows_top": [
        {
         "Nos. of Suites": 79,
         "Building Names": "COLLINGWOOD TOWER",
         "Building Code": "CT",
         "Address": "5657 Harold St.",
         "Postal Code": "V5R 5V6",
         "No. of Suite Type": "Bachelor (56), 1BDR (12)",
         "Build Year": 1977,
         "Resident Profile": "Seniors",
         "BC Housing Registration (required)": "True",
         "Pet Friendly ": "False",
         "Amenity room": "Yes",
         "Lounge": "nan",
         "Other": "nan",
         "Static Chairs": "nan",
         "Movable Chairs": 10,
         "Division": 2,
         "Tables": 17,
         "Appliances ": "Fridge  ",
         "DVD Player": "False",
         "Microwave": "False",
         "Stove": "False",
         "Fridge": "True",
         "Television": "False",
         "Sink": "False",
         "Comments": "Main Floor, 2nd Amenity Room on 10th Floor - not currently usable.   6x3' tables and 1X8' and 1X6' …",
         "Recommended Occupancy": "12-15",
         "Access": "OPEN",
         "Picture": "Y",
         "Type of Flooring": "C",
         "Type of Flooring.1": "Carpeting",
         "Bike Storage": "nan",
         "Location": "nan",
         "Rent - Lowest Range": 220,
         "Rent - Highest Range": "772.00",
         "Average Rent": 494.75,
         "Median Rent": "475.00",
         "Unnamed: 36": "nan",
         "Unnamed: 37": "nan",
         "Unnamed: 38": "nan",
         "Unnamed: 39": "nan",
         "_deepnote_index_column": 19
        },
        {
         "Nos. of Suites": 72,
         "Building Names": "BRIDGEVIEW PLACE",
         "Building Code": "BVP",
         "Address": "238 Davie St.",
         "Postal Code": "V6B 5X8",
         "No. of Suite Type": "1BDR (56), 2BDR (12), Handicap (4)",
         "Build Year": 1993,
         "Resident Profile": "Families, People with Disabilities, Seniors",
         "BC Housing Registration (required)": "True",
         "Pet Friendly ": "False",
         "Amenity room": "Yes",
         "Lounge": "nan",
         "Other": "nan",
         "Static Chairs": "nan",
         "Movable Chairs": 20,
         "Division": 2,
         "Tables": 4,
         "Appliances ": "Fridge, Stove",
         "DVD Player": "False",
         "Microwave": "False",
         "Stove": "True",
         "Fridge": "True",
         "Television": "False",
         "Sink": "False",
         "Comments": "8th Floor Amenity Room.  Combined with laundry room. 2nd Floor Amenity Room.  Combined with laundry…",
         "Recommended Occupancy": "12-15",
         "Access": "OPEN",
         "Picture": "nan",
         "Type of Flooring": "nan",
         "Type of Flooring.1": "nan",
         "Bike Storage": "Y",
         "Location": "Door left of entrance",
         "Rent - Lowest Range": 320,
         "Rent - Highest Range": "1,284.00",
         "Average Rent": 623.78,
         "Median Rent": "529.00",
         "Unnamed: 36": "nan",
         "Unnamed: 37": "nan",
         "Unnamed: 38": "nan",
         "Unnamed: 39": "nan",
         "_deepnote_index_column": 17
        },
        {
         "Nos. of Suites": 16,
         "Building Names": "BURRARD MANOR",
         "Building Code": "BM",
         "Address": "2330 Balsam St",
         "Postal Code": "V6K 3M8",
         "No. of Suite Type": "Bachelor (15), 1BDR (1)",
         "Build Year": 1967,
         "Resident Profile": "Seniors",
         "BC Housing Registration (required)": "False",
         "Pet Friendly ": "False",
         "Amenity room": "No",
         "Lounge": "nan",
         "Other": "nan",
         "Static Chairs": "nan",
         "Movable Chairs": "nan",
         "Division": 1,
         "Tables": "nan",
         "Appliances ": "nan",
         "DVD Player": "False",
         "Microwave": "False",
         "Stove": "False",
         "Fridge": "False",
         "Television": "False",
         "Sink": "False",
         "Comments": "nan",
         "Recommended Occupancy": "nan",
         "Access": "nan",
         "Picture": "nan",
         "Type of Flooring": "nan",
         "Type of Flooring.1": "nan",
         "Bike Storage": "nan",
         "Location": "nan",
         "Rent - Lowest Range": 475,
         "Rent - Highest Range": "1,084.00",
         "Average Rent": 747.69,
         "Median Rent": "787.50",
         "Unnamed: 36": "nan",
         "Unnamed: 37": "nan",
         "Unnamed: 38": "nan",
         "Unnamed: 39": "nan",
         "_deepnote_index_column": 2
        },
        {
         "Nos. of Suites": 21,
         "Building Names": "ARBUTUS COURT",
         "Building Code": "AC",
         "Address": "2085 W. 5th Ave.",
         "Postal Code": "V6J 1P8",
         "No. of Suite Type": "1BDR (21)",
         "Build Year": 1964,
         "Resident Profile": "Families, People with Disabilities, Seniors",
         "BC Housing Registration (required)": "False",
         "Pet Friendly ": "False",
         "Amenity room": "No",
         "Lounge": "nan",
         "Other": "nan",
         "Static Chairs": "nan",
         "Movable Chairs": "nan",
         "Division": 1,
         "Tables": "nan",
         "Appliances ": "nan",
         "DVD Player": "False",
         "Microwave": "False",
         "Stove": "False",
         "Fridge": "False",
         "Television": "False",
         "Sink": "False",
         "Comments": "nan",
         "Recommended Occupancy": "nan",
         "Access": "nan",
         "Picture": "nan",
         "Type of Flooring": "nan",
         "Type of Flooring.1": "nan",
         "Bike Storage": "Y",
         "Location": "Parkade",
         "Rent - Lowest Range": 475,
         "Rent - Highest Range": "1,553.00",
         "Average Rent": 886.1,
         "Median Rent": "803.00",
         "Unnamed: 36": "nan",
         "Unnamed: 37": "nan",
         "Unnamed: 38": "nan",
         "Unnamed: 39": "nan",
         "_deepnote_index_column": 1
        },
        {
         "Nos. of Suites": 25,
         "Building Names": "SOROPTIMIST LIONS",
         "Building Code": "SL",
         "Address": "1444 E. 13th Ave.",
         "Postal Code": "V5N 2B6",
         "No. of Suite Type": "Bachelor (19), 1BDR (6)",
         "Build Year": 1971,
         "Resident Profile": "Seniors",
         "BC Housing Registration (required)": "False",
         "Pet Friendly ": "False",
         "Amenity room": "Yes",
         "Lounge": "nan",
         "Other": "nan",
         "Static Chairs": 4,
         "Movable Chairs": 3,
         "Division": 1,
         "Tables": 1,
         "Appliances ": "Sink / Television",
         "DVD Player": "False",
         "Microwave": "False",
         "Stove": "False",
         "Fridge": "False",
         "Television": "True",
         "Sink": "True",
         "Comments": "nan",
         "Recommended Occupancy": "8-10",
         "Access": "OPEN",
         "Picture": "Y",
         "Type of Flooring": "C",
         "Type of Flooring.1": "Carpeting",
         "Bike Storage": "Y",
         "Location": "Rear Parking Shed",
         "Rent - Lowest Range": 475,
         "Rent - Highest Range": "1,150.00",
         "Average Rent": 753.12,
         "Median Rent": "772.00",
         "Unnamed: 36": "nan",
         "Unnamed: 37": "nan",
         "Unnamed: 38": "nan",
         "Unnamed: 39": "nan",
         "_deepnote_index_column": 15
        }
       ],
       "rows_bottom": null
      },
      "text/plain": "    Nos. of Suites     Building Names Building Code            Address  \\\n19              79  COLLINGWOOD TOWER            CT    5657 Harold St.   \n17              72   BRIDGEVIEW PLACE           BVP      238 Davie St.   \n2               16      BURRARD MANOR            BM     2330 Balsam St   \n1               21      ARBUTUS COURT            AC   2085 W. 5th Ave.   \n15              25  SOROPTIMIST LIONS            SL  1444 E. 13th Ave.   \n\n   Postal Code                   No. of Suite Type  Build Year  \\\n19     V5R 5V6            Bachelor (56), 1BDR (12)      1977.0   \n17     V6B 5X8  1BDR (56), 2BDR (12), Handicap (4)      1993.0   \n2      V6K 3M8             Bachelor (15), 1BDR (1)      1967.0   \n1      V6J 1P8                           1BDR (21)      1964.0   \n15     V5N 2B6             Bachelor (19), 1BDR (6)      1971.0   \n\n                               Resident Profile  \\\n19                                      Seniors   \n17  Families, People with Disabilities, Seniors   \n2                                       Seniors   \n1   Families, People with Disabilities, Seniors   \n15                                      Seniors   \n\n    BC Housing Registration (required)  Pet Friendly   ... Bike Storage  \\\n19                                True          False  ...          NaN   \n17                                True          False  ...            Y   \n2                                False          False  ...          NaN   \n1                                False          False  ...            Y   \n15                               False          False  ...            Y   \n\n                 Location Rent - Lowest Range  Rent - Highest Range  \\\n19                    NaN               220.0                772.00   \n17  Door left of entrance               320.0              1,284.00   \n2                     NaN               475.0              1,084.00   \n1                 Parkade               475.0              1,553.00   \n15      Rear Parking Shed               475.0              1,150.00   \n\n    Average Rent  Median Rent  Unnamed: 36 Unnamed: 37  Unnamed: 38  \\\n19        494.75       475.00          NaN         NaN          NaN   \n17        623.78       529.00          NaN         NaN          NaN   \n2         747.69       787.50          NaN         NaN          NaN   \n1         886.10       803.00          NaN         NaN          NaN   \n15        753.12       772.00          NaN         NaN          NaN   \n\n    Unnamed: 39  \n19          NaN  \n17          NaN  \n2           NaN  \n1           NaN  \n15          NaN  \n\n[5 rows x 40 columns]",
      "text/html": "<div>\n<style scoped>\n    .dataframe tbody tr th:only-of-type {\n        vertical-align: middle;\n    }\n\n    .dataframe tbody tr th {\n        vertical-align: top;\n    }\n\n    .dataframe thead th {\n        text-align: right;\n    }\n</style>\n<table border=\"1\" class=\"dataframe\">\n  <thead>\n    <tr style=\"text-align: right;\">\n      <th></th>\n      <th>Nos. of Suites</th>\n      <th>Building Names</th>\n      <th>Building Code</th>\n      <th>Address</th>\n      <th>Postal Code</th>\n      <th>No. of Suite Type</th>\n      <th>Build Year</th>\n      <th>Resident Profile</th>\n      <th>BC Housing Registration (required)</th>\n      <th>Pet Friendly</th>\n      <th>...</th>\n      <th>Bike Storage</th>\n      <th>Location</th>\n      <th>Rent - Lowest Range</th>\n      <th>Rent - Highest Range</th>\n      <th>Average Rent</th>\n      <th>Median Rent</th>\n      <th>Unnamed: 36</th>\n      <th>Unnamed: 37</th>\n      <th>Unnamed: 38</th>\n      <th>Unnamed: 39</th>\n    </tr>\n  </thead>\n  <tbody>\n    <tr>\n      <th>19</th>\n      <td>79</td>\n      <td>COLLINGWOOD TOWER</td>\n      <td>CT</td>\n      <td>5657 Harold St.</td>\n      <td>V5R 5V6</td>\n      <td>Bachelor (56), 1BDR (12)</td>\n      <td>1977.0</td>\n      <td>Seniors</td>\n      <td>True</td>\n      <td>False</td>\n      <td>...</td>\n      <td>NaN</td>\n      <td>NaN</td>\n      <td>220.0</td>\n      <td>772.00</td>\n      <td>494.75</td>\n      <td>475.00</td>\n      <td>NaN</td>\n      <td>NaN</td>\n      <td>NaN</td>\n      <td>NaN</td>\n    </tr>\n    <tr>\n      <th>17</th>\n      <td>72</td>\n      <td>BRIDGEVIEW PLACE</td>\n      <td>BVP</td>\n      <td>238 Davie St.</td>\n      <td>V6B 5X8</td>\n      <td>1BDR (56), 2BDR (12), Handicap (4)</td>\n      <td>1993.0</td>\n      <td>Families, People with Disabilities, Seniors</td>\n      <td>True</td>\n      <td>False</td>\n      <td>...</td>\n      <td>Y</td>\n      <td>Door left of entrance</td>\n      <td>320.0</td>\n      <td>1,284.00</td>\n      <td>623.78</td>\n      <td>529.00</td>\n      <td>NaN</td>\n      <td>NaN</td>\n      <td>NaN</td>\n      <td>NaN</td>\n    </tr>\n    <tr>\n      <th>2</th>\n      <td>16</td>\n      <td>BURRARD MANOR</td>\n      <td>BM</td>\n      <td>2330 Balsam St</td>\n      <td>V6K 3M8</td>\n      <td>Bachelor (15), 1BDR (1)</td>\n      <td>1967.0</td>\n      <td>Seniors</td>\n      <td>False</td>\n      <td>False</td>\n      <td>...</td>\n      <td>NaN</td>\n      <td>NaN</td>\n      <td>475.0</td>\n      <td>1,084.00</td>\n      <td>747.69</td>\n      <td>787.50</td>\n      <td>NaN</td>\n      <td>NaN</td>\n      <td>NaN</td>\n      <td>NaN</td>\n    </tr>\n    <tr>\n      <th>1</th>\n      <td>21</td>\n      <td>ARBUTUS COURT</td>\n      <td>AC</td>\n      <td>2085 W. 5th Ave.</td>\n      <td>V6J 1P8</td>\n      <td>1BDR (21)</td>\n      <td>1964.0</td>\n      <td>Families, People with Disabilities, Seniors</td>\n      <td>False</td>\n      <td>False</td>\n      <td>...</td>\n      <td>Y</td>\n      <td>Parkade</td>\n      <td>475.0</td>\n      <td>1,553.00</td>\n      <td>886.10</td>\n      <td>803.00</td>\n      <td>NaN</td>\n      <td>NaN</td>\n      <td>NaN</td>\n      <td>NaN</td>\n    </tr>\n    <tr>\n      <th>15</th>\n      <td>25</td>\n      <td>SOROPTIMIST LIONS</td>\n      <td>SL</td>\n      <td>1444 E. 13th Ave.</td>\n      <td>V5N 2B6</td>\n      <td>Bachelor (19), 1BDR (6)</td>\n      <td>1971.0</td>\n      <td>Seniors</td>\n      <td>False</td>\n      <td>False</td>\n      <td>...</td>\n      <td>Y</td>\n      <td>Rear Parking Shed</td>\n      <td>475.0</td>\n      <td>1,150.00</td>\n      <td>753.12</td>\n      <td>772.00</td>\n      <td>NaN</td>\n      <td>NaN</td>\n      <td>NaN</td>\n      <td>NaN</td>\n    </tr>\n  </tbody>\n</table>\n<p>5 rows × 40 columns</p>\n</div>"
     },
     "metadata": {}
    }
   ],
   "execution_count": 117
  },
  {
   "cell_type": "code",
   "source": "df2['neighbourhood'] = df2['Postal Code']\ndf2.neighbourhood.replace({'V5R 5C6': 'Renfrew-Collingwood',\n                            'V5Z 1B3' : 'Fairview',\n                            'V6G 1K1' :  'Stanley Park',\n                            'V6K 1L9': 'Kitsilano',\n                            'V5T 1J9': 'Mount Pleasant',\n                            'V6B 5X8': 'Central Business District',\n                            'V5K 4X8': 'Hastings-Sunrise',\n                            'V6K 3M8': 'Kitsilano',\n                            'V5R 2K6': 'Renfrew-Collingwood',\n                            'V5R 5V6': 'Renfrew-Collingwood',\n                            'V5R 3N3': 'Rendrew-Collingwood',\n                            'V5N 5X1': 'Grandview-Woodland',\n                            'V6J 1P8': 'Kitsilano',\n                            'V5N 2A1': 'Grandview-Woodland',\n                            'V6E 1R2': 'West End',\n                            'V6E 1S2': 'West End',\n                            'V5N 1Y6': 'Kensington-Cedar Cottage',\n                            'V5R 4S2': 'Renfrew-Collingwood',\n                            'V6H 2S2': 'Fairview',\n                            'V6P 4W9': 'Marpole',\n                            'V5N 2B6': 'Kensington-Cedar Cottage',\n                            'V5P 1K5': 'Victoria-Fraserview',\n                            'V5N 1P3': 'Grandview-Woodland',\n                            'V6M 3Y1': 'Kerrisdale'\n\n                            }, inplace=True)\n",
   "metadata": {
    "tags": [],
    "cell_id": "00019-2eb0f780-40d1-40d6-965d-636ea17bbe53",
    "deepnote_to_be_reexecuted": false,
    "source_hash": "dbf1876a",
    "execution_start": 1628981394182,
    "execution_millis": 0,
    "deepnote_cell_type": "code"
   },
   "outputs": [],
   "execution_count": 182
  },
  {
   "cell_type": "code",
   "source": "df2.neighbourhood.unique()",
   "metadata": {
    "tags": [],
    "cell_id": "00020-6fd7c297-82c8-4a24-8b74-f5a1300bc1d0",
    "deepnote_to_be_reexecuted": false,
    "source_hash": "8b7679b0",
    "execution_start": 1628981395315,
    "execution_millis": 7,
    "deepnote_cell_type": "code"
   },
   "outputs": [
    {
     "output_type": "execute_result",
     "execution_count": 183,
     "data": {
      "text/plain": "array(['Hastings-Sunrise', 'Kitsilano', 'Grandview-Woodland', 'West End',\n       'Stanley Park', 'Kensington-Cedar Cottage', 'Renfrew-Collingwood',\n       'Kerrisdale', 'Fairview', 'Marpole', 'Mount Pleasant',\n       'Central Business District', 'Rendrew-Collingwood',\n       'Victoria-Fraserview'], dtype=object)"
     },
     "metadata": {}
    }
   ],
   "execution_count": 183
  },
  {
   "cell_type": "code",
   "source": "## need to relate postal codes with crime type neighbourhood/x/y\n## alternative: derive neighbourhoods from postal code\n### not promising, too much overlap\n#### alternative:  area code  https://www.zip-codes.com/canadian/postal-code.asp?postalcode=v6g+1k1\n# postal code info https://postalcodeinfo.ca/postal-code/v6g-1k1/\n# lacking info filled with google maps search",
   "metadata": {
    "tags": [],
    "cell_id": "00015-7364239e-1a57-4d91-9ea5-40610bb419c6",
    "deepnote_cell_type": "code"
   },
   "outputs": [],
   "execution_count": null
  },
  {
   "cell_type": "code",
   "source": "df.NEIGHBOURHOOD.unique()",
   "metadata": {
    "tags": [],
    "cell_id": "00020-7bbdfd1e-f630-48f6-92ec-9e9e5c7db13a",
    "deepnote_to_be_reexecuted": false,
    "source_hash": "42b51368",
    "execution_start": 1628974183276,
    "execution_millis": 59,
    "deepnote_cell_type": "code"
   },
   "outputs": [
    {
     "output_type": "execute_result",
     "execution_count": 123,
     "data": {
      "text/plain": "array(['Oakridge', 'Fairview', 'West End', 'Central Business District',\n       'Hastings-Sunrise', 'Strathcona', 'Grandview-Woodland',\n       'Kitsilano', 'Kensington-Cedar Cottage', 'Sunset',\n       'Mount Pleasant', 'Stanley Park', 'Shaughnessy', 'Marpole',\n       'West Point Grey', 'Victoria-Fraserview', 'Kerrisdale',\n       'Riley Park', 'Arbutus Ridge', 'Renfrew-Collingwood', 'Killarney',\n       'Dunbar-Southlands', 'South Cambie', 'Musqueam', nan], dtype=object)"
     },
     "metadata": {}
    }
   ],
   "execution_count": 123
  },
  {
   "cell_type": "code",
   "source": "df.head()",
   "metadata": {
    "tags": [],
    "cell_id": "00023-4a3eef1f-6d2f-4d0e-9d34-84f5c65ffc9c",
    "deepnote_to_be_reexecuted": false,
    "source_hash": "c085b6ba",
    "execution_start": 1628976211920,
    "execution_millis": 31,
    "deepnote_cell_type": "code"
   },
   "outputs": [
    {
     "output_type": "execute_result",
     "execution_count": 130,
     "data": {
      "application/vnd.deepnote.dataframe.v2+json": {
       "row_count": 5,
       "column_count": 10,
       "columns": [
        {
         "name": "TYPE",
         "dtype": "object",
         "stats": {
          "unique_count": 1,
          "nan_count": 0,
          "categories": [
           {
            "name": "Break and Enter Commercial",
            "count": 5
           }
          ]
         }
        },
        {
         "name": "YEAR",
         "dtype": "int64",
         "stats": {
          "unique_count": 4,
          "nan_count": 0,
          "min": "2012",
          "max": "2021",
          "histogram": [
           {
            "bin_start": 2012,
            "bin_end": 2012.9,
            "count": 1
           },
           {
            "bin_start": 2012.9,
            "bin_end": 2013.8,
            "count": 0
           },
           {
            "bin_start": 2013.8,
            "bin_end": 2014.7,
            "count": 1
           },
           {
            "bin_start": 2014.7,
            "bin_end": 2015.6,
            "count": 0
           },
           {
            "bin_start": 2015.6,
            "bin_end": 2016.5,
            "count": 0
           },
           {
            "bin_start": 2016.5,
            "bin_end": 2017.4,
            "count": 0
           },
           {
            "bin_start": 2017.4,
            "bin_end": 2018.3,
            "count": 0
           },
           {
            "bin_start": 2018.3,
            "bin_end": 2019.2,
            "count": 2
           },
           {
            "bin_start": 2019.2,
            "bin_end": 2020.1,
            "count": 0
           },
           {
            "bin_start": 2020.1,
            "bin_end": 2021,
            "count": 1
           }
          ]
         }
        },
        {
         "name": "MONTH",
         "dtype": "int64",
         "stats": {
          "unique_count": 4,
          "nan_count": 0,
          "min": "3",
          "max": "12",
          "histogram": [
           {
            "bin_start": 3,
            "bin_end": 3.9,
            "count": 1
           },
           {
            "bin_start": 3.9,
            "bin_end": 4.8,
            "count": 1
           },
           {
            "bin_start": 4.8,
            "bin_end": 5.7,
            "count": 0
           },
           {
            "bin_start": 5.7,
            "bin_end": 6.6,
            "count": 0
           },
           {
            "bin_start": 6.6,
            "bin_end": 7.5,
            "count": 0
           },
           {
            "bin_start": 7.5,
            "bin_end": 8.4,
            "count": 2
           },
           {
            "bin_start": 8.4,
            "bin_end": 9.3,
            "count": 0
           },
           {
            "bin_start": 9.3,
            "bin_end": 10.2,
            "count": 0
           },
           {
            "bin_start": 10.2,
            "bin_end": 11.1,
            "count": 0
           },
           {
            "bin_start": 11.1,
            "bin_end": 12,
            "count": 1
           }
          ]
         }
        },
        {
         "name": "DAY",
         "dtype": "int64",
         "stats": {
          "unique_count": 5,
          "nan_count": 0,
          "min": "7",
          "max": "27",
          "histogram": [
           {
            "bin_start": 7,
            "bin_end": 9,
            "count": 2
           },
           {
            "bin_start": 9,
            "bin_end": 11,
            "count": 0
           },
           {
            "bin_start": 11,
            "bin_end": 13,
            "count": 0
           },
           {
            "bin_start": 13,
            "bin_end": 15,
            "count": 1
           },
           {
            "bin_start": 15,
            "bin_end": 17,
            "count": 0
           },
           {
            "bin_start": 17,
            "bin_end": 19,
            "count": 0
           },
           {
            "bin_start": 19,
            "bin_end": 21,
            "count": 0
           },
           {
            "bin_start": 21,
            "bin_end": 23,
            "count": 0
           },
           {
            "bin_start": 23,
            "bin_end": 25,
            "count": 0
           },
           {
            "bin_start": 25,
            "bin_end": 27,
            "count": 2
           }
          ]
         }
        },
        {
         "name": "HOUR",
         "dtype": "int64",
         "stats": {
          "unique_count": 4,
          "nan_count": 0,
          "min": "2",
          "max": "8",
          "histogram": [
           {
            "bin_start": 2,
            "bin_end": 2.6,
            "count": 1
           },
           {
            "bin_start": 2.6,
            "bin_end": 3.2,
            "count": 0
           },
           {
            "bin_start": 3.2,
            "bin_end": 3.8,
            "count": 0
           },
           {
            "bin_start": 3.8,
            "bin_end": 4.4,
            "count": 2
           },
           {
            "bin_start": 4.4,
            "bin_end": 5,
            "count": 0
           },
           {
            "bin_start": 5,
            "bin_end": 5.6,
            "count": 1
           },
           {
            "bin_start": 5.6,
            "bin_end": 6.2,
            "count": 0
           },
           {
            "bin_start": 6.2,
            "bin_end": 6.8,
            "count": 0
           },
           {
            "bin_start": 6.8,
            "bin_end": 7.3999999999999995,
            "count": 0
           },
           {
            "bin_start": 7.3999999999999995,
            "bin_end": 8,
            "count": 1
           }
          ]
         }
        },
        {
         "name": "MINUTE",
         "dtype": "int64",
         "stats": {
          "unique_count": 5,
          "nan_count": 0,
          "min": "6",
          "max": "52",
          "histogram": [
           {
            "bin_start": 6,
            "bin_end": 10.6,
            "count": 1
           },
           {
            "bin_start": 10.6,
            "bin_end": 15.2,
            "count": 2
           },
           {
            "bin_start": 15.2,
            "bin_end": 19.799999999999997,
            "count": 0
           },
           {
            "bin_start": 19.799999999999997,
            "bin_end": 24.4,
            "count": 0
           },
           {
            "bin_start": 24.4,
            "bin_end": 29,
            "count": 0
           },
           {
            "bin_start": 29,
            "bin_end": 33.599999999999994,
            "count": 0
           },
           {
            "bin_start": 33.599999999999994,
            "bin_end": 38.199999999999996,
            "count": 0
           },
           {
            "bin_start": 38.199999999999996,
            "bin_end": 42.8,
            "count": 0
           },
           {
            "bin_start": 42.8,
            "bin_end": 47.4,
            "count": 1
           },
           {
            "bin_start": 47.4,
            "bin_end": 52,
            "count": 1
           }
          ]
         }
        },
        {
         "name": "HUNDRED_BLOCK",
         "dtype": "object",
         "stats": {
          "unique_count": 2,
          "nan_count": 1,
          "categories": [
           {
            "name": "10XX ALBERNI ST",
            "count": 3
           },
           {
            "name": "10XX SITKA SQ",
            "count": 1
           },
           {
            "name": "Missing",
            "count": 1
           }
          ]
         }
        },
        {
         "name": "NEIGHBOURHOOD",
         "dtype": "object",
         "stats": {
          "unique_count": 3,
          "nan_count": 0,
          "categories": [
           {
            "name": "West End",
            "count": 3
           },
           {
            "name": "Oakridge",
            "count": 1
           },
           {
            "name": "Fairview",
            "count": 1
           }
          ]
         }
        },
        {
         "name": "X",
         "dtype": "float64",
         "stats": {
          "unique_count": 4,
          "nan_count": 0,
          "min": "490612.9648",
          "max": "491285.0",
          "histogram": [
           {
            "bin_start": 490612.9648,
            "bin_end": 490680.16832,
            "count": 1
           },
           {
            "bin_start": 490680.16832,
            "bin_end": 490747.37184000004,
            "count": 0
           },
           {
            "bin_start": 490747.37184000004,
            "bin_end": 490814.57536,
            "count": 0
           },
           {
            "bin_start": 490814.57536,
            "bin_end": 490881.77888,
            "count": 0
           },
           {
            "bin_start": 490881.77888,
            "bin_end": 490948.9824,
            "count": 0
           },
           {
            "bin_start": 490948.9824,
            "bin_end": 491016.18592,
            "count": 3
           },
           {
            "bin_start": 491016.18592,
            "bin_end": 491083.38944,
            "count": 0
           },
           {
            "bin_start": 491083.38944,
            "bin_end": 491150.59296,
            "count": 0
           },
           {
            "bin_start": 491150.59296,
            "bin_end": 491217.79648,
            "count": 0
           },
           {
            "bin_start": 491217.79648,
            "bin_end": 491285,
            "count": 1
           }
          ]
         }
        },
        {
         "name": "Y",
         "dtype": "float64",
         "stats": {
          "unique_count": 4,
          "nan_count": 0,
          "min": "5453433.0",
          "max": "5459174.3376",
          "histogram": [
           {
            "bin_start": 5453433,
            "bin_end": 5454007.13376,
            "count": 1
           },
           {
            "bin_start": 5454007.13376,
            "bin_end": 5454581.26752,
            "count": 0
           },
           {
            "bin_start": 5454581.26752,
            "bin_end": 5455155.40128,
            "count": 0
           },
           {
            "bin_start": 5455155.40128,
            "bin_end": 5455729.53504,
            "count": 0
           },
           {
            "bin_start": 5455729.53504,
            "bin_end": 5456303.6688,
            "count": 0
           },
           {
            "bin_start": 5456303.6688,
            "bin_end": 5456877.80256,
            "count": 0
           },
           {
            "bin_start": 5456877.80256,
            "bin_end": 5457451.93632,
            "count": 1
           },
           {
            "bin_start": 5457451.93632,
            "bin_end": 5458026.07008,
            "count": 0
           },
           {
            "bin_start": 5458026.07008,
            "bin_end": 5458600.203840001,
            "count": 0
           },
           {
            "bin_start": 5458600.203840001,
            "bin_end": 5459174.3376,
            "count": 3
           }
          ]
         }
        },
        {
         "name": "_deepnote_index_column",
         "dtype": "int64"
        }
       ],
       "rows_top": [
        {
         "TYPE": "Break and Enter Commercial",
         "YEAR": 2012,
         "MONTH": 12,
         "DAY": 14,
         "HOUR": 8,
         "MINUTE": 52,
         "HUNDRED_BLOCK": "nan",
         "NEIGHBOURHOOD": "Oakridge",
         "X": 491285,
         "Y": 5453433,
         "_deepnote_index_column": 0
        },
        {
         "TYPE": "Break and Enter Commercial",
         "YEAR": 2019,
         "MONTH": 3,
         "DAY": 7,
         "HOUR": 2,
         "MINUTE": 6,
         "HUNDRED_BLOCK": "10XX SITKA SQ",
         "NEIGHBOURHOOD": "Fairview",
         "X": 490612.9648,
         "Y": 5457109.8223,
         "_deepnote_index_column": 1
        },
        {
         "TYPE": "Break and Enter Commercial",
         "YEAR": 2019,
         "MONTH": 8,
         "DAY": 27,
         "HOUR": 4,
         "MINUTE": 12,
         "HUNDRED_BLOCK": "10XX ALBERNI ST",
         "NEIGHBOURHOOD": "West End",
         "X": 491007.7798,
         "Y": 5459174.3376,
         "_deepnote_index_column": 2
        },
        {
         "TYPE": "Break and Enter Commercial",
         "YEAR": 2021,
         "MONTH": 4,
         "DAY": 26,
         "HOUR": 4,
         "MINUTE": 44,
         "HUNDRED_BLOCK": "10XX ALBERNI ST",
         "NEIGHBOURHOOD": "West End",
         "X": 491007.7798,
         "Y": 5459174.3376,
         "_deepnote_index_column": 3
        },
        {
         "TYPE": "Break and Enter Commercial",
         "YEAR": 2014,
         "MONTH": 8,
         "DAY": 8,
         "HOUR": 5,
         "MINUTE": 13,
         "HUNDRED_BLOCK": "10XX ALBERNI ST",
         "NEIGHBOURHOOD": "West End",
         "X": 491015.9434,
         "Y": 5459166.1397,
         "_deepnote_index_column": 4
        }
       ],
       "rows_bottom": null
      },
      "text/plain": "                         TYPE  YEAR  MONTH  DAY  HOUR  MINUTE  \\\n0  Break and Enter Commercial  2012     12   14     8      52   \n1  Break and Enter Commercial  2019      3    7     2       6   \n2  Break and Enter Commercial  2019      8   27     4      12   \n3  Break and Enter Commercial  2021      4   26     4      44   \n4  Break and Enter Commercial  2014      8    8     5      13   \n\n     HUNDRED_BLOCK NEIGHBOURHOOD            X             Y  \n0              NaN      Oakridge  491285.0000  5.453433e+06  \n1    10XX SITKA SQ      Fairview  490612.9648  5.457110e+06  \n2  10XX ALBERNI ST      West End  491007.7798  5.459174e+06  \n3  10XX ALBERNI ST      West End  491007.7798  5.459174e+06  \n4  10XX ALBERNI ST      West End  491015.9434  5.459166e+06  ",
      "text/html": "<div>\n<style scoped>\n    .dataframe tbody tr th:only-of-type {\n        vertical-align: middle;\n    }\n\n    .dataframe tbody tr th {\n        vertical-align: top;\n    }\n\n    .dataframe thead th {\n        text-align: right;\n    }\n</style>\n<table border=\"1\" class=\"dataframe\">\n  <thead>\n    <tr style=\"text-align: right;\">\n      <th></th>\n      <th>TYPE</th>\n      <th>YEAR</th>\n      <th>MONTH</th>\n      <th>DAY</th>\n      <th>HOUR</th>\n      <th>MINUTE</th>\n      <th>HUNDRED_BLOCK</th>\n      <th>NEIGHBOURHOOD</th>\n      <th>X</th>\n      <th>Y</th>\n    </tr>\n  </thead>\n  <tbody>\n    <tr>\n      <th>0</th>\n      <td>Break and Enter Commercial</td>\n      <td>2012</td>\n      <td>12</td>\n      <td>14</td>\n      <td>8</td>\n      <td>52</td>\n      <td>NaN</td>\n      <td>Oakridge</td>\n      <td>491285.0000</td>\n      <td>5.453433e+06</td>\n    </tr>\n    <tr>\n      <th>1</th>\n      <td>Break and Enter Commercial</td>\n      <td>2019</td>\n      <td>3</td>\n      <td>7</td>\n      <td>2</td>\n      <td>6</td>\n      <td>10XX SITKA SQ</td>\n      <td>Fairview</td>\n      <td>490612.9648</td>\n      <td>5.457110e+06</td>\n    </tr>\n    <tr>\n      <th>2</th>\n      <td>Break and Enter Commercial</td>\n      <td>2019</td>\n      <td>8</td>\n      <td>27</td>\n      <td>4</td>\n      <td>12</td>\n      <td>10XX ALBERNI ST</td>\n      <td>West End</td>\n      <td>491007.7798</td>\n      <td>5.459174e+06</td>\n    </tr>\n    <tr>\n      <th>3</th>\n      <td>Break and Enter Commercial</td>\n      <td>2021</td>\n      <td>4</td>\n      <td>26</td>\n      <td>4</td>\n      <td>44</td>\n      <td>10XX ALBERNI ST</td>\n      <td>West End</td>\n      <td>491007.7798</td>\n      <td>5.459174e+06</td>\n    </tr>\n    <tr>\n      <th>4</th>\n      <td>Break and Enter Commercial</td>\n      <td>2014</td>\n      <td>8</td>\n      <td>8</td>\n      <td>5</td>\n      <td>13</td>\n      <td>10XX ALBERNI ST</td>\n      <td>West End</td>\n      <td>491015.9434</td>\n      <td>5.459166e+06</td>\n    </tr>\n  </tbody>\n</table>\n</div>"
     },
     "metadata": {}
    }
   ],
   "execution_count": 130
  },
  {
   "cell_type": "code",
   "source": "df2.sample(5)\n# with neighbourhood",
   "metadata": {
    "tags": [],
    "cell_id": "00026-a3814c82-d8a7-4a2b-a1f6-73d16fe07748",
    "deepnote_to_be_reexecuted": false,
    "source_hash": "16128fe5",
    "execution_start": 1628981512701,
    "execution_millis": 88,
    "deepnote_cell_type": "code"
   },
   "outputs": [
    {
     "output_type": "execute_result",
     "execution_count": 184,
     "data": {
      "application/vnd.deepnote.dataframe.v2+json": {
       "row_count": 5,
       "column_count": 41,
       "columns": [
        {
         "name": "Nos. of Suites",
         "dtype": "int64",
         "stats": {
          "unique_count": 4,
          "nan_count": 0,
          "min": "19",
          "max": "79",
          "histogram": [
           {
            "bin_start": 19,
            "bin_end": 25,
            "count": 2
           },
           {
            "bin_start": 25,
            "bin_end": 31,
            "count": 2
           },
           {
            "bin_start": 31,
            "bin_end": 37,
            "count": 0
           },
           {
            "bin_start": 37,
            "bin_end": 43,
            "count": 0
           },
           {
            "bin_start": 43,
            "bin_end": 49,
            "count": 0
           },
           {
            "bin_start": 49,
            "bin_end": 55,
            "count": 0
           },
           {
            "bin_start": 55,
            "bin_end": 61,
            "count": 0
           },
           {
            "bin_start": 61,
            "bin_end": 67,
            "count": 0
           },
           {
            "bin_start": 67,
            "bin_end": 73,
            "count": 0
           },
           {
            "bin_start": 73,
            "bin_end": 79,
            "count": 1
           }
          ]
         }
        },
        {
         "name": "Building Names",
         "dtype": "object",
         "stats": {
          "unique_count": 5,
          "nan_count": 0,
          "categories": [
           {
            "name": "LONDONDERRY",
            "count": 1
           },
           {
            "name": "COLLINGWOOD TOWER",
            "count": 1
           },
           {
            "name": "3 others",
            "count": 3
           }
          ]
         }
        },
        {
         "name": "Building Code",
         "dtype": "object",
         "stats": {
          "unique_count": 5,
          "nan_count": 0,
          "categories": [
           {
            "name": "LDY",
            "count": 1
           },
           {
            "name": "CT",
            "count": 1
           },
           {
            "name": "3 others",
            "count": 3
           }
          ]
         }
        },
        {
         "name": "Address",
         "dtype": "object",
         "stats": {
          "unique_count": 5,
          "nan_count": 0,
          "categories": [
           {
            "name": "5550 Yew St.",
            "count": 1
           },
           {
            "name": "5657 Harold St.",
            "count": 1
           },
           {
            "name": "3 others",
            "count": 3
           }
          ]
         }
        },
        {
         "name": "Postal Code",
         "dtype": "object",
         "stats": {
          "unique_count": 5,
          "nan_count": 0,
          "categories": [
           {
            "name": "V6M 3Y1",
            "count": 1
           },
           {
            "name": "V5R 5V6",
            "count": 1
           },
           {
            "name": "3 others",
            "count": 3
           }
          ]
         }
        },
        {
         "name": "No. of Suite Type",
         "dtype": "object",
         "stats": {
          "unique_count": 5,
          "nan_count": 0,
          "categories": [
           {
            "name": "1BDR (21), 2BDR (1)",
            "count": 1
           },
           {
            "name": "Bachelor (56), 1BDR (12)",
            "count": 1
           },
           {
            "name": "3 others",
            "count": 3
           }
          ]
         }
        },
        {
         "name": "Build Year",
         "dtype": "float64",
         "stats": {
          "unique_count": 5,
          "nan_count": 0,
          "min": "1957.0",
          "max": "1994.0",
          "histogram": [
           {
            "bin_start": 1957,
            "bin_end": 1960.7,
            "count": 2
           },
           {
            "bin_start": 1960.7,
            "bin_end": 1964.4,
            "count": 0
           },
           {
            "bin_start": 1964.4,
            "bin_end": 1968.1,
            "count": 0
           },
           {
            "bin_start": 1968.1,
            "bin_end": 1971.8,
            "count": 1
           },
           {
            "bin_start": 1971.8,
            "bin_end": 1975.5,
            "count": 0
           },
           {
            "bin_start": 1975.5,
            "bin_end": 1979.2,
            "count": 1
           },
           {
            "bin_start": 1979.2,
            "bin_end": 1982.9,
            "count": 0
           },
           {
            "bin_start": 1982.9,
            "bin_end": 1986.6,
            "count": 0
           },
           {
            "bin_start": 1986.6,
            "bin_end": 1990.3,
            "count": 0
           },
           {
            "bin_start": 1990.3,
            "bin_end": 1994,
            "count": 1
           }
          ]
         }
        },
        {
         "name": "Resident Profile",
         "dtype": "object",
         "stats": {
          "unique_count": 3,
          "nan_count": 0,
          "categories": [
           {
            "name": "Families, People with Disabilities, Seniors",
            "count": 2
           },
           {
            "name": "Seniors",
            "count": 2
           },
           {
            "name": "Families",
            "count": 1
           }
          ]
         }
        },
        {
         "name": "BC Housing Registration (required)",
         "dtype": "bool",
         "stats": {
          "unique_count": 2,
          "nan_count": 0,
          "categories": [
           {
            "name": "False",
            "count": 3
           },
           {
            "name": "True",
            "count": 2
           }
          ]
         }
        },
        {
         "name": "Pet Friendly ",
         "dtype": "bool",
         "stats": {
          "unique_count": 1,
          "nan_count": 0,
          "categories": [
           {
            "name": "False",
            "count": 5
           }
          ]
         }
        },
        {
         "name": "Amenity room",
         "dtype": "object",
         "stats": {
          "unique_count": 2,
          "nan_count": 0,
          "categories": [
           {
            "name": "Yes",
            "count": 3
           },
           {
            "name": "No",
            "count": 2
           }
          ]
         }
        },
        {
         "name": "Lounge",
         "dtype": "object",
         "stats": {
          "unique_count": 0,
          "nan_count": 5,
          "categories": [
           {
            "name": "Missing",
            "count": 5
           }
          ]
         }
        },
        {
         "name": "Other",
         "dtype": "object",
         "stats": {
          "unique_count": 0,
          "nan_count": 5,
          "categories": [
           {
            "name": "Missing",
            "count": 5
           }
          ]
         }
        },
        {
         "name": "Static Chairs",
         "dtype": "float64",
         "stats": {
          "unique_count": 1,
          "nan_count": 4,
          "min": "4.0",
          "max": "4.0",
          "histogram": [
           {
            "bin_start": 3.5,
            "bin_end": 3.6,
            "count": 0
           },
           {
            "bin_start": 3.6,
            "bin_end": 3.7,
            "count": 0
           },
           {
            "bin_start": 3.7,
            "bin_end": 3.8,
            "count": 0
           },
           {
            "bin_start": 3.8,
            "bin_end": 3.9,
            "count": 0
           },
           {
            "bin_start": 3.9,
            "bin_end": 4,
            "count": 0
           },
           {
            "bin_start": 4,
            "bin_end": 4.1,
            "count": 1
           },
           {
            "bin_start": 4.1,
            "bin_end": 4.2,
            "count": 0
           },
           {
            "bin_start": 4.2,
            "bin_end": 4.3,
            "count": 0
           },
           {
            "bin_start": 4.3,
            "bin_end": 4.4,
            "count": 0
           },
           {
            "bin_start": 4.4,
            "bin_end": 4.5,
            "count": 0
           }
          ]
         }
        },
        {
         "name": "Movable Chairs",
         "dtype": "float64",
         "stats": {
          "unique_count": 3,
          "nan_count": 2,
          "min": "3.0",
          "max": "10.0",
          "histogram": [
           {
            "bin_start": 3,
            "bin_end": 3.7,
            "count": 1
           },
           {
            "bin_start": 3.7,
            "bin_end": 4.4,
            "count": 0
           },
           {
            "bin_start": 4.4,
            "bin_end": 5.1,
            "count": 0
           },
           {
            "bin_start": 5.1,
            "bin_end": 5.8,
            "count": 0
           },
           {
            "bin_start": 5.8,
            "bin_end": 6.5,
            "count": 0
           },
           {
            "bin_start": 6.5,
            "bin_end": 7.199999999999999,
            "count": 0
           },
           {
            "bin_start": 7.199999999999999,
            "bin_end": 7.8999999999999995,
            "count": 0
           },
           {
            "bin_start": 7.8999999999999995,
            "bin_end": 8.6,
            "count": 0
           },
           {
            "bin_start": 8.6,
            "bin_end": 9.3,
            "count": 1
           },
           {
            "bin_start": 9.3,
            "bin_end": 10,
            "count": 1
           }
          ]
         }
        },
        {
         "name": "Division",
         "dtype": "int64",
         "stats": {
          "unique_count": 2,
          "nan_count": 0,
          "min": "1",
          "max": "2",
          "histogram": [
           {
            "bin_start": 1,
            "bin_end": 1.1,
            "count": 3
           },
           {
            "bin_start": 1.1,
            "bin_end": 1.2,
            "count": 0
           },
           {
            "bin_start": 1.2,
            "bin_end": 1.3,
            "count": 0
           },
           {
            "bin_start": 1.3,
            "bin_end": 1.4,
            "count": 0
           },
           {
            "bin_start": 1.4,
            "bin_end": 1.5,
            "count": 0
           },
           {
            "bin_start": 1.5,
            "bin_end": 1.6,
            "count": 0
           },
           {
            "bin_start": 1.6,
            "bin_end": 1.7000000000000002,
            "count": 0
           },
           {
            "bin_start": 1.7000000000000002,
            "bin_end": 1.8,
            "count": 0
           },
           {
            "bin_start": 1.8,
            "bin_end": 1.9,
            "count": 0
           },
           {
            "bin_start": 1.9,
            "bin_end": 2,
            "count": 2
           }
          ]
         }
        },
        {
         "name": "Tables",
         "dtype": "float64",
         "stats": {
          "unique_count": 3,
          "nan_count": 2,
          "min": "1.0",
          "max": "17.0",
          "histogram": [
           {
            "bin_start": 1,
            "bin_end": 2.6,
            "count": 2
           },
           {
            "bin_start": 2.6,
            "bin_end": 4.2,
            "count": 0
           },
           {
            "bin_start": 4.2,
            "bin_end": 5.800000000000001,
            "count": 0
           },
           {
            "bin_start": 5.800000000000001,
            "bin_end": 7.4,
            "count": 0
           },
           {
            "bin_start": 7.4,
            "bin_end": 9,
            "count": 0
           },
           {
            "bin_start": 9,
            "bin_end": 10.600000000000001,
            "count": 0
           },
           {
            "bin_start": 10.600000000000001,
            "bin_end": 12.200000000000001,
            "count": 0
           },
           {
            "bin_start": 12.200000000000001,
            "bin_end": 13.8,
            "count": 0
           },
           {
            "bin_start": 13.8,
            "bin_end": 15.4,
            "count": 0
           },
           {
            "bin_start": 15.4,
            "bin_end": 17,
            "count": 1
           }
          ]
         }
        },
        {
         "name": "Appliances ",
         "dtype": "object",
         "stats": {
          "unique_count": 3,
          "nan_count": 2,
          "categories": [
           {
            "name": "Fridge  ",
            "count": 1
           },
           {
            "name": "2 others",
            "count": 2
           },
           {
            "name": "Missing",
            "count": 2
           }
          ]
         }
        },
        {
         "name": "DVD Player",
         "dtype": "bool",
         "stats": {
          "unique_count": 1,
          "nan_count": 0,
          "categories": [
           {
            "name": "False",
            "count": 5
           }
          ]
         }
        },
        {
         "name": "Microwave",
         "dtype": "bool",
         "stats": {
          "unique_count": 1,
          "nan_count": 0,
          "categories": [
           {
            "name": "False",
            "count": 5
           }
          ]
         }
        },
        {
         "name": "Stove",
         "dtype": "bool",
         "stats": {
          "unique_count": 2,
          "nan_count": 0,
          "categories": [
           {
            "name": "False",
            "count": 4
           },
           {
            "name": "True",
            "count": 1
           }
          ]
         }
        },
        {
         "name": "Fridge",
         "dtype": "bool",
         "stats": {
          "unique_count": 2,
          "nan_count": 0,
          "categories": [
           {
            "name": "False",
            "count": 3
           },
           {
            "name": "True",
            "count": 2
           }
          ]
         }
        },
        {
         "name": "Television",
         "dtype": "bool",
         "stats": {
          "unique_count": 2,
          "nan_count": 0,
          "categories": [
           {
            "name": "False",
            "count": 4
           },
           {
            "name": "True",
            "count": 1
           }
          ]
         }
        },
        {
         "name": "Sink",
         "dtype": "bool",
         "stats": {
          "unique_count": 2,
          "nan_count": 0,
          "categories": [
           {
            "name": "False",
            "count": 4
           },
           {
            "name": "True",
            "count": 1
           }
          ]
         }
        },
        {
         "name": "Comments",
         "dtype": "object",
         "stats": {
          "unique_count": 2,
          "nan_count": 3,
          "categories": [
           {
            "name": "Main Floor, 2nd Amenity Room on 10th Floor - not currently usable.   6x3' tables and 1X8' and 1X6' table stored in adjacent storeroom.",
            "count": 1
           },
           {
            "name": "Located in Laundry / Mail Room Building.",
            "count": 1
           },
           {
            "name": "Missing",
            "count": 3
           }
          ]
         }
        },
        {
         "name": "Recommended Occupancy",
         "dtype": "object",
         "stats": {
          "unique_count": 2,
          "nan_count": 2,
          "categories": [
           {
            "name": "12-15",
            "count": 2
           },
           {
            "name": "8-10",
            "count": 1
           },
           {
            "name": "Missing",
            "count": 2
           }
          ]
         }
        },
        {
         "name": "Access",
         "dtype": "object",
         "stats": {
          "unique_count": 2,
          "nan_count": 2,
          "categories": [
           {
            "name": "OPEN",
            "count": 2
           },
           {
            "name": "LOCK",
            "count": 1
           },
           {
            "name": "Missing",
            "count": 2
           }
          ]
         }
        },
        {
         "name": "Picture",
         "dtype": "object",
         "stats": {
          "unique_count": 1,
          "nan_count": 2,
          "categories": [
           {
            "name": "Y",
            "count": 3
           },
           {
            "name": "Missing",
            "count": 2
           }
          ]
         }
        },
        {
         "name": "Type of Flooring",
         "dtype": "object",
         "stats": {
          "unique_count": 2,
          "nan_count": 2,
          "categories": [
           {
            "name": "C",
            "count": 2
           },
           {
            "name": "V",
            "count": 1
           },
           {
            "name": "Missing",
            "count": 2
           }
          ]
         }
        },
        {
         "name": "Type of Flooring.1",
         "dtype": "object",
         "stats": {
          "unique_count": 2,
          "nan_count": 2,
          "categories": [
           {
            "name": "Carpeting",
            "count": 2
           },
           {
            "name": "Vinyl",
            "count": 1
           },
           {
            "name": "Missing",
            "count": 2
           }
          ]
         }
        },
        {
         "name": "Bike Storage",
         "dtype": "object",
         "stats": {
          "unique_count": 1,
          "nan_count": 1,
          "categories": [
           {
            "name": "Y",
            "count": 4
           },
           {
            "name": "Missing",
            "count": 1
           }
          ]
         }
        },
        {
         "name": "Location",
         "dtype": "object",
         "stats": {
          "unique_count": 3,
          "nan_count": 1,
          "categories": [
           {
            "name": "Parkade",
            "count": 2
           },
           {
            "name": "2 others",
            "count": 2
           },
           {
            "name": "Missing",
            "count": 1
           }
          ]
         }
        },
        {
         "name": "Rent - Lowest Range",
         "dtype": "float64",
         "stats": {
          "unique_count": 4,
          "nan_count": 0,
          "min": "220.0",
          "max": "482.0",
          "histogram": [
           {
            "bin_start": 220,
            "bin_end": 246.2,
            "count": 1
           },
           {
            "bin_start": 246.2,
            "bin_end": 272.4,
            "count": 0
           },
           {
            "bin_start": 272.4,
            "bin_end": 298.6,
            "count": 1
           },
           {
            "bin_start": 298.6,
            "bin_end": 324.8,
            "count": 0
           },
           {
            "bin_start": 324.8,
            "bin_end": 351,
            "count": 0
           },
           {
            "bin_start": 351,
            "bin_end": 377.2,
            "count": 0
           },
           {
            "bin_start": 377.2,
            "bin_end": 403.4,
            "count": 0
           },
           {
            "bin_start": 403.4,
            "bin_end": 429.6,
            "count": 0
           },
           {
            "bin_start": 429.6,
            "bin_end": 455.79999999999995,
            "count": 0
           },
           {
            "bin_start": 455.79999999999995,
            "bin_end": 482,
            "count": 3
           }
          ]
         }
        },
        {
         "name": "Rent - Highest Range",
         "dtype": "object",
         "stats": {
          "unique_count": 5,
          "nan_count": 0,
          "categories": [
           {
            "name": "1,125.00",
            "count": 1
           },
           {
            "name": "772.00",
            "count": 1
           },
           {
            "name": "3 others",
            "count": 3
           }
          ]
         }
        },
        {
         "name": "Average Rent",
         "dtype": "float64",
         "stats": {
          "unique_count": 5,
          "nan_count": 0,
          "min": "494.75",
          "max": "795.81",
          "histogram": [
           {
            "bin_start": 494.75,
            "bin_end": 524.856,
            "count": 1
           },
           {
            "bin_start": 524.856,
            "bin_end": 554.962,
            "count": 0
           },
           {
            "bin_start": 554.962,
            "bin_end": 585.068,
            "count": 0
           },
           {
            "bin_start": 585.068,
            "bin_end": 615.174,
            "count": 0
           },
           {
            "bin_start": 615.174,
            "bin_end": 645.28,
            "count": 0
           },
           {
            "bin_start": 645.28,
            "bin_end": 675.386,
            "count": 0
           },
           {
            "bin_start": 675.386,
            "bin_end": 705.492,
            "count": 1
           },
           {
            "bin_start": 705.492,
            "bin_end": 735.598,
            "count": 0
           },
           {
            "bin_start": 735.598,
            "bin_end": 765.704,
            "count": 1
           },
           {
            "bin_start": 765.704,
            "bin_end": 795.81,
            "count": 2
           }
          ]
         }
        },
        {
         "name": "Median Rent",
         "dtype": "object",
         "stats": {
          "unique_count": 5,
          "nan_count": 0,
          "categories": [
           {
            "name": "844.00",
            "count": 1
           },
           {
            "name": "475.00",
            "count": 1
           },
           {
            "name": "3 others",
            "count": 3
           }
          ]
         }
        },
        {
         "name": "Unnamed: 36",
         "dtype": "float64",
         "stats": {
          "unique_count": 0,
          "nan_count": 5,
          "min": null,
          "max": null,
          "histogram": [
           {
            "bin_start": 0,
            "bin_end": 0.1,
            "count": 0
           },
           {
            "bin_start": 0.1,
            "bin_end": 0.2,
            "count": 0
           },
           {
            "bin_start": 0.2,
            "bin_end": 0.30000000000000004,
            "count": 0
           },
           {
            "bin_start": 0.30000000000000004,
            "bin_end": 0.4,
            "count": 0
           },
           {
            "bin_start": 0.4,
            "bin_end": 0.5,
            "count": 0
           },
           {
            "bin_start": 0.5,
            "bin_end": 0.6000000000000001,
            "count": 0
           },
           {
            "bin_start": 0.6000000000000001,
            "bin_end": 0.7000000000000001,
            "count": 0
           },
           {
            "bin_start": 0.7000000000000001,
            "bin_end": 0.8,
            "count": 0
           },
           {
            "bin_start": 0.8,
            "bin_end": 0.9,
            "count": 0
           },
           {
            "bin_start": 0.9,
            "bin_end": 1,
            "count": 0
           }
          ]
         }
        },
        {
         "name": "Unnamed: 37",
         "dtype": "float64",
         "stats": {
          "unique_count": 0,
          "nan_count": 5,
          "min": null,
          "max": null,
          "histogram": [
           {
            "bin_start": 0,
            "bin_end": 0.1,
            "count": 0
           },
           {
            "bin_start": 0.1,
            "bin_end": 0.2,
            "count": 0
           },
           {
            "bin_start": 0.2,
            "bin_end": 0.30000000000000004,
            "count": 0
           },
           {
            "bin_start": 0.30000000000000004,
            "bin_end": 0.4,
            "count": 0
           },
           {
            "bin_start": 0.4,
            "bin_end": 0.5,
            "count": 0
           },
           {
            "bin_start": 0.5,
            "bin_end": 0.6000000000000001,
            "count": 0
           },
           {
            "bin_start": 0.6000000000000001,
            "bin_end": 0.7000000000000001,
            "count": 0
           },
           {
            "bin_start": 0.7000000000000001,
            "bin_end": 0.8,
            "count": 0
           },
           {
            "bin_start": 0.8,
            "bin_end": 0.9,
            "count": 0
           },
           {
            "bin_start": 0.9,
            "bin_end": 1,
            "count": 0
           }
          ]
         }
        },
        {
         "name": "Unnamed: 38",
         "dtype": "float64",
         "stats": {
          "unique_count": 0,
          "nan_count": 5,
          "min": null,
          "max": null,
          "histogram": [
           {
            "bin_start": 0,
            "bin_end": 0.1,
            "count": 0
           },
           {
            "bin_start": 0.1,
            "bin_end": 0.2,
            "count": 0
           },
           {
            "bin_start": 0.2,
            "bin_end": 0.30000000000000004,
            "count": 0
           },
           {
            "bin_start": 0.30000000000000004,
            "bin_end": 0.4,
            "count": 0
           },
           {
            "bin_start": 0.4,
            "bin_end": 0.5,
            "count": 0
           },
           {
            "bin_start": 0.5,
            "bin_end": 0.6000000000000001,
            "count": 0
           },
           {
            "bin_start": 0.6000000000000001,
            "bin_end": 0.7000000000000001,
            "count": 0
           },
           {
            "bin_start": 0.7000000000000001,
            "bin_end": 0.8,
            "count": 0
           },
           {
            "bin_start": 0.8,
            "bin_end": 0.9,
            "count": 0
           },
           {
            "bin_start": 0.9,
            "bin_end": 1,
            "count": 0
           }
          ]
         }
        },
        {
         "name": "Unnamed: 39",
         "dtype": "float64",
         "stats": {
          "unique_count": 0,
          "nan_count": 5,
          "min": null,
          "max": null,
          "histogram": [
           {
            "bin_start": 0,
            "bin_end": 0.1,
            "count": 0
           },
           {
            "bin_start": 0.1,
            "bin_end": 0.2,
            "count": 0
           },
           {
            "bin_start": 0.2,
            "bin_end": 0.30000000000000004,
            "count": 0
           },
           {
            "bin_start": 0.30000000000000004,
            "bin_end": 0.4,
            "count": 0
           },
           {
            "bin_start": 0.4,
            "bin_end": 0.5,
            "count": 0
           },
           {
            "bin_start": 0.5,
            "bin_end": 0.6000000000000001,
            "count": 0
           },
           {
            "bin_start": 0.6000000000000001,
            "bin_end": 0.7000000000000001,
            "count": 0
           },
           {
            "bin_start": 0.7000000000000001,
            "bin_end": 0.8,
            "count": 0
           },
           {
            "bin_start": 0.8,
            "bin_end": 0.9,
            "count": 0
           },
           {
            "bin_start": 0.9,
            "bin_end": 1,
            "count": 0
           }
          ]
         }
        },
        {
         "name": "neighbourhood",
         "dtype": "object",
         "stats": {
          "unique_count": 5,
          "nan_count": 0,
          "categories": [
           {
            "name": "Kerrisdale",
            "count": 1
           },
           {
            "name": "Renfrew-Collingwood",
            "count": 1
           },
           {
            "name": "3 others",
            "count": 3
           }
          ]
         }
        },
        {
         "name": "_deepnote_index_column",
         "dtype": "int64"
        }
       ],
       "rows_top": [
        {
         "Nos. of Suites": 22,
         "Building Names": "LONDONDERRY",
         "Building Code": "LDY",
         "Address": "5550 Yew St.",
         "Postal Code": "V6M 3Y1",
         "No. of Suite Type": "1BDR (21), 2BDR (1)",
         "Build Year": 1957,
         "Resident Profile": "Families, People with Disabilities, Seniors",
         "BC Housing Registration (required)": "False",
         "Pet Friendly ": "False",
         "Amenity room": "No",
         "Lounge": "nan",
         "Other": "nan",
         "Static Chairs": "nan",
         "Movable Chairs": "nan",
         "Division": 1,
         "Tables": "nan",
         "Appliances ": "nan",
         "DVD Player": "False",
         "Microwave": "False",
         "Stove": "False",
         "Fridge": "False",
         "Television": "False",
         "Sink": "False",
         "Comments": "nan",
         "Recommended Occupancy": "nan",
         "Access": "nan",
         "Picture": "nan",
         "Type of Flooring": "nan",
         "Type of Flooring.1": "nan",
         "Bike Storage": "Y",
         "Location": "Laundry Room",
         "Rent - Lowest Range": 475,
         "Rent - Highest Range": "1,125.00",
         "Average Rent": 795.81,
         "Median Rent": "844.00",
         "Unnamed: 36": "nan",
         "Unnamed: 37": "nan",
         "Unnamed: 38": "nan",
         "Unnamed: 39": "nan",
         "neighbourhood": "Kerrisdale",
         "_deepnote_index_column": 9
        },
        {
         "Nos. of Suites": 79,
         "Building Names": "COLLINGWOOD TOWER",
         "Building Code": "CT",
         "Address": "5657 Harold St.",
         "Postal Code": "V5R 5V6",
         "No. of Suite Type": "Bachelor (56), 1BDR (12)",
         "Build Year": 1977,
         "Resident Profile": "Seniors",
         "BC Housing Registration (required)": "True",
         "Pet Friendly ": "False",
         "Amenity room": "Yes",
         "Lounge": "nan",
         "Other": "nan",
         "Static Chairs": "nan",
         "Movable Chairs": 10,
         "Division": 2,
         "Tables": 17,
         "Appliances ": "Fridge  ",
         "DVD Player": "False",
         "Microwave": "False",
         "Stove": "False",
         "Fridge": "True",
         "Television": "False",
         "Sink": "False",
         "Comments": "Main Floor, 2nd Amenity Room on 10th Floor - not currently usable.   6x3' tables and 1X8' and 1X6' …",
         "Recommended Occupancy": "12-15",
         "Access": "OPEN",
         "Picture": "Y",
         "Type of Flooring": "C",
         "Type of Flooring.1": "Carpeting",
         "Bike Storage": "nan",
         "Location": "nan",
         "Rent - Lowest Range": 220,
         "Rent - Highest Range": "772.00",
         "Average Rent": 494.75,
         "Median Rent": "475.00",
         "Unnamed: 36": "nan",
         "Unnamed: 37": "nan",
         "Unnamed: 38": "nan",
         "Unnamed: 39": "nan",
         "neighbourhood": "Renfrew-Collingwood",
         "_deepnote_index_column": 19
        },
        {
         "Nos. of Suites": 25,
         "Building Names": "HARWOOD MANOR",
         "Building Code": "HM",
         "Address": "1222 Harwood St",
         "Postal Code": "V6E 1S2",
         "No. of Suite Type": "Bachelor (16), 1BDR (9)",
         "Build Year": 1960,
         "Resident Profile": "Families, People with Disabilities, Seniors",
         "BC Housing Registration (required)": "False",
         "Pet Friendly ": "False",
         "Amenity room": "No",
         "Lounge": "nan",
         "Other": "nan",
         "Static Chairs": "nan",
         "Movable Chairs": "nan",
         "Division": 1,
         "Tables": "nan",
         "Appliances ": "nan",
         "DVD Player": "False",
         "Microwave": "False",
         "Stove": "False",
         "Fridge": "False",
         "Television": "False",
         "Sink": "False",
         "Comments": "nan",
         "Recommended Occupancy": "nan",
         "Access": "nan",
         "Picture": "nan",
         "Type of Flooring": "nan",
         "Type of Flooring.1": "nan",
         "Bike Storage": "Y",
         "Location": "Parkade",
         "Rent - Lowest Range": 482,
         "Rent - Highest Range": "1,471.00",
         "Average Rent": 778.92,
         "Median Rent": "786.00",
         "Unnamed: 36": "nan",
         "Unnamed: 37": "nan",
         "Unnamed: 38": "nan",
         "Unnamed: 39": "nan",
         "neighbourhood": "West End",
         "_deepnote_index_column": 6
        },
        {
         "Nos. of Suites": 19,
         "Building Names": "FIRST LUTHERAN COURT",
         "Building Code": "FLC",
         "Address": "5709 Wales St",
         "Postal Code": "V5R 3N3",
         "No. of Suite Type": "1-2-3-4BDR (19)",
         "Build Year": 1994,
         "Resident Profile": "Families",
         "BC Housing Registration (required)": "True",
         "Pet Friendly ": "False",
         "Amenity room": "Yes",
         "Lounge": "nan",
         "Other": "nan",
         "Static Chairs": "nan",
         "Movable Chairs": 9,
         "Division": 2,
         "Tables": 2,
         "Appliances ": "Fridge / Stove",
         "DVD Player": "False",
         "Microwave": "False",
         "Stove": "True",
         "Fridge": "True",
         "Television": "False",
         "Sink": "False",
         "Comments": "Located in Laundry / Mail Room Building.",
         "Recommended Occupancy": "12-15",
         "Access": "LOCK",
         "Picture": "Y",
         "Type of Flooring": "V",
         "Type of Flooring.1": "Vinyl",
         "Bike Storage": "Y",
         "Location": "Parkade",
         "Rent - Lowest Range": 292,
         "Rent - Highest Range": "1,540.00",
         "Average Rent": 701.89,
         "Median Rent": "506.50",
         "Unnamed: 36": "nan",
         "Unnamed: 37": "nan",
         "Unnamed: 38": "nan",
         "Unnamed: 39": "nan",
         "neighbourhood": "Rendrew-Collingwood",
         "_deepnote_index_column": 20
        },
        {
         "Nos. of Suites": 25,
         "Building Names": "SOROPTIMIST LIONS",
         "Building Code": "SL",
         "Address": "1444 E. 13th Ave.",
         "Postal Code": "V5N 2B6",
         "No. of Suite Type": "Bachelor (19), 1BDR (6)",
         "Build Year": 1971,
         "Resident Profile": "Seniors",
         "BC Housing Registration (required)": "False",
         "Pet Friendly ": "False",
         "Amenity room": "Yes",
         "Lounge": "nan",
         "Other": "nan",
         "Static Chairs": 4,
         "Movable Chairs": 3,
         "Division": 1,
         "Tables": 1,
         "Appliances ": "Sink / Television",
         "DVD Player": "False",
         "Microwave": "False",
         "Stove": "False",
         "Fridge": "False",
         "Television": "True",
         "Sink": "True",
         "Comments": "nan",
         "Recommended Occupancy": "8-10",
         "Access": "OPEN",
         "Picture": "Y",
         "Type of Flooring": "C",
         "Type of Flooring.1": "Carpeting",
         "Bike Storage": "Y",
         "Location": "Rear Parking Shed",
         "Rent - Lowest Range": 475,
         "Rent - Highest Range": "1,150.00",
         "Average Rent": 753.12,
         "Median Rent": "772.00",
         "Unnamed: 36": "nan",
         "Unnamed: 37": "nan",
         "Unnamed: 38": "nan",
         "Unnamed: 39": "nan",
         "neighbourhood": "Kensington-Cedar Cottage",
         "_deepnote_index_column": 15
        }
       ],
       "rows_bottom": null
      },
      "text/plain": "    Nos. of Suites        Building Names Building Code            Address  \\\n9               22           LONDONDERRY           LDY       5550 Yew St.   \n19              79     COLLINGWOOD TOWER            CT    5657 Harold St.   \n6               25         HARWOOD MANOR            HM    1222 Harwood St   \n20              19  FIRST LUTHERAN COURT           FLC      5709 Wales St   \n15              25     SOROPTIMIST LIONS            SL  1444 E. 13th Ave.   \n\n   Postal Code         No. of Suite Type  Build Year  \\\n9      V6M 3Y1       1BDR (21), 2BDR (1)      1957.0   \n19     V5R 5V6  Bachelor (56), 1BDR (12)      1977.0   \n6      V6E 1S2   Bachelor (16), 1BDR (9)      1960.0   \n20     V5R 3N3           1-2-3-4BDR (19)      1994.0   \n15     V5N 2B6   Bachelor (19), 1BDR (6)      1971.0   \n\n                               Resident Profile  \\\n9   Families, People with Disabilities, Seniors   \n19                                      Seniors   \n6   Families, People with Disabilities, Seniors   \n20                                     Families   \n15                                      Seniors   \n\n    BC Housing Registration (required)  Pet Friendly   ...           Location  \\\n9                                False          False  ...       Laundry Room   \n19                                True          False  ...                NaN   \n6                                False          False  ...            Parkade   \n20                                True          False  ...            Parkade   \n15                               False          False  ...  Rear Parking Shed   \n\n   Rent - Lowest Range Rent - Highest Range  Average Rent  Median Rent  \\\n9                475.0             1,125.00        795.81       844.00   \n19               220.0               772.00        494.75       475.00   \n6                482.0             1,471.00        778.92       786.00   \n20               292.0             1,540.00        701.89       506.50   \n15               475.0             1,150.00        753.12       772.00   \n\n    Unnamed: 36  Unnamed: 37 Unnamed: 38  Unnamed: 39  \\\n9           NaN          NaN         NaN          NaN   \n19          NaN          NaN         NaN          NaN   \n6           NaN          NaN         NaN          NaN   \n20          NaN          NaN         NaN          NaN   \n15          NaN          NaN         NaN          NaN   \n\n               neighbourhood  \n9                 Kerrisdale  \n19       Renfrew-Collingwood  \n6                   West End  \n20       Rendrew-Collingwood  \n15  Kensington-Cedar Cottage  \n\n[5 rows x 41 columns]",
      "text/html": "<div>\n<style scoped>\n    .dataframe tbody tr th:only-of-type {\n        vertical-align: middle;\n    }\n\n    .dataframe tbody tr th {\n        vertical-align: top;\n    }\n\n    .dataframe thead th {\n        text-align: right;\n    }\n</style>\n<table border=\"1\" class=\"dataframe\">\n  <thead>\n    <tr style=\"text-align: right;\">\n      <th></th>\n      <th>Nos. of Suites</th>\n      <th>Building Names</th>\n      <th>Building Code</th>\n      <th>Address</th>\n      <th>Postal Code</th>\n      <th>No. of Suite Type</th>\n      <th>Build Year</th>\n      <th>Resident Profile</th>\n      <th>BC Housing Registration (required)</th>\n      <th>Pet Friendly</th>\n      <th>...</th>\n      <th>Location</th>\n      <th>Rent - Lowest Range</th>\n      <th>Rent - Highest Range</th>\n      <th>Average Rent</th>\n      <th>Median Rent</th>\n      <th>Unnamed: 36</th>\n      <th>Unnamed: 37</th>\n      <th>Unnamed: 38</th>\n      <th>Unnamed: 39</th>\n      <th>neighbourhood</th>\n    </tr>\n  </thead>\n  <tbody>\n    <tr>\n      <th>9</th>\n      <td>22</td>\n      <td>LONDONDERRY</td>\n      <td>LDY</td>\n      <td>5550 Yew St.</td>\n      <td>V6M 3Y1</td>\n      <td>1BDR (21), 2BDR (1)</td>\n      <td>1957.0</td>\n      <td>Families, People with Disabilities, Seniors</td>\n      <td>False</td>\n      <td>False</td>\n      <td>...</td>\n      <td>Laundry Room</td>\n      <td>475.0</td>\n      <td>1,125.00</td>\n      <td>795.81</td>\n      <td>844.00</td>\n      <td>NaN</td>\n      <td>NaN</td>\n      <td>NaN</td>\n      <td>NaN</td>\n      <td>Kerrisdale</td>\n    </tr>\n    <tr>\n      <th>19</th>\n      <td>79</td>\n      <td>COLLINGWOOD TOWER</td>\n      <td>CT</td>\n      <td>5657 Harold St.</td>\n      <td>V5R 5V6</td>\n      <td>Bachelor (56), 1BDR (12)</td>\n      <td>1977.0</td>\n      <td>Seniors</td>\n      <td>True</td>\n      <td>False</td>\n      <td>...</td>\n      <td>NaN</td>\n      <td>220.0</td>\n      <td>772.00</td>\n      <td>494.75</td>\n      <td>475.00</td>\n      <td>NaN</td>\n      <td>NaN</td>\n      <td>NaN</td>\n      <td>NaN</td>\n      <td>Renfrew-Collingwood</td>\n    </tr>\n    <tr>\n      <th>6</th>\n      <td>25</td>\n      <td>HARWOOD MANOR</td>\n      <td>HM</td>\n      <td>1222 Harwood St</td>\n      <td>V6E 1S2</td>\n      <td>Bachelor (16), 1BDR (9)</td>\n      <td>1960.0</td>\n      <td>Families, People with Disabilities, Seniors</td>\n      <td>False</td>\n      <td>False</td>\n      <td>...</td>\n      <td>Parkade</td>\n      <td>482.0</td>\n      <td>1,471.00</td>\n      <td>778.92</td>\n      <td>786.00</td>\n      <td>NaN</td>\n      <td>NaN</td>\n      <td>NaN</td>\n      <td>NaN</td>\n      <td>West End</td>\n    </tr>\n    <tr>\n      <th>20</th>\n      <td>19</td>\n      <td>FIRST LUTHERAN COURT</td>\n      <td>FLC</td>\n      <td>5709 Wales St</td>\n      <td>V5R 3N3</td>\n      <td>1-2-3-4BDR (19)</td>\n      <td>1994.0</td>\n      <td>Families</td>\n      <td>True</td>\n      <td>False</td>\n      <td>...</td>\n      <td>Parkade</td>\n      <td>292.0</td>\n      <td>1,540.00</td>\n      <td>701.89</td>\n      <td>506.50</td>\n      <td>NaN</td>\n      <td>NaN</td>\n      <td>NaN</td>\n      <td>NaN</td>\n      <td>Rendrew-Collingwood</td>\n    </tr>\n    <tr>\n      <th>15</th>\n      <td>25</td>\n      <td>SOROPTIMIST LIONS</td>\n      <td>SL</td>\n      <td>1444 E. 13th Ave.</td>\n      <td>V5N 2B6</td>\n      <td>Bachelor (19), 1BDR (6)</td>\n      <td>1971.0</td>\n      <td>Seniors</td>\n      <td>False</td>\n      <td>False</td>\n      <td>...</td>\n      <td>Rear Parking Shed</td>\n      <td>475.0</td>\n      <td>1,150.00</td>\n      <td>753.12</td>\n      <td>772.00</td>\n      <td>NaN</td>\n      <td>NaN</td>\n      <td>NaN</td>\n      <td>NaN</td>\n      <td>Kensington-Cedar Cottage</td>\n    </tr>\n  </tbody>\n</table>\n<p>5 rows × 41 columns</p>\n</div>"
     },
     "metadata": {}
    }
   ],
   "execution_count": 184
  },
  {
   "cell_type": "code",
   "source": "yr_2021.head()",
   "metadata": {
    "tags": [],
    "cell_id": "00025-5baf9f45-3433-4d13-9d51-d887b3c0f542",
    "deepnote_to_be_reexecuted": false,
    "source_hash": "3717ba12",
    "execution_start": 1628981763885,
    "execution_millis": 10,
    "deepnote_cell_type": "code"
   },
   "outputs": [
    {
     "output_type": "execute_result",
     "execution_count": 187,
     "data": {
      "application/vnd.deepnote.dataframe.v2+json": {
       "row_count": 5,
       "column_count": 10,
       "columns": [
        {
         "name": "TYPE",
         "dtype": "object",
         "stats": {
          "unique_count": 1,
          "nan_count": 0,
          "categories": [
           {
            "name": "Break and Enter Commercial",
            "count": 5
           }
          ]
         }
        },
        {
         "name": "YEAR",
         "dtype": "int64",
         "stats": {
          "unique_count": 1,
          "nan_count": 0,
          "min": "2021",
          "max": "2021",
          "histogram": [
           {
            "bin_start": 2020.5,
            "bin_end": 2020.6,
            "count": 0
           },
           {
            "bin_start": 2020.6,
            "bin_end": 2020.7,
            "count": 0
           },
           {
            "bin_start": 2020.7,
            "bin_end": 2020.8,
            "count": 0
           },
           {
            "bin_start": 2020.8,
            "bin_end": 2020.9,
            "count": 0
           },
           {
            "bin_start": 2020.9,
            "bin_end": 2021,
            "count": 0
           },
           {
            "bin_start": 2021,
            "bin_end": 2021.1,
            "count": 5
           },
           {
            "bin_start": 2021.1,
            "bin_end": 2021.2,
            "count": 0
           },
           {
            "bin_start": 2021.2,
            "bin_end": 2021.3,
            "count": 0
           },
           {
            "bin_start": 2021.3,
            "bin_end": 2021.4,
            "count": 0
           },
           {
            "bin_start": 2021.4,
            "bin_end": 2021.5,
            "count": 0
           }
          ]
         }
        },
        {
         "name": "MONTH",
         "dtype": "int64",
         "stats": {
          "unique_count": 5,
          "nan_count": 0,
          "min": "2",
          "max": "6",
          "histogram": [
           {
            "bin_start": 2,
            "bin_end": 2.4,
            "count": 1
           },
           {
            "bin_start": 2.4,
            "bin_end": 2.8,
            "count": 0
           },
           {
            "bin_start": 2.8,
            "bin_end": 3.2,
            "count": 1
           },
           {
            "bin_start": 3.2,
            "bin_end": 3.6,
            "count": 0
           },
           {
            "bin_start": 3.6,
            "bin_end": 4,
            "count": 0
           },
           {
            "bin_start": 4,
            "bin_end": 4.4,
            "count": 1
           },
           {
            "bin_start": 4.4,
            "bin_end": 4.800000000000001,
            "count": 0
           },
           {
            "bin_start": 4.800000000000001,
            "bin_end": 5.2,
            "count": 1
           },
           {
            "bin_start": 5.2,
            "bin_end": 5.6,
            "count": 0
           },
           {
            "bin_start": 5.6,
            "bin_end": 6,
            "count": 1
           }
          ]
         }
        },
        {
         "name": "DAY",
         "dtype": "int64",
         "stats": {
          "unique_count": 5,
          "nan_count": 0,
          "min": "6",
          "max": "26",
          "histogram": [
           {
            "bin_start": 6,
            "bin_end": 8,
            "count": 1
           },
           {
            "bin_start": 8,
            "bin_end": 10,
            "count": 0
           },
           {
            "bin_start": 10,
            "bin_end": 12,
            "count": 0
           },
           {
            "bin_start": 12,
            "bin_end": 14,
            "count": 0
           },
           {
            "bin_start": 14,
            "bin_end": 16,
            "count": 2
           },
           {
            "bin_start": 16,
            "bin_end": 18,
            "count": 0
           },
           {
            "bin_start": 18,
            "bin_end": 20,
            "count": 0
           },
           {
            "bin_start": 20,
            "bin_end": 22,
            "count": 0
           },
           {
            "bin_start": 22,
            "bin_end": 24,
            "count": 1
           },
           {
            "bin_start": 24,
            "bin_end": 26,
            "count": 1
           }
          ]
         }
        },
        {
         "name": "HOUR",
         "dtype": "int64",
         "stats": {
          "unique_count": 4,
          "nan_count": 0,
          "min": "3",
          "max": "17",
          "histogram": [
           {
            "bin_start": 3,
            "bin_end": 4.4,
            "count": 3
           },
           {
            "bin_start": 4.4,
            "bin_end": 5.8,
            "count": 0
           },
           {
            "bin_start": 5.8,
            "bin_end": 7.199999999999999,
            "count": 1
           },
           {
            "bin_start": 7.199999999999999,
            "bin_end": 8.6,
            "count": 0
           },
           {
            "bin_start": 8.6,
            "bin_end": 10,
            "count": 0
           },
           {
            "bin_start": 10,
            "bin_end": 11.399999999999999,
            "count": 0
           },
           {
            "bin_start": 11.399999999999999,
            "bin_end": 12.799999999999999,
            "count": 0
           },
           {
            "bin_start": 12.799999999999999,
            "bin_end": 14.2,
            "count": 0
           },
           {
            "bin_start": 14.2,
            "bin_end": 15.6,
            "count": 0
           },
           {
            "bin_start": 15.6,
            "bin_end": 17,
            "count": 1
           }
          ]
         }
        },
        {
         "name": "MINUTE",
         "dtype": "int64",
         "stats": {
          "unique_count": 5,
          "nan_count": 0,
          "min": "0",
          "max": "44",
          "histogram": [
           {
            "bin_start": 0,
            "bin_end": 4.4,
            "count": 1
           },
           {
            "bin_start": 4.4,
            "bin_end": 8.8,
            "count": 0
           },
           {
            "bin_start": 8.8,
            "bin_end": 13.200000000000001,
            "count": 0
           },
           {
            "bin_start": 13.200000000000001,
            "bin_end": 17.6,
            "count": 1
           },
           {
            "bin_start": 17.6,
            "bin_end": 22,
            "count": 0
           },
           {
            "bin_start": 22,
            "bin_end": 26.400000000000002,
            "count": 0
           },
           {
            "bin_start": 26.400000000000002,
            "bin_end": 30.800000000000004,
            "count": 1
           },
           {
            "bin_start": 30.800000000000004,
            "bin_end": 35.2,
            "count": 1
           },
           {
            "bin_start": 35.2,
            "bin_end": 39.6,
            "count": 0
           },
           {
            "bin_start": 39.6,
            "bin_end": 44,
            "count": 1
           }
          ]
         }
        },
        {
         "name": "HUNDRED_BLOCK",
         "dtype": "object",
         "stats": {
          "unique_count": 5,
          "nan_count": 0,
          "categories": [
           {
            "name": "10XX ALBERNI ST",
            "count": 1
           },
           {
            "name": "10XX BEACH AVE",
            "count": 1
           },
           {
            "name": "3 others",
            "count": 3
           }
          ]
         }
        },
        {
         "name": "NEIGHBOURHOOD",
         "dtype": "object",
         "stats": {
          "unique_count": 2,
          "nan_count": 0,
          "categories": [
           {
            "name": "West End",
            "count": 3
           },
           {
            "name": "Central Business District",
            "count": 2
           }
          ]
         }
        },
        {
         "name": "X",
         "dtype": "float64",
         "stats": {
          "unique_count": 5,
          "nan_count": 0,
          "min": "490258.4148",
          "max": "491493.3778",
          "histogram": [
           {
            "bin_start": 490258.4148,
            "bin_end": 490381.9111,
            "count": 1
           },
           {
            "bin_start": 490381.9111,
            "bin_end": 490505.4074,
            "count": 1
           },
           {
            "bin_start": 490505.4074,
            "bin_end": 490628.9037,
            "count": 0
           },
           {
            "bin_start": 490628.9037,
            "bin_end": 490752.4,
            "count": 1
           },
           {
            "bin_start": 490752.4,
            "bin_end": 490875.8963,
            "count": 0
           },
           {
            "bin_start": 490875.8963,
            "bin_end": 490999.3926,
            "count": 0
           },
           {
            "bin_start": 490999.3926,
            "bin_end": 491122.8889,
            "count": 1
           },
           {
            "bin_start": 491122.8889,
            "bin_end": 491246.3852,
            "count": 0
           },
           {
            "bin_start": 491246.3852,
            "bin_end": 491369.8815,
            "count": 0
           },
           {
            "bin_start": 491369.8815,
            "bin_end": 491493.3778,
            "count": 1
           }
          ]
         }
        },
        {
         "name": "Y",
         "dtype": "float64",
         "stats": {
          "unique_count": 5,
          "nan_count": 0,
          "min": "5458154.8532",
          "max": "5459541.9474",
          "histogram": [
           {
            "bin_start": 5458154.8532,
            "bin_end": 5458293.56262,
            "count": 1
           },
           {
            "bin_start": 5458293.56262,
            "bin_end": 5458432.27204,
            "count": 0
           },
           {
            "bin_start": 5458432.27204,
            "bin_end": 5458570.981459999,
            "count": 0
           },
           {
            "bin_start": 5458570.981459999,
            "bin_end": 5458709.69088,
            "count": 1
           },
           {
            "bin_start": 5458709.69088,
            "bin_end": 5458848.4003,
            "count": 0
           },
           {
            "bin_start": 5458848.4003,
            "bin_end": 5458987.10972,
            "count": 1
           },
           {
            "bin_start": 5458987.10972,
            "bin_end": 5459125.81914,
            "count": 0
           },
           {
            "bin_start": 5459125.81914,
            "bin_end": 5459264.52856,
            "count": 1
           },
           {
            "bin_start": 5459264.52856,
            "bin_end": 5459403.23798,
            "count": 0
           },
           {
            "bin_start": 5459403.23798,
            "bin_end": 5459541.9474,
            "count": 1
           }
          ]
         }
        },
        {
         "name": "_deepnote_index_column",
         "dtype": "int64"
        }
       ],
       "rows_top": [
        {
         "TYPE": "Break and Enter Commercial",
         "YEAR": 2021,
         "MONTH": 4,
         "DAY": 26,
         "HOUR": 4,
         "MINUTE": 44,
         "HUNDRED_BLOCK": "10XX ALBERNI ST",
         "NEIGHBOURHOOD": "West End",
         "X": 491007.7798,
         "Y": 5459174.3376,
         "_deepnote_index_column": 3
        },
        {
         "TYPE": "Break and Enter Commercial",
         "YEAR": 2021,
         "MONTH": 6,
         "DAY": 15,
         "HOUR": 4,
         "MINUTE": 0,
         "HUNDRED_BLOCK": "10XX BEACH AVE",
         "NEIGHBOURHOOD": "Central Business District",
         "X": 490258.4148,
         "Y": 5458154.8532,
         "_deepnote_index_column": 165
        },
        {
         "TYPE": "Break and Enter Commercial",
         "YEAR": 2021,
         "MONTH": 3,
         "DAY": 23,
         "HOUR": 17,
         "MINUTE": 14,
         "HUNDRED_BLOCK": "10XX BURRARD ST",
         "NEIGHBOURHOOD": "West End",
         "X": 490729.8291,
         "Y": 5458622.3417,
         "_deepnote_index_column": 288
        },
        {
         "TYPE": "Break and Enter Commercial",
         "YEAR": 2021,
         "MONTH": 2,
         "DAY": 14,
         "HOUR": 7,
         "MINUTE": 35,
         "HUNDRED_BLOCK": "10XX BUTE ST",
         "NEIGHBOURHOOD": "West End",
         "X": 490409.1263,
         "Y": 5458906.3199,
         "_deepnote_index_column": 326
        },
        {
         "TYPE": "Break and Enter Commercial",
         "YEAR": 2021,
         "MONTH": 5,
         "DAY": 6,
         "HOUR": 3,
         "MINUTE": 27,
         "HUNDRED_BLOCK": "10XX CANADA PL",
         "NEIGHBOURHOOD": "Central Business District",
         "X": 491493.3778,
         "Y": 5459541.9474,
         "_deepnote_index_column": 413
        }
       ],
       "rows_bottom": null
      },
      "text/plain": "                           TYPE  YEAR  MONTH  DAY  HOUR  MINUTE  \\\n3    Break and Enter Commercial  2021      4   26     4      44   \n165  Break and Enter Commercial  2021      6   15     4       0   \n288  Break and Enter Commercial  2021      3   23    17      14   \n326  Break and Enter Commercial  2021      2   14     7      35   \n413  Break and Enter Commercial  2021      5    6     3      27   \n\n       HUNDRED_BLOCK              NEIGHBOURHOOD            X             Y  \n3    10XX ALBERNI ST                   West End  491007.7798  5.459174e+06  \n165   10XX BEACH AVE  Central Business District  490258.4148  5.458155e+06  \n288  10XX BURRARD ST                   West End  490729.8291  5.458622e+06  \n326     10XX BUTE ST                   West End  490409.1263  5.458906e+06  \n413   10XX CANADA PL  Central Business District  491493.3778  5.459542e+06  ",
      "text/html": "<div>\n<style scoped>\n    .dataframe tbody tr th:only-of-type {\n        vertical-align: middle;\n    }\n\n    .dataframe tbody tr th {\n        vertical-align: top;\n    }\n\n    .dataframe thead th {\n        text-align: right;\n    }\n</style>\n<table border=\"1\" class=\"dataframe\">\n  <thead>\n    <tr style=\"text-align: right;\">\n      <th></th>\n      <th>TYPE</th>\n      <th>YEAR</th>\n      <th>MONTH</th>\n      <th>DAY</th>\n      <th>HOUR</th>\n      <th>MINUTE</th>\n      <th>HUNDRED_BLOCK</th>\n      <th>NEIGHBOURHOOD</th>\n      <th>X</th>\n      <th>Y</th>\n    </tr>\n  </thead>\n  <tbody>\n    <tr>\n      <th>3</th>\n      <td>Break and Enter Commercial</td>\n      <td>2021</td>\n      <td>4</td>\n      <td>26</td>\n      <td>4</td>\n      <td>44</td>\n      <td>10XX ALBERNI ST</td>\n      <td>West End</td>\n      <td>491007.7798</td>\n      <td>5.459174e+06</td>\n    </tr>\n    <tr>\n      <th>165</th>\n      <td>Break and Enter Commercial</td>\n      <td>2021</td>\n      <td>6</td>\n      <td>15</td>\n      <td>4</td>\n      <td>0</td>\n      <td>10XX BEACH AVE</td>\n      <td>Central Business District</td>\n      <td>490258.4148</td>\n      <td>5.458155e+06</td>\n    </tr>\n    <tr>\n      <th>288</th>\n      <td>Break and Enter Commercial</td>\n      <td>2021</td>\n      <td>3</td>\n      <td>23</td>\n      <td>17</td>\n      <td>14</td>\n      <td>10XX BURRARD ST</td>\n      <td>West End</td>\n      <td>490729.8291</td>\n      <td>5.458622e+06</td>\n    </tr>\n    <tr>\n      <th>326</th>\n      <td>Break and Enter Commercial</td>\n      <td>2021</td>\n      <td>2</td>\n      <td>14</td>\n      <td>7</td>\n      <td>35</td>\n      <td>10XX BUTE ST</td>\n      <td>West End</td>\n      <td>490409.1263</td>\n      <td>5.458906e+06</td>\n    </tr>\n    <tr>\n      <th>413</th>\n      <td>Break and Enter Commercial</td>\n      <td>2021</td>\n      <td>5</td>\n      <td>6</td>\n      <td>3</td>\n      <td>27</td>\n      <td>10XX CANADA PL</td>\n      <td>Central Business District</td>\n      <td>491493.3778</td>\n      <td>5.459542e+06</td>\n    </tr>\n  </tbody>\n</table>\n</div>"
     },
     "metadata": {}
    }
   ],
   "execution_count": 187
  },
  {
   "cell_type": "code",
   "source": "# df crime\nyr_2021_neigh = yr_2021.groupby('NEIGHBOURHOOD')\nyr_2021_neigh = yr_2021_neigh['TYPE']\nyr_2021_neigh_ct = yr_2021_neigh.count()\nyr_2021_neigh_ct",
   "metadata": {
    "tags": [],
    "cell_id": "00026-0f335e5e-2845-4213-b317-fdc3c37accc4",
    "deepnote_to_be_reexecuted": false,
    "source_hash": "90bed839",
    "execution_start": 1628982151390,
    "execution_millis": 15,
    "deepnote_cell_type": "code"
   },
   "outputs": [
    {
     "output_type": "execute_result",
     "execution_count": 194,
     "data": {
      "text/plain": "NEIGHBOURHOOD\nArbutus Ridge                 137\nCentral Business District    3860\nDunbar-Southlands             157\nFairview                      790\nGrandview-Woodland            726\nHastings-Sunrise              603\nKensington-Cedar Cottage      690\nKerrisdale                    215\nKillarney                     240\nKitsilano                     711\nMarpole                       435\nMount Pleasant               1032\nMusqueam                       14\nOakridge                      163\nRenfrew-Collingwood           966\nRiley Park                    368\nShaughnessy                   148\nSouth Cambie                  177\nStanley Park                   32\nStrathcona                   1145\nSunset                        445\nVictoria-Fraserview           249\nWest End                     1158\nWest Point Grey               201\nName: TYPE, dtype: int64"
     },
     "metadata": {}
    }
   ],
   "execution_count": 194
  },
  {
   "cell_type": "code",
   "source": "# df2 amenities\ndf2 = df2.rename(columns= {'neighbourhood': 'NEIGHBOURHOOD'})\ndf2.head()",
   "metadata": {
    "tags": [],
    "cell_id": "00026-e1282c0f-2b06-4192-a824-b516e43eb37f",
    "deepnote_to_be_reexecuted": false,
    "source_hash": "ea9899e8",
    "execution_start": 1628982450988,
    "execution_millis": 11,
    "deepnote_cell_type": "code"
   },
   "outputs": [
    {
     "output_type": "execute_result",
     "execution_count": 201,
     "data": {
      "application/vnd.deepnote.dataframe.v2+json": {
       "row_count": 5,
       "column_count": 41,
       "columns": [
        {
         "name": "Nos. of Suites",
         "dtype": "int64",
         "stats": {
          "unique_count": 5,
          "nan_count": 0,
          "min": "15",
          "max": "64",
          "histogram": [
           {
            "bin_start": 15,
            "bin_end": 19.9,
            "count": 2
           },
           {
            "bin_start": 19.9,
            "bin_end": 24.8,
            "count": 1
           },
           {
            "bin_start": 24.8,
            "bin_end": 29.700000000000003,
            "count": 0
           },
           {
            "bin_start": 29.700000000000003,
            "bin_end": 34.6,
            "count": 0
           },
           {
            "bin_start": 34.6,
            "bin_end": 39.5,
            "count": 1
           },
           {
            "bin_start": 39.5,
            "bin_end": 44.400000000000006,
            "count": 0
           },
           {
            "bin_start": 44.400000000000006,
            "bin_end": 49.300000000000004,
            "count": 0
           },
           {
            "bin_start": 49.300000000000004,
            "bin_end": 54.2,
            "count": 0
           },
           {
            "bin_start": 54.2,
            "bin_end": 59.1,
            "count": 0
           },
           {
            "bin_start": 59.1,
            "bin_end": 64,
            "count": 1
           }
          ]
         }
        },
        {
         "name": "Building Names",
         "dtype": "object",
         "stats": {
          "unique_count": 5,
          "nan_count": 0,
          "categories": [
           {
            "name": "ALICE SAUNDERS",
            "count": 1
           },
           {
            "name": "ARBUTUS COURT",
            "count": 1
           },
           {
            "name": "3 others",
            "count": 3
           }
          ]
         }
        },
        {
         "name": "Building Code",
         "dtype": "object",
         "stats": {
          "unique_count": 5,
          "nan_count": 0,
          "categories": [
           {
            "name": "AS",
            "count": 1
           },
           {
            "name": "AC",
            "count": 1
           },
           {
            "name": "3 others",
            "count": 3
           }
          ]
         }
        },
        {
         "name": "Address",
         "dtype": "object",
         "stats": {
          "unique_count": 5,
          "nan_count": 0,
          "categories": [
           {
            "name": "2924 Venables St. ",
            "count": 1
           },
           {
            "name": "2085 W. 5th Ave.",
            "count": 1
           },
           {
            "name": "3 others",
            "count": 3
           }
          ]
         }
        },
        {
         "name": "Postal Code",
         "dtype": "object",
         "stats": {
          "unique_count": 5,
          "nan_count": 0,
          "categories": [
           {
            "name": "V5K 4X8",
            "count": 1
           },
           {
            "name": "V6J 1P8",
            "count": 1
           },
           {
            "name": "3 others",
            "count": 3
           }
          ]
         }
        },
        {
         "name": "No. of Suite Type",
         "dtype": "object",
         "stats": {
          "unique_count": 5,
          "nan_count": 0,
          "categories": [
           {
            "name": "Bachelor (55), 1BDR (9)",
            "count": 1
           },
           {
            "name": "1BDR (21)",
            "count": 1
           },
           {
            "name": "3 others",
            "count": 3
           }
          ]
         }
        },
        {
         "name": "Build Year",
         "dtype": "float64",
         "stats": {
          "unique_count": 5,
          "nan_count": 0,
          "min": "1954.0",
          "max": "1977.0",
          "histogram": [
           {
            "bin_start": 1954,
            "bin_end": 1956.3,
            "count": 1
           },
           {
            "bin_start": 1956.3,
            "bin_end": 1958.6,
            "count": 0
           },
           {
            "bin_start": 1958.6,
            "bin_end": 1960.9,
            "count": 0
           },
           {
            "bin_start": 1960.9,
            "bin_end": 1963.2,
            "count": 1
           },
           {
            "bin_start": 1963.2,
            "bin_end": 1965.5,
            "count": 1
           },
           {
            "bin_start": 1965.5,
            "bin_end": 1967.8,
            "count": 1
           },
           {
            "bin_start": 1967.8,
            "bin_end": 1970.1,
            "count": 0
           },
           {
            "bin_start": 1970.1,
            "bin_end": 1972.4,
            "count": 0
           },
           {
            "bin_start": 1972.4,
            "bin_end": 1974.7,
            "count": 0
           },
           {
            "bin_start": 1974.7,
            "bin_end": 1977,
            "count": 1
           }
          ]
         }
        },
        {
         "name": "Resident Profile",
         "dtype": "object",
         "stats": {
          "unique_count": 3,
          "nan_count": 0,
          "categories": [
           {
            "name": "Seniors",
            "count": 3
           },
           {
            "name": "Families, People with Disabilities, Seniors",
            "count": 1
           },
           {
            "name": "Couples, People with Disabilities, Seniors",
            "count": 1
           }
          ]
         }
        },
        {
         "name": "BC Housing Registration (required)",
         "dtype": "bool",
         "stats": {
          "unique_count": 1,
          "nan_count": 0,
          "categories": [
           {
            "name": "False",
            "count": 5
           }
          ]
         }
        },
        {
         "name": "Pet Friendly ",
         "dtype": "bool",
         "stats": {
          "unique_count": 1,
          "nan_count": 0,
          "categories": [
           {
            "name": "False",
            "count": 5
           }
          ]
         }
        },
        {
         "name": "Amenity room",
         "dtype": "object",
         "stats": {
          "unique_count": 2,
          "nan_count": 0,
          "categories": [
           {
            "name": "No",
            "count": 3
           },
           {
            "name": "Yes",
            "count": 2
           }
          ]
         }
        },
        {
         "name": "Lounge",
         "dtype": "object",
         "stats": {
          "unique_count": 0,
          "nan_count": 5,
          "categories": [
           {
            "name": "Missing",
            "count": 5
           }
          ]
         }
        },
        {
         "name": "Other",
         "dtype": "object",
         "stats": {
          "unique_count": 1,
          "nan_count": 4,
          "categories": [
           {
            "name": "Games Room",
            "count": 1
           },
           {
            "name": "Missing",
            "count": 4
           }
          ]
         }
        },
        {
         "name": "Static Chairs",
         "dtype": "float64",
         "stats": {
          "unique_count": 2,
          "nan_count": 3,
          "min": "3.0",
          "max": "9.0",
          "histogram": [
           {
            "bin_start": 3,
            "bin_end": 3.6,
            "count": 1
           },
           {
            "bin_start": 3.6,
            "bin_end": 4.2,
            "count": 0
           },
           {
            "bin_start": 4.2,
            "bin_end": 4.8,
            "count": 0
           },
           {
            "bin_start": 4.8,
            "bin_end": 5.4,
            "count": 0
           },
           {
            "bin_start": 5.4,
            "bin_end": 6,
            "count": 0
           },
           {
            "bin_start": 6,
            "bin_end": 6.6,
            "count": 0
           },
           {
            "bin_start": 6.6,
            "bin_end": 7.2,
            "count": 0
           },
           {
            "bin_start": 7.2,
            "bin_end": 7.8,
            "count": 0
           },
           {
            "bin_start": 7.8,
            "bin_end": 8.399999999999999,
            "count": 0
           },
           {
            "bin_start": 8.399999999999999,
            "bin_end": 9,
            "count": 1
           }
          ]
         }
        },
        {
         "name": "Movable Chairs",
         "dtype": "float64",
         "stats": {
          "unique_count": 2,
          "nan_count": 3,
          "min": "6.0",
          "max": "19.0",
          "histogram": [
           {
            "bin_start": 6,
            "bin_end": 7.3,
            "count": 1
           },
           {
            "bin_start": 7.3,
            "bin_end": 8.6,
            "count": 0
           },
           {
            "bin_start": 8.6,
            "bin_end": 9.9,
            "count": 0
           },
           {
            "bin_start": 9.9,
            "bin_end": 11.2,
            "count": 0
           },
           {
            "bin_start": 11.2,
            "bin_end": 12.5,
            "count": 0
           },
           {
            "bin_start": 12.5,
            "bin_end": 13.8,
            "count": 0
           },
           {
            "bin_start": 13.8,
            "bin_end": 15.1,
            "count": 0
           },
           {
            "bin_start": 15.1,
            "bin_end": 16.4,
            "count": 0
           },
           {
            "bin_start": 16.4,
            "bin_end": 17.700000000000003,
            "count": 0
           },
           {
            "bin_start": 17.700000000000003,
            "bin_end": 19,
            "count": 1
           }
          ]
         }
        },
        {
         "name": "Division",
         "dtype": "int64",
         "stats": {
          "unique_count": 1,
          "nan_count": 0,
          "min": "1",
          "max": "1",
          "histogram": [
           {
            "bin_start": 0.5,
            "bin_end": 0.6,
            "count": 0
           },
           {
            "bin_start": 0.6,
            "bin_end": 0.7,
            "count": 0
           },
           {
            "bin_start": 0.7,
            "bin_end": 0.8,
            "count": 0
           },
           {
            "bin_start": 0.8,
            "bin_end": 0.9,
            "count": 0
           },
           {
            "bin_start": 0.9,
            "bin_end": 1,
            "count": 0
           },
           {
            "bin_start": 1,
            "bin_end": 1.1,
            "count": 5
           },
           {
            "bin_start": 1.1,
            "bin_end": 1.2000000000000002,
            "count": 0
           },
           {
            "bin_start": 1.2000000000000002,
            "bin_end": 1.3,
            "count": 0
           },
           {
            "bin_start": 1.3,
            "bin_end": 1.4,
            "count": 0
           },
           {
            "bin_start": 1.4,
            "bin_end": 1.5,
            "count": 0
           }
          ]
         }
        },
        {
         "name": "Tables",
         "dtype": "float64",
         "stats": {
          "unique_count": 2,
          "nan_count": 3,
          "min": "1.0",
          "max": "10.0",
          "histogram": [
           {
            "bin_start": 1,
            "bin_end": 1.9,
            "count": 1
           },
           {
            "bin_start": 1.9,
            "bin_end": 2.8,
            "count": 0
           },
           {
            "bin_start": 2.8,
            "bin_end": 3.7,
            "count": 0
           },
           {
            "bin_start": 3.7,
            "bin_end": 4.6,
            "count": 0
           },
           {
            "bin_start": 4.6,
            "bin_end": 5.5,
            "count": 0
           },
           {
            "bin_start": 5.5,
            "bin_end": 6.4,
            "count": 0
           },
           {
            "bin_start": 6.4,
            "bin_end": 7.3,
            "count": 0
           },
           {
            "bin_start": 7.3,
            "bin_end": 8.2,
            "count": 0
           },
           {
            "bin_start": 8.2,
            "bin_end": 9.1,
            "count": 0
           },
           {
            "bin_start": 9.1,
            "bin_end": 10,
            "count": 1
           }
          ]
         }
        },
        {
         "name": "Appliances ",
         "dtype": "object",
         "stats": {
          "unique_count": 2,
          "nan_count": 3,
          "categories": [
           {
            "name": "Sink, Television",
            "count": 1
           },
           {
            "name": "Television",
            "count": 1
           },
           {
            "name": "Missing",
            "count": 3
           }
          ]
         }
        },
        {
         "name": "DVD Player",
         "dtype": "bool",
         "stats": {
          "unique_count": 1,
          "nan_count": 0,
          "categories": [
           {
            "name": "False",
            "count": 5
           }
          ]
         }
        },
        {
         "name": "Microwave",
         "dtype": "bool",
         "stats": {
          "unique_count": 1,
          "nan_count": 0,
          "categories": [
           {
            "name": "False",
            "count": 5
           }
          ]
         }
        },
        {
         "name": "Stove",
         "dtype": "bool",
         "stats": {
          "unique_count": 1,
          "nan_count": 0,
          "categories": [
           {
            "name": "False",
            "count": 5
           }
          ]
         }
        },
        {
         "name": "Fridge",
         "dtype": "bool",
         "stats": {
          "unique_count": 1,
          "nan_count": 0,
          "categories": [
           {
            "name": "False",
            "count": 5
           }
          ]
         }
        },
        {
         "name": "Television",
         "dtype": "bool",
         "stats": {
          "unique_count": 2,
          "nan_count": 0,
          "categories": [
           {
            "name": "False",
            "count": 3
           },
           {
            "name": "True",
            "count": 2
           }
          ]
         }
        },
        {
         "name": "Sink",
         "dtype": "bool",
         "stats": {
          "unique_count": 2,
          "nan_count": 0,
          "categories": [
           {
            "name": "False",
            "count": 4
           },
           {
            "name": "True",
            "count": 1
           }
          ]
         }
        },
        {
         "name": "Comments",
         "dtype": "object",
         "stats": {
          "unique_count": 2,
          "nan_count": 3,
          "categories": [
           {
            "name": ". Games room has billiards and shuffleboard table.  Stored in Room 119A are 14 stacking chairs, 3x6' tables and 7X3' tables.",
            "count": 1
           },
           {
            "name": "Round table.  ",
            "count": 1
           },
           {
            "name": "Missing",
            "count": 3
           }
          ]
         }
        },
        {
         "name": "Recommended Occupancy",
         "dtype": "object",
         "stats": {
          "unique_count": 2,
          "nan_count": 3,
          "categories": [
           {
            "name": "20-25",
            "count": 1
           },
           {
            "name": "7-10",
            "count": 1
           },
           {
            "name": "Missing",
            "count": 3
           }
          ]
         }
        },
        {
         "name": "Access",
         "dtype": "object",
         "stats": {
          "unique_count": 1,
          "nan_count": 3,
          "categories": [
           {
            "name": "OPEN",
            "count": 2
           },
           {
            "name": "Missing",
            "count": 3
           }
          ]
         }
        },
        {
         "name": "Picture",
         "dtype": "object",
         "stats": {
          "unique_count": 1,
          "nan_count": 3,
          "categories": [
           {
            "name": "Y",
            "count": 2
           },
           {
            "name": "Missing",
            "count": 3
           }
          ]
         }
        },
        {
         "name": "Type of Flooring",
         "dtype": "object",
         "stats": {
          "unique_count": 1,
          "nan_count": 3,
          "categories": [
           {
            "name": "C",
            "count": 2
           },
           {
            "name": "Missing",
            "count": 3
           }
          ]
         }
        },
        {
         "name": "Type of Flooring.1",
         "dtype": "object",
         "stats": {
          "unique_count": 1,
          "nan_count": 3,
          "categories": [
           {
            "name": "Carpeting",
            "count": 2
           },
           {
            "name": "Missing",
            "count": 3
           }
          ]
         }
        },
        {
         "name": "Bike Storage",
         "dtype": "object",
         "stats": {
          "unique_count": 1,
          "nan_count": 2,
          "categories": [
           {
            "name": "Y",
            "count": 3
           },
           {
            "name": "Missing",
            "count": 2
           }
          ]
         }
        },
        {
         "name": "Location",
         "dtype": "object",
         "stats": {
          "unique_count": 3,
          "nan_count": 2,
          "categories": [
           {
            "name": "119A",
            "count": 1
           },
           {
            "name": "2 others",
            "count": 2
           },
           {
            "name": "Missing",
            "count": 2
           }
          ]
         }
        },
        {
         "name": "Rent - Lowest Range",
         "dtype": "float64",
         "stats": {
          "unique_count": 2,
          "nan_count": 1,
          "min": "320.0",
          "max": "475.0",
          "histogram": [
           {
            "bin_start": 320,
            "bin_end": 335.5,
            "count": 1
           },
           {
            "bin_start": 335.5,
            "bin_end": 351,
            "count": 0
           },
           {
            "bin_start": 351,
            "bin_end": 366.5,
            "count": 0
           },
           {
            "bin_start": 366.5,
            "bin_end": 382,
            "count": 0
           },
           {
            "bin_start": 382,
            "bin_end": 397.5,
            "count": 0
           },
           {
            "bin_start": 397.5,
            "bin_end": 413,
            "count": 0
           },
           {
            "bin_start": 413,
            "bin_end": 428.5,
            "count": 0
           },
           {
            "bin_start": 428.5,
            "bin_end": 444,
            "count": 0
           },
           {
            "bin_start": 444,
            "bin_end": 459.5,
            "count": 0
           },
           {
            "bin_start": 459.5,
            "bin_end": 475,
            "count": 3
           }
          ]
         }
        },
        {
         "name": "Rent - Highest Range",
         "dtype": "object",
         "stats": {
          "unique_count": 4,
          "nan_count": 1,
          "categories": [
           {
            "name": "779.00",
            "count": 1
           },
           {
            "name": "3 others",
            "count": 3
           },
           {
            "name": "Missing",
            "count": 1
           }
          ]
         }
        },
        {
         "name": "Average Rent",
         "dtype": "float64",
         "stats": {
          "unique_count": 4,
          "nan_count": 1,
          "min": "699.5",
          "max": "886.1",
          "histogram": [
           {
            "bin_start": 699.5,
            "bin_end": 718.16,
            "count": 1
           },
           {
            "bin_start": 718.16,
            "bin_end": 736.82,
            "count": 0
           },
           {
            "bin_start": 736.82,
            "bin_end": 755.48,
            "count": 1
           },
           {
            "bin_start": 755.48,
            "bin_end": 774.14,
            "count": 0
           },
           {
            "bin_start": 774.14,
            "bin_end": 792.8,
            "count": 0
           },
           {
            "bin_start": 792.8,
            "bin_end": 811.46,
            "count": 0
           },
           {
            "bin_start": 811.46,
            "bin_end": 830.12,
            "count": 0
           },
           {
            "bin_start": 830.12,
            "bin_end": 848.78,
            "count": 1
           },
           {
            "bin_start": 848.78,
            "bin_end": 867.44,
            "count": 0
           },
           {
            "bin_start": 867.44,
            "bin_end": 886.1,
            "count": 1
           }
          ]
         }
        },
        {
         "name": "Median Rent",
         "dtype": "object",
         "stats": {
          "unique_count": 4,
          "nan_count": 1,
          "categories": [
           {
            "name": "772.00",
            "count": 1
           },
           {
            "name": "3 others",
            "count": 3
           },
           {
            "name": "Missing",
            "count": 1
           }
          ]
         }
        },
        {
         "name": "Unnamed: 36",
         "dtype": "float64",
         "stats": {
          "unique_count": 0,
          "nan_count": 5,
          "min": null,
          "max": null,
          "histogram": [
           {
            "bin_start": 0,
            "bin_end": 0.1,
            "count": 0
           },
           {
            "bin_start": 0.1,
            "bin_end": 0.2,
            "count": 0
           },
           {
            "bin_start": 0.2,
            "bin_end": 0.30000000000000004,
            "count": 0
           },
           {
            "bin_start": 0.30000000000000004,
            "bin_end": 0.4,
            "count": 0
           },
           {
            "bin_start": 0.4,
            "bin_end": 0.5,
            "count": 0
           },
           {
            "bin_start": 0.5,
            "bin_end": 0.6000000000000001,
            "count": 0
           },
           {
            "bin_start": 0.6000000000000001,
            "bin_end": 0.7000000000000001,
            "count": 0
           },
           {
            "bin_start": 0.7000000000000001,
            "bin_end": 0.8,
            "count": 0
           },
           {
            "bin_start": 0.8,
            "bin_end": 0.9,
            "count": 0
           },
           {
            "bin_start": 0.9,
            "bin_end": 1,
            "count": 0
           }
          ]
         }
        },
        {
         "name": "Unnamed: 37",
         "dtype": "float64",
         "stats": {
          "unique_count": 0,
          "nan_count": 5,
          "min": null,
          "max": null,
          "histogram": [
           {
            "bin_start": 0,
            "bin_end": 0.1,
            "count": 0
           },
           {
            "bin_start": 0.1,
            "bin_end": 0.2,
            "count": 0
           },
           {
            "bin_start": 0.2,
            "bin_end": 0.30000000000000004,
            "count": 0
           },
           {
            "bin_start": 0.30000000000000004,
            "bin_end": 0.4,
            "count": 0
           },
           {
            "bin_start": 0.4,
            "bin_end": 0.5,
            "count": 0
           },
           {
            "bin_start": 0.5,
            "bin_end": 0.6000000000000001,
            "count": 0
           },
           {
            "bin_start": 0.6000000000000001,
            "bin_end": 0.7000000000000001,
            "count": 0
           },
           {
            "bin_start": 0.7000000000000001,
            "bin_end": 0.8,
            "count": 0
           },
           {
            "bin_start": 0.8,
            "bin_end": 0.9,
            "count": 0
           },
           {
            "bin_start": 0.9,
            "bin_end": 1,
            "count": 0
           }
          ]
         }
        },
        {
         "name": "Unnamed: 38",
         "dtype": "float64",
         "stats": {
          "unique_count": 0,
          "nan_count": 5,
          "min": null,
          "max": null,
          "histogram": [
           {
            "bin_start": 0,
            "bin_end": 0.1,
            "count": 0
           },
           {
            "bin_start": 0.1,
            "bin_end": 0.2,
            "count": 0
           },
           {
            "bin_start": 0.2,
            "bin_end": 0.30000000000000004,
            "count": 0
           },
           {
            "bin_start": 0.30000000000000004,
            "bin_end": 0.4,
            "count": 0
           },
           {
            "bin_start": 0.4,
            "bin_end": 0.5,
            "count": 0
           },
           {
            "bin_start": 0.5,
            "bin_end": 0.6000000000000001,
            "count": 0
           },
           {
            "bin_start": 0.6000000000000001,
            "bin_end": 0.7000000000000001,
            "count": 0
           },
           {
            "bin_start": 0.7000000000000001,
            "bin_end": 0.8,
            "count": 0
           },
           {
            "bin_start": 0.8,
            "bin_end": 0.9,
            "count": 0
           },
           {
            "bin_start": 0.9,
            "bin_end": 1,
            "count": 0
           }
          ]
         }
        },
        {
         "name": "Unnamed: 39",
         "dtype": "float64",
         "stats": {
          "unique_count": 0,
          "nan_count": 5,
          "min": null,
          "max": null,
          "histogram": [
           {
            "bin_start": 0,
            "bin_end": 0.1,
            "count": 0
           },
           {
            "bin_start": 0.1,
            "bin_end": 0.2,
            "count": 0
           },
           {
            "bin_start": 0.2,
            "bin_end": 0.30000000000000004,
            "count": 0
           },
           {
            "bin_start": 0.30000000000000004,
            "bin_end": 0.4,
            "count": 0
           },
           {
            "bin_start": 0.4,
            "bin_end": 0.5,
            "count": 0
           },
           {
            "bin_start": 0.5,
            "bin_end": 0.6000000000000001,
            "count": 0
           },
           {
            "bin_start": 0.6000000000000001,
            "bin_end": 0.7000000000000001,
            "count": 0
           },
           {
            "bin_start": 0.7000000000000001,
            "bin_end": 0.8,
            "count": 0
           },
           {
            "bin_start": 0.8,
            "bin_end": 0.9,
            "count": 0
           },
           {
            "bin_start": 0.9,
            "bin_end": 1,
            "count": 0
           }
          ]
         }
        },
        {
         "name": "NEIGHBOURHOOD",
         "dtype": "object",
         "stats": {
          "unique_count": 4,
          "nan_count": 0,
          "categories": [
           {
            "name": "Kitsilano",
            "count": 2
           },
           {
            "name": "Hastings-Sunrise",
            "count": 1
           },
           {
            "name": "2 others",
            "count": 2
           }
          ]
         }
        },
        {
         "name": "_deepnote_index_column",
         "dtype": "int64"
        }
       ],
       "rows_top": [
        {
         "Nos. of Suites": 64,
         "Building Names": "ALICE SAUNDERS",
         "Building Code": "AS",
         "Address": "2924 Venables St. ",
         "Postal Code": "V5K 4X8",
         "No. of Suite Type": "Bachelor (55), 1BDR (9)",
         "Build Year": 1977,
         "Resident Profile": "Seniors",
         "BC Housing Registration (required)": "False",
         "Pet Friendly ": "False",
         "Amenity room": "Yes",
         "Lounge": "nan",
         "Other": "Games Room",
         "Static Chairs": 9,
         "Movable Chairs": 19,
         "Division": 1,
         "Tables": 10,
         "Appliances ": "Sink, Television",
         "DVD Player": "False",
         "Microwave": "False",
         "Stove": "False",
         "Fridge": "False",
         "Television": "True",
         "Sink": "True",
         "Comments": ". Games room has billiards and shuffleboard table.  Stored in Room 119A are 14 stacking chairs, 3x6…",
         "Recommended Occupancy": "20-25",
         "Access": "OPEN",
         "Picture": "Y",
         "Type of Flooring": "C",
         "Type of Flooring.1": "Carpeting",
         "Bike Storage": "Y",
         "Location": "119A",
         "Rent - Lowest Range": 475,
         "Rent - Highest Range": "779.00",
         "Average Rent": 699.5,
         "Median Rent": "772.00",
         "Unnamed: 36": "nan",
         "Unnamed: 37": "nan",
         "Unnamed: 38": "nan",
         "Unnamed: 39": "nan",
         "NEIGHBOURHOOD": "Hastings-Sunrise",
         "_deepnote_index_column": 0
        },
        {
         "Nos. of Suites": 21,
         "Building Names": "ARBUTUS COURT",
         "Building Code": "AC",
         "Address": "2085 W. 5th Ave.",
         "Postal Code": "V6J 1P8",
         "No. of Suite Type": "1BDR (21)",
         "Build Year": 1964,
         "Resident Profile": "Families, People with Disabilities, Seniors",
         "BC Housing Registration (required)": "False",
         "Pet Friendly ": "False",
         "Amenity room": "No",
         "Lounge": "nan",
         "Other": "nan",
         "Static Chairs": "nan",
         "Movable Chairs": "nan",
         "Division": 1,
         "Tables": "nan",
         "Appliances ": "nan",
         "DVD Player": "False",
         "Microwave": "False",
         "Stove": "False",
         "Fridge": "False",
         "Television": "False",
         "Sink": "False",
         "Comments": "nan",
         "Recommended Occupancy": "nan",
         "Access": "nan",
         "Picture": "nan",
         "Type of Flooring": "nan",
         "Type of Flooring.1": "nan",
         "Bike Storage": "Y",
         "Location": "Parkade",
         "Rent - Lowest Range": 475,
         "Rent - Highest Range": "1,553.00",
         "Average Rent": 886.1,
         "Median Rent": "803.00",
         "Unnamed: 36": "nan",
         "Unnamed: 37": "nan",
         "Unnamed: 38": "nan",
         "Unnamed: 39": "nan",
         "NEIGHBOURHOOD": "Kitsilano",
         "_deepnote_index_column": 1
        },
        {
         "Nos. of Suites": 16,
         "Building Names": "BURRARD MANOR",
         "Building Code": "BM",
         "Address": "2330 Balsam St",
         "Postal Code": "V6K 3M8",
         "No. of Suite Type": "Bachelor (15), 1BDR (1)",
         "Build Year": 1967,
         "Resident Profile": "Seniors",
         "BC Housing Registration (required)": "False",
         "Pet Friendly ": "False",
         "Amenity room": "No",
         "Lounge": "nan",
         "Other": "nan",
         "Static Chairs": "nan",
         "Movable Chairs": "nan",
         "Division": 1,
         "Tables": "nan",
         "Appliances ": "nan",
         "DVD Player": "False",
         "Microwave": "False",
         "Stove": "False",
         "Fridge": "False",
         "Television": "False",
         "Sink": "False",
         "Comments": "nan",
         "Recommended Occupancy": "nan",
         "Access": "nan",
         "Picture": "nan",
         "Type of Flooring": "nan",
         "Type of Flooring.1": "nan",
         "Bike Storage": "nan",
         "Location": "nan",
         "Rent - Lowest Range": 475,
         "Rent - Highest Range": "1,084.00",
         "Average Rent": 747.69,
         "Median Rent": "787.50",
         "Unnamed: 36": "nan",
         "Unnamed: 37": "nan",
         "Unnamed: 38": "nan",
         "Unnamed: 39": "nan",
         "NEIGHBOURHOOD": "Kitsilano",
         "_deepnote_index_column": 2
        },
        {
         "Nos. of Suites": 36,
         "Building Names": "EDWARD BYERS",
         "Building Code": "EB",
         "Address": "1451 E. 12th Ave",
         "Postal Code": "V5N 2A1",
         "No. of Suite Type": "Bachelor (35), 1BDR (1)",
         "Build Year": 1962,
         "Resident Profile": "Seniors",
         "BC Housing Registration (required)": "False",
         "Pet Friendly ": "False",
         "Amenity room": "Yes",
         "Lounge": "nan",
         "Other": "nan",
         "Static Chairs": 3,
         "Movable Chairs": 6,
         "Division": 1,
         "Tables": 1,
         "Appliances ": "Television",
         "DVD Player": "False",
         "Microwave": "False",
         "Stove": "False",
         "Fridge": "False",
         "Television": "True",
         "Sink": "False",
         "Comments": "Round table.  ",
         "Recommended Occupancy": "7-10",
         "Access": "OPEN",
         "Picture": "Y",
         "Type of Flooring": "C",
         "Type of Flooring.1": "Carpeting",
         "Bike Storage": "Y",
         "Location": "Room off rear entrance",
         "Rent - Lowest Range": "nan",
         "Rent - Highest Range": "nan",
         "Average Rent": "nan",
         "Median Rent": "nan",
         "Unnamed: 36": "nan",
         "Unnamed: 37": "nan",
         "Unnamed: 38": "nan",
         "Unnamed: 39": "nan",
         "NEIGHBOURHOOD": "Grandview-Woodland",
         "_deepnote_index_column": 3
        },
        {
         "Nos. of Suites": 15,
         "Building Names": "FLORENCE MANOR",
         "Building Code": "FM",
         "Address": "1325 Burnaby St",
         "Postal Code": "V6E 1R2",
         "No. of Suite Type": "Bachelor (4), 1BDR (11)",
         "Build Year": 1954,
         "Resident Profile": "Couples, People with Disabilities, Seniors",
         "BC Housing Registration (required)": "False",
         "Pet Friendly ": "False",
         "Amenity room": "No",
         "Lounge": "nan",
         "Other": "nan",
         "Static Chairs": "nan",
         "Movable Chairs": "nan",
         "Division": 1,
         "Tables": "nan",
         "Appliances ": "nan",
         "DVD Player": "False",
         "Microwave": "False",
         "Stove": "False",
         "Fridge": "False",
         "Television": "False",
         "Sink": "False",
         "Comments": "nan",
         "Recommended Occupancy": "nan",
         "Access": "nan",
         "Picture": "nan",
         "Type of Flooring": "nan",
         "Type of Flooring.1": "nan",
         "Bike Storage": "nan",
         "Location": "nan",
         "Rent - Lowest Range": 320,
         "Rent - Highest Range": "1,741.00",
         "Average Rent": 835.93,
         "Median Rent": "803.50",
         "Unnamed: 36": "nan",
         "Unnamed: 37": "nan",
         "Unnamed: 38": "nan",
         "Unnamed: 39": "nan",
         "NEIGHBOURHOOD": "West End",
         "_deepnote_index_column": 4
        }
       ],
       "rows_bottom": null
      },
      "text/plain": "   Nos. of Suites  Building Names Building Code             Address  \\\n0              64  ALICE SAUNDERS            AS  2924 Venables St.    \n1              21   ARBUTUS COURT            AC    2085 W. 5th Ave.   \n2              16   BURRARD MANOR            BM      2330 Balsam St   \n3              36    EDWARD BYERS            EB    1451 E. 12th Ave   \n4              15  FLORENCE MANOR            FM     1325 Burnaby St   \n\n  Postal Code        No. of Suite Type  Build Year  \\\n0     V5K 4X8  Bachelor (55), 1BDR (9)      1977.0   \n1     V6J 1P8                1BDR (21)      1964.0   \n2     V6K 3M8  Bachelor (15), 1BDR (1)      1967.0   \n3     V5N 2A1  Bachelor (35), 1BDR (1)      1962.0   \n4     V6E 1R2  Bachelor (4), 1BDR (11)      1954.0   \n\n                              Resident Profile  \\\n0                                      Seniors   \n1  Families, People with Disabilities, Seniors   \n2                                      Seniors   \n3                                      Seniors   \n4   Couples, People with Disabilities, Seniors   \n\n   BC Housing Registration (required)  Pet Friendly   ...  \\\n0                               False          False  ...   \n1                               False          False  ...   \n2                               False          False  ...   \n3                               False          False  ...   \n4                               False          False  ...   \n\n                 Location Rent - Lowest Range Rent - Highest Range  \\\n0                    119A               475.0               779.00   \n1                 Parkade               475.0             1,553.00   \n2                     NaN               475.0             1,084.00   \n3  Room off rear entrance                 NaN                  NaN   \n4                     NaN               320.0             1,741.00   \n\n   Average Rent  Median Rent  Unnamed: 36  Unnamed: 37 Unnamed: 38  \\\n0        699.50       772.00          NaN          NaN         NaN   \n1        886.10       803.00          NaN          NaN         NaN   \n2        747.69       787.50          NaN          NaN         NaN   \n3           NaN          NaN          NaN          NaN         NaN   \n4        835.93       803.50          NaN          NaN         NaN   \n\n   Unnamed: 39       NEIGHBOURHOOD  \n0          NaN    Hastings-Sunrise  \n1          NaN           Kitsilano  \n2          NaN           Kitsilano  \n3          NaN  Grandview-Woodland  \n4          NaN            West End  \n\n[5 rows x 41 columns]",
      "text/html": "<div>\n<style scoped>\n    .dataframe tbody tr th:only-of-type {\n        vertical-align: middle;\n    }\n\n    .dataframe tbody tr th {\n        vertical-align: top;\n    }\n\n    .dataframe thead th {\n        text-align: right;\n    }\n</style>\n<table border=\"1\" class=\"dataframe\">\n  <thead>\n    <tr style=\"text-align: right;\">\n      <th></th>\n      <th>Nos. of Suites</th>\n      <th>Building Names</th>\n      <th>Building Code</th>\n      <th>Address</th>\n      <th>Postal Code</th>\n      <th>No. of Suite Type</th>\n      <th>Build Year</th>\n      <th>Resident Profile</th>\n      <th>BC Housing Registration (required)</th>\n      <th>Pet Friendly</th>\n      <th>...</th>\n      <th>Location</th>\n      <th>Rent - Lowest Range</th>\n      <th>Rent - Highest Range</th>\n      <th>Average Rent</th>\n      <th>Median Rent</th>\n      <th>Unnamed: 36</th>\n      <th>Unnamed: 37</th>\n      <th>Unnamed: 38</th>\n      <th>Unnamed: 39</th>\n      <th>NEIGHBOURHOOD</th>\n    </tr>\n  </thead>\n  <tbody>\n    <tr>\n      <th>0</th>\n      <td>64</td>\n      <td>ALICE SAUNDERS</td>\n      <td>AS</td>\n      <td>2924 Venables St.</td>\n      <td>V5K 4X8</td>\n      <td>Bachelor (55), 1BDR (9)</td>\n      <td>1977.0</td>\n      <td>Seniors</td>\n      <td>False</td>\n      <td>False</td>\n      <td>...</td>\n      <td>119A</td>\n      <td>475.0</td>\n      <td>779.00</td>\n      <td>699.50</td>\n      <td>772.00</td>\n      <td>NaN</td>\n      <td>NaN</td>\n      <td>NaN</td>\n      <td>NaN</td>\n      <td>Hastings-Sunrise</td>\n    </tr>\n    <tr>\n      <th>1</th>\n      <td>21</td>\n      <td>ARBUTUS COURT</td>\n      <td>AC</td>\n      <td>2085 W. 5th Ave.</td>\n      <td>V6J 1P8</td>\n      <td>1BDR (21)</td>\n      <td>1964.0</td>\n      <td>Families, People with Disabilities, Seniors</td>\n      <td>False</td>\n      <td>False</td>\n      <td>...</td>\n      <td>Parkade</td>\n      <td>475.0</td>\n      <td>1,553.00</td>\n      <td>886.10</td>\n      <td>803.00</td>\n      <td>NaN</td>\n      <td>NaN</td>\n      <td>NaN</td>\n      <td>NaN</td>\n      <td>Kitsilano</td>\n    </tr>\n    <tr>\n      <th>2</th>\n      <td>16</td>\n      <td>BURRARD MANOR</td>\n      <td>BM</td>\n      <td>2330 Balsam St</td>\n      <td>V6K 3M8</td>\n      <td>Bachelor (15), 1BDR (1)</td>\n      <td>1967.0</td>\n      <td>Seniors</td>\n      <td>False</td>\n      <td>False</td>\n      <td>...</td>\n      <td>NaN</td>\n      <td>475.0</td>\n      <td>1,084.00</td>\n      <td>747.69</td>\n      <td>787.50</td>\n      <td>NaN</td>\n      <td>NaN</td>\n      <td>NaN</td>\n      <td>NaN</td>\n      <td>Kitsilano</td>\n    </tr>\n    <tr>\n      <th>3</th>\n      <td>36</td>\n      <td>EDWARD BYERS</td>\n      <td>EB</td>\n      <td>1451 E. 12th Ave</td>\n      <td>V5N 2A1</td>\n      <td>Bachelor (35), 1BDR (1)</td>\n      <td>1962.0</td>\n      <td>Seniors</td>\n      <td>False</td>\n      <td>False</td>\n      <td>...</td>\n      <td>Room off rear entrance</td>\n      <td>NaN</td>\n      <td>NaN</td>\n      <td>NaN</td>\n      <td>NaN</td>\n      <td>NaN</td>\n      <td>NaN</td>\n      <td>NaN</td>\n      <td>NaN</td>\n      <td>Grandview-Woodland</td>\n    </tr>\n    <tr>\n      <th>4</th>\n      <td>15</td>\n      <td>FLORENCE MANOR</td>\n      <td>FM</td>\n      <td>1325 Burnaby St</td>\n      <td>V6E 1R2</td>\n      <td>Bachelor (4), 1BDR (11)</td>\n      <td>1954.0</td>\n      <td>Couples, People with Disabilities, Seniors</td>\n      <td>False</td>\n      <td>False</td>\n      <td>...</td>\n      <td>NaN</td>\n      <td>320.0</td>\n      <td>1,741.00</td>\n      <td>835.93</td>\n      <td>803.50</td>\n      <td>NaN</td>\n      <td>NaN</td>\n      <td>NaN</td>\n      <td>NaN</td>\n      <td>West End</td>\n    </tr>\n  </tbody>\n</table>\n<p>5 rows × 41 columns</p>\n</div>"
     },
     "metadata": {}
    }
   ],
   "execution_count": 201
  },
  {
   "cell_type": "code",
   "source": "df3 = df2.merge(yr_2021_neigh_ct, on='NEIGHBOURHOOD')\ndf3.head(3)",
   "metadata": {
    "tags": [],
    "cell_id": "00027-a7a24c67-ecc9-42d5-bc8d-04f0fa309ff9",
    "deepnote_to_be_reexecuted": false,
    "source_hash": "b56913c4",
    "execution_start": 1628982603212,
    "execution_millis": 110,
    "deepnote_cell_type": "code"
   },
   "outputs": [
    {
     "output_type": "execute_result",
     "execution_count": 205,
     "data": {
      "application/vnd.deepnote.dataframe.v2+json": {
       "row_count": 3,
       "column_count": 42,
       "columns": [
        {
         "name": "Nos. of Suites",
         "dtype": "int64",
         "stats": {
          "unique_count": 3,
          "nan_count": 0,
          "min": "16",
          "max": "64",
          "histogram": [
           {
            "bin_start": 16,
            "bin_end": 20.8,
            "count": 1
           },
           {
            "bin_start": 20.8,
            "bin_end": 25.6,
            "count": 1
           },
           {
            "bin_start": 25.6,
            "bin_end": 30.4,
            "count": 0
           },
           {
            "bin_start": 30.4,
            "bin_end": 35.2,
            "count": 0
           },
           {
            "bin_start": 35.2,
            "bin_end": 40,
            "count": 0
           },
           {
            "bin_start": 40,
            "bin_end": 44.8,
            "count": 0
           },
           {
            "bin_start": 44.8,
            "bin_end": 49.6,
            "count": 0
           },
           {
            "bin_start": 49.6,
            "bin_end": 54.4,
            "count": 0
           },
           {
            "bin_start": 54.4,
            "bin_end": 59.199999999999996,
            "count": 0
           },
           {
            "bin_start": 59.199999999999996,
            "bin_end": 64,
            "count": 1
           }
          ]
         }
        },
        {
         "name": "Building Names",
         "dtype": "object",
         "stats": {
          "unique_count": 3,
          "nan_count": 0,
          "categories": [
           {
            "name": "ALICE SAUNDERS",
            "count": 1
           },
           {
            "name": "ARBUTUS COURT",
            "count": 1
           },
           {
            "name": "BURRARD MANOR",
            "count": 1
           }
          ]
         }
        },
        {
         "name": "Building Code",
         "dtype": "object",
         "stats": {
          "unique_count": 3,
          "nan_count": 0,
          "categories": [
           {
            "name": "AS",
            "count": 1
           },
           {
            "name": "AC",
            "count": 1
           },
           {
            "name": "BM",
            "count": 1
           }
          ]
         }
        },
        {
         "name": "Address",
         "dtype": "object",
         "stats": {
          "unique_count": 3,
          "nan_count": 0,
          "categories": [
           {
            "name": "2924 Venables St. ",
            "count": 1
           },
           {
            "name": "2085 W. 5th Ave.",
            "count": 1
           },
           {
            "name": "2330 Balsam St",
            "count": 1
           }
          ]
         }
        },
        {
         "name": "Postal Code",
         "dtype": "object",
         "stats": {
          "unique_count": 3,
          "nan_count": 0,
          "categories": [
           {
            "name": "V5K 4X8",
            "count": 1
           },
           {
            "name": "V6J 1P8",
            "count": 1
           },
           {
            "name": "V6K 3M8",
            "count": 1
           }
          ]
         }
        },
        {
         "name": "No. of Suite Type",
         "dtype": "object",
         "stats": {
          "unique_count": 3,
          "nan_count": 0,
          "categories": [
           {
            "name": "Bachelor (55), 1BDR (9)",
            "count": 1
           },
           {
            "name": "1BDR (21)",
            "count": 1
           },
           {
            "name": "Bachelor (15), 1BDR (1)",
            "count": 1
           }
          ]
         }
        },
        {
         "name": "Build Year",
         "dtype": "float64",
         "stats": {
          "unique_count": 3,
          "nan_count": 0,
          "min": "1964.0",
          "max": "1977.0",
          "histogram": [
           {
            "bin_start": 1964,
            "bin_end": 1965.3,
            "count": 1
           },
           {
            "bin_start": 1965.3,
            "bin_end": 1966.6,
            "count": 0
           },
           {
            "bin_start": 1966.6,
            "bin_end": 1967.9,
            "count": 1
           },
           {
            "bin_start": 1967.9,
            "bin_end": 1969.2,
            "count": 0
           },
           {
            "bin_start": 1969.2,
            "bin_end": 1970.5,
            "count": 0
           },
           {
            "bin_start": 1970.5,
            "bin_end": 1971.8,
            "count": 0
           },
           {
            "bin_start": 1971.8,
            "bin_end": 1973.1,
            "count": 0
           },
           {
            "bin_start": 1973.1,
            "bin_end": 1974.4,
            "count": 0
           },
           {
            "bin_start": 1974.4,
            "bin_end": 1975.7,
            "count": 0
           },
           {
            "bin_start": 1975.7,
            "bin_end": 1977,
            "count": 1
           }
          ]
         }
        },
        {
         "name": "Resident Profile",
         "dtype": "object",
         "stats": {
          "unique_count": 2,
          "nan_count": 0,
          "categories": [
           {
            "name": "Seniors",
            "count": 2
           },
           {
            "name": "Families, People with Disabilities, Seniors",
            "count": 1
           }
          ]
         }
        },
        {
         "name": "BC Housing Registration (required)",
         "dtype": "bool",
         "stats": {
          "unique_count": 1,
          "nan_count": 0,
          "categories": [
           {
            "name": "False",
            "count": 3
           }
          ]
         }
        },
        {
         "name": "Pet Friendly ",
         "dtype": "bool",
         "stats": {
          "unique_count": 1,
          "nan_count": 0,
          "categories": [
           {
            "name": "False",
            "count": 3
           }
          ]
         }
        },
        {
         "name": "Amenity room",
         "dtype": "object",
         "stats": {
          "unique_count": 2,
          "nan_count": 0,
          "categories": [
           {
            "name": "No",
            "count": 2
           },
           {
            "name": "Yes",
            "count": 1
           }
          ]
         }
        },
        {
         "name": "Lounge",
         "dtype": "object",
         "stats": {
          "unique_count": 0,
          "nan_count": 3,
          "categories": [
           {
            "name": "Missing",
            "count": 3
           }
          ]
         }
        },
        {
         "name": "Other",
         "dtype": "object",
         "stats": {
          "unique_count": 1,
          "nan_count": 2,
          "categories": [
           {
            "name": "Games Room",
            "count": 1
           },
           {
            "name": "Missing",
            "count": 2
           }
          ]
         }
        },
        {
         "name": "Static Chairs",
         "dtype": "float64",
         "stats": {
          "unique_count": 1,
          "nan_count": 2,
          "min": "9.0",
          "max": "9.0",
          "histogram": [
           {
            "bin_start": 8.5,
            "bin_end": 8.6,
            "count": 0
           },
           {
            "bin_start": 8.6,
            "bin_end": 8.7,
            "count": 0
           },
           {
            "bin_start": 8.7,
            "bin_end": 8.8,
            "count": 0
           },
           {
            "bin_start": 8.8,
            "bin_end": 8.9,
            "count": 0
           },
           {
            "bin_start": 8.9,
            "bin_end": 9,
            "count": 0
           },
           {
            "bin_start": 9,
            "bin_end": 9.1,
            "count": 1
           },
           {
            "bin_start": 9.1,
            "bin_end": 9.2,
            "count": 0
           },
           {
            "bin_start": 9.2,
            "bin_end": 9.3,
            "count": 0
           },
           {
            "bin_start": 9.3,
            "bin_end": 9.4,
            "count": 0
           },
           {
            "bin_start": 9.4,
            "bin_end": 9.5,
            "count": 0
           }
          ]
         }
        },
        {
         "name": "Movable Chairs",
         "dtype": "float64",
         "stats": {
          "unique_count": 1,
          "nan_count": 2,
          "min": "19.0",
          "max": "19.0",
          "histogram": [
           {
            "bin_start": 18.5,
            "bin_end": 18.6,
            "count": 0
           },
           {
            "bin_start": 18.6,
            "bin_end": 18.7,
            "count": 0
           },
           {
            "bin_start": 18.7,
            "bin_end": 18.8,
            "count": 0
           },
           {
            "bin_start": 18.8,
            "bin_end": 18.9,
            "count": 0
           },
           {
            "bin_start": 18.9,
            "bin_end": 19,
            "count": 0
           },
           {
            "bin_start": 19,
            "bin_end": 19.1,
            "count": 1
           },
           {
            "bin_start": 19.1,
            "bin_end": 19.2,
            "count": 0
           },
           {
            "bin_start": 19.2,
            "bin_end": 19.3,
            "count": 0
           },
           {
            "bin_start": 19.3,
            "bin_end": 19.4,
            "count": 0
           },
           {
            "bin_start": 19.4,
            "bin_end": 19.5,
            "count": 0
           }
          ]
         }
        },
        {
         "name": "Division",
         "dtype": "int64",
         "stats": {
          "unique_count": 1,
          "nan_count": 0,
          "min": "1",
          "max": "1",
          "histogram": [
           {
            "bin_start": 0.5,
            "bin_end": 0.6,
            "count": 0
           },
           {
            "bin_start": 0.6,
            "bin_end": 0.7,
            "count": 0
           },
           {
            "bin_start": 0.7,
            "bin_end": 0.8,
            "count": 0
           },
           {
            "bin_start": 0.8,
            "bin_end": 0.9,
            "count": 0
           },
           {
            "bin_start": 0.9,
            "bin_end": 1,
            "count": 0
           },
           {
            "bin_start": 1,
            "bin_end": 1.1,
            "count": 3
           },
           {
            "bin_start": 1.1,
            "bin_end": 1.2000000000000002,
            "count": 0
           },
           {
            "bin_start": 1.2000000000000002,
            "bin_end": 1.3,
            "count": 0
           },
           {
            "bin_start": 1.3,
            "bin_end": 1.4,
            "count": 0
           },
           {
            "bin_start": 1.4,
            "bin_end": 1.5,
            "count": 0
           }
          ]
         }
        },
        {
         "name": "Tables",
         "dtype": "float64",
         "stats": {
          "unique_count": 1,
          "nan_count": 2,
          "min": "10.0",
          "max": "10.0",
          "histogram": [
           {
            "bin_start": 9.5,
            "bin_end": 9.6,
            "count": 0
           },
           {
            "bin_start": 9.6,
            "bin_end": 9.7,
            "count": 0
           },
           {
            "bin_start": 9.7,
            "bin_end": 9.8,
            "count": 0
           },
           {
            "bin_start": 9.8,
            "bin_end": 9.9,
            "count": 0
           },
           {
            "bin_start": 9.9,
            "bin_end": 10,
            "count": 0
           },
           {
            "bin_start": 10,
            "bin_end": 10.1,
            "count": 1
           },
           {
            "bin_start": 10.1,
            "bin_end": 10.2,
            "count": 0
           },
           {
            "bin_start": 10.2,
            "bin_end": 10.3,
            "count": 0
           },
           {
            "bin_start": 10.3,
            "bin_end": 10.4,
            "count": 0
           },
           {
            "bin_start": 10.4,
            "bin_end": 10.5,
            "count": 0
           }
          ]
         }
        },
        {
         "name": "Appliances ",
         "dtype": "object",
         "stats": {
          "unique_count": 1,
          "nan_count": 2,
          "categories": [
           {
            "name": "Sink, Television",
            "count": 1
           },
           {
            "name": "Missing",
            "count": 2
           }
          ]
         }
        },
        {
         "name": "DVD Player",
         "dtype": "bool",
         "stats": {
          "unique_count": 1,
          "nan_count": 0,
          "categories": [
           {
            "name": "False",
            "count": 3
           }
          ]
         }
        },
        {
         "name": "Microwave",
         "dtype": "bool",
         "stats": {
          "unique_count": 1,
          "nan_count": 0,
          "categories": [
           {
            "name": "False",
            "count": 3
           }
          ]
         }
        },
        {
         "name": "Stove",
         "dtype": "bool",
         "stats": {
          "unique_count": 1,
          "nan_count": 0,
          "categories": [
           {
            "name": "False",
            "count": 3
           }
          ]
         }
        },
        {
         "name": "Fridge",
         "dtype": "bool",
         "stats": {
          "unique_count": 1,
          "nan_count": 0,
          "categories": [
           {
            "name": "False",
            "count": 3
           }
          ]
         }
        },
        {
         "name": "Television",
         "dtype": "bool",
         "stats": {
          "unique_count": 2,
          "nan_count": 0,
          "categories": [
           {
            "name": "False",
            "count": 2
           },
           {
            "name": "True",
            "count": 1
           }
          ]
         }
        },
        {
         "name": "Sink",
         "dtype": "bool",
         "stats": {
          "unique_count": 2,
          "nan_count": 0,
          "categories": [
           {
            "name": "False",
            "count": 2
           },
           {
            "name": "True",
            "count": 1
           }
          ]
         }
        },
        {
         "name": "Comments",
         "dtype": "object",
         "stats": {
          "unique_count": 1,
          "nan_count": 2,
          "categories": [
           {
            "name": ". Games room has billiards and shuffleboard table.  Stored in Room 119A are 14 stacking chairs, 3x6' tables and 7X3' tables.",
            "count": 1
           },
           {
            "name": "Missing",
            "count": 2
           }
          ]
         }
        },
        {
         "name": "Recommended Occupancy",
         "dtype": "object",
         "stats": {
          "unique_count": 1,
          "nan_count": 2,
          "categories": [
           {
            "name": "20-25",
            "count": 1
           },
           {
            "name": "Missing",
            "count": 2
           }
          ]
         }
        },
        {
         "name": "Access",
         "dtype": "object",
         "stats": {
          "unique_count": 1,
          "nan_count": 2,
          "categories": [
           {
            "name": "OPEN",
            "count": 1
           },
           {
            "name": "Missing",
            "count": 2
           }
          ]
         }
        },
        {
         "name": "Picture",
         "dtype": "object",
         "stats": {
          "unique_count": 1,
          "nan_count": 2,
          "categories": [
           {
            "name": "Y",
            "count": 1
           },
           {
            "name": "Missing",
            "count": 2
           }
          ]
         }
        },
        {
         "name": "Type of Flooring",
         "dtype": "object",
         "stats": {
          "unique_count": 1,
          "nan_count": 2,
          "categories": [
           {
            "name": "C",
            "count": 1
           },
           {
            "name": "Missing",
            "count": 2
           }
          ]
         }
        },
        {
         "name": "Type of Flooring.1",
         "dtype": "object",
         "stats": {
          "unique_count": 1,
          "nan_count": 2,
          "categories": [
           {
            "name": "Carpeting",
            "count": 1
           },
           {
            "name": "Missing",
            "count": 2
           }
          ]
         }
        },
        {
         "name": "Bike Storage",
         "dtype": "object",
         "stats": {
          "unique_count": 1,
          "nan_count": 1,
          "categories": [
           {
            "name": "Y",
            "count": 2
           },
           {
            "name": "Missing",
            "count": 1
           }
          ]
         }
        },
        {
         "name": "Location",
         "dtype": "object",
         "stats": {
          "unique_count": 2,
          "nan_count": 1,
          "categories": [
           {
            "name": "119A",
            "count": 1
           },
           {
            "name": "Parkade",
            "count": 1
           },
           {
            "name": "Missing",
            "count": 1
           }
          ]
         }
        },
        {
         "name": "Rent - Lowest Range",
         "dtype": "float64",
         "stats": {
          "unique_count": 1,
          "nan_count": 0,
          "min": "475.0",
          "max": "475.0",
          "histogram": [
           {
            "bin_start": 474.5,
            "bin_end": 474.6,
            "count": 0
           },
           {
            "bin_start": 474.6,
            "bin_end": 474.7,
            "count": 0
           },
           {
            "bin_start": 474.7,
            "bin_end": 474.8,
            "count": 0
           },
           {
            "bin_start": 474.8,
            "bin_end": 474.9,
            "count": 0
           },
           {
            "bin_start": 474.9,
            "bin_end": 475,
            "count": 0
           },
           {
            "bin_start": 475,
            "bin_end": 475.1,
            "count": 3
           },
           {
            "bin_start": 475.1,
            "bin_end": 475.2,
            "count": 0
           },
           {
            "bin_start": 475.2,
            "bin_end": 475.3,
            "count": 0
           },
           {
            "bin_start": 475.3,
            "bin_end": 475.4,
            "count": 0
           },
           {
            "bin_start": 475.4,
            "bin_end": 475.5,
            "count": 0
           }
          ]
         }
        },
        {
         "name": "Rent - Highest Range",
         "dtype": "object",
         "stats": {
          "unique_count": 3,
          "nan_count": 0,
          "categories": [
           {
            "name": "779.00",
            "count": 1
           },
           {
            "name": "1,553.00",
            "count": 1
           },
           {
            "name": "1,084.00",
            "count": 1
           }
          ]
         }
        },
        {
         "name": "Average Rent",
         "dtype": "float64",
         "stats": {
          "unique_count": 3,
          "nan_count": 0,
          "min": "699.5",
          "max": "886.1",
          "histogram": [
           {
            "bin_start": 699.5,
            "bin_end": 718.16,
            "count": 1
           },
           {
            "bin_start": 718.16,
            "bin_end": 736.82,
            "count": 0
           },
           {
            "bin_start": 736.82,
            "bin_end": 755.48,
            "count": 1
           },
           {
            "bin_start": 755.48,
            "bin_end": 774.14,
            "count": 0
           },
           {
            "bin_start": 774.14,
            "bin_end": 792.8,
            "count": 0
           },
           {
            "bin_start": 792.8,
            "bin_end": 811.46,
            "count": 0
           },
           {
            "bin_start": 811.46,
            "bin_end": 830.12,
            "count": 0
           },
           {
            "bin_start": 830.12,
            "bin_end": 848.78,
            "count": 0
           },
           {
            "bin_start": 848.78,
            "bin_end": 867.44,
            "count": 0
           },
           {
            "bin_start": 867.44,
            "bin_end": 886.1,
            "count": 1
           }
          ]
         }
        },
        {
         "name": "Median Rent",
         "dtype": "object",
         "stats": {
          "unique_count": 3,
          "nan_count": 0,
          "categories": [
           {
            "name": "772.00",
            "count": 1
           },
           {
            "name": "803.00",
            "count": 1
           },
           {
            "name": "787.50",
            "count": 1
           }
          ]
         }
        },
        {
         "name": "Unnamed: 36",
         "dtype": "float64",
         "stats": {
          "unique_count": 0,
          "nan_count": 3,
          "min": null,
          "max": null,
          "histogram": [
           {
            "bin_start": 0,
            "bin_end": 0.1,
            "count": 0
           },
           {
            "bin_start": 0.1,
            "bin_end": 0.2,
            "count": 0
           },
           {
            "bin_start": 0.2,
            "bin_end": 0.30000000000000004,
            "count": 0
           },
           {
            "bin_start": 0.30000000000000004,
            "bin_end": 0.4,
            "count": 0
           },
           {
            "bin_start": 0.4,
            "bin_end": 0.5,
            "count": 0
           },
           {
            "bin_start": 0.5,
            "bin_end": 0.6000000000000001,
            "count": 0
           },
           {
            "bin_start": 0.6000000000000001,
            "bin_end": 0.7000000000000001,
            "count": 0
           },
           {
            "bin_start": 0.7000000000000001,
            "bin_end": 0.8,
            "count": 0
           },
           {
            "bin_start": 0.8,
            "bin_end": 0.9,
            "count": 0
           },
           {
            "bin_start": 0.9,
            "bin_end": 1,
            "count": 0
           }
          ]
         }
        },
        {
         "name": "Unnamed: 37",
         "dtype": "float64",
         "stats": {
          "unique_count": 0,
          "nan_count": 3,
          "min": null,
          "max": null,
          "histogram": [
           {
            "bin_start": 0,
            "bin_end": 0.1,
            "count": 0
           },
           {
            "bin_start": 0.1,
            "bin_end": 0.2,
            "count": 0
           },
           {
            "bin_start": 0.2,
            "bin_end": 0.30000000000000004,
            "count": 0
           },
           {
            "bin_start": 0.30000000000000004,
            "bin_end": 0.4,
            "count": 0
           },
           {
            "bin_start": 0.4,
            "bin_end": 0.5,
            "count": 0
           },
           {
            "bin_start": 0.5,
            "bin_end": 0.6000000000000001,
            "count": 0
           },
           {
            "bin_start": 0.6000000000000001,
            "bin_end": 0.7000000000000001,
            "count": 0
           },
           {
            "bin_start": 0.7000000000000001,
            "bin_end": 0.8,
            "count": 0
           },
           {
            "bin_start": 0.8,
            "bin_end": 0.9,
            "count": 0
           },
           {
            "bin_start": 0.9,
            "bin_end": 1,
            "count": 0
           }
          ]
         }
        },
        {
         "name": "Unnamed: 38",
         "dtype": "float64",
         "stats": {
          "unique_count": 0,
          "nan_count": 3,
          "min": null,
          "max": null,
          "histogram": [
           {
            "bin_start": 0,
            "bin_end": 0.1,
            "count": 0
           },
           {
            "bin_start": 0.1,
            "bin_end": 0.2,
            "count": 0
           },
           {
            "bin_start": 0.2,
            "bin_end": 0.30000000000000004,
            "count": 0
           },
           {
            "bin_start": 0.30000000000000004,
            "bin_end": 0.4,
            "count": 0
           },
           {
            "bin_start": 0.4,
            "bin_end": 0.5,
            "count": 0
           },
           {
            "bin_start": 0.5,
            "bin_end": 0.6000000000000001,
            "count": 0
           },
           {
            "bin_start": 0.6000000000000001,
            "bin_end": 0.7000000000000001,
            "count": 0
           },
           {
            "bin_start": 0.7000000000000001,
            "bin_end": 0.8,
            "count": 0
           },
           {
            "bin_start": 0.8,
            "bin_end": 0.9,
            "count": 0
           },
           {
            "bin_start": 0.9,
            "bin_end": 1,
            "count": 0
           }
          ]
         }
        },
        {
         "name": "Unnamed: 39",
         "dtype": "float64",
         "stats": {
          "unique_count": 0,
          "nan_count": 3,
          "min": null,
          "max": null,
          "histogram": [
           {
            "bin_start": 0,
            "bin_end": 0.1,
            "count": 0
           },
           {
            "bin_start": 0.1,
            "bin_end": 0.2,
            "count": 0
           },
           {
            "bin_start": 0.2,
            "bin_end": 0.30000000000000004,
            "count": 0
           },
           {
            "bin_start": 0.30000000000000004,
            "bin_end": 0.4,
            "count": 0
           },
           {
            "bin_start": 0.4,
            "bin_end": 0.5,
            "count": 0
           },
           {
            "bin_start": 0.5,
            "bin_end": 0.6000000000000001,
            "count": 0
           },
           {
            "bin_start": 0.6000000000000001,
            "bin_end": 0.7000000000000001,
            "count": 0
           },
           {
            "bin_start": 0.7000000000000001,
            "bin_end": 0.8,
            "count": 0
           },
           {
            "bin_start": 0.8,
            "bin_end": 0.9,
            "count": 0
           },
           {
            "bin_start": 0.9,
            "bin_end": 1,
            "count": 0
           }
          ]
         }
        },
        {
         "name": "NEIGHBOURHOOD",
         "dtype": "object",
         "stats": {
          "unique_count": 2,
          "nan_count": 0,
          "categories": [
           {
            "name": "Kitsilano",
            "count": 2
           },
           {
            "name": "Hastings-Sunrise",
            "count": 1
           }
          ]
         }
        },
        {
         "name": "TYPE",
         "dtype": "int64",
         "stats": {
          "unique_count": 2,
          "nan_count": 0,
          "min": "603",
          "max": "711",
          "histogram": [
           {
            "bin_start": 603,
            "bin_end": 613.8,
            "count": 1
           },
           {
            "bin_start": 613.8,
            "bin_end": 624.6,
            "count": 0
           },
           {
            "bin_start": 624.6,
            "bin_end": 635.4,
            "count": 0
           },
           {
            "bin_start": 635.4,
            "bin_end": 646.2,
            "count": 0
           },
           {
            "bin_start": 646.2,
            "bin_end": 657,
            "count": 0
           },
           {
            "bin_start": 657,
            "bin_end": 667.8,
            "count": 0
           },
           {
            "bin_start": 667.8,
            "bin_end": 678.6,
            "count": 0
           },
           {
            "bin_start": 678.6,
            "bin_end": 689.4,
            "count": 0
           },
           {
            "bin_start": 689.4,
            "bin_end": 700.2,
            "count": 0
           },
           {
            "bin_start": 700.2,
            "bin_end": 711,
            "count": 2
           }
          ]
         }
        },
        {
         "name": "_deepnote_index_column",
         "dtype": "int64"
        }
       ],
       "rows_top": [
        {
         "Nos. of Suites": 64,
         "Building Names": "ALICE SAUNDERS",
         "Building Code": "AS",
         "Address": "2924 Venables St. ",
         "Postal Code": "V5K 4X8",
         "No. of Suite Type": "Bachelor (55), 1BDR (9)",
         "Build Year": 1977,
         "Resident Profile": "Seniors",
         "BC Housing Registration (required)": "False",
         "Pet Friendly ": "False",
         "Amenity room": "Yes",
         "Lounge": "nan",
         "Other": "Games Room",
         "Static Chairs": 9,
         "Movable Chairs": 19,
         "Division": 1,
         "Tables": 10,
         "Appliances ": "Sink, Television",
         "DVD Player": "False",
         "Microwave": "False",
         "Stove": "False",
         "Fridge": "False",
         "Television": "True",
         "Sink": "True",
         "Comments": ". Games room has billiards and shuffleboard table.  Stored in Room 119A are 14 stacking chairs, 3x6…",
         "Recommended Occupancy": "20-25",
         "Access": "OPEN",
         "Picture": "Y",
         "Type of Flooring": "C",
         "Type of Flooring.1": "Carpeting",
         "Bike Storage": "Y",
         "Location": "119A",
         "Rent - Lowest Range": 475,
         "Rent - Highest Range": "779.00",
         "Average Rent": 699.5,
         "Median Rent": "772.00",
         "Unnamed: 36": "nan",
         "Unnamed: 37": "nan",
         "Unnamed: 38": "nan",
         "Unnamed: 39": "nan",
         "NEIGHBOURHOOD": "Hastings-Sunrise",
         "TYPE": 603,
         "_deepnote_index_column": 0
        },
        {
         "Nos. of Suites": 21,
         "Building Names": "ARBUTUS COURT",
         "Building Code": "AC",
         "Address": "2085 W. 5th Ave.",
         "Postal Code": "V6J 1P8",
         "No. of Suite Type": "1BDR (21)",
         "Build Year": 1964,
         "Resident Profile": "Families, People with Disabilities, Seniors",
         "BC Housing Registration (required)": "False",
         "Pet Friendly ": "False",
         "Amenity room": "No",
         "Lounge": "nan",
         "Other": "nan",
         "Static Chairs": "nan",
         "Movable Chairs": "nan",
         "Division": 1,
         "Tables": "nan",
         "Appliances ": "nan",
         "DVD Player": "False",
         "Microwave": "False",
         "Stove": "False",
         "Fridge": "False",
         "Television": "False",
         "Sink": "False",
         "Comments": "nan",
         "Recommended Occupancy": "nan",
         "Access": "nan",
         "Picture": "nan",
         "Type of Flooring": "nan",
         "Type of Flooring.1": "nan",
         "Bike Storage": "Y",
         "Location": "Parkade",
         "Rent - Lowest Range": 475,
         "Rent - Highest Range": "1,553.00",
         "Average Rent": 886.1,
         "Median Rent": "803.00",
         "Unnamed: 36": "nan",
         "Unnamed: 37": "nan",
         "Unnamed: 38": "nan",
         "Unnamed: 39": "nan",
         "NEIGHBOURHOOD": "Kitsilano",
         "TYPE": 711,
         "_deepnote_index_column": 1
        },
        {
         "Nos. of Suites": 16,
         "Building Names": "BURRARD MANOR",
         "Building Code": "BM",
         "Address": "2330 Balsam St",
         "Postal Code": "V6K 3M8",
         "No. of Suite Type": "Bachelor (15), 1BDR (1)",
         "Build Year": 1967,
         "Resident Profile": "Seniors",
         "BC Housing Registration (required)": "False",
         "Pet Friendly ": "False",
         "Amenity room": "No",
         "Lounge": "nan",
         "Other": "nan",
         "Static Chairs": "nan",
         "Movable Chairs": "nan",
         "Division": 1,
         "Tables": "nan",
         "Appliances ": "nan",
         "DVD Player": "False",
         "Microwave": "False",
         "Stove": "False",
         "Fridge": "False",
         "Television": "False",
         "Sink": "False",
         "Comments": "nan",
         "Recommended Occupancy": "nan",
         "Access": "nan",
         "Picture": "nan",
         "Type of Flooring": "nan",
         "Type of Flooring.1": "nan",
         "Bike Storage": "nan",
         "Location": "nan",
         "Rent - Lowest Range": 475,
         "Rent - Highest Range": "1,084.00",
         "Average Rent": 747.69,
         "Median Rent": "787.50",
         "Unnamed: 36": "nan",
         "Unnamed: 37": "nan",
         "Unnamed: 38": "nan",
         "Unnamed: 39": "nan",
         "NEIGHBOURHOOD": "Kitsilano",
         "TYPE": 711,
         "_deepnote_index_column": 2
        }
       ],
       "rows_bottom": null
      },
      "text/plain": "   Nos. of Suites  Building Names Building Code             Address  \\\n0              64  ALICE SAUNDERS            AS  2924 Venables St.    \n1              21   ARBUTUS COURT            AC    2085 W. 5th Ave.   \n2              16   BURRARD MANOR            BM      2330 Balsam St   \n\n  Postal Code        No. of Suite Type  Build Year  \\\n0     V5K 4X8  Bachelor (55), 1BDR (9)      1977.0   \n1     V6J 1P8                1BDR (21)      1964.0   \n2     V6K 3M8  Bachelor (15), 1BDR (1)      1967.0   \n\n                              Resident Profile  \\\n0                                      Seniors   \n1  Families, People with Disabilities, Seniors   \n2                                      Seniors   \n\n   BC Housing Registration (required)  Pet Friendly   ... Rent - Lowest Range  \\\n0                               False          False  ...               475.0   \n1                               False          False  ...               475.0   \n2                               False          False  ...               475.0   \n\n  Rent - Highest Range Average Rent  Median Rent  Unnamed: 36  Unnamed: 37  \\\n0               779.00       699.50       772.00          NaN          NaN   \n1             1,553.00       886.10       803.00          NaN          NaN   \n2             1,084.00       747.69       787.50          NaN          NaN   \n\n   Unnamed: 38 Unnamed: 39     NEIGHBOURHOOD  TYPE  \n0          NaN         NaN  Hastings-Sunrise   603  \n1          NaN         NaN         Kitsilano   711  \n2          NaN         NaN         Kitsilano   711  \n\n[3 rows x 42 columns]",
      "text/html": "<div>\n<style scoped>\n    .dataframe tbody tr th:only-of-type {\n        vertical-align: middle;\n    }\n\n    .dataframe tbody tr th {\n        vertical-align: top;\n    }\n\n    .dataframe thead th {\n        text-align: right;\n    }\n</style>\n<table border=\"1\" class=\"dataframe\">\n  <thead>\n    <tr style=\"text-align: right;\">\n      <th></th>\n      <th>Nos. of Suites</th>\n      <th>Building Names</th>\n      <th>Building Code</th>\n      <th>Address</th>\n      <th>Postal Code</th>\n      <th>No. of Suite Type</th>\n      <th>Build Year</th>\n      <th>Resident Profile</th>\n      <th>BC Housing Registration (required)</th>\n      <th>Pet Friendly</th>\n      <th>...</th>\n      <th>Rent - Lowest Range</th>\n      <th>Rent - Highest Range</th>\n      <th>Average Rent</th>\n      <th>Median Rent</th>\n      <th>Unnamed: 36</th>\n      <th>Unnamed: 37</th>\n      <th>Unnamed: 38</th>\n      <th>Unnamed: 39</th>\n      <th>NEIGHBOURHOOD</th>\n      <th>TYPE</th>\n    </tr>\n  </thead>\n  <tbody>\n    <tr>\n      <th>0</th>\n      <td>64</td>\n      <td>ALICE SAUNDERS</td>\n      <td>AS</td>\n      <td>2924 Venables St.</td>\n      <td>V5K 4X8</td>\n      <td>Bachelor (55), 1BDR (9)</td>\n      <td>1977.0</td>\n      <td>Seniors</td>\n      <td>False</td>\n      <td>False</td>\n      <td>...</td>\n      <td>475.0</td>\n      <td>779.00</td>\n      <td>699.50</td>\n      <td>772.00</td>\n      <td>NaN</td>\n      <td>NaN</td>\n      <td>NaN</td>\n      <td>NaN</td>\n      <td>Hastings-Sunrise</td>\n      <td>603</td>\n    </tr>\n    <tr>\n      <th>1</th>\n      <td>21</td>\n      <td>ARBUTUS COURT</td>\n      <td>AC</td>\n      <td>2085 W. 5th Ave.</td>\n      <td>V6J 1P8</td>\n      <td>1BDR (21)</td>\n      <td>1964.0</td>\n      <td>Families, People with Disabilities, Seniors</td>\n      <td>False</td>\n      <td>False</td>\n      <td>...</td>\n      <td>475.0</td>\n      <td>1,553.00</td>\n      <td>886.10</td>\n      <td>803.00</td>\n      <td>NaN</td>\n      <td>NaN</td>\n      <td>NaN</td>\n      <td>NaN</td>\n      <td>Kitsilano</td>\n      <td>711</td>\n    </tr>\n    <tr>\n      <th>2</th>\n      <td>16</td>\n      <td>BURRARD MANOR</td>\n      <td>BM</td>\n      <td>2330 Balsam St</td>\n      <td>V6K 3M8</td>\n      <td>Bachelor (15), 1BDR (1)</td>\n      <td>1967.0</td>\n      <td>Seniors</td>\n      <td>False</td>\n      <td>False</td>\n      <td>...</td>\n      <td>475.0</td>\n      <td>1,084.00</td>\n      <td>747.69</td>\n      <td>787.50</td>\n      <td>NaN</td>\n      <td>NaN</td>\n      <td>NaN</td>\n      <td>NaN</td>\n      <td>Kitsilano</td>\n      <td>711</td>\n    </tr>\n  </tbody>\n</table>\n<p>3 rows × 42 columns</p>\n</div>"
     },
     "metadata": {}
    }
   ],
   "execution_count": 205
  },
  {
   "cell_type": "code",
   "source": "df3 = df3.rename(columns = {'TYPE': '2021_crime_freq'})\ndf3.head(2)",
   "metadata": {
    "tags": [],
    "cell_id": "00028-0aa95ceb-1625-430c-92c2-ac4bed79ba93",
    "deepnote_to_be_reexecuted": false,
    "source_hash": "f3c7c58f",
    "execution_start": 1628982621735,
    "execution_millis": 99,
    "deepnote_cell_type": "code"
   },
   "outputs": [
    {
     "output_type": "execute_result",
     "execution_count": 207,
     "data": {
      "application/vnd.deepnote.dataframe.v2+json": {
       "row_count": 2,
       "column_count": 42,
       "columns": [
        {
         "name": "Nos. of Suites",
         "dtype": "int64",
         "stats": {
          "unique_count": 2,
          "nan_count": 0,
          "min": "21",
          "max": "64",
          "histogram": [
           {
            "bin_start": 21,
            "bin_end": 25.3,
            "count": 1
           },
           {
            "bin_start": 25.3,
            "bin_end": 29.6,
            "count": 0
           },
           {
            "bin_start": 29.6,
            "bin_end": 33.9,
            "count": 0
           },
           {
            "bin_start": 33.9,
            "bin_end": 38.2,
            "count": 0
           },
           {
            "bin_start": 38.2,
            "bin_end": 42.5,
            "count": 0
           },
           {
            "bin_start": 42.5,
            "bin_end": 46.8,
            "count": 0
           },
           {
            "bin_start": 46.8,
            "bin_end": 51.099999999999994,
            "count": 0
           },
           {
            "bin_start": 51.099999999999994,
            "bin_end": 55.4,
            "count": 0
           },
           {
            "bin_start": 55.4,
            "bin_end": 59.699999999999996,
            "count": 0
           },
           {
            "bin_start": 59.699999999999996,
            "bin_end": 64,
            "count": 1
           }
          ]
         }
        },
        {
         "name": "Building Names",
         "dtype": "object",
         "stats": {
          "unique_count": 2,
          "nan_count": 0,
          "categories": [
           {
            "name": "ALICE SAUNDERS",
            "count": 1
           },
           {
            "name": "ARBUTUS COURT",
            "count": 1
           }
          ]
         }
        },
        {
         "name": "Building Code",
         "dtype": "object",
         "stats": {
          "unique_count": 2,
          "nan_count": 0,
          "categories": [
           {
            "name": "AS",
            "count": 1
           },
           {
            "name": "AC",
            "count": 1
           }
          ]
         }
        },
        {
         "name": "Address",
         "dtype": "object",
         "stats": {
          "unique_count": 2,
          "nan_count": 0,
          "categories": [
           {
            "name": "2924 Venables St. ",
            "count": 1
           },
           {
            "name": "2085 W. 5th Ave.",
            "count": 1
           }
          ]
         }
        },
        {
         "name": "Postal Code",
         "dtype": "object",
         "stats": {
          "unique_count": 2,
          "nan_count": 0,
          "categories": [
           {
            "name": "V5K 4X8",
            "count": 1
           },
           {
            "name": "V6J 1P8",
            "count": 1
           }
          ]
         }
        },
        {
         "name": "No. of Suite Type",
         "dtype": "object",
         "stats": {
          "unique_count": 2,
          "nan_count": 0,
          "categories": [
           {
            "name": "Bachelor (55), 1BDR (9)",
            "count": 1
           },
           {
            "name": "1BDR (21)",
            "count": 1
           }
          ]
         }
        },
        {
         "name": "Build Year",
         "dtype": "float64",
         "stats": {
          "unique_count": 2,
          "nan_count": 0,
          "min": "1964.0",
          "max": "1977.0",
          "histogram": [
           {
            "bin_start": 1964,
            "bin_end": 1965.3,
            "count": 1
           },
           {
            "bin_start": 1965.3,
            "bin_end": 1966.6,
            "count": 0
           },
           {
            "bin_start": 1966.6,
            "bin_end": 1967.9,
            "count": 0
           },
           {
            "bin_start": 1967.9,
            "bin_end": 1969.2,
            "count": 0
           },
           {
            "bin_start": 1969.2,
            "bin_end": 1970.5,
            "count": 0
           },
           {
            "bin_start": 1970.5,
            "bin_end": 1971.8,
            "count": 0
           },
           {
            "bin_start": 1971.8,
            "bin_end": 1973.1,
            "count": 0
           },
           {
            "bin_start": 1973.1,
            "bin_end": 1974.4,
            "count": 0
           },
           {
            "bin_start": 1974.4,
            "bin_end": 1975.7,
            "count": 0
           },
           {
            "bin_start": 1975.7,
            "bin_end": 1977,
            "count": 1
           }
          ]
         }
        },
        {
         "name": "Resident Profile",
         "dtype": "object",
         "stats": {
          "unique_count": 2,
          "nan_count": 0,
          "categories": [
           {
            "name": "Seniors",
            "count": 1
           },
           {
            "name": "Families, People with Disabilities, Seniors",
            "count": 1
           }
          ]
         }
        },
        {
         "name": "BC Housing Registration (required)",
         "dtype": "bool",
         "stats": {
          "unique_count": 1,
          "nan_count": 0,
          "categories": [
           {
            "name": "False",
            "count": 2
           }
          ]
         }
        },
        {
         "name": "Pet Friendly ",
         "dtype": "bool",
         "stats": {
          "unique_count": 1,
          "nan_count": 0,
          "categories": [
           {
            "name": "False",
            "count": 2
           }
          ]
         }
        },
        {
         "name": "Amenity room",
         "dtype": "object",
         "stats": {
          "unique_count": 2,
          "nan_count": 0,
          "categories": [
           {
            "name": "Yes",
            "count": 1
           },
           {
            "name": "No",
            "count": 1
           }
          ]
         }
        },
        {
         "name": "Lounge",
         "dtype": "object",
         "stats": {
          "unique_count": 0,
          "nan_count": 2,
          "categories": [
           {
            "name": "Missing",
            "count": 2
           }
          ]
         }
        },
        {
         "name": "Other",
         "dtype": "object",
         "stats": {
          "unique_count": 1,
          "nan_count": 1,
          "categories": [
           {
            "name": "Games Room",
            "count": 1
           },
           {
            "name": "Missing",
            "count": 1
           }
          ]
         }
        },
        {
         "name": "Static Chairs",
         "dtype": "float64",
         "stats": {
          "unique_count": 1,
          "nan_count": 1,
          "min": "9.0",
          "max": "9.0",
          "histogram": [
           {
            "bin_start": 8.5,
            "bin_end": 8.6,
            "count": 0
           },
           {
            "bin_start": 8.6,
            "bin_end": 8.7,
            "count": 0
           },
           {
            "bin_start": 8.7,
            "bin_end": 8.8,
            "count": 0
           },
           {
            "bin_start": 8.8,
            "bin_end": 8.9,
            "count": 0
           },
           {
            "bin_start": 8.9,
            "bin_end": 9,
            "count": 0
           },
           {
            "bin_start": 9,
            "bin_end": 9.1,
            "count": 1
           },
           {
            "bin_start": 9.1,
            "bin_end": 9.2,
            "count": 0
           },
           {
            "bin_start": 9.2,
            "bin_end": 9.3,
            "count": 0
           },
           {
            "bin_start": 9.3,
            "bin_end": 9.4,
            "count": 0
           },
           {
            "bin_start": 9.4,
            "bin_end": 9.5,
            "count": 0
           }
          ]
         }
        },
        {
         "name": "Movable Chairs",
         "dtype": "float64",
         "stats": {
          "unique_count": 1,
          "nan_count": 1,
          "min": "19.0",
          "max": "19.0",
          "histogram": [
           {
            "bin_start": 18.5,
            "bin_end": 18.6,
            "count": 0
           },
           {
            "bin_start": 18.6,
            "bin_end": 18.7,
            "count": 0
           },
           {
            "bin_start": 18.7,
            "bin_end": 18.8,
            "count": 0
           },
           {
            "bin_start": 18.8,
            "bin_end": 18.9,
            "count": 0
           },
           {
            "bin_start": 18.9,
            "bin_end": 19,
            "count": 0
           },
           {
            "bin_start": 19,
            "bin_end": 19.1,
            "count": 1
           },
           {
            "bin_start": 19.1,
            "bin_end": 19.2,
            "count": 0
           },
           {
            "bin_start": 19.2,
            "bin_end": 19.3,
            "count": 0
           },
           {
            "bin_start": 19.3,
            "bin_end": 19.4,
            "count": 0
           },
           {
            "bin_start": 19.4,
            "bin_end": 19.5,
            "count": 0
           }
          ]
         }
        },
        {
         "name": "Division",
         "dtype": "int64",
         "stats": {
          "unique_count": 1,
          "nan_count": 0,
          "min": "1",
          "max": "1",
          "histogram": [
           {
            "bin_start": 0.5,
            "bin_end": 0.6,
            "count": 0
           },
           {
            "bin_start": 0.6,
            "bin_end": 0.7,
            "count": 0
           },
           {
            "bin_start": 0.7,
            "bin_end": 0.8,
            "count": 0
           },
           {
            "bin_start": 0.8,
            "bin_end": 0.9,
            "count": 0
           },
           {
            "bin_start": 0.9,
            "bin_end": 1,
            "count": 0
           },
           {
            "bin_start": 1,
            "bin_end": 1.1,
            "count": 2
           },
           {
            "bin_start": 1.1,
            "bin_end": 1.2000000000000002,
            "count": 0
           },
           {
            "bin_start": 1.2000000000000002,
            "bin_end": 1.3,
            "count": 0
           },
           {
            "bin_start": 1.3,
            "bin_end": 1.4,
            "count": 0
           },
           {
            "bin_start": 1.4,
            "bin_end": 1.5,
            "count": 0
           }
          ]
         }
        },
        {
         "name": "Tables",
         "dtype": "float64",
         "stats": {
          "unique_count": 1,
          "nan_count": 1,
          "min": "10.0",
          "max": "10.0",
          "histogram": [
           {
            "bin_start": 9.5,
            "bin_end": 9.6,
            "count": 0
           },
           {
            "bin_start": 9.6,
            "bin_end": 9.7,
            "count": 0
           },
           {
            "bin_start": 9.7,
            "bin_end": 9.8,
            "count": 0
           },
           {
            "bin_start": 9.8,
            "bin_end": 9.9,
            "count": 0
           },
           {
            "bin_start": 9.9,
            "bin_end": 10,
            "count": 0
           },
           {
            "bin_start": 10,
            "bin_end": 10.1,
            "count": 1
           },
           {
            "bin_start": 10.1,
            "bin_end": 10.2,
            "count": 0
           },
           {
            "bin_start": 10.2,
            "bin_end": 10.3,
            "count": 0
           },
           {
            "bin_start": 10.3,
            "bin_end": 10.4,
            "count": 0
           },
           {
            "bin_start": 10.4,
            "bin_end": 10.5,
            "count": 0
           }
          ]
         }
        },
        {
         "name": "Appliances ",
         "dtype": "object",
         "stats": {
          "unique_count": 1,
          "nan_count": 1,
          "categories": [
           {
            "name": "Sink, Television",
            "count": 1
           },
           {
            "name": "Missing",
            "count": 1
           }
          ]
         }
        },
        {
         "name": "DVD Player",
         "dtype": "bool",
         "stats": {
          "unique_count": 1,
          "nan_count": 0,
          "categories": [
           {
            "name": "False",
            "count": 2
           }
          ]
         }
        },
        {
         "name": "Microwave",
         "dtype": "bool",
         "stats": {
          "unique_count": 1,
          "nan_count": 0,
          "categories": [
           {
            "name": "False",
            "count": 2
           }
          ]
         }
        },
        {
         "name": "Stove",
         "dtype": "bool",
         "stats": {
          "unique_count": 1,
          "nan_count": 0,
          "categories": [
           {
            "name": "False",
            "count": 2
           }
          ]
         }
        },
        {
         "name": "Fridge",
         "dtype": "bool",
         "stats": {
          "unique_count": 1,
          "nan_count": 0,
          "categories": [
           {
            "name": "False",
            "count": 2
           }
          ]
         }
        },
        {
         "name": "Television",
         "dtype": "bool",
         "stats": {
          "unique_count": 2,
          "nan_count": 0,
          "categories": [
           {
            "name": "True",
            "count": 1
           },
           {
            "name": "False",
            "count": 1
           }
          ]
         }
        },
        {
         "name": "Sink",
         "dtype": "bool",
         "stats": {
          "unique_count": 2,
          "nan_count": 0,
          "categories": [
           {
            "name": "True",
            "count": 1
           },
           {
            "name": "False",
            "count": 1
           }
          ]
         }
        },
        {
         "name": "Comments",
         "dtype": "object",
         "stats": {
          "unique_count": 1,
          "nan_count": 1,
          "categories": [
           {
            "name": ". Games room has billiards and shuffleboard table.  Stored in Room 119A are 14 stacking chairs, 3x6' tables and 7X3' tables.",
            "count": 1
           },
           {
            "name": "Missing",
            "count": 1
           }
          ]
         }
        },
        {
         "name": "Recommended Occupancy",
         "dtype": "object",
         "stats": {
          "unique_count": 1,
          "nan_count": 1,
          "categories": [
           {
            "name": "20-25",
            "count": 1
           },
           {
            "name": "Missing",
            "count": 1
           }
          ]
         }
        },
        {
         "name": "Access",
         "dtype": "object",
         "stats": {
          "unique_count": 1,
          "nan_count": 1,
          "categories": [
           {
            "name": "OPEN",
            "count": 1
           },
           {
            "name": "Missing",
            "count": 1
           }
          ]
         }
        },
        {
         "name": "Picture",
         "dtype": "object",
         "stats": {
          "unique_count": 1,
          "nan_count": 1,
          "categories": [
           {
            "name": "Y",
            "count": 1
           },
           {
            "name": "Missing",
            "count": 1
           }
          ]
         }
        },
        {
         "name": "Type of Flooring",
         "dtype": "object",
         "stats": {
          "unique_count": 1,
          "nan_count": 1,
          "categories": [
           {
            "name": "C",
            "count": 1
           },
           {
            "name": "Missing",
            "count": 1
           }
          ]
         }
        },
        {
         "name": "Type of Flooring.1",
         "dtype": "object",
         "stats": {
          "unique_count": 1,
          "nan_count": 1,
          "categories": [
           {
            "name": "Carpeting",
            "count": 1
           },
           {
            "name": "Missing",
            "count": 1
           }
          ]
         }
        },
        {
         "name": "Bike Storage",
         "dtype": "object",
         "stats": {
          "unique_count": 1,
          "nan_count": 0,
          "categories": [
           {
            "name": "Y",
            "count": 2
           }
          ]
         }
        },
        {
         "name": "Location",
         "dtype": "object",
         "stats": {
          "unique_count": 2,
          "nan_count": 0,
          "categories": [
           {
            "name": "119A",
            "count": 1
           },
           {
            "name": "Parkade",
            "count": 1
           }
          ]
         }
        },
        {
         "name": "Rent - Lowest Range",
         "dtype": "float64",
         "stats": {
          "unique_count": 1,
          "nan_count": 0,
          "min": "475.0",
          "max": "475.0",
          "histogram": [
           {
            "bin_start": 474.5,
            "bin_end": 474.6,
            "count": 0
           },
           {
            "bin_start": 474.6,
            "bin_end": 474.7,
            "count": 0
           },
           {
            "bin_start": 474.7,
            "bin_end": 474.8,
            "count": 0
           },
           {
            "bin_start": 474.8,
            "bin_end": 474.9,
            "count": 0
           },
           {
            "bin_start": 474.9,
            "bin_end": 475,
            "count": 0
           },
           {
            "bin_start": 475,
            "bin_end": 475.1,
            "count": 2
           },
           {
            "bin_start": 475.1,
            "bin_end": 475.2,
            "count": 0
           },
           {
            "bin_start": 475.2,
            "bin_end": 475.3,
            "count": 0
           },
           {
            "bin_start": 475.3,
            "bin_end": 475.4,
            "count": 0
           },
           {
            "bin_start": 475.4,
            "bin_end": 475.5,
            "count": 0
           }
          ]
         }
        },
        {
         "name": "Rent - Highest Range",
         "dtype": "object",
         "stats": {
          "unique_count": 2,
          "nan_count": 0,
          "categories": [
           {
            "name": "779.00",
            "count": 1
           },
           {
            "name": "1,553.00",
            "count": 1
           }
          ]
         }
        },
        {
         "name": "Average Rent",
         "dtype": "float64",
         "stats": {
          "unique_count": 2,
          "nan_count": 0,
          "min": "699.5",
          "max": "886.1",
          "histogram": [
           {
            "bin_start": 699.5,
            "bin_end": 718.16,
            "count": 1
           },
           {
            "bin_start": 718.16,
            "bin_end": 736.82,
            "count": 0
           },
           {
            "bin_start": 736.82,
            "bin_end": 755.48,
            "count": 0
           },
           {
            "bin_start": 755.48,
            "bin_end": 774.14,
            "count": 0
           },
           {
            "bin_start": 774.14,
            "bin_end": 792.8,
            "count": 0
           },
           {
            "bin_start": 792.8,
            "bin_end": 811.46,
            "count": 0
           },
           {
            "bin_start": 811.46,
            "bin_end": 830.12,
            "count": 0
           },
           {
            "bin_start": 830.12,
            "bin_end": 848.78,
            "count": 0
           },
           {
            "bin_start": 848.78,
            "bin_end": 867.44,
            "count": 0
           },
           {
            "bin_start": 867.44,
            "bin_end": 886.1,
            "count": 1
           }
          ]
         }
        },
        {
         "name": "Median Rent",
         "dtype": "object",
         "stats": {
          "unique_count": 2,
          "nan_count": 0,
          "categories": [
           {
            "name": "772.00",
            "count": 1
           },
           {
            "name": "803.00",
            "count": 1
           }
          ]
         }
        },
        {
         "name": "Unnamed: 36",
         "dtype": "float64",
         "stats": {
          "unique_count": 0,
          "nan_count": 2,
          "min": null,
          "max": null,
          "histogram": [
           {
            "bin_start": 0,
            "bin_end": 0.1,
            "count": 0
           },
           {
            "bin_start": 0.1,
            "bin_end": 0.2,
            "count": 0
           },
           {
            "bin_start": 0.2,
            "bin_end": 0.30000000000000004,
            "count": 0
           },
           {
            "bin_start": 0.30000000000000004,
            "bin_end": 0.4,
            "count": 0
           },
           {
            "bin_start": 0.4,
            "bin_end": 0.5,
            "count": 0
           },
           {
            "bin_start": 0.5,
            "bin_end": 0.6000000000000001,
            "count": 0
           },
           {
            "bin_start": 0.6000000000000001,
            "bin_end": 0.7000000000000001,
            "count": 0
           },
           {
            "bin_start": 0.7000000000000001,
            "bin_end": 0.8,
            "count": 0
           },
           {
            "bin_start": 0.8,
            "bin_end": 0.9,
            "count": 0
           },
           {
            "bin_start": 0.9,
            "bin_end": 1,
            "count": 0
           }
          ]
         }
        },
        {
         "name": "Unnamed: 37",
         "dtype": "float64",
         "stats": {
          "unique_count": 0,
          "nan_count": 2,
          "min": null,
          "max": null,
          "histogram": [
           {
            "bin_start": 0,
            "bin_end": 0.1,
            "count": 0
           },
           {
            "bin_start": 0.1,
            "bin_end": 0.2,
            "count": 0
           },
           {
            "bin_start": 0.2,
            "bin_end": 0.30000000000000004,
            "count": 0
           },
           {
            "bin_start": 0.30000000000000004,
            "bin_end": 0.4,
            "count": 0
           },
           {
            "bin_start": 0.4,
            "bin_end": 0.5,
            "count": 0
           },
           {
            "bin_start": 0.5,
            "bin_end": 0.6000000000000001,
            "count": 0
           },
           {
            "bin_start": 0.6000000000000001,
            "bin_end": 0.7000000000000001,
            "count": 0
           },
           {
            "bin_start": 0.7000000000000001,
            "bin_end": 0.8,
            "count": 0
           },
           {
            "bin_start": 0.8,
            "bin_end": 0.9,
            "count": 0
           },
           {
            "bin_start": 0.9,
            "bin_end": 1,
            "count": 0
           }
          ]
         }
        },
        {
         "name": "Unnamed: 38",
         "dtype": "float64",
         "stats": {
          "unique_count": 0,
          "nan_count": 2,
          "min": null,
          "max": null,
          "histogram": [
           {
            "bin_start": 0,
            "bin_end": 0.1,
            "count": 0
           },
           {
            "bin_start": 0.1,
            "bin_end": 0.2,
            "count": 0
           },
           {
            "bin_start": 0.2,
            "bin_end": 0.30000000000000004,
            "count": 0
           },
           {
            "bin_start": 0.30000000000000004,
            "bin_end": 0.4,
            "count": 0
           },
           {
            "bin_start": 0.4,
            "bin_end": 0.5,
            "count": 0
           },
           {
            "bin_start": 0.5,
            "bin_end": 0.6000000000000001,
            "count": 0
           },
           {
            "bin_start": 0.6000000000000001,
            "bin_end": 0.7000000000000001,
            "count": 0
           },
           {
            "bin_start": 0.7000000000000001,
            "bin_end": 0.8,
            "count": 0
           },
           {
            "bin_start": 0.8,
            "bin_end": 0.9,
            "count": 0
           },
           {
            "bin_start": 0.9,
            "bin_end": 1,
            "count": 0
           }
          ]
         }
        },
        {
         "name": "Unnamed: 39",
         "dtype": "float64",
         "stats": {
          "unique_count": 0,
          "nan_count": 2,
          "min": null,
          "max": null,
          "histogram": [
           {
            "bin_start": 0,
            "bin_end": 0.1,
            "count": 0
           },
           {
            "bin_start": 0.1,
            "bin_end": 0.2,
            "count": 0
           },
           {
            "bin_start": 0.2,
            "bin_end": 0.30000000000000004,
            "count": 0
           },
           {
            "bin_start": 0.30000000000000004,
            "bin_end": 0.4,
            "count": 0
           },
           {
            "bin_start": 0.4,
            "bin_end": 0.5,
            "count": 0
           },
           {
            "bin_start": 0.5,
            "bin_end": 0.6000000000000001,
            "count": 0
           },
           {
            "bin_start": 0.6000000000000001,
            "bin_end": 0.7000000000000001,
            "count": 0
           },
           {
            "bin_start": 0.7000000000000001,
            "bin_end": 0.8,
            "count": 0
           },
           {
            "bin_start": 0.8,
            "bin_end": 0.9,
            "count": 0
           },
           {
            "bin_start": 0.9,
            "bin_end": 1,
            "count": 0
           }
          ]
         }
        },
        {
         "name": "NEIGHBOURHOOD",
         "dtype": "object",
         "stats": {
          "unique_count": 2,
          "nan_count": 0,
          "categories": [
           {
            "name": "Hastings-Sunrise",
            "count": 1
           },
           {
            "name": "Kitsilano",
            "count": 1
           }
          ]
         }
        },
        {
         "name": "2021_crime_freq",
         "dtype": "int64",
         "stats": {
          "unique_count": 2,
          "nan_count": 0,
          "min": "603",
          "max": "711",
          "histogram": [
           {
            "bin_start": 603,
            "bin_end": 613.8,
            "count": 1
           },
           {
            "bin_start": 613.8,
            "bin_end": 624.6,
            "count": 0
           },
           {
            "bin_start": 624.6,
            "bin_end": 635.4,
            "count": 0
           },
           {
            "bin_start": 635.4,
            "bin_end": 646.2,
            "count": 0
           },
           {
            "bin_start": 646.2,
            "bin_end": 657,
            "count": 0
           },
           {
            "bin_start": 657,
            "bin_end": 667.8,
            "count": 0
           },
           {
            "bin_start": 667.8,
            "bin_end": 678.6,
            "count": 0
           },
           {
            "bin_start": 678.6,
            "bin_end": 689.4,
            "count": 0
           },
           {
            "bin_start": 689.4,
            "bin_end": 700.2,
            "count": 0
           },
           {
            "bin_start": 700.2,
            "bin_end": 711,
            "count": 1
           }
          ]
         }
        },
        {
         "name": "_deepnote_index_column",
         "dtype": "int64"
        }
       ],
       "rows_top": [
        {
         "Nos. of Suites": 64,
         "Building Names": "ALICE SAUNDERS",
         "Building Code": "AS",
         "Address": "2924 Venables St. ",
         "Postal Code": "V5K 4X8",
         "No. of Suite Type": "Bachelor (55), 1BDR (9)",
         "Build Year": 1977,
         "Resident Profile": "Seniors",
         "BC Housing Registration (required)": "False",
         "Pet Friendly ": "False",
         "Amenity room": "Yes",
         "Lounge": "nan",
         "Other": "Games Room",
         "Static Chairs": 9,
         "Movable Chairs": 19,
         "Division": 1,
         "Tables": 10,
         "Appliances ": "Sink, Television",
         "DVD Player": "False",
         "Microwave": "False",
         "Stove": "False",
         "Fridge": "False",
         "Television": "True",
         "Sink": "True",
         "Comments": ". Games room has billiards and shuffleboard table.  Stored in Room 119A are 14 stacking chairs, 3x6…",
         "Recommended Occupancy": "20-25",
         "Access": "OPEN",
         "Picture": "Y",
         "Type of Flooring": "C",
         "Type of Flooring.1": "Carpeting",
         "Bike Storage": "Y",
         "Location": "119A",
         "Rent - Lowest Range": 475,
         "Rent - Highest Range": "779.00",
         "Average Rent": 699.5,
         "Median Rent": "772.00",
         "Unnamed: 36": "nan",
         "Unnamed: 37": "nan",
         "Unnamed: 38": "nan",
         "Unnamed: 39": "nan",
         "NEIGHBOURHOOD": "Hastings-Sunrise",
         "2021_crime_freq": 603,
         "_deepnote_index_column": 0
        },
        {
         "Nos. of Suites": 21,
         "Building Names": "ARBUTUS COURT",
         "Building Code": "AC",
         "Address": "2085 W. 5th Ave.",
         "Postal Code": "V6J 1P8",
         "No. of Suite Type": "1BDR (21)",
         "Build Year": 1964,
         "Resident Profile": "Families, People with Disabilities, Seniors",
         "BC Housing Registration (required)": "False",
         "Pet Friendly ": "False",
         "Amenity room": "No",
         "Lounge": "nan",
         "Other": "nan",
         "Static Chairs": "nan",
         "Movable Chairs": "nan",
         "Division": 1,
         "Tables": "nan",
         "Appliances ": "nan",
         "DVD Player": "False",
         "Microwave": "False",
         "Stove": "False",
         "Fridge": "False",
         "Television": "False",
         "Sink": "False",
         "Comments": "nan",
         "Recommended Occupancy": "nan",
         "Access": "nan",
         "Picture": "nan",
         "Type of Flooring": "nan",
         "Type of Flooring.1": "nan",
         "Bike Storage": "Y",
         "Location": "Parkade",
         "Rent - Lowest Range": 475,
         "Rent - Highest Range": "1,553.00",
         "Average Rent": 886.1,
         "Median Rent": "803.00",
         "Unnamed: 36": "nan",
         "Unnamed: 37": "nan",
         "Unnamed: 38": "nan",
         "Unnamed: 39": "nan",
         "NEIGHBOURHOOD": "Kitsilano",
         "2021_crime_freq": 711,
         "_deepnote_index_column": 1
        }
       ],
       "rows_bottom": null
      },
      "text/plain": "   Nos. of Suites  Building Names Building Code             Address  \\\n0              64  ALICE SAUNDERS            AS  2924 Venables St.    \n1              21   ARBUTUS COURT            AC    2085 W. 5th Ave.   \n\n  Postal Code        No. of Suite Type  Build Year  \\\n0     V5K 4X8  Bachelor (55), 1BDR (9)      1977.0   \n1     V6J 1P8                1BDR (21)      1964.0   \n\n                              Resident Profile  \\\n0                                      Seniors   \n1  Families, People with Disabilities, Seniors   \n\n   BC Housing Registration (required)  Pet Friendly   ... Rent - Lowest Range  \\\n0                               False          False  ...               475.0   \n1                               False          False  ...               475.0   \n\n  Rent - Highest Range Average Rent  Median Rent  Unnamed: 36  Unnamed: 37  \\\n0               779.00        699.5       772.00          NaN          NaN   \n1             1,553.00        886.1       803.00          NaN          NaN   \n\n   Unnamed: 38 Unnamed: 39     NEIGHBOURHOOD  2021_crime_freq  \n0          NaN         NaN  Hastings-Sunrise              603  \n1          NaN         NaN         Kitsilano              711  \n\n[2 rows x 42 columns]",
      "text/html": "<div>\n<style scoped>\n    .dataframe tbody tr th:only-of-type {\n        vertical-align: middle;\n    }\n\n    .dataframe tbody tr th {\n        vertical-align: top;\n    }\n\n    .dataframe thead th {\n        text-align: right;\n    }\n</style>\n<table border=\"1\" class=\"dataframe\">\n  <thead>\n    <tr style=\"text-align: right;\">\n      <th></th>\n      <th>Nos. of Suites</th>\n      <th>Building Names</th>\n      <th>Building Code</th>\n      <th>Address</th>\n      <th>Postal Code</th>\n      <th>No. of Suite Type</th>\n      <th>Build Year</th>\n      <th>Resident Profile</th>\n      <th>BC Housing Registration (required)</th>\n      <th>Pet Friendly</th>\n      <th>...</th>\n      <th>Rent - Lowest Range</th>\n      <th>Rent - Highest Range</th>\n      <th>Average Rent</th>\n      <th>Median Rent</th>\n      <th>Unnamed: 36</th>\n      <th>Unnamed: 37</th>\n      <th>Unnamed: 38</th>\n      <th>Unnamed: 39</th>\n      <th>NEIGHBOURHOOD</th>\n      <th>2021_crime_freq</th>\n    </tr>\n  </thead>\n  <tbody>\n    <tr>\n      <th>0</th>\n      <td>64</td>\n      <td>ALICE SAUNDERS</td>\n      <td>AS</td>\n      <td>2924 Venables St.</td>\n      <td>V5K 4X8</td>\n      <td>Bachelor (55), 1BDR (9)</td>\n      <td>1977.0</td>\n      <td>Seniors</td>\n      <td>False</td>\n      <td>False</td>\n      <td>...</td>\n      <td>475.0</td>\n      <td>779.00</td>\n      <td>699.5</td>\n      <td>772.00</td>\n      <td>NaN</td>\n      <td>NaN</td>\n      <td>NaN</td>\n      <td>NaN</td>\n      <td>Hastings-Sunrise</td>\n      <td>603</td>\n    </tr>\n    <tr>\n      <th>1</th>\n      <td>21</td>\n      <td>ARBUTUS COURT</td>\n      <td>AC</td>\n      <td>2085 W. 5th Ave.</td>\n      <td>V6J 1P8</td>\n      <td>1BDR (21)</td>\n      <td>1964.0</td>\n      <td>Families, People with Disabilities, Seniors</td>\n      <td>False</td>\n      <td>False</td>\n      <td>...</td>\n      <td>475.0</td>\n      <td>1,553.00</td>\n      <td>886.1</td>\n      <td>803.00</td>\n      <td>NaN</td>\n      <td>NaN</td>\n      <td>NaN</td>\n      <td>NaN</td>\n      <td>Kitsilano</td>\n      <td>711</td>\n    </tr>\n  </tbody>\n</table>\n<p>2 rows × 42 columns</p>\n</div>"
     },
     "metadata": {}
    }
   ],
   "execution_count": 207
  },
  {
   "cell_type": "code",
   "source": "df3['2021_crime_freq'].sum()",
   "metadata": {
    "tags": [],
    "cell_id": "00029-d7ddba67-9ba8-44a9-98c7-2355b5445e55",
    "deepnote_to_be_reexecuted": false,
    "source_hash": "8f6e75d3",
    "execution_start": 1628982696937,
    "execution_millis": 12,
    "deepnote_cell_type": "code"
   },
   "outputs": [
    {
     "output_type": "execute_result",
     "execution_count": 208,
     "data": {
      "text/plain": "21569"
     },
     "metadata": {}
    }
   ],
   "execution_count": 208
  },
  {
   "cell_type": "code",
   "source": "df3['2021_crime_rate'] = (df3['2021_crime_freq'] / df3['2021_crime_freq'].sum()) *100\ndf3['2021_crime_rate'] = round(df3['2021_crime_rate'], 2)\ndf3.head()",
   "metadata": {
    "tags": [],
    "cell_id": "00030-8afe43da-1770-43e1-978f-366dd7822cc1",
    "deepnote_to_be_reexecuted": false,
    "source_hash": "ff950f16",
    "execution_start": 1628982852862,
    "execution_millis": 78,
    "deepnote_cell_type": "code"
   },
   "outputs": [
    {
     "output_type": "execute_result",
     "execution_count": 210,
     "data": {
      "application/vnd.deepnote.dataframe.v2+json": {
       "row_count": 5,
       "column_count": 43,
       "columns": [
        {
         "name": "Nos. of Suites",
         "dtype": "int64",
         "stats": {
          "unique_count": 5,
          "nan_count": 0,
          "min": "16",
          "max": "64",
          "histogram": [
           {
            "bin_start": 16,
            "bin_end": 20.8,
            "count": 1
           },
           {
            "bin_start": 20.8,
            "bin_end": 25.6,
            "count": 1
           },
           {
            "bin_start": 25.6,
            "bin_end": 30.4,
            "count": 0
           },
           {
            "bin_start": 30.4,
            "bin_end": 35.2,
            "count": 1
           },
           {
            "bin_start": 35.2,
            "bin_end": 40,
            "count": 1
           },
           {
            "bin_start": 40,
            "bin_end": 44.8,
            "count": 0
           },
           {
            "bin_start": 44.8,
            "bin_end": 49.6,
            "count": 0
           },
           {
            "bin_start": 49.6,
            "bin_end": 54.4,
            "count": 0
           },
           {
            "bin_start": 54.4,
            "bin_end": 59.199999999999996,
            "count": 0
           },
           {
            "bin_start": 59.199999999999996,
            "bin_end": 64,
            "count": 1
           }
          ]
         }
        },
        {
         "name": "Building Names",
         "dtype": "object",
         "stats": {
          "unique_count": 5,
          "nan_count": 0,
          "categories": [
           {
            "name": "ALICE SAUNDERS",
            "count": 1
           },
           {
            "name": "ARBUTUS COURT",
            "count": 1
           },
           {
            "name": "3 others",
            "count": 3
           }
          ]
         }
        },
        {
         "name": "Building Code",
         "dtype": "object",
         "stats": {
          "unique_count": 5,
          "nan_count": 0,
          "categories": [
           {
            "name": "AS",
            "count": 1
           },
           {
            "name": "AC",
            "count": 1
           },
           {
            "name": "3 others",
            "count": 3
           }
          ]
         }
        },
        {
         "name": "Address",
         "dtype": "object",
         "stats": {
          "unique_count": 5,
          "nan_count": 0,
          "categories": [
           {
            "name": "2924 Venables St. ",
            "count": 1
           },
           {
            "name": "2085 W. 5th Ave.",
            "count": 1
           },
           {
            "name": "3 others",
            "count": 3
           }
          ]
         }
        },
        {
         "name": "Postal Code",
         "dtype": "object",
         "stats": {
          "unique_count": 5,
          "nan_count": 0,
          "categories": [
           {
            "name": "V5K 4X8",
            "count": 1
           },
           {
            "name": "V6J 1P8",
            "count": 1
           },
           {
            "name": "3 others",
            "count": 3
           }
          ]
         }
        },
        {
         "name": "No. of Suite Type",
         "dtype": "object",
         "stats": {
          "unique_count": 5,
          "nan_count": 0,
          "categories": [
           {
            "name": "Bachelor (55), 1BDR (9)",
            "count": 1
           },
           {
            "name": "1BDR (21)",
            "count": 1
           },
           {
            "name": "3 others",
            "count": 3
           }
          ]
         }
        },
        {
         "name": "Build Year",
         "dtype": "float64",
         "stats": {
          "unique_count": 5,
          "nan_count": 0,
          "min": "1962.0",
          "max": "1977.0",
          "histogram": [
           {
            "bin_start": 1962,
            "bin_end": 1963.5,
            "count": 1
           },
           {
            "bin_start": 1963.5,
            "bin_end": 1965,
            "count": 1
           },
           {
            "bin_start": 1965,
            "bin_end": 1966.5,
            "count": 0
           },
           {
            "bin_start": 1966.5,
            "bin_end": 1968,
            "count": 1
           },
           {
            "bin_start": 1968,
            "bin_end": 1969.5,
            "count": 0
           },
           {
            "bin_start": 1969.5,
            "bin_end": 1971,
            "count": 0
           },
           {
            "bin_start": 1971,
            "bin_end": 1972.5,
            "count": 0
           },
           {
            "bin_start": 1972.5,
            "bin_end": 1974,
            "count": 0
           },
           {
            "bin_start": 1974,
            "bin_end": 1975.5,
            "count": 1
           },
           {
            "bin_start": 1975.5,
            "bin_end": 1977,
            "count": 1
           }
          ]
         }
        },
        {
         "name": "Resident Profile",
         "dtype": "object",
         "stats": {
          "unique_count": 2,
          "nan_count": 0,
          "categories": [
           {
            "name": "Seniors",
            "count": 4
           },
           {
            "name": "Families, People with Disabilities, Seniors",
            "count": 1
           }
          ]
         }
        },
        {
         "name": "BC Housing Registration (required)",
         "dtype": "bool",
         "stats": {
          "unique_count": 1,
          "nan_count": 0,
          "categories": [
           {
            "name": "False",
            "count": 5
           }
          ]
         }
        },
        {
         "name": "Pet Friendly ",
         "dtype": "bool",
         "stats": {
          "unique_count": 1,
          "nan_count": 0,
          "categories": [
           {
            "name": "False",
            "count": 5
           }
          ]
         }
        },
        {
         "name": "Amenity room",
         "dtype": "object",
         "stats": {
          "unique_count": 2,
          "nan_count": 0,
          "categories": [
           {
            "name": "Yes",
            "count": 3
           },
           {
            "name": "No",
            "count": 2
           }
          ]
         }
        },
        {
         "name": "Lounge",
         "dtype": "object",
         "stats": {
          "unique_count": 0,
          "nan_count": 5,
          "categories": [
           {
            "name": "Missing",
            "count": 5
           }
          ]
         }
        },
        {
         "name": "Other",
         "dtype": "object",
         "stats": {
          "unique_count": 1,
          "nan_count": 4,
          "categories": [
           {
            "name": "Games Room",
            "count": 1
           },
           {
            "name": "Missing",
            "count": 4
           }
          ]
         }
        },
        {
         "name": "Static Chairs",
         "dtype": "float64",
         "stats": {
          "unique_count": 3,
          "nan_count": 2,
          "min": "3.0",
          "max": "9.0",
          "histogram": [
           {
            "bin_start": 3,
            "bin_end": 3.6,
            "count": 1
           },
           {
            "bin_start": 3.6,
            "bin_end": 4.2,
            "count": 0
           },
           {
            "bin_start": 4.2,
            "bin_end": 4.8,
            "count": 0
           },
           {
            "bin_start": 4.8,
            "bin_end": 5.4,
            "count": 0
           },
           {
            "bin_start": 5.4,
            "bin_end": 6,
            "count": 0
           },
           {
            "bin_start": 6,
            "bin_end": 6.6,
            "count": 1
           },
           {
            "bin_start": 6.6,
            "bin_end": 7.2,
            "count": 0
           },
           {
            "bin_start": 7.2,
            "bin_end": 7.8,
            "count": 0
           },
           {
            "bin_start": 7.8,
            "bin_end": 8.399999999999999,
            "count": 0
           },
           {
            "bin_start": 8.399999999999999,
            "bin_end": 9,
            "count": 1
           }
          ]
         }
        },
        {
         "name": "Movable Chairs",
         "dtype": "float64",
         "stats": {
          "unique_count": 3,
          "nan_count": 2,
          "min": "6.0",
          "max": "19.0",
          "histogram": [
           {
            "bin_start": 6,
            "bin_end": 7.3,
            "count": 1
           },
           {
            "bin_start": 7.3,
            "bin_end": 8.6,
            "count": 1
           },
           {
            "bin_start": 8.6,
            "bin_end": 9.9,
            "count": 0
           },
           {
            "bin_start": 9.9,
            "bin_end": 11.2,
            "count": 0
           },
           {
            "bin_start": 11.2,
            "bin_end": 12.5,
            "count": 0
           },
           {
            "bin_start": 12.5,
            "bin_end": 13.8,
            "count": 0
           },
           {
            "bin_start": 13.8,
            "bin_end": 15.1,
            "count": 0
           },
           {
            "bin_start": 15.1,
            "bin_end": 16.4,
            "count": 0
           },
           {
            "bin_start": 16.4,
            "bin_end": 17.700000000000003,
            "count": 0
           },
           {
            "bin_start": 17.700000000000003,
            "bin_end": 19,
            "count": 1
           }
          ]
         }
        },
        {
         "name": "Division",
         "dtype": "int64",
         "stats": {
          "unique_count": 1,
          "nan_count": 0,
          "min": "1",
          "max": "1",
          "histogram": [
           {
            "bin_start": 0.5,
            "bin_end": 0.6,
            "count": 0
           },
           {
            "bin_start": 0.6,
            "bin_end": 0.7,
            "count": 0
           },
           {
            "bin_start": 0.7,
            "bin_end": 0.8,
            "count": 0
           },
           {
            "bin_start": 0.8,
            "bin_end": 0.9,
            "count": 0
           },
           {
            "bin_start": 0.9,
            "bin_end": 1,
            "count": 0
           },
           {
            "bin_start": 1,
            "bin_end": 1.1,
            "count": 5
           },
           {
            "bin_start": 1.1,
            "bin_end": 1.2000000000000002,
            "count": 0
           },
           {
            "bin_start": 1.2000000000000002,
            "bin_end": 1.3,
            "count": 0
           },
           {
            "bin_start": 1.3,
            "bin_end": 1.4,
            "count": 0
           },
           {
            "bin_start": 1.4,
            "bin_end": 1.5,
            "count": 0
           }
          ]
         }
        },
        {
         "name": "Tables",
         "dtype": "float64",
         "stats": {
          "unique_count": 3,
          "nan_count": 2,
          "min": "1.0",
          "max": "10.0",
          "histogram": [
           {
            "bin_start": 1,
            "bin_end": 1.9,
            "count": 1
           },
           {
            "bin_start": 1.9,
            "bin_end": 2.8,
            "count": 1
           },
           {
            "bin_start": 2.8,
            "bin_end": 3.7,
            "count": 0
           },
           {
            "bin_start": 3.7,
            "bin_end": 4.6,
            "count": 0
           },
           {
            "bin_start": 4.6,
            "bin_end": 5.5,
            "count": 0
           },
           {
            "bin_start": 5.5,
            "bin_end": 6.4,
            "count": 0
           },
           {
            "bin_start": 6.4,
            "bin_end": 7.3,
            "count": 0
           },
           {
            "bin_start": 7.3,
            "bin_end": 8.2,
            "count": 0
           },
           {
            "bin_start": 8.2,
            "bin_end": 9.1,
            "count": 0
           },
           {
            "bin_start": 9.1,
            "bin_end": 10,
            "count": 1
           }
          ]
         }
        },
        {
         "name": "Appliances ",
         "dtype": "object",
         "stats": {
          "unique_count": 3,
          "nan_count": 2,
          "categories": [
           {
            "name": "Sink, Television",
            "count": 1
           },
           {
            "name": "2 others",
            "count": 2
           },
           {
            "name": "Missing",
            "count": 2
           }
          ]
         }
        },
        {
         "name": "DVD Player",
         "dtype": "bool",
         "stats": {
          "unique_count": 1,
          "nan_count": 0,
          "categories": [
           {
            "name": "False",
            "count": 5
           }
          ]
         }
        },
        {
         "name": "Microwave",
         "dtype": "bool",
         "stats": {
          "unique_count": 1,
          "nan_count": 0,
          "categories": [
           {
            "name": "False",
            "count": 5
           }
          ]
         }
        },
        {
         "name": "Stove",
         "dtype": "bool",
         "stats": {
          "unique_count": 1,
          "nan_count": 0,
          "categories": [
           {
            "name": "False",
            "count": 5
           }
          ]
         }
        },
        {
         "name": "Fridge",
         "dtype": "bool",
         "stats": {
          "unique_count": 1,
          "nan_count": 0,
          "categories": [
           {
            "name": "False",
            "count": 5
           }
          ]
         }
        },
        {
         "name": "Television",
         "dtype": "bool",
         "stats": {
          "unique_count": 2,
          "nan_count": 0,
          "categories": [
           {
            "name": "True",
            "count": 3
           },
           {
            "name": "False",
            "count": 2
           }
          ]
         }
        },
        {
         "name": "Sink",
         "dtype": "bool",
         "stats": {
          "unique_count": 2,
          "nan_count": 0,
          "categories": [
           {
            "name": "False",
            "count": 3
           },
           {
            "name": "True",
            "count": 2
           }
          ]
         }
        },
        {
         "name": "Comments",
         "dtype": "object",
         "stats": {
          "unique_count": 3,
          "nan_count": 2,
          "categories": [
           {
            "name": ". Games room has billiards and shuffleboard table.  Stored in Room 119A are 14 stacking chairs, 3x6' tables and 7X3' tables.",
            "count": 1
           },
           {
            "name": "2 others",
            "count": 2
           },
           {
            "name": "Missing",
            "count": 2
           }
          ]
         }
        },
        {
         "name": "Recommended Occupancy",
         "dtype": "object",
         "stats": {
          "unique_count": 3,
          "nan_count": 2,
          "categories": [
           {
            "name": "20-25",
            "count": 1
           },
           {
            "name": "2 others",
            "count": 2
           },
           {
            "name": "Missing",
            "count": 2
           }
          ]
         }
        },
        {
         "name": "Access",
         "dtype": "object",
         "stats": {
          "unique_count": 1,
          "nan_count": 2,
          "categories": [
           {
            "name": "OPEN",
            "count": 3
           },
           {
            "name": "Missing",
            "count": 2
           }
          ]
         }
        },
        {
         "name": "Picture",
         "dtype": "object",
         "stats": {
          "unique_count": 1,
          "nan_count": 2,
          "categories": [
           {
            "name": "Y",
            "count": 3
           },
           {
            "name": "Missing",
            "count": 2
           }
          ]
         }
        },
        {
         "name": "Type of Flooring",
         "dtype": "object",
         "stats": {
          "unique_count": 1,
          "nan_count": 2,
          "categories": [
           {
            "name": "C",
            "count": 3
           },
           {
            "name": "Missing",
            "count": 2
           }
          ]
         }
        },
        {
         "name": "Type of Flooring.1",
         "dtype": "object",
         "stats": {
          "unique_count": 1,
          "nan_count": 2,
          "categories": [
           {
            "name": "Carpeting",
            "count": 3
           },
           {
            "name": "Missing",
            "count": 2
           }
          ]
         }
        },
        {
         "name": "Bike Storage",
         "dtype": "object",
         "stats": {
          "unique_count": 1,
          "nan_count": 1,
          "categories": [
           {
            "name": "Y",
            "count": 4
           },
           {
            "name": "Missing",
            "count": 1
           }
          ]
         }
        },
        {
         "name": "Location",
         "dtype": "object",
         "stats": {
          "unique_count": 4,
          "nan_count": 1,
          "categories": [
           {
            "name": "119A",
            "count": 1
           },
           {
            "name": "3 others",
            "count": 3
           },
           {
            "name": "Missing",
            "count": 1
           }
          ]
         }
        },
        {
         "name": "Rent - Lowest Range",
         "dtype": "float64",
         "stats": {
          "unique_count": 2,
          "nan_count": 1,
          "min": "475.0",
          "max": "500.0",
          "histogram": [
           {
            "bin_start": 475,
            "bin_end": 477.5,
            "count": 3
           },
           {
            "bin_start": 477.5,
            "bin_end": 480,
            "count": 0
           },
           {
            "bin_start": 480,
            "bin_end": 482.5,
            "count": 0
           },
           {
            "bin_start": 482.5,
            "bin_end": 485,
            "count": 0
           },
           {
            "bin_start": 485,
            "bin_end": 487.5,
            "count": 0
           },
           {
            "bin_start": 487.5,
            "bin_end": 490,
            "count": 0
           },
           {
            "bin_start": 490,
            "bin_end": 492.5,
            "count": 0
           },
           {
            "bin_start": 492.5,
            "bin_end": 495,
            "count": 0
           },
           {
            "bin_start": 495,
            "bin_end": 497.5,
            "count": 0
           },
           {
            "bin_start": 497.5,
            "bin_end": 500,
            "count": 1
           }
          ]
         }
        },
        {
         "name": "Rent - Highest Range",
         "dtype": "object",
         "stats": {
          "unique_count": 4,
          "nan_count": 1,
          "categories": [
           {
            "name": "779.00",
            "count": 1
           },
           {
            "name": "3 others",
            "count": 3
           },
           {
            "name": "Missing",
            "count": 1
           }
          ]
         }
        },
        {
         "name": "Average Rent",
         "dtype": "float64",
         "stats": {
          "unique_count": 4,
          "nan_count": 1,
          "min": "699.5",
          "max": "886.1",
          "histogram": [
           {
            "bin_start": 699.5,
            "bin_end": 718.16,
            "count": 1
           },
           {
            "bin_start": 718.16,
            "bin_end": 736.82,
            "count": 0
           },
           {
            "bin_start": 736.82,
            "bin_end": 755.48,
            "count": 1
           },
           {
            "bin_start": 755.48,
            "bin_end": 774.14,
            "count": 0
           },
           {
            "bin_start": 774.14,
            "bin_end": 792.8,
            "count": 0
           },
           {
            "bin_start": 792.8,
            "bin_end": 811.46,
            "count": 0
           },
           {
            "bin_start": 811.46,
            "bin_end": 830.12,
            "count": 0
           },
           {
            "bin_start": 830.12,
            "bin_end": 848.78,
            "count": 0
           },
           {
            "bin_start": 848.78,
            "bin_end": 867.44,
            "count": 1
           },
           {
            "bin_start": 867.44,
            "bin_end": 886.1,
            "count": 1
           }
          ]
         }
        },
        {
         "name": "Median Rent",
         "dtype": "object",
         "stats": {
          "unique_count": 4,
          "nan_count": 1,
          "categories": [
           {
            "name": "772.00",
            "count": 1
           },
           {
            "name": "3 others",
            "count": 3
           },
           {
            "name": "Missing",
            "count": 1
           }
          ]
         }
        },
        {
         "name": "Unnamed: 36",
         "dtype": "float64",
         "stats": {
          "unique_count": 0,
          "nan_count": 5,
          "min": null,
          "max": null,
          "histogram": [
           {
            "bin_start": 0,
            "bin_end": 0.1,
            "count": 0
           },
           {
            "bin_start": 0.1,
            "bin_end": 0.2,
            "count": 0
           },
           {
            "bin_start": 0.2,
            "bin_end": 0.30000000000000004,
            "count": 0
           },
           {
            "bin_start": 0.30000000000000004,
            "bin_end": 0.4,
            "count": 0
           },
           {
            "bin_start": 0.4,
            "bin_end": 0.5,
            "count": 0
           },
           {
            "bin_start": 0.5,
            "bin_end": 0.6000000000000001,
            "count": 0
           },
           {
            "bin_start": 0.6000000000000001,
            "bin_end": 0.7000000000000001,
            "count": 0
           },
           {
            "bin_start": 0.7000000000000001,
            "bin_end": 0.8,
            "count": 0
           },
           {
            "bin_start": 0.8,
            "bin_end": 0.9,
            "count": 0
           },
           {
            "bin_start": 0.9,
            "bin_end": 1,
            "count": 0
           }
          ]
         }
        },
        {
         "name": "Unnamed: 37",
         "dtype": "float64",
         "stats": {
          "unique_count": 0,
          "nan_count": 5,
          "min": null,
          "max": null,
          "histogram": [
           {
            "bin_start": 0,
            "bin_end": 0.1,
            "count": 0
           },
           {
            "bin_start": 0.1,
            "bin_end": 0.2,
            "count": 0
           },
           {
            "bin_start": 0.2,
            "bin_end": 0.30000000000000004,
            "count": 0
           },
           {
            "bin_start": 0.30000000000000004,
            "bin_end": 0.4,
            "count": 0
           },
           {
            "bin_start": 0.4,
            "bin_end": 0.5,
            "count": 0
           },
           {
            "bin_start": 0.5,
            "bin_end": 0.6000000000000001,
            "count": 0
           },
           {
            "bin_start": 0.6000000000000001,
            "bin_end": 0.7000000000000001,
            "count": 0
           },
           {
            "bin_start": 0.7000000000000001,
            "bin_end": 0.8,
            "count": 0
           },
           {
            "bin_start": 0.8,
            "bin_end": 0.9,
            "count": 0
           },
           {
            "bin_start": 0.9,
            "bin_end": 1,
            "count": 0
           }
          ]
         }
        },
        {
         "name": "Unnamed: 38",
         "dtype": "float64",
         "stats": {
          "unique_count": 0,
          "nan_count": 5,
          "min": null,
          "max": null,
          "histogram": [
           {
            "bin_start": 0,
            "bin_end": 0.1,
            "count": 0
           },
           {
            "bin_start": 0.1,
            "bin_end": 0.2,
            "count": 0
           },
           {
            "bin_start": 0.2,
            "bin_end": 0.30000000000000004,
            "count": 0
           },
           {
            "bin_start": 0.30000000000000004,
            "bin_end": 0.4,
            "count": 0
           },
           {
            "bin_start": 0.4,
            "bin_end": 0.5,
            "count": 0
           },
           {
            "bin_start": 0.5,
            "bin_end": 0.6000000000000001,
            "count": 0
           },
           {
            "bin_start": 0.6000000000000001,
            "bin_end": 0.7000000000000001,
            "count": 0
           },
           {
            "bin_start": 0.7000000000000001,
            "bin_end": 0.8,
            "count": 0
           },
           {
            "bin_start": 0.8,
            "bin_end": 0.9,
            "count": 0
           },
           {
            "bin_start": 0.9,
            "bin_end": 1,
            "count": 0
           }
          ]
         }
        },
        {
         "name": "Unnamed: 39",
         "dtype": "float64",
         "stats": {
          "unique_count": 0,
          "nan_count": 5,
          "min": null,
          "max": null,
          "histogram": [
           {
            "bin_start": 0,
            "bin_end": 0.1,
            "count": 0
           },
           {
            "bin_start": 0.1,
            "bin_end": 0.2,
            "count": 0
           },
           {
            "bin_start": 0.2,
            "bin_end": 0.30000000000000004,
            "count": 0
           },
           {
            "bin_start": 0.30000000000000004,
            "bin_end": 0.4,
            "count": 0
           },
           {
            "bin_start": 0.4,
            "bin_end": 0.5,
            "count": 0
           },
           {
            "bin_start": 0.5,
            "bin_end": 0.6000000000000001,
            "count": 0
           },
           {
            "bin_start": 0.6000000000000001,
            "bin_end": 0.7000000000000001,
            "count": 0
           },
           {
            "bin_start": 0.7000000000000001,
            "bin_end": 0.8,
            "count": 0
           },
           {
            "bin_start": 0.8,
            "bin_end": 0.9,
            "count": 0
           },
           {
            "bin_start": 0.9,
            "bin_end": 1,
            "count": 0
           }
          ]
         }
        },
        {
         "name": "NEIGHBOURHOOD",
         "dtype": "object",
         "stats": {
          "unique_count": 3,
          "nan_count": 0,
          "categories": [
           {
            "name": "Kitsilano",
            "count": 3
           },
           {
            "name": "Hastings-Sunrise",
            "count": 1
           },
           {
            "name": "Grandview-Woodland",
            "count": 1
           }
          ]
         }
        },
        {
         "name": "2021_crime_freq",
         "dtype": "int64",
         "stats": {
          "unique_count": 3,
          "nan_count": 0,
          "min": "603",
          "max": "726",
          "histogram": [
           {
            "bin_start": 603,
            "bin_end": 615.3,
            "count": 1
           },
           {
            "bin_start": 615.3,
            "bin_end": 627.6,
            "count": 0
           },
           {
            "bin_start": 627.6,
            "bin_end": 639.9,
            "count": 0
           },
           {
            "bin_start": 639.9,
            "bin_end": 652.2,
            "count": 0
           },
           {
            "bin_start": 652.2,
            "bin_end": 664.5,
            "count": 0
           },
           {
            "bin_start": 664.5,
            "bin_end": 676.8,
            "count": 0
           },
           {
            "bin_start": 676.8,
            "bin_end": 689.1,
            "count": 0
           },
           {
            "bin_start": 689.1,
            "bin_end": 701.4,
            "count": 0
           },
           {
            "bin_start": 701.4,
            "bin_end": 713.7,
            "count": 3
           },
           {
            "bin_start": 713.7,
            "bin_end": 726,
            "count": 1
           }
          ]
         }
        },
        {
         "name": "2021_crime_rate",
         "dtype": "float64",
         "stats": {
          "unique_count": 3,
          "nan_count": 0,
          "min": "2.8",
          "max": "3.37",
          "histogram": [
           {
            "bin_start": 2.8,
            "bin_end": 2.8569999999999998,
            "count": 1
           },
           {
            "bin_start": 2.8569999999999998,
            "bin_end": 2.9139999999999997,
            "count": 0
           },
           {
            "bin_start": 2.9139999999999997,
            "bin_end": 2.971,
            "count": 0
           },
           {
            "bin_start": 2.971,
            "bin_end": 3.028,
            "count": 0
           },
           {
            "bin_start": 3.028,
            "bin_end": 3.085,
            "count": 0
           },
           {
            "bin_start": 3.085,
            "bin_end": 3.142,
            "count": 0
           },
           {
            "bin_start": 3.142,
            "bin_end": 3.199,
            "count": 0
           },
           {
            "bin_start": 3.199,
            "bin_end": 3.2560000000000002,
            "count": 0
           },
           {
            "bin_start": 3.2560000000000002,
            "bin_end": 3.313,
            "count": 3
           },
           {
            "bin_start": 3.313,
            "bin_end": 3.37,
            "count": 1
           }
          ]
         }
        },
        {
         "name": "_deepnote_index_column",
         "dtype": "int64"
        }
       ],
       "rows_top": [
        {
         "Nos. of Suites": 64,
         "Building Names": "ALICE SAUNDERS",
         "Building Code": "AS",
         "Address": "2924 Venables St. ",
         "Postal Code": "V5K 4X8",
         "No. of Suite Type": "Bachelor (55), 1BDR (9)",
         "Build Year": 1977,
         "Resident Profile": "Seniors",
         "BC Housing Registration (required)": "False",
         "Pet Friendly ": "False",
         "Amenity room": "Yes",
         "Lounge": "nan",
         "Other": "Games Room",
         "Static Chairs": 9,
         "Movable Chairs": 19,
         "Division": 1,
         "Tables": 10,
         "Appliances ": "Sink, Television",
         "DVD Player": "False",
         "Microwave": "False",
         "Stove": "False",
         "Fridge": "False",
         "Television": "True",
         "Sink": "True",
         "Comments": ". Games room has billiards and shuffleboard table.  Stored in Room 119A are 14 stacking chairs, 3x6…",
         "Recommended Occupancy": "20-25",
         "Access": "OPEN",
         "Picture": "Y",
         "Type of Flooring": "C",
         "Type of Flooring.1": "Carpeting",
         "Bike Storage": "Y",
         "Location": "119A",
         "Rent - Lowest Range": 475,
         "Rent - Highest Range": "779.00",
         "Average Rent": 699.5,
         "Median Rent": "772.00",
         "Unnamed: 36": "nan",
         "Unnamed: 37": "nan",
         "Unnamed: 38": "nan",
         "Unnamed: 39": "nan",
         "NEIGHBOURHOOD": "Hastings-Sunrise",
         "2021_crime_freq": 603,
         "2021_crime_rate": 2.8,
         "_deepnote_index_column": 0
        },
        {
         "Nos. of Suites": 21,
         "Building Names": "ARBUTUS COURT",
         "Building Code": "AC",
         "Address": "2085 W. 5th Ave.",
         "Postal Code": "V6J 1P8",
         "No. of Suite Type": "1BDR (21)",
         "Build Year": 1964,
         "Resident Profile": "Families, People with Disabilities, Seniors",
         "BC Housing Registration (required)": "False",
         "Pet Friendly ": "False",
         "Amenity room": "No",
         "Lounge": "nan",
         "Other": "nan",
         "Static Chairs": "nan",
         "Movable Chairs": "nan",
         "Division": 1,
         "Tables": "nan",
         "Appliances ": "nan",
         "DVD Player": "False",
         "Microwave": "False",
         "Stove": "False",
         "Fridge": "False",
         "Television": "False",
         "Sink": "False",
         "Comments": "nan",
         "Recommended Occupancy": "nan",
         "Access": "nan",
         "Picture": "nan",
         "Type of Flooring": "nan",
         "Type of Flooring.1": "nan",
         "Bike Storage": "Y",
         "Location": "Parkade",
         "Rent - Lowest Range": 475,
         "Rent - Highest Range": "1,553.00",
         "Average Rent": 886.1,
         "Median Rent": "803.00",
         "Unnamed: 36": "nan",
         "Unnamed: 37": "nan",
         "Unnamed: 38": "nan",
         "Unnamed: 39": "nan",
         "NEIGHBOURHOOD": "Kitsilano",
         "2021_crime_freq": 711,
         "2021_crime_rate": 3.3,
         "_deepnote_index_column": 1
        },
        {
         "Nos. of Suites": 16,
         "Building Names": "BURRARD MANOR",
         "Building Code": "BM",
         "Address": "2330 Balsam St",
         "Postal Code": "V6K 3M8",
         "No. of Suite Type": "Bachelor (15), 1BDR (1)",
         "Build Year": 1967,
         "Resident Profile": "Seniors",
         "BC Housing Registration (required)": "False",
         "Pet Friendly ": "False",
         "Amenity room": "No",
         "Lounge": "nan",
         "Other": "nan",
         "Static Chairs": "nan",
         "Movable Chairs": "nan",
         "Division": 1,
         "Tables": "nan",
         "Appliances ": "nan",
         "DVD Player": "False",
         "Microwave": "False",
         "Stove": "False",
         "Fridge": "False",
         "Television": "False",
         "Sink": "False",
         "Comments": "nan",
         "Recommended Occupancy": "nan",
         "Access": "nan",
         "Picture": "nan",
         "Type of Flooring": "nan",
         "Type of Flooring.1": "nan",
         "Bike Storage": "nan",
         "Location": "nan",
         "Rent - Lowest Range": 475,
         "Rent - Highest Range": "1,084.00",
         "Average Rent": 747.69,
         "Median Rent": "787.50",
         "Unnamed: 36": "nan",
         "Unnamed: 37": "nan",
         "Unnamed: 38": "nan",
         "Unnamed: 39": "nan",
         "NEIGHBOURHOOD": "Kitsilano",
         "2021_crime_freq": 711,
         "2021_crime_rate": 3.3,
         "_deepnote_index_column": 2
        },
        {
         "Nos. of Suites": 31,
         "Building Names": "MORELAND KENNEDY",
         "Building Code": "MK",
         "Address": "2495 W. 3rd Ave.",
         "Postal Code": "V6K 1L9",
         "No. of Suite Type": "Bachelor (20), 1BDR (11)",
         "Build Year": 1974,
         "Resident Profile": "Seniors",
         "BC Housing Registration (required)": "False",
         "Pet Friendly ": "False",
         "Amenity room": "Yes",
         "Lounge": "nan",
         "Other": "nan",
         "Static Chairs": 6,
         "Movable Chairs": 8,
         "Division": 1,
         "Tables": 2,
         "Appliances ": "Sink / Television",
         "DVD Player": "False",
         "Microwave": "False",
         "Stove": "False",
         "Fridge": "False",
         "Television": "True",
         "Sink": "True",
         "Comments": "1x6' table, 1 dining room table",
         "Recommended Occupancy": "8-10",
         "Access": "OPEN",
         "Picture": "Y",
         "Type of Flooring": "C",
         "Type of Flooring.1": "Carpeting",
         "Bike Storage": "Y",
         "Location": "Rear Parking Storage Room",
         "Rent - Lowest Range": 500,
         "Rent - Highest Range": "1,442.00",
         "Average Rent": 860.26,
         "Median Rent": "812.00",
         "Unnamed: 36": "nan",
         "Unnamed: 37": "nan",
         "Unnamed: 38": "nan",
         "Unnamed: 39": "nan",
         "NEIGHBOURHOOD": "Kitsilano",
         "2021_crime_freq": 711,
         "2021_crime_rate": 3.3,
         "_deepnote_index_column": 3
        },
        {
         "Nos. of Suites": 36,
         "Building Names": "EDWARD BYERS",
         "Building Code": "EB",
         "Address": "1451 E. 12th Ave",
         "Postal Code": "V5N 2A1",
         "No. of Suite Type": "Bachelor (35), 1BDR (1)",
         "Build Year": 1962,
         "Resident Profile": "Seniors",
         "BC Housing Registration (required)": "False",
         "Pet Friendly ": "False",
         "Amenity room": "Yes",
         "Lounge": "nan",
         "Other": "nan",
         "Static Chairs": 3,
         "Movable Chairs": 6,
         "Division": 1,
         "Tables": 1,
         "Appliances ": "Television",
         "DVD Player": "False",
         "Microwave": "False",
         "Stove": "False",
         "Fridge": "False",
         "Television": "True",
         "Sink": "False",
         "Comments": "Round table.  ",
         "Recommended Occupancy": "7-10",
         "Access": "OPEN",
         "Picture": "Y",
         "Type of Flooring": "C",
         "Type of Flooring.1": "Carpeting",
         "Bike Storage": "Y",
         "Location": "Room off rear entrance",
         "Rent - Lowest Range": "nan",
         "Rent - Highest Range": "nan",
         "Average Rent": "nan",
         "Median Rent": "nan",
         "Unnamed: 36": "nan",
         "Unnamed: 37": "nan",
         "Unnamed: 38": "nan",
         "Unnamed: 39": "nan",
         "NEIGHBOURHOOD": "Grandview-Woodland",
         "2021_crime_freq": 726,
         "2021_crime_rate": 3.37,
         "_deepnote_index_column": 4
        }
       ],
       "rows_bottom": null
      },
      "text/plain": "   Nos. of Suites    Building Names Building Code             Address  \\\n0              64    ALICE SAUNDERS            AS  2924 Venables St.    \n1              21     ARBUTUS COURT            AC    2085 W. 5th Ave.   \n2              16     BURRARD MANOR            BM      2330 Balsam St   \n3              31  MORELAND KENNEDY            MK    2495 W. 3rd Ave.   \n4              36      EDWARD BYERS            EB    1451 E. 12th Ave   \n\n  Postal Code         No. of Suite Type  Build Year  \\\n0     V5K 4X8   Bachelor (55), 1BDR (9)      1977.0   \n1     V6J 1P8                 1BDR (21)      1964.0   \n2     V6K 3M8   Bachelor (15), 1BDR (1)      1967.0   \n3     V6K 1L9  Bachelor (20), 1BDR (11)      1974.0   \n4     V5N 2A1   Bachelor (35), 1BDR (1)      1962.0   \n\n                              Resident Profile  \\\n0                                      Seniors   \n1  Families, People with Disabilities, Seniors   \n2                                      Seniors   \n3                                      Seniors   \n4                                      Seniors   \n\n   BC Housing Registration (required)  Pet Friendly   ...  \\\n0                               False          False  ...   \n1                               False          False  ...   \n2                               False          False  ...   \n3                               False          False  ...   \n4                               False          False  ...   \n\n  Rent - Highest Range Average Rent Median Rent  Unnamed: 36  Unnamed: 37  \\\n0               779.00       699.50      772.00          NaN          NaN   \n1             1,553.00       886.10      803.00          NaN          NaN   \n2             1,084.00       747.69      787.50          NaN          NaN   \n3             1,442.00       860.26      812.00          NaN          NaN   \n4                  NaN          NaN         NaN          NaN          NaN   \n\n   Unnamed: 38  Unnamed: 39       NEIGHBOURHOOD  2021_crime_freq  \\\n0          NaN          NaN    Hastings-Sunrise              603   \n1          NaN          NaN           Kitsilano              711   \n2          NaN          NaN           Kitsilano              711   \n3          NaN          NaN           Kitsilano              711   \n4          NaN          NaN  Grandview-Woodland              726   \n\n   2021_crime_rate  \n0             2.80  \n1             3.30  \n2             3.30  \n3             3.30  \n4             3.37  \n\n[5 rows x 43 columns]",
      "text/html": "<div>\n<style scoped>\n    .dataframe tbody tr th:only-of-type {\n        vertical-align: middle;\n    }\n\n    .dataframe tbody tr th {\n        vertical-align: top;\n    }\n\n    .dataframe thead th {\n        text-align: right;\n    }\n</style>\n<table border=\"1\" class=\"dataframe\">\n  <thead>\n    <tr style=\"text-align: right;\">\n      <th></th>\n      <th>Nos. of Suites</th>\n      <th>Building Names</th>\n      <th>Building Code</th>\n      <th>Address</th>\n      <th>Postal Code</th>\n      <th>No. of Suite Type</th>\n      <th>Build Year</th>\n      <th>Resident Profile</th>\n      <th>BC Housing Registration (required)</th>\n      <th>Pet Friendly</th>\n      <th>...</th>\n      <th>Rent - Highest Range</th>\n      <th>Average Rent</th>\n      <th>Median Rent</th>\n      <th>Unnamed: 36</th>\n      <th>Unnamed: 37</th>\n      <th>Unnamed: 38</th>\n      <th>Unnamed: 39</th>\n      <th>NEIGHBOURHOOD</th>\n      <th>2021_crime_freq</th>\n      <th>2021_crime_rate</th>\n    </tr>\n  </thead>\n  <tbody>\n    <tr>\n      <th>0</th>\n      <td>64</td>\n      <td>ALICE SAUNDERS</td>\n      <td>AS</td>\n      <td>2924 Venables St.</td>\n      <td>V5K 4X8</td>\n      <td>Bachelor (55), 1BDR (9)</td>\n      <td>1977.0</td>\n      <td>Seniors</td>\n      <td>False</td>\n      <td>False</td>\n      <td>...</td>\n      <td>779.00</td>\n      <td>699.50</td>\n      <td>772.00</td>\n      <td>NaN</td>\n      <td>NaN</td>\n      <td>NaN</td>\n      <td>NaN</td>\n      <td>Hastings-Sunrise</td>\n      <td>603</td>\n      <td>2.80</td>\n    </tr>\n    <tr>\n      <th>1</th>\n      <td>21</td>\n      <td>ARBUTUS COURT</td>\n      <td>AC</td>\n      <td>2085 W. 5th Ave.</td>\n      <td>V6J 1P8</td>\n      <td>1BDR (21)</td>\n      <td>1964.0</td>\n      <td>Families, People with Disabilities, Seniors</td>\n      <td>False</td>\n      <td>False</td>\n      <td>...</td>\n      <td>1,553.00</td>\n      <td>886.10</td>\n      <td>803.00</td>\n      <td>NaN</td>\n      <td>NaN</td>\n      <td>NaN</td>\n      <td>NaN</td>\n      <td>Kitsilano</td>\n      <td>711</td>\n      <td>3.30</td>\n    </tr>\n    <tr>\n      <th>2</th>\n      <td>16</td>\n      <td>BURRARD MANOR</td>\n      <td>BM</td>\n      <td>2330 Balsam St</td>\n      <td>V6K 3M8</td>\n      <td>Bachelor (15), 1BDR (1)</td>\n      <td>1967.0</td>\n      <td>Seniors</td>\n      <td>False</td>\n      <td>False</td>\n      <td>...</td>\n      <td>1,084.00</td>\n      <td>747.69</td>\n      <td>787.50</td>\n      <td>NaN</td>\n      <td>NaN</td>\n      <td>NaN</td>\n      <td>NaN</td>\n      <td>Kitsilano</td>\n      <td>711</td>\n      <td>3.30</td>\n    </tr>\n    <tr>\n      <th>3</th>\n      <td>31</td>\n      <td>MORELAND KENNEDY</td>\n      <td>MK</td>\n      <td>2495 W. 3rd Ave.</td>\n      <td>V6K 1L9</td>\n      <td>Bachelor (20), 1BDR (11)</td>\n      <td>1974.0</td>\n      <td>Seniors</td>\n      <td>False</td>\n      <td>False</td>\n      <td>...</td>\n      <td>1,442.00</td>\n      <td>860.26</td>\n      <td>812.00</td>\n      <td>NaN</td>\n      <td>NaN</td>\n      <td>NaN</td>\n      <td>NaN</td>\n      <td>Kitsilano</td>\n      <td>711</td>\n      <td>3.30</td>\n    </tr>\n    <tr>\n      <th>4</th>\n      <td>36</td>\n      <td>EDWARD BYERS</td>\n      <td>EB</td>\n      <td>1451 E. 12th Ave</td>\n      <td>V5N 2A1</td>\n      <td>Bachelor (35), 1BDR (1)</td>\n      <td>1962.0</td>\n      <td>Seniors</td>\n      <td>False</td>\n      <td>False</td>\n      <td>...</td>\n      <td>NaN</td>\n      <td>NaN</td>\n      <td>NaN</td>\n      <td>NaN</td>\n      <td>NaN</td>\n      <td>NaN</td>\n      <td>NaN</td>\n      <td>Grandview-Woodland</td>\n      <td>726</td>\n      <td>3.37</td>\n    </tr>\n  </tbody>\n</table>\n<p>5 rows × 43 columns</p>\n</div>"
     },
     "metadata": {}
    }
   ],
   "execution_count": 210
  },
  {
   "cell_type": "code",
   "source": "bldg_neigh_crime = df3[['Building Names', '2021_crime_rate']]\nbldg_neigh_crime.set_index('Building Names', inplace=True)\nbldg_neigh_crime.head()",
   "metadata": {
    "tags": [],
    "cell_id": "00031-e0eb15c3-577a-402e-8831-8c3a223754cb",
    "deepnote_to_be_reexecuted": false,
    "source_hash": "80df1ffe",
    "execution_start": 1628984478427,
    "execution_millis": 8,
    "deepnote_cell_type": "code"
   },
   "outputs": [
    {
     "output_type": "execute_result",
     "execution_count": 253,
     "data": {
      "application/vnd.deepnote.dataframe.v2+json": {
       "row_count": 5,
       "column_count": 1,
       "columns": [
        {
         "name": "2021_crime_rate",
         "dtype": "float64",
         "stats": {
          "unique_count": 3,
          "nan_count": 0,
          "min": "2.8",
          "max": "3.37",
          "histogram": [
           {
            "bin_start": 2.8,
            "bin_end": 2.8569999999999998,
            "count": 1
           },
           {
            "bin_start": 2.8569999999999998,
            "bin_end": 2.9139999999999997,
            "count": 0
           },
           {
            "bin_start": 2.9139999999999997,
            "bin_end": 2.971,
            "count": 0
           },
           {
            "bin_start": 2.971,
            "bin_end": 3.028,
            "count": 0
           },
           {
            "bin_start": 3.028,
            "bin_end": 3.085,
            "count": 0
           },
           {
            "bin_start": 3.085,
            "bin_end": 3.142,
            "count": 0
           },
           {
            "bin_start": 3.142,
            "bin_end": 3.199,
            "count": 0
           },
           {
            "bin_start": 3.199,
            "bin_end": 3.2560000000000002,
            "count": 0
           },
           {
            "bin_start": 3.2560000000000002,
            "bin_end": 3.313,
            "count": 3
           },
           {
            "bin_start": 3.313,
            "bin_end": 3.37,
            "count": 1
           }
          ]
         }
        },
        {
         "name": "_deepnote_index_column",
         "dtype": "object"
        }
       ],
       "rows_top": [
        {
         "2021_crime_rate": 2.8,
         "_deepnote_index_column": "ALICE SAUNDERS"
        },
        {
         "2021_crime_rate": 3.3,
         "_deepnote_index_column": "ARBUTUS COURT"
        },
        {
         "2021_crime_rate": 3.3,
         "_deepnote_index_column": "BURRARD MANOR"
        },
        {
         "2021_crime_rate": 3.3,
         "_deepnote_index_column": "MORELAND KENNEDY"
        },
        {
         "2021_crime_rate": 3.37,
         "_deepnote_index_column": "EDWARD BYERS"
        }
       ],
       "rows_bottom": null
      },
      "text/plain": "                  2021_crime_rate\nBuilding Names                   \nALICE SAUNDERS               2.80\nARBUTUS COURT                3.30\nBURRARD MANOR                3.30\nMORELAND KENNEDY             3.30\nEDWARD BYERS                 3.37",
      "text/html": "<div>\n<style scoped>\n    .dataframe tbody tr th:only-of-type {\n        vertical-align: middle;\n    }\n\n    .dataframe tbody tr th {\n        vertical-align: top;\n    }\n\n    .dataframe thead th {\n        text-align: right;\n    }\n</style>\n<table border=\"1\" class=\"dataframe\">\n  <thead>\n    <tr style=\"text-align: right;\">\n      <th></th>\n      <th>2021_crime_rate</th>\n    </tr>\n    <tr>\n      <th>Building Names</th>\n      <th></th>\n    </tr>\n  </thead>\n  <tbody>\n    <tr>\n      <th>ALICE SAUNDERS</th>\n      <td>2.80</td>\n    </tr>\n    <tr>\n      <th>ARBUTUS COURT</th>\n      <td>3.30</td>\n    </tr>\n    <tr>\n      <th>BURRARD MANOR</th>\n      <td>3.30</td>\n    </tr>\n    <tr>\n      <th>MORELAND KENNEDY</th>\n      <td>3.30</td>\n    </tr>\n    <tr>\n      <th>EDWARD BYERS</th>\n      <td>3.37</td>\n    </tr>\n  </tbody>\n</table>\n</div>"
     },
     "metadata": {}
    }
   ],
   "execution_count": 253
  },
  {
   "cell_type": "code",
   "source": "plt.figure(figsize=(10,5))\nbldg_neigh_crime.plot(kind='bar');\nplt.ylabel('% crime rate')\nplt.title('Crime rates per Building, 2021');\n# high crime rates in Bridgeview Place neighbourhood\n# lowest in Gordon Fahrni neighbourhood",
   "metadata": {
    "tags": [],
    "cell_id": "00034-83359328-dde4-4f09-940e-87d4070a0422",
    "deepnote_to_be_reexecuted": false,
    "source_hash": "5dae27a4",
    "execution_start": 1628984591461,
    "execution_millis": 458,
    "deepnote_cell_type": "code"
   },
   "outputs": [
    {
     "data": {
      "text/plain": "<Figure size 720x360 with 0 Axes>"
     },
     "metadata": {},
     "output_type": "display_data"
    },
    {
     "data": {
      "text/plain": "<Figure size 432x288 with 1 Axes>",
      "image/png": "[encoded data removed]"
     },
     "metadata": {
      "image/png": {
       "width": 400,
       "height": 416
      }
     },
     "output_type": "display_data"
    }
   ],
   "execution_count": 258
  },
  {
   "cell_type": "code",
   "source": "",
   "metadata": {
    "tags": [],
    "cell_id": "00035-58be1ba3-8187-44c5-ac48-15c220eb2f5a",
    "deepnote_cell_type": "code"
   },
   "outputs": [],
   "execution_count": null
  },
  {
   "cell_type": "markdown",
   "source": "<a style='text-decoration:none;line-height:16px;display:flex;color:#5B5B62;padding:10px;justify-content:end;' href='https://deepnote.com?utm_source=created-in-deepnote-cell&projectId=2ed0a2ac-4145-4dd5-b1d7-ad53322853db' target=\"_blank\">\n<img alt='Created in deepnote.com' style='display:inline;max-height:16px;margin:0px;margin-right:7.5px;' src='data:image/svg+xml;base64,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' > </img>\nCreated in <span style='font-weight:600;margin-left:4px;'>Deepnote</span></a>",
   "metadata": {
    "tags": [],
    "created_in_deepnote_cell": true,
    "deepnote_cell_type": "markdown"
   }
  }
 ],
 "nbformat": 4,
 "nbformat_minor": 2,
 "metadata": {
  "orig_nbformat": 2,
  "deepnote": {
   "is_reactive": false
  },
  "deepnote_notebook_id": "61c28ba1-6a16-4a87-8456-c185990444e9",
  "deepnote_execution_queue": []
 }
}